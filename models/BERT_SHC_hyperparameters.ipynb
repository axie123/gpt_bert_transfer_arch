{
  "nbformat": 4,
  "nbformat_minor": 0,
  "metadata": {
    "colab": {
      "name": "BERT_SHC_hyperparameters.ipynb",
      "provenance": [],
      "collapsed_sections": []
    },
    "kernelspec": {
      "name": "python3",
      "display_name": "Python 3"
    }
  },
  "cells": [
    {
      "cell_type": "markdown",
      "metadata": {
        "id": "OFOTiqrtNvyy"
      },
      "source": [
        "# Install Transformers Library"
      ]
    },
    {
      "cell_type": "code",
      "metadata": {
        "id": "1hkhc10wNrGt",
        "colab": {
          "base_uri": "https://localhost:8080/"
        },
        "outputId": "71444ba9-0c5a-4324-8cd8-6b7b84c639ae"
      },
      "source": [
        "!pip install transformers"
      ],
      "execution_count": null,
      "outputs": [
        {
          "output_type": "stream",
          "name": "stdout",
          "text": [
            "Collecting transformers\n",
            "  Downloading transformers-4.18.0-py3-none-any.whl (4.0 MB)\n",
            "\u001b[K     |████████████████████████████████| 4.0 MB 4.1 MB/s \n",
            "\u001b[?25hCollecting sacremoses\n",
            "  Downloading sacremoses-0.0.49-py3-none-any.whl (895 kB)\n",
            "\u001b[K     |████████████████████████████████| 895 kB 41.4 MB/s \n",
            "\u001b[?25hRequirement already satisfied: filelock in /usr/local/lib/python3.7/dist-packages (from transformers) (3.6.0)\n",
            "Collecting huggingface-hub<1.0,>=0.1.0\n",
            "  Downloading huggingface_hub-0.5.1-py3-none-any.whl (77 kB)\n",
            "\u001b[K     |████████████████████████████████| 77 kB 3.2 MB/s \n",
            "\u001b[?25hRequirement already satisfied: packaging>=20.0 in /usr/local/lib/python3.7/dist-packages (from transformers) (21.3)\n",
            "Requirement already satisfied: numpy>=1.17 in /usr/local/lib/python3.7/dist-packages (from transformers) (1.21.5)\n",
            "Collecting pyyaml>=5.1\n",
            "  Downloading PyYAML-6.0-cp37-cp37m-manylinux_2_5_x86_64.manylinux1_x86_64.manylinux_2_12_x86_64.manylinux2010_x86_64.whl (596 kB)\n",
            "\u001b[K     |████████████████████████████████| 596 kB 60.0 MB/s \n",
            "\u001b[?25hRequirement already satisfied: regex!=2019.12.17 in /usr/local/lib/python3.7/dist-packages (from transformers) (2019.12.20)\n",
            "Requirement already satisfied: importlib-metadata in /usr/local/lib/python3.7/dist-packages (from transformers) (4.11.3)\n",
            "Collecting tokenizers!=0.11.3,<0.13,>=0.11.1\n",
            "  Downloading tokenizers-0.12.1-cp37-cp37m-manylinux_2_12_x86_64.manylinux2010_x86_64.whl (6.6 MB)\n",
            "\u001b[K     |████████████████████████████████| 6.6 MB 30.2 MB/s \n",
            "\u001b[?25hRequirement already satisfied: tqdm>=4.27 in /usr/local/lib/python3.7/dist-packages (from transformers) (4.64.0)\n",
            "Requirement already satisfied: requests in /usr/local/lib/python3.7/dist-packages (from transformers) (2.23.0)\n",
            "Requirement already satisfied: typing-extensions>=3.7.4.3 in /usr/local/lib/python3.7/dist-packages (from huggingface-hub<1.0,>=0.1.0->transformers) (4.1.1)\n",
            "Requirement already satisfied: pyparsing!=3.0.5,>=2.0.2 in /usr/local/lib/python3.7/dist-packages (from packaging>=20.0->transformers) (3.0.8)\n",
            "Requirement already satisfied: zipp>=0.5 in /usr/local/lib/python3.7/dist-packages (from importlib-metadata->transformers) (3.8.0)\n",
            "Requirement already satisfied: certifi>=2017.4.17 in /usr/local/lib/python3.7/dist-packages (from requests->transformers) (2021.10.8)\n",
            "Requirement already satisfied: chardet<4,>=3.0.2 in /usr/local/lib/python3.7/dist-packages (from requests->transformers) (3.0.4)\n",
            "Requirement already satisfied: urllib3!=1.25.0,!=1.25.1,<1.26,>=1.21.1 in /usr/local/lib/python3.7/dist-packages (from requests->transformers) (1.24.3)\n",
            "Requirement already satisfied: idna<3,>=2.5 in /usr/local/lib/python3.7/dist-packages (from requests->transformers) (2.10)\n",
            "Requirement already satisfied: joblib in /usr/local/lib/python3.7/dist-packages (from sacremoses->transformers) (1.1.0)\n",
            "Requirement already satisfied: six in /usr/local/lib/python3.7/dist-packages (from sacremoses->transformers) (1.15.0)\n",
            "Requirement already satisfied: click in /usr/local/lib/python3.7/dist-packages (from sacremoses->transformers) (7.1.2)\n",
            "Installing collected packages: pyyaml, tokenizers, sacremoses, huggingface-hub, transformers\n",
            "  Attempting uninstall: pyyaml\n",
            "    Found existing installation: PyYAML 3.13\n",
            "    Uninstalling PyYAML-3.13:\n",
            "      Successfully uninstalled PyYAML-3.13\n",
            "Successfully installed huggingface-hub-0.5.1 pyyaml-6.0 sacremoses-0.0.49 tokenizers-0.12.1 transformers-4.18.0\n"
          ]
        }
      ]
    },
    {
      "cell_type": "code",
      "metadata": {
        "id": "x4giRzM7NtHJ"
      },
      "source": [
        "import numpy as np\n",
        "import pandas as pd\n",
        "import torch\n",
        "import torch.nn as nn\n",
        "from sklearn.model_selection import train_test_split\n",
        "from sklearn.metrics import classification_report\n",
        "import transformers\n",
        "from transformers import AutoModel, BertTokenizerFast\n",
        "\n",
        "# specify GPU\n",
        "device = torch.device(\"cuda\")"
      ],
      "execution_count": null,
      "outputs": []
    },
    {
      "cell_type": "markdown",
      "metadata": {
        "id": "kKd-Tj3hOMsZ"
      },
      "source": [
        "# Load Dataset"
      ]
    },
    {
      "cell_type": "code",
      "metadata": {
        "id": "cwJrQFQgN_BE",
        "colab": {
          "base_uri": "https://localhost:8080/"
        },
        "outputId": "734aea98-f663-4d98-f298-a06e508441aa"
      },
      "source": [
        "df = pd.read_csv(\"./data.csv\")\n",
        "df.head()"
      ],
      "execution_count": null,
      "outputs": [
        {
          "output_type": "execute_result",
          "data": {
            "text/plain": [
              "                                            Sentence Sentiment\n",
              "0  The GeoSolutions technology will leverage Bene...  positive\n",
              "1  $ESI on lows, down $1.50 to $2.50 BK a real po...  negative\n",
              "2  For the last quarter of 2010 , Componenta 's n...  positive\n",
              "3  According to the Finnish-Russian Chamber of Co...   neutral\n",
              "4  The Swedish buyout firm has sold its remaining...   neutral"
            ],
            "text/html": [
              "\n",
              "  <div id=\"df-098fd913-3fca-4a18-817e-9a165eb87111\">\n",
              "    <div class=\"colab-df-container\">\n",
              "      <div>\n",
              "<style scoped>\n",
              "    .dataframe tbody tr th:only-of-type {\n",
              "        vertical-align: middle;\n",
              "    }\n",
              "\n",
              "    .dataframe tbody tr th {\n",
              "        vertical-align: top;\n",
              "    }\n",
              "\n",
              "    .dataframe thead th {\n",
              "        text-align: right;\n",
              "    }\n",
              "</style>\n",
              "<table border=\"1\" class=\"dataframe\">\n",
              "  <thead>\n",
              "    <tr style=\"text-align: right;\">\n",
              "      <th></th>\n",
              "      <th>Sentence</th>\n",
              "      <th>Sentiment</th>\n",
              "    </tr>\n",
              "  </thead>\n",
              "  <tbody>\n",
              "    <tr>\n",
              "      <th>0</th>\n",
              "      <td>The GeoSolutions technology will leverage Bene...</td>\n",
              "      <td>positive</td>\n",
              "    </tr>\n",
              "    <tr>\n",
              "      <th>1</th>\n",
              "      <td>$ESI on lows, down $1.50 to $2.50 BK a real po...</td>\n",
              "      <td>negative</td>\n",
              "    </tr>\n",
              "    <tr>\n",
              "      <th>2</th>\n",
              "      <td>For the last quarter of 2010 , Componenta 's n...</td>\n",
              "      <td>positive</td>\n",
              "    </tr>\n",
              "    <tr>\n",
              "      <th>3</th>\n",
              "      <td>According to the Finnish-Russian Chamber of Co...</td>\n",
              "      <td>neutral</td>\n",
              "    </tr>\n",
              "    <tr>\n",
              "      <th>4</th>\n",
              "      <td>The Swedish buyout firm has sold its remaining...</td>\n",
              "      <td>neutral</td>\n",
              "    </tr>\n",
              "  </tbody>\n",
              "</table>\n",
              "</div>\n",
              "      <button class=\"colab-df-convert\" onclick=\"convertToInteractive('df-098fd913-3fca-4a18-817e-9a165eb87111')\"\n",
              "              title=\"Convert this dataframe to an interactive table.\"\n",
              "              style=\"display:none;\">\n",
              "        \n",
              "  <svg xmlns=\"http://www.w3.org/2000/svg\" height=\"24px\"viewBox=\"0 0 24 24\"\n",
              "       width=\"24px\">\n",
              "    <path d=\"M0 0h24v24H0V0z\" fill=\"none\"/>\n",
              "    <path d=\"M18.56 5.44l.94 2.06.94-2.06 2.06-.94-2.06-.94-.94-2.06-.94 2.06-2.06.94zm-11 1L8.5 8.5l.94-2.06 2.06-.94-2.06-.94L8.5 2.5l-.94 2.06-2.06.94zm10 10l.94 2.06.94-2.06 2.06-.94-2.06-.94-.94-2.06-.94 2.06-2.06.94z\"/><path d=\"M17.41 7.96l-1.37-1.37c-.4-.4-.92-.59-1.43-.59-.52 0-1.04.2-1.43.59L10.3 9.45l-7.72 7.72c-.78.78-.78 2.05 0 2.83L4 21.41c.39.39.9.59 1.41.59.51 0 1.02-.2 1.41-.59l7.78-7.78 2.81-2.81c.8-.78.8-2.07 0-2.86zM5.41 20L4 18.59l7.72-7.72 1.47 1.35L5.41 20z\"/>\n",
              "  </svg>\n",
              "      </button>\n",
              "      \n",
              "  <style>\n",
              "    .colab-df-container {\n",
              "      display:flex;\n",
              "      flex-wrap:wrap;\n",
              "      gap: 12px;\n",
              "    }\n",
              "\n",
              "    .colab-df-convert {\n",
              "      background-color: #E8F0FE;\n",
              "      border: none;\n",
              "      border-radius: 50%;\n",
              "      cursor: pointer;\n",
              "      display: none;\n",
              "      fill: #1967D2;\n",
              "      height: 32px;\n",
              "      padding: 0 0 0 0;\n",
              "      width: 32px;\n",
              "    }\n",
              "\n",
              "    .colab-df-convert:hover {\n",
              "      background-color: #E2EBFA;\n",
              "      box-shadow: 0px 1px 2px rgba(60, 64, 67, 0.3), 0px 1px 3px 1px rgba(60, 64, 67, 0.15);\n",
              "      fill: #174EA6;\n",
              "    }\n",
              "\n",
              "    [theme=dark] .colab-df-convert {\n",
              "      background-color: #3B4455;\n",
              "      fill: #D2E3FC;\n",
              "    }\n",
              "\n",
              "    [theme=dark] .colab-df-convert:hover {\n",
              "      background-color: #434B5C;\n",
              "      box-shadow: 0px 1px 3px 1px rgba(0, 0, 0, 0.15);\n",
              "      filter: drop-shadow(0px 1px 2px rgba(0, 0, 0, 0.3));\n",
              "      fill: #FFFFFF;\n",
              "    }\n",
              "  </style>\n",
              "\n",
              "      <script>\n",
              "        const buttonEl =\n",
              "          document.querySelector('#df-098fd913-3fca-4a18-817e-9a165eb87111 button.colab-df-convert');\n",
              "        buttonEl.style.display =\n",
              "          google.colab.kernel.accessAllowed ? 'block' : 'none';\n",
              "\n",
              "        async function convertToInteractive(key) {\n",
              "          const element = document.querySelector('#df-098fd913-3fca-4a18-817e-9a165eb87111');\n",
              "          const dataTable =\n",
              "            await google.colab.kernel.invokeFunction('convertToInteractive',\n",
              "                                                     [key], {});\n",
              "          if (!dataTable) return;\n",
              "\n",
              "          const docLinkHtml = 'Like what you see? Visit the ' +\n",
              "            '<a target=\"_blank\" href=https://colab.research.google.com/notebooks/data_table.ipynb>data table notebook</a>'\n",
              "            + ' to learn more about interactive tables.';\n",
              "          element.innerHTML = '';\n",
              "          dataTable['output_type'] = 'display_data';\n",
              "          await google.colab.output.renderOutput(dataTable, element);\n",
              "          const docLink = document.createElement('div');\n",
              "          docLink.innerHTML = docLinkHtml;\n",
              "          element.appendChild(docLink);\n",
              "        }\n",
              "      </script>\n",
              "    </div>\n",
              "  </div>\n",
              "  "
            ]
          },
          "metadata": {},
          "execution_count": 3
        }
      ]
    },
    {
      "cell_type": "code",
      "metadata": {
        "id": "fzPPOrVQWiW5",
        "colab": {
          "base_uri": "https://localhost:8080/"
        },
        "outputId": "5931b1b2-715d-4c12-8859-2135ecb7fc31"
      },
      "source": [
        "df.shape"
      ],
      "execution_count": null,
      "outputs": [
        {
          "output_type": "execute_result",
          "data": {
            "text/plain": [
              "(5842, 2)"
            ]
          },
          "metadata": {},
          "execution_count": 4
        }
      ]
    },
    {
      "cell_type": "code",
      "metadata": {
        "id": "676DPU1BOPdp",
        "colab": {
          "base_uri": "https://localhost:8080/"
        },
        "outputId": "e8abe2ed-a70d-4f42-9a5a-bb337a608c49"
      },
      "source": [
        "# check class distribution\n",
        "df['Sentiment'].value_counts(normalize = True)"
      ],
      "execution_count": null,
      "outputs": [
        {
          "output_type": "execute_result",
          "data": {
            "text/plain": [
              "neutral     0.535775\n",
              "positive    0.317015\n",
              "negative    0.147210\n",
              "Name: Sentiment, dtype: float64"
            ]
          },
          "metadata": {},
          "execution_count": 5
        }
      ]
    },
    {
      "cell_type": "markdown",
      "metadata": {
        "id": "MKfWnApvOoE7"
      },
      "source": [
        "# Split train dataset into train, validation and test sets"
      ]
    },
    {
      "cell_type": "code",
      "metadata": {
        "id": "mfhSPF5jOWb7"
      },
      "source": [
        "train_text, temp_text, train_labels, temp_labels = train_test_split(df['Sentence'], df['Sentiment'], \n",
        "                                                                    random_state=2018, \n",
        "                                                                    test_size=0.3, \n",
        "                                                                    stratify=df['Sentiment'])\n",
        "\n",
        "# we will use temp_text and temp_labels to create validation and test set\n",
        "val_text, test_text, val_labels, test_labels = train_test_split(temp_text, temp_labels, \n",
        "                                                                random_state=2018, \n",
        "                                                                test_size=0.5, \n",
        "                                                                stratify=temp_labels)"
      ],
      "execution_count": null,
      "outputs": []
    },
    {
      "cell_type": "markdown",
      "metadata": {
        "id": "n7hsdLoCO7uB"
      },
      "source": [
        "# Import BERT Tokenizer"
      ]
    },
    {
      "cell_type": "code",
      "metadata": {
        "id": "S1kY3gZjO2RE"
      },
      "source": [
        "# Load the BERT tokenizer\n",
        "tokenizer = BertTokenizerFast.from_pretrained('bert-base-uncased', do_lower_case=True)"
      ],
      "execution_count": null,
      "outputs": []
    },
    {
      "cell_type": "code",
      "metadata": {
        "id": "_zOKeOMeO-DT"
      },
      "source": [
        "# sample data\n",
        "text = [\"this is a bert model tutorial\", \"we will fine-tune a bert model\"]\n",
        "\n",
        "# encode text\n",
        "sent_id = tokenizer.batch_encode_plus(text, padding=True, return_token_type_ids=False)"
      ],
      "execution_count": null,
      "outputs": []
    },
    {
      "cell_type": "code",
      "metadata": {
        "id": "oAH73n39PHLw",
        "colab": {
          "base_uri": "https://localhost:8080/"
        },
        "outputId": "a00c396b-161b-4b9e-fc30-5b7e093aafa0"
      },
      "source": [
        "# output\n",
        "print(sent_id)"
      ],
      "execution_count": null,
      "outputs": [
        {
          "output_type": "stream",
          "name": "stdout",
          "text": [
            "{'input_ids': [[101, 2023, 2003, 1037, 14324, 2944, 14924, 4818, 102, 0], [101, 2057, 2097, 2986, 1011, 8694, 1037, 14324, 2944, 102]], 'attention_mask': [[1, 1, 1, 1, 1, 1, 1, 1, 1, 0], [1, 1, 1, 1, 1, 1, 1, 1, 1, 1]]}\n"
          ]
        }
      ]
    },
    {
      "cell_type": "code",
      "source": [
        "print(f'Padding token: \"{tokenizer.pad_token}\", ID: {tokenizer.pad_token_id}')"
      ],
      "metadata": {
        "colab": {
          "base_uri": "https://localhost:8080/"
        },
        "id": "ffsM1y8Y74qd",
        "outputId": "6fa0e277-7313-4479-e332-c16a0135fa5e"
      },
      "execution_count": null,
      "outputs": [
        {
          "output_type": "stream",
          "name": "stdout",
          "text": [
            "Padding token: \"[PAD]\", ID: 0\n"
          ]
        }
      ]
    },
    {
      "cell_type": "markdown",
      "metadata": {
        "id": "8wIYaWI_Prg8"
      },
      "source": [
        "# Tokenization"
      ]
    },
    {
      "cell_type": "code",
      "metadata": {
        "id": "yKwbpeN_PMiu",
        "colab": {
          "base_uri": "https://localhost:8080/",
          "height": 283
        },
        "outputId": "91cdeaba-9017-4179-ff8e-404220cc99ab"
      },
      "source": [
        "# get length of all the messages in the train set\n",
        "seq_len = [len(i.split()) for i in train_text]\n",
        "\n",
        "pd.Series(seq_len).hist(bins = 30)"
      ],
      "execution_count": null,
      "outputs": [
        {
          "output_type": "execute_result",
          "data": {
            "text/plain": [
              "<matplotlib.axes._subplots.AxesSubplot at 0x7fe0e2950150>"
            ]
          },
          "metadata": {},
          "execution_count": 11
        },
        {
          "output_type": "display_data",
          "data": {
            "text/plain": [
              "<Figure size 432x288 with 1 Axes>"
            ],
            "image/png": "[encoded data removed]"
          },
          "metadata": {
            "needs_background": "light"
          }
        }
      ]
    },
    {
      "cell_type": "code",
      "metadata": {
        "id": "OXcswEIRPvGe"
      },
      "source": [
        "max_seq_len = 50"
      ],
      "execution_count": null,
      "outputs": []
    },
    {
      "cell_type": "code",
      "metadata": {
        "id": "tk5S7DWaP2t6",
        "colab": {
          "base_uri": "https://localhost:8080/"
        },
        "outputId": "af5052a8-75d5-4130-e0c1-c24bc1527f4e"
      },
      "source": [
        "\n",
        "# tokenize and encode sequences in the training set\n",
        "tokens_train = tokenizer.batch_encode_plus(\n",
        "    train_text.tolist(),\n",
        "    max_length = max_seq_len,\n",
        "    pad_to_max_length=True,\n",
        "    truncation=True,\n",
        "    return_token_type_ids=False\n",
        ")\n",
        "\n",
        "# tokenize and encode sequences in the validation set\n",
        "tokens_val = tokenizer.batch_encode_plus(\n",
        "    val_text.tolist(),\n",
        "    max_length = max_seq_len,\n",
        "    pad_to_max_length=True,\n",
        "    truncation=True,\n",
        "    return_token_type_ids=False\n",
        ")\n",
        "\n",
        "# tokenize and encode sequences in the test set\n",
        "tokens_test = tokenizer.batch_encode_plus(\n",
        "    test_text.tolist(),\n",
        "    max_length = max_seq_len,\n",
        "    pad_to_max_length=True,\n",
        "    truncation=True,\n",
        "    return_token_type_ids=False\n",
        ")"
      ],
      "execution_count": null,
      "outputs": [
        {
          "output_type": "stream",
          "name": "stderr",
          "text": [
            "/usr/local/lib/python3.7/dist-packages/transformers/tokenization_utils_base.py:2269: FutureWarning: The `pad_to_max_length` argument is deprecated and will be removed in a future version, use `padding=True` or `padding='longest'` to pad to the longest sequence in the batch, or use `padding='max_length'` to pad to a max length. In this case, you can give a specific length with `max_length` (e.g. `max_length=45`) or leave max_length to None to pad to the maximal input size of the model (e.g. 512 for Bert).\n",
            "  FutureWarning,\n"
          ]
        }
      ]
    },
    {
      "cell_type": "code",
      "source": [
        "input_ids = tokens_train['input_ids']\n",
        "attention_masks = tokens_train['attention_mask']\n",
        "\n",
        "print('Original: ', tokens_train['input_ids'][0])\n",
        "print('* Token IDs:', tokens_train['attention_mask'][0])\n",
        "print('* Tokenized:', tokenizer.decode(tokens_train['input_ids'][0]))\n",
        "print('* Attention_mask', tokens_train['attention_mask'][0])"
      ],
      "metadata": {
        "colab": {
          "base_uri": "https://localhost:8080/"
        },
        "id": "E4VxgiDO7-sg",
        "outputId": "e92e14b2-5e79-41a5-a842-57a55c54cd65"
      },
      "execution_count": null,
      "outputs": [
        {
          "output_type": "stream",
          "name": "stdout",
          "text": [
            "Original:  [101, 10380, 4630, 3415, 9455, 3003, 2004, 5766, 3464, 24735, 102, 0, 0, 0, 0, 0, 0, 0, 0, 0, 0, 0, 0, 0, 0, 0, 0, 0, 0, 0, 0, 0, 0, 0, 0, 0, 0, 0, 0, 0, 0, 0, 0, 0, 0, 0, 0, 0, 0, 0]\n",
            "* Token IDs: [1, 1, 1, 1, 1, 1, 1, 1, 1, 1, 1, 0, 0, 0, 0, 0, 0, 0, 0, 0, 0, 0, 0, 0, 0, 0, 0, 0, 0, 0, 0, 0, 0, 0, 0, 0, 0, 0, 0, 0, 0, 0, 0, 0, 0, 0, 0, 0, 0, 0]\n",
            "* Tokenized: [CLS] valeant names interim leader as ceo remains hospitalized [SEP] [PAD] [PAD] [PAD] [PAD] [PAD] [PAD] [PAD] [PAD] [PAD] [PAD] [PAD] [PAD] [PAD] [PAD] [PAD] [PAD] [PAD] [PAD] [PAD] [PAD] [PAD] [PAD] [PAD] [PAD] [PAD] [PAD] [PAD] [PAD] [PAD] [PAD] [PAD] [PAD] [PAD] [PAD] [PAD] [PAD] [PAD] [PAD] [PAD]\n",
            "* Attention_mask [1, 1, 1, 1, 1, 1, 1, 1, 1, 1, 1, 0, 0, 0, 0, 0, 0, 0, 0, 0, 0, 0, 0, 0, 0, 0, 0, 0, 0, 0, 0, 0, 0, 0, 0, 0, 0, 0, 0, 0, 0, 0, 0, 0, 0, 0, 0, 0, 0, 0]\n"
          ]
        }
      ]
    },
    {
      "cell_type": "markdown",
      "metadata": {
        "id": "Wsm8bkRZQTw9"
      },
      "source": [
        "# Convert Integer Sequences to Tensors"
      ]
    },
    {
      "cell_type": "code",
      "source": [
        "train_labels[train_labels == 'neutral'] = 0\n",
        "train_labels[train_labels == 'positive'] = 1\n",
        "train_labels[train_labels == 'negative'] = 2\n",
        "\n",
        "val_labels[val_labels == 'neutral'] = 0\n",
        "val_labels[val_labels == 'positive'] = 1\n",
        "val_labels[val_labels == 'negative'] = 2\n",
        "\n",
        "test_labels[test_labels == 'neutral'] = 0\n",
        "test_labels[test_labels == 'positive'] = 1\n",
        "test_labels[test_labels == 'negative'] = 2"
      ],
      "metadata": {
        "id": "U9kj1XzWP-zp"
      },
      "execution_count": null,
      "outputs": []
    },
    {
      "cell_type": "code",
      "metadata": {
        "id": "QR-lXwmzQPd6"
      },
      "source": [
        "# for train set\n",
        "train_seq = torch.tensor(tokens_train['input_ids'])\n",
        "train_mask = torch.tensor(tokens_train['attention_mask'])\n",
        "train_y = torch.tensor(train_labels.tolist())\n",
        "\n",
        "# for validation set\n",
        "val_seq = torch.tensor(tokens_val['input_ids'])\n",
        "val_mask = torch.tensor(tokens_val['attention_mask'])\n",
        "val_y = torch.tensor(val_labels.tolist())\n",
        "\n",
        "# for test set\n",
        "test_seq = torch.tensor(tokens_test['input_ids'])\n",
        "test_mask = torch.tensor(tokens_test['attention_mask'])\n",
        "test_y = torch.tensor(test_labels.tolist())"
      ],
      "execution_count": null,
      "outputs": []
    },
    {
      "cell_type": "code",
      "source": [
        "len(tokens_train['input_ids'][10])"
      ],
      "metadata": {
        "colab": {
          "base_uri": "https://localhost:8080/"
        },
        "id": "PdsfzCUyTV8S",
        "outputId": "f57fdad5-3037-4773-85b0-a5aa15feb05a"
      },
      "execution_count": null,
      "outputs": [
        {
          "output_type": "execute_result",
          "data": {
            "text/plain": [
              "50"
            ]
          },
          "metadata": {},
          "execution_count": 17
        }
      ]
    },
    {
      "cell_type": "markdown",
      "metadata": {
        "id": "Ov1cOBlcRLuk"
      },
      "source": [
        "# Create DataLoaders"
      ]
    },
    {
      "cell_type": "markdown",
      "source": [
        "Change the batch size: 8, 16, 32, 64, 128"
      ],
      "metadata": {
        "id": "DeDV3x0Fof8w"
      }
    },
    {
      "cell_type": "code",
      "metadata": {
        "id": "qUy9JKFYQYLp"
      },
      "source": [
        "from torch.utils.data import TensorDataset, DataLoader, RandomSampler, SequentialSampler\n",
        "\n",
        "# define a batch size\n",
        "batch_size = 64\n",
        "\n",
        "# wrap tensors\n",
        "train_data = TensorDataset(train_seq, train_mask, train_y)\n",
        "\n",
        "# sampler for sampling the data during training\n",
        "train_sampler = RandomSampler(train_data)\n",
        "\n",
        "# dataLoader for train set\n",
        "train_dataloader = DataLoader(train_data, sampler=train_sampler, batch_size=batch_size)\n",
        "\n",
        "# wrap tensors\n",
        "val_data = TensorDataset(val_seq, val_mask, val_y)\n",
        "\n",
        "# sampler for sampling the data during training\n",
        "val_sampler = SequentialSampler(val_data)\n",
        "\n",
        "# dataLoader for validation set\n",
        "val_dataloader = DataLoader(val_data, sampler = val_sampler, batch_size=batch_size)"
      ],
      "execution_count": null,
      "outputs": []
    },
    {
      "cell_type": "markdown",
      "metadata": {
        "id": "j9CDpoMQR_rK"
      },
      "source": [
        "# Find Class Weights and Set Loss "
      ]
    },
    {
      "cell_type": "code",
      "metadata": {
        "id": "izY5xH5eR7Ur",
        "colab": {
          "base_uri": "https://localhost:8080/"
        },
        "outputId": "40a00b87-dcd1-42b3-fa37-90ad13a36a23"
      },
      "source": [
        "from sklearn.utils.class_weight import compute_class_weight\n",
        "\n",
        "#compute the class weights\n",
        "class_wts = compute_class_weight(class_weight = 'balanced', classes = np.unique(train_labels), y = train_labels)\n",
        "\n",
        "print(class_wts)"
      ],
      "execution_count": null,
      "outputs": [
        {
          "output_type": "stream",
          "name": "stdout",
          "text": [
            "[0.62209037 1.05169753 2.2641196 ]\n"
          ]
        }
      ]
    },
    {
      "cell_type": "code",
      "metadata": {
        "id": "r1WvfY2vSGKi"
      },
      "source": [
        "# convert class weights to tensor\n",
        "weights= torch.tensor(class_wts,dtype=torch.float)\n",
        "weights = weights.to(device)\n",
        "\n",
        "# number of training epochs\n",
        "epochs = 10"
      ],
      "execution_count": null,
      "outputs": []
    },
    {
      "cell_type": "markdown",
      "metadata": {
        "id": "s7ahGBUWRi3X"
      },
      "source": [
        "# Define Model Architecture\n",
        "\n",
        "BERT Documentation: https://huggingface.co/docs/transformers/model_doc/bert\n",
        "\n",
        "We are going to be using the `from_pretrained` module for this task. `BERTConfig` module is used to set the number of labels in the built-in classification head to be 3.\n",
        "\n",
        "We can find the model documentation here: https://huggingface.co/docs/transformers/model_doc/bert#transformers.BertForSequenceClassification\n",
        "\n",
        "If you want to use the `from_pretrained` module: https://huggingface.co/docs/transformers/v4.18.0/en/main_classes/model#transformers.PreTrainedModel.from_pretrained"
      ]
    },
    {
      "cell_type": "code",
      "source": [
        "from transformers import BertForSequenceClassification, BertConfig\n",
        "\n",
        "# Initializing a BERT configuration\n",
        "configuration = BertConfig(num_labels=3)\n",
        "\n",
        "# Initializing a model from the configuration\n",
        "bert_model = BertForSequenceClassification.from_pretrained(\"bert-base-uncased\", config=configuration)\n",
        "bert_model.config.num_labels = 3"
      ],
      "metadata": {
        "id": "AL6qbGviJh96",
        "colab": {
          "base_uri": "https://localhost:8080/"
        },
        "outputId": "49cb0138-c032-4006-fd7b-c0e5e6c01642"
      },
      "execution_count": null,
      "outputs": [
        {
          "output_type": "stream",
          "name": "stderr",
          "text": [
            "Some weights of the model checkpoint at bert-base-uncased were not used when initializing BertForSequenceClassification: ['cls.predictions.transform.dense.bias', 'cls.predictions.bias', 'cls.predictions.transform.dense.weight', 'cls.seq_relationship.weight', 'cls.predictions.decoder.weight', 'cls.predictions.transform.LayerNorm.bias', 'cls.predictions.transform.LayerNorm.weight', 'cls.seq_relationship.bias']\n",
            "- This IS expected if you are initializing BertForSequenceClassification from the checkpoint of a model trained on another task or with another architecture (e.g. initializing a BertForSequenceClassification model from a BertForPreTraining model).\n",
            "- This IS NOT expected if you are initializing BertForSequenceClassification from the checkpoint of a model that you expect to be exactly identical (initializing a BertForSequenceClassification model from a BertForSequenceClassification model).\n",
            "Some weights of BertForSequenceClassification were not initialized from the model checkpoint at bert-base-uncased and are newly initialized: ['classifier.weight', 'classifier.bias']\n",
            "You should probably TRAIN this model on a down-stream task to be able to use it for predictions and inference.\n"
          ]
        }
      ]
    },
    {
      "cell_type": "code",
      "metadata": {
        "id": "b3iEtGyYRd0A"
      },
      "source": [
        "class BertForSentimentClassification(nn.Module):\n",
        "    def __init__(self, bert_model):\n",
        "        super().__init__()\n",
        "        \n",
        "        self.bert = bert_model\n",
        "\n",
        "    def forward(self, input_ids=None, attention_mask=None):\n",
        "        outputs = self.bert(input_ids, attention_mask=attention_mask)\n",
        "\n",
        "        logits = outputs.logits\n",
        "        \n",
        "        return logits"
      ],
      "execution_count": null,
      "outputs": []
    },
    {
      "cell_type": "code",
      "metadata": {
        "id": "cBAJJVuJRliv"
      },
      "source": [
        "# pass the pre-trained BERT to our define architecture\n",
        "model = BertForSentimentClassification(bert_model)\n",
        "\n",
        "# push the model to GPU\n",
        "model = model.to(device)"
      ],
      "execution_count": null,
      "outputs": []
    },
    {
      "cell_type": "code",
      "source": [
        "# Model parameters visualization\n",
        "params = list(model.named_parameters())\n",
        "\n",
        "print('BERT has {:} different named parameters.\\n'.format(len(params)))\n",
        "\n",
        "print('==== Embedding Layer ====\\n')\n",
        "\n",
        "for p in params[0:5]:\n",
        "    print(\"{:<55} {:>12}\".format(p[0], str(tuple(p[1].size()))))\n",
        "\n",
        "print('\\n==== 1st Transformer Layer ====\\n')\n",
        "\n",
        "for p in params[5:21]:\n",
        "    print(\"{:<55} {:>12}\".format(p[0], str(tuple(p[1].size()))))\n",
        "\n",
        "print('\\n==== 2nd Transformer Layer ====\\n')\n",
        "\n",
        "for p in params[21:37]:\n",
        "    print(\"{:<55} {:>12}\".format(p[0], str(tuple(p[1].size()))))\n",
        "\n",
        "print('\\n==== 3rd Transformer Layer ====\\n')\n",
        "\n",
        "for p in params[37:53]:\n",
        "    print(\"{:<55} {:>12}\".format(p[0], str(tuple(p[1].size()))))\n",
        "\n",
        "print('\\n==== Output Layer ====\\n')\n",
        "\n",
        "for p in params[-3:]:\n",
        "    print(\"{:<55} {:>12}\".format(p[0], str(tuple(p[1].size()))))"
      ],
      "metadata": {
        "id": "qUo2YU0vfsbl",
        "colab": {
          "base_uri": "https://localhost:8080/"
        },
        "outputId": "4e6a96b1-658f-453b-f8ec-1af5593771ff"
      },
      "execution_count": null,
      "outputs": [
        {
          "output_type": "stream",
          "name": "stdout",
          "text": [
            "BERT has 201 different named parameters.\n",
            "\n",
            "==== Embedding Layer ====\n",
            "\n",
            "bert.bert.embeddings.word_embeddings.weight             (30522, 768)\n",
            "bert.bert.embeddings.position_embeddings.weight           (512, 768)\n",
            "bert.bert.embeddings.token_type_embeddings.weight           (2, 768)\n",
            "bert.bert.embeddings.LayerNorm.weight                         (768,)\n",
            "bert.bert.embeddings.LayerNorm.bias                           (768,)\n",
            "\n",
            "==== 1st Transformer Layer ====\n",
            "\n",
            "bert.bert.encoder.layer.0.attention.self.query.weight     (768, 768)\n",
            "bert.bert.encoder.layer.0.attention.self.query.bias           (768,)\n",
            "bert.bert.encoder.layer.0.attention.self.key.weight       (768, 768)\n",
            "bert.bert.encoder.layer.0.attention.self.key.bias             (768,)\n",
            "bert.bert.encoder.layer.0.attention.self.value.weight     (768, 768)\n",
            "bert.bert.encoder.layer.0.attention.self.value.bias           (768,)\n",
            "bert.bert.encoder.layer.0.attention.output.dense.weight   (768, 768)\n",
            "bert.bert.encoder.layer.0.attention.output.dense.bias         (768,)\n",
            "bert.bert.encoder.layer.0.attention.output.LayerNorm.weight       (768,)\n",
            "bert.bert.encoder.layer.0.attention.output.LayerNorm.bias       (768,)\n",
            "bert.bert.encoder.layer.0.intermediate.dense.weight      (3072, 768)\n",
            "bert.bert.encoder.layer.0.intermediate.dense.bias            (3072,)\n",
            "bert.bert.encoder.layer.0.output.dense.weight            (768, 3072)\n",
            "bert.bert.encoder.layer.0.output.dense.bias                   (768,)\n",
            "bert.bert.encoder.layer.0.output.LayerNorm.weight             (768,)\n",
            "bert.bert.encoder.layer.0.output.LayerNorm.bias               (768,)\n",
            "\n",
            "==== 2nd Transformer Layer ====\n",
            "\n",
            "bert.bert.encoder.layer.1.attention.self.query.weight     (768, 768)\n",
            "bert.bert.encoder.layer.1.attention.self.query.bias           (768,)\n",
            "bert.bert.encoder.layer.1.attention.self.key.weight       (768, 768)\n",
            "bert.bert.encoder.layer.1.attention.self.key.bias             (768,)\n",
            "bert.bert.encoder.layer.1.attention.self.value.weight     (768, 768)\n",
            "bert.bert.encoder.layer.1.attention.self.value.bias           (768,)\n",
            "bert.bert.encoder.layer.1.attention.output.dense.weight   (768, 768)\n",
            "bert.bert.encoder.layer.1.attention.output.dense.bias         (768,)\n",
            "bert.bert.encoder.layer.1.attention.output.LayerNorm.weight       (768,)\n",
            "bert.bert.encoder.layer.1.attention.output.LayerNorm.bias       (768,)\n",
            "bert.bert.encoder.layer.1.intermediate.dense.weight      (3072, 768)\n",
            "bert.bert.encoder.layer.1.intermediate.dense.bias            (3072,)\n",
            "bert.bert.encoder.layer.1.output.dense.weight            (768, 3072)\n",
            "bert.bert.encoder.layer.1.output.dense.bias                   (768,)\n",
            "bert.bert.encoder.layer.1.output.LayerNorm.weight             (768,)\n",
            "bert.bert.encoder.layer.1.output.LayerNorm.bias               (768,)\n",
            "\n",
            "==== 3rd Transformer Layer ====\n",
            "\n",
            "bert.bert.encoder.layer.2.attention.self.query.weight     (768, 768)\n",
            "bert.bert.encoder.layer.2.attention.self.query.bias           (768,)\n",
            "bert.bert.encoder.layer.2.attention.self.key.weight       (768, 768)\n",
            "bert.bert.encoder.layer.2.attention.self.key.bias             (768,)\n",
            "bert.bert.encoder.layer.2.attention.self.value.weight     (768, 768)\n",
            "bert.bert.encoder.layer.2.attention.self.value.bias           (768,)\n",
            "bert.bert.encoder.layer.2.attention.output.dense.weight   (768, 768)\n",
            "bert.bert.encoder.layer.2.attention.output.dense.bias         (768,)\n",
            "bert.bert.encoder.layer.2.attention.output.LayerNorm.weight       (768,)\n",
            "bert.bert.encoder.layer.2.attention.output.LayerNorm.bias       (768,)\n",
            "bert.bert.encoder.layer.2.intermediate.dense.weight      (3072, 768)\n",
            "bert.bert.encoder.layer.2.intermediate.dense.bias            (3072,)\n",
            "bert.bert.encoder.layer.2.output.dense.weight            (768, 3072)\n",
            "bert.bert.encoder.layer.2.output.dense.bias                   (768,)\n",
            "bert.bert.encoder.layer.2.output.LayerNorm.weight             (768,)\n",
            "bert.bert.encoder.layer.2.output.LayerNorm.bias               (768,)\n",
            "\n",
            "==== Output Layer ====\n",
            "\n",
            "bert.bert.pooler.dense.bias                                   (768,)\n",
            "bert.classifier.weight                                      (3, 768)\n",
            "bert.classifier.bias                                            (3,)\n"
          ]
        }
      ]
    },
    {
      "cell_type": "markdown",
      "source": [
        "## Freeze the first 8 Transformer Layers:"
      ],
      "metadata": {
        "id": "BiCpj4vpEoZh"
      }
    },
    {
      "cell_type": "code",
      "source": [
        "for name, param in model.named_parameters():\n",
        "  if 'bert.bert.encoder.layer.0.' in name or 'bert.bert.encoder.layer.1.' in name\\\n",
        "      or 'bert.bert.encoder.layer.2.' in name or 'bert.bert.encoder.layer.3.' in name\\\n",
        "      or 'bert.bert.encoder.layer.4.' in name or 'bert.bert.encoder.layer.5.' in name\\\n",
        "      or 'bert.bert.encoder.layer.6.' in name or 'bert.bert.encoder.layer.7.' in name:\n",
        "    print(name)\n",
        "    param.requires_grad = False"
      ],
      "metadata": {
        "colab": {
          "base_uri": "https://localhost:8080/"
        },
        "id": "iN5iX8QrEs1g",
        "outputId": "754cfbfc-cb8a-480c-f364-cb666a00ba22"
      },
      "execution_count": null,
      "outputs": [
        {
          "output_type": "stream",
          "name": "stdout",
          "text": [
            "bert.bert.encoder.layer.0.attention.self.query.weight\n",
            "bert.bert.encoder.layer.0.attention.self.query.bias\n",
            "bert.bert.encoder.layer.0.attention.self.key.weight\n",
            "bert.bert.encoder.layer.0.attention.self.key.bias\n",
            "bert.bert.encoder.layer.0.attention.self.value.weight\n",
            "bert.bert.encoder.layer.0.attention.self.value.bias\n",
            "bert.bert.encoder.layer.0.attention.output.dense.weight\n",
            "bert.bert.encoder.layer.0.attention.output.dense.bias\n",
            "bert.bert.encoder.layer.0.attention.output.LayerNorm.weight\n",
            "bert.bert.encoder.layer.0.attention.output.LayerNorm.bias\n",
            "bert.bert.encoder.layer.0.intermediate.dense.weight\n",
            "bert.bert.encoder.layer.0.intermediate.dense.bias\n",
            "bert.bert.encoder.layer.0.output.dense.weight\n",
            "bert.bert.encoder.layer.0.output.dense.bias\n",
            "bert.bert.encoder.layer.0.output.LayerNorm.weight\n",
            "bert.bert.encoder.layer.0.output.LayerNorm.bias\n",
            "bert.bert.encoder.layer.1.attention.self.query.weight\n",
            "bert.bert.encoder.layer.1.attention.self.query.bias\n",
            "bert.bert.encoder.layer.1.attention.self.key.weight\n",
            "bert.bert.encoder.layer.1.attention.self.key.bias\n",
            "bert.bert.encoder.layer.1.attention.self.value.weight\n",
            "bert.bert.encoder.layer.1.attention.self.value.bias\n",
            "bert.bert.encoder.layer.1.attention.output.dense.weight\n",
            "bert.bert.encoder.layer.1.attention.output.dense.bias\n",
            "bert.bert.encoder.layer.1.attention.output.LayerNorm.weight\n",
            "bert.bert.encoder.layer.1.attention.output.LayerNorm.bias\n",
            "bert.bert.encoder.layer.1.intermediate.dense.weight\n",
            "bert.bert.encoder.layer.1.intermediate.dense.bias\n",
            "bert.bert.encoder.layer.1.output.dense.weight\n",
            "bert.bert.encoder.layer.1.output.dense.bias\n",
            "bert.bert.encoder.layer.1.output.LayerNorm.weight\n",
            "bert.bert.encoder.layer.1.output.LayerNorm.bias\n",
            "bert.bert.encoder.layer.2.attention.self.query.weight\n",
            "bert.bert.encoder.layer.2.attention.self.query.bias\n",
            "bert.bert.encoder.layer.2.attention.self.key.weight\n",
            "bert.bert.encoder.layer.2.attention.self.key.bias\n",
            "bert.bert.encoder.layer.2.attention.self.value.weight\n",
            "bert.bert.encoder.layer.2.attention.self.value.bias\n",
            "bert.bert.encoder.layer.2.attention.output.dense.weight\n",
            "bert.bert.encoder.layer.2.attention.output.dense.bias\n",
            "bert.bert.encoder.layer.2.attention.output.LayerNorm.weight\n",
            "bert.bert.encoder.layer.2.attention.output.LayerNorm.bias\n",
            "bert.bert.encoder.layer.2.intermediate.dense.weight\n",
            "bert.bert.encoder.layer.2.intermediate.dense.bias\n",
            "bert.bert.encoder.layer.2.output.dense.weight\n",
            "bert.bert.encoder.layer.2.output.dense.bias\n",
            "bert.bert.encoder.layer.2.output.LayerNorm.weight\n",
            "bert.bert.encoder.layer.2.output.LayerNorm.bias\n",
            "bert.bert.encoder.layer.3.attention.self.query.weight\n",
            "bert.bert.encoder.layer.3.attention.self.query.bias\n",
            "bert.bert.encoder.layer.3.attention.self.key.weight\n",
            "bert.bert.encoder.layer.3.attention.self.key.bias\n",
            "bert.bert.encoder.layer.3.attention.self.value.weight\n",
            "bert.bert.encoder.layer.3.attention.self.value.bias\n",
            "bert.bert.encoder.layer.3.attention.output.dense.weight\n",
            "bert.bert.encoder.layer.3.attention.output.dense.bias\n",
            "bert.bert.encoder.layer.3.attention.output.LayerNorm.weight\n",
            "bert.bert.encoder.layer.3.attention.output.LayerNorm.bias\n",
            "bert.bert.encoder.layer.3.intermediate.dense.weight\n",
            "bert.bert.encoder.layer.3.intermediate.dense.bias\n",
            "bert.bert.encoder.layer.3.output.dense.weight\n",
            "bert.bert.encoder.layer.3.output.dense.bias\n",
            "bert.bert.encoder.layer.3.output.LayerNorm.weight\n",
            "bert.bert.encoder.layer.3.output.LayerNorm.bias\n",
            "bert.bert.encoder.layer.4.attention.self.query.weight\n",
            "bert.bert.encoder.layer.4.attention.self.query.bias\n",
            "bert.bert.encoder.layer.4.attention.self.key.weight\n",
            "bert.bert.encoder.layer.4.attention.self.key.bias\n",
            "bert.bert.encoder.layer.4.attention.self.value.weight\n",
            "bert.bert.encoder.layer.4.attention.self.value.bias\n",
            "bert.bert.encoder.layer.4.attention.output.dense.weight\n",
            "bert.bert.encoder.layer.4.attention.output.dense.bias\n",
            "bert.bert.encoder.layer.4.attention.output.LayerNorm.weight\n",
            "bert.bert.encoder.layer.4.attention.output.LayerNorm.bias\n",
            "bert.bert.encoder.layer.4.intermediate.dense.weight\n",
            "bert.bert.encoder.layer.4.intermediate.dense.bias\n",
            "bert.bert.encoder.layer.4.output.dense.weight\n",
            "bert.bert.encoder.layer.4.output.dense.bias\n",
            "bert.bert.encoder.layer.4.output.LayerNorm.weight\n",
            "bert.bert.encoder.layer.4.output.LayerNorm.bias\n",
            "bert.bert.encoder.layer.5.attention.self.query.weight\n",
            "bert.bert.encoder.layer.5.attention.self.query.bias\n",
            "bert.bert.encoder.layer.5.attention.self.key.weight\n",
            "bert.bert.encoder.layer.5.attention.self.key.bias\n",
            "bert.bert.encoder.layer.5.attention.self.value.weight\n",
            "bert.bert.encoder.layer.5.attention.self.value.bias\n",
            "bert.bert.encoder.layer.5.attention.output.dense.weight\n",
            "bert.bert.encoder.layer.5.attention.output.dense.bias\n",
            "bert.bert.encoder.layer.5.attention.output.LayerNorm.weight\n",
            "bert.bert.encoder.layer.5.attention.output.LayerNorm.bias\n",
            "bert.bert.encoder.layer.5.intermediate.dense.weight\n",
            "bert.bert.encoder.layer.5.intermediate.dense.bias\n",
            "bert.bert.encoder.layer.5.output.dense.weight\n",
            "bert.bert.encoder.layer.5.output.dense.bias\n",
            "bert.bert.encoder.layer.5.output.LayerNorm.weight\n",
            "bert.bert.encoder.layer.5.output.LayerNorm.bias\n",
            "bert.bert.encoder.layer.6.attention.self.query.weight\n",
            "bert.bert.encoder.layer.6.attention.self.query.bias\n",
            "bert.bert.encoder.layer.6.attention.self.key.weight\n",
            "bert.bert.encoder.layer.6.attention.self.key.bias\n",
            "bert.bert.encoder.layer.6.attention.self.value.weight\n",
            "bert.bert.encoder.layer.6.attention.self.value.bias\n",
            "bert.bert.encoder.layer.6.attention.output.dense.weight\n",
            "bert.bert.encoder.layer.6.attention.output.dense.bias\n",
            "bert.bert.encoder.layer.6.attention.output.LayerNorm.weight\n",
            "bert.bert.encoder.layer.6.attention.output.LayerNorm.bias\n",
            "bert.bert.encoder.layer.6.intermediate.dense.weight\n",
            "bert.bert.encoder.layer.6.intermediate.dense.bias\n",
            "bert.bert.encoder.layer.6.output.dense.weight\n",
            "bert.bert.encoder.layer.6.output.dense.bias\n",
            "bert.bert.encoder.layer.6.output.LayerNorm.weight\n",
            "bert.bert.encoder.layer.6.output.LayerNorm.bias\n",
            "bert.bert.encoder.layer.7.attention.self.query.weight\n",
            "bert.bert.encoder.layer.7.attention.self.query.bias\n",
            "bert.bert.encoder.layer.7.attention.self.key.weight\n",
            "bert.bert.encoder.layer.7.attention.self.key.bias\n",
            "bert.bert.encoder.layer.7.attention.self.value.weight\n",
            "bert.bert.encoder.layer.7.attention.self.value.bias\n",
            "bert.bert.encoder.layer.7.attention.output.dense.weight\n",
            "bert.bert.encoder.layer.7.attention.output.dense.bias\n",
            "bert.bert.encoder.layer.7.attention.output.LayerNorm.weight\n",
            "bert.bert.encoder.layer.7.attention.output.LayerNorm.bias\n",
            "bert.bert.encoder.layer.7.intermediate.dense.weight\n",
            "bert.bert.encoder.layer.7.intermediate.dense.bias\n",
            "bert.bert.encoder.layer.7.output.dense.weight\n",
            "bert.bert.encoder.layer.7.output.dense.bias\n",
            "bert.bert.encoder.layer.7.output.LayerNorm.weight\n",
            "bert.bert.encoder.layer.7.output.LayerNorm.bias\n"
          ]
        }
      ]
    },
    {
      "cell_type": "markdown",
      "metadata": {
        "id": "My4CA0qaShLq"
      },
      "source": [
        "# Fine-Tune BERT"
      ]
    },
    {
      "cell_type": "code",
      "source": [
        "import time\n",
        "import datetime\n",
        "from transformers import get_linear_schedule_with_warmup\n",
        "from tqdm import tqdm\n",
        "\n",
        "# optimizer from hugging face transformers\n",
        "from transformers import AdamW"
      ],
      "metadata": {
        "id": "2sFiIeoFZbq6"
      },
      "execution_count": null,
      "outputs": []
    },
    {
      "cell_type": "code",
      "source": [
        "loss_func = torch.nn.CrossEntropyLoss(weight=weights)"
      ],
      "metadata": {
        "id": "86tWm8JRLoSX"
      },
      "execution_count": null,
      "outputs": []
    },
    {
      "cell_type": "code",
      "source": [
        "def flat_accuracy(preds, labels):\n",
        "    pred_flat = np.argmax(preds, axis=1).flatten()\n",
        "    labels_flat = labels.flatten()\n",
        "    return np.sum(pred_flat == labels_flat) / len(labels_flat)"
      ],
      "metadata": {
        "id": "w4i6qDR_ZcbG"
      },
      "execution_count": null,
      "outputs": []
    },
    {
      "cell_type": "code",
      "source": [
        "def format_time(elapsed):\n",
        "    elapsed_rounded = int(round((elapsed)))\n",
        "    return str(datetime.timedelta(seconds=elapsed_rounded))"
      ],
      "metadata": {
        "id": "BJQZu53TZfF7"
      },
      "execution_count": null,
      "outputs": []
    },
    {
      "cell_type": "code",
      "source": [
        "def get_optimizer_and_scheduler(model, total_steps, lr=2e-5, weight_decay=0.01):\n",
        "    # Apply weight decay to all parameters beside the biases or LayerNorm weights\n",
        "    no_decay = ['bias', 'LayerNorm.weight']\n",
        "    optimizer_grouped_parameters = [\n",
        "        {\n",
        "            'params': [p for n, p in model.named_parameters() if not any(nd in n for nd in no_decay)],\n",
        "            'weight_decay': weight_decay},\n",
        "        {\n",
        "            'params': [p for n, p in model.named_parameters() if any(nd in n for nd in no_decay)],\n",
        "            'weight_decay': 0.0\n",
        "        }\n",
        "    ]\n",
        "    optimizer = AdamW(model.parameters(), lr=lr)\n",
        "    scheduler = get_linear_schedule_with_warmup(\n",
        "        optimizer,\n",
        "        # Warmup learning rate for first 10% of training steps\n",
        "        num_warmup_steps=int(0.10 * total_steps), \n",
        "        num_training_steps=total_steps,\n",
        "    )\n",
        "    return optimizer, scheduler"
      ],
      "metadata": {
        "id": "eEVtjFJCA3zp"
      },
      "execution_count": null,
      "outputs": []
    },
    {
      "cell_type": "markdown",
      "source": [
        "Set the learning rates: 0.01, 0.005, 0.001, 0.0005, 0.0001, 0.00005, 0.00003"
      ],
      "metadata": {
        "id": "Ml28uKRcVK29"
      }
    },
    {
      "cell_type": "code",
      "source": [
        "def train_model(model, loss_func, epochs, train_dataloader, validation_dataloader):\n",
        "    # Use GPU, if available\n",
        "    device = torch.device(\"cuda\" if torch.cuda.is_available() else \"cpu\")\n",
        "    model = model.to(device)\n",
        "\n",
        "    # Set learning rate and weight decay:\n",
        "    lr = 0.00003\n",
        "    weight_decay = 0.01\n",
        "\n",
        "    # Setup optimizer and LR scheduler \n",
        "    total_steps = len(train_dataloader) * epochs\n",
        "    optimizer, scheduler = get_optimizer_and_scheduler(\n",
        "        model, total_steps, lr=lr, weight_decay=weight_decay\n",
        "    )\n",
        "\n",
        "    loss_values = []\n",
        "    train_acc_values = []\n",
        "\n",
        "    eval_loss_vals = []\n",
        "    eval_accs = []\n",
        "\n",
        "    for epoch in range(0, epochs):\n",
        "        t0 = time.time()\n",
        "\n",
        "        total_loss = 0\n",
        "        total_train_accuracy = 0\n",
        "\n",
        "        model.train()\n",
        "\n",
        "        with tqdm(train_dataloader, unit=\"batch\") as train_pbar:\n",
        "            for batch in train_pbar:\n",
        "                train_pbar.set_description(f\"Training (epoch {epoch + 1})\")\n",
        "                b_input_ids = batch[0].to(device)\n",
        "                b_input_mask = batch[1].to(device)\n",
        "                b_labels = batch[2].to(device)\n",
        "\n",
        "                model.zero_grad()        \n",
        "\n",
        "                # Perform a forward pass (evaluate the model on this training batch).\n",
        "                # This will return the loss because we have provided the `labels`.\n",
        "                outputs = model(\n",
        "                    input_ids=b_input_ids, \n",
        "                    attention_mask=b_input_mask, \n",
        "                )\n",
        "\n",
        "                # Move the training logits and training labels to CPU\n",
        "                train_logits = outputs.detach().cpu().numpy()\n",
        "                label_ids_train = b_labels.to('cpu').numpy()\n",
        "\n",
        "                # Calculate the accuracy for this batch of training sentences.\n",
        "                tmp_train_accuracy = flat_accuracy(train_logits, label_ids_train)\n",
        "\n",
        "                # Accumulate total training accuracy.\n",
        "                total_train_accuracy += tmp_train_accuracy\n",
        "\n",
        "                loss = loss_func(outputs, b_labels)\n",
        "\n",
        "                total_loss += loss.item()\n",
        "\n",
        "                # Perform a backward pass to calculate the gradients.\n",
        "                loss.backward()\n",
        "\n",
        "                # Clip the norm of the gradients to 1.0.\n",
        "                # This is to help prevent the \"exploding gradients\" problem.\n",
        "                torch.nn.utils.clip_grad_norm_(model.parameters(), 1.0)\n",
        "\n",
        "                optimizer.step()\n",
        "\n",
        "                # Update the learning rate.\n",
        "                scheduler.step()\n",
        "\n",
        "        # Calculate the average loss and accuracy over the training data.\n",
        "        avg_train_loss = total_loss / len(train_dataloader)    \n",
        "        avg_train_accuracy = total_train_accuracy / len(train_dataloader)            \n",
        "        \n",
        "        # Store the loss and accuracy values for plotting the learning curve.\n",
        "        loss_values.append(avg_train_loss)\n",
        "        train_acc_values.append(avg_train_accuracy)\n",
        "\n",
        "        print(\"  * Average training loss: {0:.2f}\".format(avg_train_loss))\n",
        "        print(\"  * Average training accuracy: {0:.2f}\".format(avg_train_accuracy))\n",
        "        print(\"  * Training epoch took: {:}\".format(format_time(time.time() - t0)))\n",
        "            \n",
        "        print(\"Running Validation...\")\n",
        "\n",
        "        t0 = time.time()\n",
        "        model.eval()\n",
        "\n",
        "        eval_loss, eval_accuracy = 0, 0\n",
        "        nb_eval_steps, nb_eval_examples = 0, 0\n",
        "\n",
        "        # Evaluate data for one epoch\n",
        "        for batch in validation_dataloader:\n",
        "            batch = tuple(t.to(device) for t in batch)\n",
        "            b_input_ids, b_input_mask, b_labels = batch\n",
        "            \n",
        "            with torch.no_grad():        \n",
        "                # Forward pass, calculate logit predictions.\n",
        "                # This will return the logits rather than the loss because we have\n",
        "                # not provided labels.\n",
        "                logits = model(\n",
        "                    input_ids=b_input_ids, \n",
        "                    attention_mask=b_input_mask\n",
        "                )\n",
        "            \n",
        "            v_loss = loss_func(logits, b_labels)\n",
        "            eval_loss += v_loss.item()\n",
        "            \n",
        "            # Move logits and labels to CPU\n",
        "            logits = logits.detach().cpu().numpy()\n",
        "            label_ids = b_labels.to('cpu').numpy()\n",
        "            \n",
        "            tmp_eval_accuracy = flat_accuracy(logits, label_ids)\n",
        "            \n",
        "            eval_accuracy += tmp_eval_accuracy\n",
        "            \n",
        "            nb_eval_steps += 1\n",
        "\n",
        "        avg_eval_loss = eval_loss/nb_eval_steps\n",
        "        avg_eval_acc = eval_accuracy/nb_eval_steps\n",
        "\n",
        "        print(\"  * Loss: {0:.2f}\".format(avg_eval_loss))\n",
        "        print(\"  * Accuracy: {0:.2f}\".format(avg_eval_acc))\n",
        "        print(\"  * Validation took: {:}\".format(format_time(time.time() - t0)))\n",
        "        \n",
        "        eval_loss_vals.append(avg_eval_loss)\n",
        "        eval_accs.append(avg_eval_acc)\n",
        "    print(\"Training complete!\")\n",
        "    return loss_values, train_acc_values, eval_loss_vals, eval_accs"
      ],
      "metadata": {
        "id": "f7RBD5LJBBuF"
      },
      "execution_count": null,
      "outputs": []
    },
    {
      "cell_type": "code",
      "source": [
        "bert_train_loss_vals, bert_train_accs, bert_eval_loss_vals, bert_eval_accs = train_model(\n",
        "    model=model,\n",
        "    loss_func=loss_func,\n",
        "    epochs=30, \n",
        "    train_dataloader=train_dataloader,\n",
        "    validation_dataloader=val_dataloader\n",
        ")"
      ],
      "metadata": {
        "id": "B9-MoSiuadkY",
        "colab": {
          "base_uri": "https://localhost:8080/"
        },
        "outputId": "6e8f488e-892b-4267-f099-0547c3d8c0e1"
      },
      "execution_count": null,
      "outputs": [
        {
          "output_type": "stream",
          "name": "stderr",
          "text": [
            "/usr/local/lib/python3.7/dist-packages/transformers/optimization.py:309: FutureWarning: This implementation of AdamW is deprecated and will be removed in a future version. Use the PyTorch implementation torch.optim.AdamW instead, or set `no_deprecation_warning=True` to disable this warning\n",
            "  FutureWarning,\n",
            "Training (epoch 1): 100%|██████████| 64/64 [00:16<00:00,  3.91batch/s]\n"
          ]
        },
        {
          "output_type": "stream",
          "name": "stdout",
          "text": [
            "  * Average training loss: 1.09\n",
            "  * Average training accuracy: 0.44\n",
            "  * Training epoch took: 0:00:16\n",
            "Running Validation...\n",
            "  * Loss: 1.00\n",
            "  * Accuracy: 0.56\n",
            "  * Validation took: 0:00:01\n"
          ]
        },
        {
          "output_type": "stream",
          "name": "stderr",
          "text": [
            "Training (epoch 2): 100%|██████████| 64/64 [00:15<00:00,  4.18batch/s]\n"
          ]
        },
        {
          "output_type": "stream",
          "name": "stdout",
          "text": [
            "  * Average training loss: 0.88\n",
            "  * Average training accuracy: 0.61\n",
            "  * Training epoch took: 0:00:15\n",
            "Running Validation...\n",
            "  * Loss: 0.65\n",
            "  * Accuracy: 0.72\n",
            "  * Validation took: 0:00:01\n"
          ]
        },
        {
          "output_type": "stream",
          "name": "stderr",
          "text": [
            "Training (epoch 3): 100%|██████████| 64/64 [00:15<00:00,  4.18batch/s]\n"
          ]
        },
        {
          "output_type": "stream",
          "name": "stdout",
          "text": [
            "  * Average training loss: 0.58\n",
            "  * Average training accuracy: 0.74\n",
            "  * Training epoch took: 0:00:15\n",
            "Running Validation...\n",
            "  * Loss: 0.53\n",
            "  * Accuracy: 0.75\n",
            "  * Validation took: 0:00:01\n"
          ]
        },
        {
          "output_type": "stream",
          "name": "stderr",
          "text": [
            "Training (epoch 4): 100%|██████████| 64/64 [00:15<00:00,  4.19batch/s]\n"
          ]
        },
        {
          "output_type": "stream",
          "name": "stdout",
          "text": [
            "  * Average training loss: 0.45\n",
            "  * Average training accuracy: 0.79\n",
            "  * Training epoch took: 0:00:15\n",
            "Running Validation...\n",
            "  * Loss: 0.51\n",
            "  * Accuracy: 0.76\n",
            "  * Validation took: 0:00:01\n"
          ]
        },
        {
          "output_type": "stream",
          "name": "stderr",
          "text": [
            "Training (epoch 5): 100%|██████████| 64/64 [00:15<00:00,  4.11batch/s]\n"
          ]
        },
        {
          "output_type": "stream",
          "name": "stdout",
          "text": [
            "  * Average training loss: 0.37\n",
            "  * Average training accuracy: 0.82\n",
            "  * Training epoch took: 0:00:16\n",
            "Running Validation...\n",
            "  * Loss: 0.50\n",
            "  * Accuracy: 0.78\n",
            "  * Validation took: 0:00:01\n"
          ]
        },
        {
          "output_type": "stream",
          "name": "stderr",
          "text": [
            "Training (epoch 6): 100%|██████████| 64/64 [00:15<00:00,  4.18batch/s]\n"
          ]
        },
        {
          "output_type": "stream",
          "name": "stdout",
          "text": [
            "  * Average training loss: 0.31\n",
            "  * Average training accuracy: 0.85\n",
            "  * Training epoch took: 0:00:15\n",
            "Running Validation...\n",
            "  * Loss: 0.55\n",
            "  * Accuracy: 0.77\n",
            "  * Validation took: 0:00:01\n"
          ]
        },
        {
          "output_type": "stream",
          "name": "stderr",
          "text": [
            "Training (epoch 7): 100%|██████████| 64/64 [00:15<00:00,  4.17batch/s]\n"
          ]
        },
        {
          "output_type": "stream",
          "name": "stdout",
          "text": [
            "  * Average training loss: 0.27\n",
            "  * Average training accuracy: 0.87\n",
            "  * Training epoch took: 0:00:15\n",
            "Running Validation...\n",
            "  * Loss: 0.61\n",
            "  * Accuracy: 0.77\n",
            "  * Validation took: 0:00:01\n"
          ]
        },
        {
          "output_type": "stream",
          "name": "stderr",
          "text": [
            "Training (epoch 8): 100%|██████████| 64/64 [00:15<00:00,  4.18batch/s]\n"
          ]
        },
        {
          "output_type": "stream",
          "name": "stdout",
          "text": [
            "  * Average training loss: 0.23\n",
            "  * Average training accuracy: 0.88\n",
            "  * Training epoch took: 0:00:15\n",
            "Running Validation...\n",
            "  * Loss: 0.57\n",
            "  * Accuracy: 0.77\n",
            "  * Validation took: 0:00:01\n"
          ]
        },
        {
          "output_type": "stream",
          "name": "stderr",
          "text": [
            "Training (epoch 9): 100%|██████████| 64/64 [00:15<00:00,  4.18batch/s]\n"
          ]
        },
        {
          "output_type": "stream",
          "name": "stdout",
          "text": [
            "  * Average training loss: 0.21\n",
            "  * Average training accuracy: 0.89\n",
            "  * Training epoch took: 0:00:15\n",
            "Running Validation...\n",
            "  * Loss: 0.62\n",
            "  * Accuracy: 0.78\n",
            "  * Validation took: 0:00:01\n"
          ]
        },
        {
          "output_type": "stream",
          "name": "stderr",
          "text": [
            "Training (epoch 10): 100%|██████████| 64/64 [00:15<00:00,  4.19batch/s]\n"
          ]
        },
        {
          "output_type": "stream",
          "name": "stdout",
          "text": [
            "  * Average training loss: 0.19\n",
            "  * Average training accuracy: 0.90\n",
            "  * Training epoch took: 0:00:15\n",
            "Running Validation...\n",
            "  * Loss: 0.68\n",
            "  * Accuracy: 0.78\n",
            "  * Validation took: 0:00:01\n"
          ]
        },
        {
          "output_type": "stream",
          "name": "stderr",
          "text": [
            "Training (epoch 11): 100%|██████████| 64/64 [00:15<00:00,  4.18batch/s]\n"
          ]
        },
        {
          "output_type": "stream",
          "name": "stdout",
          "text": [
            "  * Average training loss: 0.18\n",
            "  * Average training accuracy: 0.90\n",
            "  * Training epoch took: 0:00:15\n",
            "Running Validation...\n",
            "  * Loss: 0.70\n",
            "  * Accuracy: 0.79\n",
            "  * Validation took: 0:00:01\n"
          ]
        },
        {
          "output_type": "stream",
          "name": "stderr",
          "text": [
            "Training (epoch 12): 100%|██████████| 64/64 [00:15<00:00,  4.18batch/s]\n"
          ]
        },
        {
          "output_type": "stream",
          "name": "stdout",
          "text": [
            "  * Average training loss: 0.16\n",
            "  * Average training accuracy: 0.91\n",
            "  * Training epoch took: 0:00:15\n",
            "Running Validation...\n",
            "  * Loss: 0.83\n",
            "  * Accuracy: 0.78\n",
            "  * Validation took: 0:00:01\n"
          ]
        },
        {
          "output_type": "stream",
          "name": "stderr",
          "text": [
            "Training (epoch 13): 100%|██████████| 64/64 [00:15<00:00,  4.18batch/s]\n"
          ]
        },
        {
          "output_type": "stream",
          "name": "stdout",
          "text": [
            "  * Average training loss: 0.16\n",
            "  * Average training accuracy: 0.91\n",
            "  * Training epoch took: 0:00:15\n",
            "Running Validation...\n",
            "  * Loss: 0.79\n",
            "  * Accuracy: 0.78\n",
            "  * Validation took: 0:00:01\n"
          ]
        },
        {
          "output_type": "stream",
          "name": "stderr",
          "text": [
            "Training (epoch 14): 100%|██████████| 64/64 [00:15<00:00,  4.18batch/s]\n"
          ]
        },
        {
          "output_type": "stream",
          "name": "stdout",
          "text": [
            "  * Average training loss: 0.16\n",
            "  * Average training accuracy: 0.91\n",
            "  * Training epoch took: 0:00:15\n",
            "Running Validation...\n",
            "  * Loss: 0.91\n",
            "  * Accuracy: 0.77\n",
            "  * Validation took: 0:00:01\n"
          ]
        },
        {
          "output_type": "stream",
          "name": "stderr",
          "text": [
            "Training (epoch 15): 100%|██████████| 64/64 [00:15<00:00,  4.18batch/s]\n"
          ]
        },
        {
          "output_type": "stream",
          "name": "stdout",
          "text": [
            "  * Average training loss: 0.14\n",
            "  * Average training accuracy: 0.92\n",
            "  * Training epoch took: 0:00:15\n",
            "Running Validation...\n",
            "  * Loss: 0.91\n",
            "  * Accuracy: 0.78\n",
            "  * Validation took: 0:00:01\n"
          ]
        },
        {
          "output_type": "stream",
          "name": "stderr",
          "text": [
            "Training (epoch 16): 100%|██████████| 64/64 [00:15<00:00,  4.18batch/s]\n"
          ]
        },
        {
          "output_type": "stream",
          "name": "stdout",
          "text": [
            "  * Average training loss: 0.14\n",
            "  * Average training accuracy: 0.92\n",
            "  * Training epoch took: 0:00:15\n",
            "Running Validation...\n",
            "  * Loss: 0.89\n",
            "  * Accuracy: 0.77\n",
            "  * Validation took: 0:00:01\n"
          ]
        },
        {
          "output_type": "stream",
          "name": "stderr",
          "text": [
            "Training (epoch 17): 100%|██████████| 64/64 [00:15<00:00,  4.18batch/s]\n"
          ]
        },
        {
          "output_type": "stream",
          "name": "stdout",
          "text": [
            "  * Average training loss: 0.14\n",
            "  * Average training accuracy: 0.92\n",
            "  * Training epoch took: 0:00:15\n",
            "Running Validation...\n",
            "  * Loss: 0.95\n",
            "  * Accuracy: 0.78\n",
            "  * Validation took: 0:00:01\n"
          ]
        },
        {
          "output_type": "stream",
          "name": "stderr",
          "text": [
            "Training (epoch 18): 100%|██████████| 64/64 [00:15<00:00,  4.18batch/s]\n"
          ]
        },
        {
          "output_type": "stream",
          "name": "stdout",
          "text": [
            "  * Average training loss: 0.13\n",
            "  * Average training accuracy: 0.92\n",
            "  * Training epoch took: 0:00:15\n",
            "Running Validation...\n",
            "  * Loss: 0.99\n",
            "  * Accuracy: 0.77\n",
            "  * Validation took: 0:00:01\n"
          ]
        },
        {
          "output_type": "stream",
          "name": "stderr",
          "text": [
            "Training (epoch 19): 100%|██████████| 64/64 [00:15<00:00,  4.18batch/s]\n"
          ]
        },
        {
          "output_type": "stream",
          "name": "stdout",
          "text": [
            "  * Average training loss: 0.14\n",
            "  * Average training accuracy: 0.92\n",
            "  * Training epoch took: 0:00:15\n",
            "Running Validation...\n",
            "  * Loss: 1.11\n",
            "  * Accuracy: 0.77\n",
            "  * Validation took: 0:00:01\n"
          ]
        },
        {
          "output_type": "stream",
          "name": "stderr",
          "text": [
            "Training (epoch 20): 100%|██████████| 64/64 [00:15<00:00,  4.18batch/s]\n"
          ]
        },
        {
          "output_type": "stream",
          "name": "stdout",
          "text": [
            "  * Average training loss: 0.13\n",
            "  * Average training accuracy: 0.92\n",
            "  * Training epoch took: 0:00:15\n",
            "Running Validation...\n",
            "  * Loss: 1.02\n",
            "  * Accuracy: 0.76\n",
            "  * Validation took: 0:00:01\n"
          ]
        },
        {
          "output_type": "stream",
          "name": "stderr",
          "text": [
            "Training (epoch 21): 100%|██████████| 64/64 [00:15<00:00,  4.18batch/s]\n"
          ]
        },
        {
          "output_type": "stream",
          "name": "stdout",
          "text": [
            "  * Average training loss: 0.13\n",
            "  * Average training accuracy: 0.92\n",
            "  * Training epoch took: 0:00:15\n",
            "Running Validation...\n",
            "  * Loss: 1.08\n",
            "  * Accuracy: 0.75\n",
            "  * Validation took: 0:00:01\n"
          ]
        },
        {
          "output_type": "stream",
          "name": "stderr",
          "text": [
            "Training (epoch 22): 100%|██████████| 64/64 [00:15<00:00,  4.18batch/s]\n"
          ]
        },
        {
          "output_type": "stream",
          "name": "stdout",
          "text": [
            "  * Average training loss: 0.13\n",
            "  * Average training accuracy: 0.93\n",
            "  * Training epoch took: 0:00:15\n",
            "Running Validation...\n",
            "  * Loss: 1.04\n",
            "  * Accuracy: 0.75\n",
            "  * Validation took: 0:00:01\n"
          ]
        },
        {
          "output_type": "stream",
          "name": "stderr",
          "text": [
            "Training (epoch 23): 100%|██████████| 64/64 [00:15<00:00,  4.18batch/s]\n"
          ]
        },
        {
          "output_type": "stream",
          "name": "stdout",
          "text": [
            "  * Average training loss: 0.12\n",
            "  * Average training accuracy: 0.92\n",
            "  * Training epoch took: 0:00:15\n",
            "Running Validation...\n",
            "  * Loss: 1.15\n",
            "  * Accuracy: 0.76\n",
            "  * Validation took: 0:00:01\n"
          ]
        },
        {
          "output_type": "stream",
          "name": "stderr",
          "text": [
            "Training (epoch 24): 100%|██████████| 64/64 [00:15<00:00,  4.17batch/s]\n"
          ]
        },
        {
          "output_type": "stream",
          "name": "stdout",
          "text": [
            "  * Average training loss: 0.12\n",
            "  * Average training accuracy: 0.93\n",
            "  * Training epoch took: 0:00:15\n",
            "Running Validation...\n",
            "  * Loss: 1.28\n",
            "  * Accuracy: 0.74\n",
            "  * Validation took: 0:00:01\n"
          ]
        },
        {
          "output_type": "stream",
          "name": "stderr",
          "text": [
            "Training (epoch 25): 100%|██████████| 64/64 [00:15<00:00,  4.18batch/s]\n"
          ]
        },
        {
          "output_type": "stream",
          "name": "stdout",
          "text": [
            "  * Average training loss: 0.12\n",
            "  * Average training accuracy: 0.93\n",
            "  * Training epoch took: 0:00:15\n",
            "Running Validation...\n",
            "  * Loss: 1.17\n",
            "  * Accuracy: 0.76\n",
            "  * Validation took: 0:00:01\n"
          ]
        },
        {
          "output_type": "stream",
          "name": "stderr",
          "text": [
            "Training (epoch 26): 100%|██████████| 64/64 [00:15<00:00,  4.18batch/s]\n"
          ]
        },
        {
          "output_type": "stream",
          "name": "stdout",
          "text": [
            "  * Average training loss: 0.12\n",
            "  * Average training accuracy: 0.93\n",
            "  * Training epoch took: 0:00:15\n",
            "Running Validation...\n",
            "  * Loss: 1.19\n",
            "  * Accuracy: 0.75\n",
            "  * Validation took: 0:00:01\n"
          ]
        },
        {
          "output_type": "stream",
          "name": "stderr",
          "text": [
            "Training (epoch 27): 100%|██████████| 64/64 [00:15<00:00,  4.17batch/s]\n"
          ]
        },
        {
          "output_type": "stream",
          "name": "stdout",
          "text": [
            "  * Average training loss: 0.12\n",
            "  * Average training accuracy: 0.93\n",
            "  * Training epoch took: 0:00:15\n",
            "Running Validation...\n",
            "  * Loss: 1.22\n",
            "  * Accuracy: 0.75\n",
            "  * Validation took: 0:00:01\n"
          ]
        },
        {
          "output_type": "stream",
          "name": "stderr",
          "text": [
            "Training (epoch 28): 100%|██████████| 64/64 [00:15<00:00,  4.18batch/s]\n"
          ]
        },
        {
          "output_type": "stream",
          "name": "stdout",
          "text": [
            "  * Average training loss: 0.12\n",
            "  * Average training accuracy: 0.93\n",
            "  * Training epoch took: 0:00:15\n",
            "Running Validation...\n",
            "  * Loss: 1.22\n",
            "  * Accuracy: 0.75\n",
            "  * Validation took: 0:00:01\n"
          ]
        },
        {
          "output_type": "stream",
          "name": "stderr",
          "text": [
            "Training (epoch 29): 100%|██████████| 64/64 [00:15<00:00,  4.18batch/s]\n"
          ]
        },
        {
          "output_type": "stream",
          "name": "stdout",
          "text": [
            "  * Average training loss: 0.12\n",
            "  * Average training accuracy: 0.93\n",
            "  * Training epoch took: 0:00:15\n",
            "Running Validation...\n",
            "  * Loss: 1.28\n",
            "  * Accuracy: 0.75\n",
            "  * Validation took: 0:00:01\n"
          ]
        },
        {
          "output_type": "stream",
          "name": "stderr",
          "text": [
            "Training (epoch 30): 100%|██████████| 64/64 [00:15<00:00,  4.18batch/s]\n"
          ]
        },
        {
          "output_type": "stream",
          "name": "stdout",
          "text": [
            "  * Average training loss: 0.12\n",
            "  * Average training accuracy: 0.93\n",
            "  * Training epoch took: 0:00:15\n",
            "Running Validation...\n",
            "  * Loss: 1.27\n",
            "  * Accuracy: 0.75\n",
            "  * Validation took: 0:00:01\n",
            "Training complete!\n"
          ]
        }
      ]
    },
    {
      "cell_type": "markdown",
      "source": [
        "## Storing the Results"
      ],
      "metadata": {
        "id": "ZUKbHngWIs84"
      }
    },
    {
      "cell_type": "code",
      "source": [
        "import json"
      ],
      "metadata": {
        "id": "1ClK2FU6IqzD"
      },
      "execution_count": null,
      "outputs": []
    },
    {
      "cell_type": "code",
      "source": [
        "max(bert_train_accs)"
      ],
      "metadata": {
        "colab": {
          "base_uri": "https://localhost:8080/"
        },
        "id": "o2dMD6ardCVJ",
        "outputId": "89bee59e-bd41-44aa-95e2-9e2f2bdeb813"
      },
      "execution_count": null,
      "outputs": [
        {
          "output_type": "execute_result",
          "data": {
            "text/plain": [
              "0.9298416940789473"
            ]
          },
          "metadata": {},
          "execution_count": 34
        }
      ]
    },
    {
      "cell_type": "code",
      "source": [
        "np.argmax(bert_train_accs) + 1"
      ],
      "metadata": {
        "colab": {
          "base_uri": "https://localhost:8080/"
        },
        "id": "SlxcjjthdIke",
        "outputId": "b4033e0e-f674-4e24-b2bc-34ca2e33be6b"
      },
      "execution_count": null,
      "outputs": [
        {
          "output_type": "execute_result",
          "data": {
            "text/plain": [
              "28"
            ]
          },
          "metadata": {},
          "execution_count": 35
        }
      ]
    },
    {
      "cell_type": "code",
      "source": [
        "max(bert_eval_accs)"
      ],
      "metadata": {
        "colab": {
          "base_uri": "https://localhost:8080/"
        },
        "id": "gg50Rewqdlyt",
        "outputId": "d52d2a81-4793-4a45-9f36-c9168ffe0d9a"
      },
      "execution_count": null,
      "outputs": [
        {
          "output_type": "execute_result",
          "data": {
            "text/plain": [
              "0.7860186688311688"
            ]
          },
          "metadata": {},
          "execution_count": 36
        }
      ]
    },
    {
      "cell_type": "code",
      "source": [
        "np.argmax(bert_eval_accs) + 1"
      ],
      "metadata": {
        "colab": {
          "base_uri": "https://localhost:8080/"
        },
        "id": "eE-GzxWvdugJ",
        "outputId": "82842a1b-d5db-46ed-8cc1-354574884f46"
      },
      "execution_count": null,
      "outputs": [
        {
          "output_type": "execute_result",
          "data": {
            "text/plain": [
              "10"
            ]
          },
          "metadata": {},
          "execution_count": 37
        }
      ]
    },
    {
      "cell_type": "code",
      "source": [
        "with open('lr_losses_bert.json') as json_file:\n",
        "    loss_dict = json.load(json_file)"
      ],
      "metadata": {
        "id": "L2qyRsyNIrXJ"
      },
      "execution_count": null,
      "outputs": []
    },
    {
      "cell_type": "code",
      "source": [
        "loss_dict.keys()"
      ],
      "metadata": {
        "id": "qQj0eOjtIqN7",
        "colab": {
          "base_uri": "https://localhost:8080/"
        },
        "outputId": "c1a4b0af-432b-4571-ce45-1b19e17b5716"
      },
      "execution_count": null,
      "outputs": [
        {
          "output_type": "execute_result",
          "data": {
            "text/plain": [
              "dict_keys(['0.01', '0.005', '0.001', '0.0005', '0.0001', '0.00005', '0.00003'])"
            ]
          },
          "metadata": {},
          "execution_count": 21
        }
      ]
    },
    {
      "cell_type": "code",
      "source": [
        "loss_dict['0.00003'] = {}"
      ],
      "metadata": {
        "id": "Gl9BLWWIIz2k"
      },
      "execution_count": null,
      "outputs": []
    },
    {
      "cell_type": "code",
      "source": [
        "loss_dict['0.00003']['training_loss'] = bert_train_loss_vals\n",
        "loss_dict['0.00003']['val_loss'] = bert_eval_loss_vals"
      ],
      "metadata": {
        "id": "dNr-uLSAI1HV"
      },
      "execution_count": null,
      "outputs": []
    },
    {
      "cell_type": "code",
      "source": [
        "loss_dict.keys()"
      ],
      "metadata": {
        "colab": {
          "base_uri": "https://localhost:8080/"
        },
        "id": "4ZxiHaA8I2Ra",
        "outputId": "25a8c5df-a5d1-4256-dc21-7e2b08dd5257"
      },
      "execution_count": null,
      "outputs": [
        {
          "output_type": "execute_result",
          "data": {
            "text/plain": [
              "dict_keys(['0.00003'])"
            ]
          },
          "metadata": {},
          "execution_count": 42
        }
      ]
    },
    {
      "cell_type": "code",
      "source": [
        "with open(\"lr_losses_bert.json\", \"w\") as outfile:\n",
        "    json.dump(loss_dict, outfile)\n",
        "    \n",
        "outfile.close()"
      ],
      "metadata": {
        "id": "ROrdUB1NI3A8"
      },
      "execution_count": null,
      "outputs": []
    },
    {
      "cell_type": "code",
      "source": [
        "with open('lr_accs_bert.json') as json_file:\n",
        "    acc_dict = json.load(json_file)"
      ],
      "metadata": {
        "id": "FWm1gp00IkAo"
      },
      "execution_count": null,
      "outputs": []
    },
    {
      "cell_type": "code",
      "source": [
        "acc_dict.keys()"
      ],
      "metadata": {
        "id": "o6YSiq_VJgz3",
        "colab": {
          "base_uri": "https://localhost:8080/"
        },
        "outputId": "77b31eb9-c167-4a08-b383-531291de46ec"
      },
      "execution_count": null,
      "outputs": [
        {
          "output_type": "execute_result",
          "data": {
            "text/plain": [
              "dict_keys(['0.01', '0.005', '0.001', '0.0005', '0.0001', '0.00005', '0.00003'])"
            ]
          },
          "metadata": {},
          "execution_count": 23
        }
      ]
    },
    {
      "cell_type": "code",
      "source": [
        "acc_dict['0.00003'] = {}"
      ],
      "metadata": {
        "id": "TYfNYlnlKpLR"
      },
      "execution_count": null,
      "outputs": []
    },
    {
      "cell_type": "code",
      "source": [
        "acc_dict['0.00003']['training_acc'] = bert_train_accs\n",
        "acc_dict['0.00003']['val_acc'] = bert_eval_accs"
      ],
      "metadata": {
        "id": "xLpsBxeiKrcN"
      },
      "execution_count": null,
      "outputs": []
    },
    {
      "cell_type": "code",
      "source": [
        "acc_dict.keys()"
      ],
      "metadata": {
        "colab": {
          "base_uri": "https://localhost:8080/"
        },
        "id": "84gAYalaKss_",
        "outputId": "e06ec2d5-afae-4350-adba-13b16a016fd1"
      },
      "execution_count": null,
      "outputs": [
        {
          "output_type": "execute_result",
          "data": {
            "text/plain": [
              "dict_keys(['0.00003'])"
            ]
          },
          "metadata": {},
          "execution_count": 48
        }
      ]
    },
    {
      "cell_type": "code",
      "source": [
        "with open(\"lr_accs_bert.json\", \"w\") as outfile:\n",
        "    json.dump(acc_dict, outfile)\n",
        "    \n",
        "outfile.close()"
      ],
      "metadata": {
        "id": "LR_WJykCKuXk"
      },
      "execution_count": null,
      "outputs": []
    },
    {
      "cell_type": "markdown",
      "metadata": {
        "id": "x4SVftkkTZXA"
      },
      "source": [
        "## Get Predictions for Test Data"
      ]
    },
    {
      "cell_type": "code",
      "metadata": {
        "id": "NZl0SZmFTRQA"
      },
      "source": [
        "# get predictions for test data\n",
        "with torch.no_grad():\n",
        "  preds = model(input_ids=test_seq.to(device), attention_mask=test_mask.to(device))\n",
        "  preds = preds.detach().cpu().numpy()"
      ],
      "execution_count": null,
      "outputs": []
    },
    {
      "cell_type": "code",
      "source": [
        "def test_flat_accuracy(preds, labels):\n",
        "    pred_flat = np.argmax(preds, axis = 1)\n",
        "    labels_flat = np.array(labels.flatten())\n",
        "    return np.sum(pred_flat == labels_flat) / len(labels_flat)"
      ],
      "metadata": {
        "id": "bE6fFzbQ_iQ8"
      },
      "execution_count": null,
      "outputs": []
    },
    {
      "cell_type": "code",
      "source": [
        "test_flat_accuracy(preds, test_y)"
      ],
      "metadata": {
        "colab": {
          "base_uri": "https://localhost:8080/"
        },
        "id": "QQ3K0FKV_jpp",
        "outputId": "7169d025-5bc4-4f50-888f-336451407f40"
      },
      "execution_count": null,
      "outputs": [
        {
          "output_type": "execute_result",
          "data": {
            "text/plain": [
              "0.7708095781071835"
            ]
          },
          "metadata": {},
          "execution_count": 52
        }
      ]
    },
    {
      "cell_type": "code",
      "metadata": {
        "id": "Ms1ObHZxTYSI",
        "colab": {
          "base_uri": "https://localhost:8080/"
        },
        "outputId": "57fb31c5-6710-4ee8-9f82-c88fa7e72e9a"
      },
      "source": [
        "# model's performance\n",
        "preds = np.argmax(preds, axis = 1)\n",
        "print(classification_report(test_y, preds))"
      ],
      "execution_count": null,
      "outputs": [
        {
          "output_type": "stream",
          "name": "stdout",
          "text": [
            "              precision    recall  f1-score   support\n",
            "\n",
            "           0       0.85      0.76      0.80       470\n",
            "           1       0.85      0.89      0.87       278\n",
            "           2       0.43      0.56      0.49       129\n",
            "\n",
            "    accuracy                           0.77       877\n",
            "   macro avg       0.71      0.74      0.72       877\n",
            "weighted avg       0.79      0.77      0.78       877\n",
            "\n"
          ]
        }
      ]
    },
    {
      "cell_type": "code",
      "metadata": {
        "id": "YqzLS7rHTp4T",
        "colab": {
          "base_uri": "https://localhost:8080/"
        },
        "outputId": "6cef5711-e41f-4616-b829-17ba019169c5"
      },
      "source": [
        "# confusion matrix\n",
        "pd.crosstab(test_y, preds)"
      ],
      "execution_count": null,
      "outputs": [
        {
          "output_type": "execute_result",
          "data": {
            "text/plain": [
              "col_0    0    1   2\n",
              "row_0              \n",
              "0      356   33  81\n",
              "1       17  248  13\n",
              "2       46   11  72"
            ],
            "text/html": [
              "\n",
              "  <div id=\"df-10d3a07c-a6b6-4792-8fb4-711f4db5d19b\">\n",
              "    <div class=\"colab-df-container\">\n",
              "      <div>\n",
              "<style scoped>\n",
              "    .dataframe tbody tr th:only-of-type {\n",
              "        vertical-align: middle;\n",
              "    }\n",
              "\n",
              "    .dataframe tbody tr th {\n",
              "        vertical-align: top;\n",
              "    }\n",
              "\n",
              "    .dataframe thead th {\n",
              "        text-align: right;\n",
              "    }\n",
              "</style>\n",
              "<table border=\"1\" class=\"dataframe\">\n",
              "  <thead>\n",
              "    <tr style=\"text-align: right;\">\n",
              "      <th>col_0</th>\n",
              "      <th>0</th>\n",
              "      <th>1</th>\n",
              "      <th>2</th>\n",
              "    </tr>\n",
              "    <tr>\n",
              "      <th>row_0</th>\n",
              "      <th></th>\n",
              "      <th></th>\n",
              "      <th></th>\n",
              "    </tr>\n",
              "  </thead>\n",
              "  <tbody>\n",
              "    <tr>\n",
              "      <th>0</th>\n",
              "      <td>356</td>\n",
              "      <td>33</td>\n",
              "      <td>81</td>\n",
              "    </tr>\n",
              "    <tr>\n",
              "      <th>1</th>\n",
              "      <td>17</td>\n",
              "      <td>248</td>\n",
              "      <td>13</td>\n",
              "    </tr>\n",
              "    <tr>\n",
              "      <th>2</th>\n",
              "      <td>46</td>\n",
              "      <td>11</td>\n",
              "      <td>72</td>\n",
              "    </tr>\n",
              "  </tbody>\n",
              "</table>\n",
              "</div>\n",
              "      <button class=\"colab-df-convert\" onclick=\"convertToInteractive('df-10d3a07c-a6b6-4792-8fb4-711f4db5d19b')\"\n",
              "              title=\"Convert this dataframe to an interactive table.\"\n",
              "              style=\"display:none;\">\n",
              "        \n",
              "  <svg xmlns=\"http://www.w3.org/2000/svg\" height=\"24px\"viewBox=\"0 0 24 24\"\n",
              "       width=\"24px\">\n",
              "    <path d=\"M0 0h24v24H0V0z\" fill=\"none\"/>\n",
              "    <path d=\"M18.56 5.44l.94 2.06.94-2.06 2.06-.94-2.06-.94-.94-2.06-.94 2.06-2.06.94zm-11 1L8.5 8.5l.94-2.06 2.06-.94-2.06-.94L8.5 2.5l-.94 2.06-2.06.94zm10 10l.94 2.06.94-2.06 2.06-.94-2.06-.94-.94-2.06-.94 2.06-2.06.94z\"/><path d=\"M17.41 7.96l-1.37-1.37c-.4-.4-.92-.59-1.43-.59-.52 0-1.04.2-1.43.59L10.3 9.45l-7.72 7.72c-.78.78-.78 2.05 0 2.83L4 21.41c.39.39.9.59 1.41.59.51 0 1.02-.2 1.41-.59l7.78-7.78 2.81-2.81c.8-.78.8-2.07 0-2.86zM5.41 20L4 18.59l7.72-7.72 1.47 1.35L5.41 20z\"/>\n",
              "  </svg>\n",
              "      </button>\n",
              "      \n",
              "  <style>\n",
              "    .colab-df-container {\n",
              "      display:flex;\n",
              "      flex-wrap:wrap;\n",
              "      gap: 12px;\n",
              "    }\n",
              "\n",
              "    .colab-df-convert {\n",
              "      background-color: #E8F0FE;\n",
              "      border: none;\n",
              "      border-radius: 50%;\n",
              "      cursor: pointer;\n",
              "      display: none;\n",
              "      fill: #1967D2;\n",
              "      height: 32px;\n",
              "      padding: 0 0 0 0;\n",
              "      width: 32px;\n",
              "    }\n",
              "\n",
              "    .colab-df-convert:hover {\n",
              "      background-color: #E2EBFA;\n",
              "      box-shadow: 0px 1px 2px rgba(60, 64, 67, 0.3), 0px 1px 3px 1px rgba(60, 64, 67, 0.15);\n",
              "      fill: #174EA6;\n",
              "    }\n",
              "\n",
              "    [theme=dark] .colab-df-convert {\n",
              "      background-color: #3B4455;\n",
              "      fill: #D2E3FC;\n",
              "    }\n",
              "\n",
              "    [theme=dark] .colab-df-convert:hover {\n",
              "      background-color: #434B5C;\n",
              "      box-shadow: 0px 1px 3px 1px rgba(0, 0, 0, 0.15);\n",
              "      filter: drop-shadow(0px 1px 2px rgba(0, 0, 0, 0.3));\n",
              "      fill: #FFFFFF;\n",
              "    }\n",
              "  </style>\n",
              "\n",
              "      <script>\n",
              "        const buttonEl =\n",
              "          document.querySelector('#df-10d3a07c-a6b6-4792-8fb4-711f4db5d19b button.colab-df-convert');\n",
              "        buttonEl.style.display =\n",
              "          google.colab.kernel.accessAllowed ? 'block' : 'none';\n",
              "\n",
              "        async function convertToInteractive(key) {\n",
              "          const element = document.querySelector('#df-10d3a07c-a6b6-4792-8fb4-711f4db5d19b');\n",
              "          const dataTable =\n",
              "            await google.colab.kernel.invokeFunction('convertToInteractive',\n",
              "                                                     [key], {});\n",
              "          if (!dataTable) return;\n",
              "\n",
              "          const docLinkHtml = 'Like what you see? Visit the ' +\n",
              "            '<a target=\"_blank\" href=https://colab.research.google.com/notebooks/data_table.ipynb>data table notebook</a>'\n",
              "            + ' to learn more about interactive tables.';\n",
              "          element.innerHTML = '';\n",
              "          dataTable['output_type'] = 'display_data';\n",
              "          await google.colab.output.renderOutput(dataTable, element);\n",
              "          const docLink = document.createElement('div');\n",
              "          docLink.innerHTML = docLinkHtml;\n",
              "          element.appendChild(docLink);\n",
              "        }\n",
              "      </script>\n",
              "    </div>\n",
              "  </div>\n",
              "  "
            ]
          },
          "metadata": {},
          "execution_count": 54
        }
      ]
    },
    {
      "cell_type": "markdown",
      "source": [
        "## Training and Validation Loss Graphs"
      ],
      "metadata": {
        "id": "5kCs8RLTyAXN"
      }
    },
    {
      "cell_type": "code",
      "source": [
        "%matplotlib inline\n",
        "import matplotlib.pyplot as plt\n",
        "import seaborn as sns\n",
        "\n",
        "def plot_loss(eval_l_1, eval_l_2, eval_l_3, eval_l_4, eval_l_5, eval_l_6, eval_l_7):\n",
        "    sns.set(style='darkgrid')\n",
        "    sns.set(font_scale=1.5)\n",
        "    plt.rcParams[\"figure.figsize\"] = (12,6)\n",
        "    fig, ax1 = plt.subplots(1,1)\n",
        "    plt.title('BERT Validation Loss by Learning Rate') \n",
        "    ax1.plot(np.arange(1, len(eval_l_1)+1), eval_l_1, 'b-o', label = '0.01')\n",
        "    ax1.plot(np.arange(1, len(eval_l_1)+1), eval_l_2, 'g-o', label = '0.005')\n",
        "    ax1.plot(np.arange(1, len(eval_l_1)+1), eval_l_3, 'r-o', label = '0.001')\n",
        "    ax1.plot(np.arange(1, len(eval_l_1)+1), eval_l_4, 'c-o', label = '0.0005')\n",
        "    ax1.plot(np.arange(1, len(eval_l_1)+1), eval_l_5, 'y-o', label = '0.0001')\n",
        "    ax1.plot(np.arange(1, len(eval_l_1)+1), eval_l_6, 'm-o', label = '0.00005')\n",
        "    ax1.plot(np.arange(1, len(eval_l_1)+1), eval_l_7, 'k-o', label = '0.00003')\n",
        "    ax1.set_xlabel(\"Epochs\", color='k')\n",
        "    ax1.set_ylabel(\"Loss\", color='k')\n",
        "    ax1.tick_params(axis='y', rotation=0, labelcolor='k' )\n",
        "    plt.legend(prop={'size': 12})\n",
        "    plt.show()"
      ],
      "metadata": {
        "id": "BRfO3MWTyCkx"
      },
      "execution_count": null,
      "outputs": []
    },
    {
      "cell_type": "code",
      "source": [
        "plot_loss(loss_dict['0.01']['val_loss'], loss_dict['0.005']['val_loss'], loss_dict['0.001']['val_loss'], loss_dict['0.0005']['val_loss'], loss_dict['0.0001']['val_loss'], loss_dict['0.00005']['val_loss'], loss_dict['0.00003']['val_loss'])"
      ],
      "metadata": {
        "id": "aDR4pfomyEwk",
        "colab": {
          "base_uri": "https://localhost:8080/",
          "height": 427
        },
        "outputId": "2ce3504e-4313-464e-a688-540c59c4bd82"
      },
      "execution_count": null,
      "outputs": [
        {
          "output_type": "display_data",
          "data": {
            "text/plain": [
              "<Figure size 864x432 with 1 Axes>"
            ],
            "image/png": "[encoded data removed]"
          },
          "metadata": {}
        }
      ]
    },
    {
      "cell_type": "markdown",
      "source": [
        "## Training and Validation Accuracy Graphs"
      ],
      "metadata": {
        "id": "-PCeYDrGySn-"
      }
    },
    {
      "cell_type": "code",
      "source": [
        "def plot_acc(eval_l_1, eval_l_2, eval_l_3, eval_l_4, eval_l_5, eval_l_6, eval_l_7):\n",
        "    sns.set(style='darkgrid')\n",
        "    sns.set(font_scale=1.5)\n",
        "    plt.rcParams[\"figure.figsize\"] = (13,8)\n",
        "    fig, ax1 = plt.subplots(1,1)\n",
        "    plt.title('BERT Validation Accuracy by Learning Rate') \n",
        "    ax1.plot(np.arange(1, len(eval_l_1)+1), eval_l_1, 'b-o', label = '0.01')\n",
        "    ax1.plot(np.arange(1, len(eval_l_1)+1), eval_l_2, 'g-o', label = '0.005')\n",
        "    ax1.plot(np.arange(1, len(eval_l_1)+1), eval_l_3, 'r-o', label = '0.001')\n",
        "    ax1.plot(np.arange(1, len(eval_l_1)+1), eval_l_4, 'c-o', label = '0.0005')\n",
        "    ax1.plot(np.arange(1, len(eval_l_1)+1), eval_l_5, 'y-o', label = '0.0001')\n",
        "    ax1.plot(np.arange(1, len(eval_l_1)+1), eval_l_6, 'm-o', label = '0.00005')\n",
        "    ax1.plot(np.arange(1, len(eval_l_1)+1), eval_l_7, 'k-o', label = '0.00003')\n",
        "    ax1.set_xlabel(\"Epochs\", color='k')\n",
        "    ax1.set_ylabel(\"Accuracy\", color='k')\n",
        "    ax1.tick_params(axis='y', rotation=0, labelcolor='k' )\n",
        "    plt.legend(prop={'size': 10})\n",
        "    plt.show()"
      ],
      "metadata": {
        "id": "GuCKkxSFyKUC"
      },
      "execution_count": null,
      "outputs": []
    },
    {
      "cell_type": "code",
      "source": [
        "plot_acc(acc_dict['0.01']['val_acc'], acc_dict['0.005']['val_acc'], acc_dict['0.001']['val_acc'], acc_dict['0.0005']['val_acc'], acc_dict['0.0001']['val_acc'], acc_dict['0.00005']['val_acc'], acc_dict['0.00003']['val_acc'])"
      ],
      "metadata": {
        "id": "JSYyHO-kyPKl",
        "colab": {
          "base_uri": "https://localhost:8080/",
          "height": 535
        },
        "outputId": "10b0b585-2c10-4036-ccf0-c41f16863393"
      },
      "execution_count": null,
      "outputs": [
        {
          "output_type": "display_data",
          "data": {
            "text/plain": [
              "<Figure size 936x576 with 1 Axes>"
            ],
            "image/png": "[encoded data removed]"
          },
          "metadata": {}
        }
      ]
    },
    {
      "cell_type": "code",
      "source": [
        ""
      ],
      "metadata": {
        "id": "KMijNrd6l7pT"
      },
      "execution_count": null,
      "outputs": []
    }
  ]
}