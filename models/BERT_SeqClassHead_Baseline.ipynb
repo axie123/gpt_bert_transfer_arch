{
  "nbformat": 4,
  "nbformat_minor": 0,
  "metadata": {
    "colab": {
      "name": "BERT SeqClassHead -- Baseline",
      "provenance": [],
      "collapsed_sections": []
    },
    "kernelspec": {
      "name": "python3",
      "display_name": "Python 3"
    },
    "accelerator": "GPU"
  },
  "cells": [
    {
      "cell_type": "markdown",
      "metadata": {
        "id": "OFOTiqrtNvyy"
      },
      "source": [
        "# Install Transformers Library"
      ]
    },
    {
      "cell_type": "code",
      "metadata": {
        "id": "1hkhc10wNrGt",
        "colab": {
          "base_uri": "https://localhost:8080/"
        },
        "outputId": "4be67987-b8d0-4cad-cf02-2ad95c02324b"
      },
      "source": [
        "!pip install transformers"
      ],
      "execution_count": null,
      "outputs": [
        {
          "output_type": "stream",
          "name": "stdout",
          "text": [
            "Requirement already satisfied: transformers in /usr/local/lib/python3.7/dist-packages (4.18.0)\n",
            "Requirement already satisfied: packaging>=20.0 in /usr/local/lib/python3.7/dist-packages (from transformers) (21.3)\n",
            "Requirement already satisfied: requests in /usr/local/lib/python3.7/dist-packages (from transformers) (2.23.0)\n",
            "Requirement already satisfied: sacremoses in /usr/local/lib/python3.7/dist-packages (from transformers) (0.0.49)\n",
            "Requirement already satisfied: regex!=2019.12.17 in /usr/local/lib/python3.7/dist-packages (from transformers) (2019.12.20)\n",
            "Requirement already satisfied: huggingface-hub<1.0,>=0.1.0 in /usr/local/lib/python3.7/dist-packages (from transformers) (0.5.1)\n",
            "Requirement already satisfied: filelock in /usr/local/lib/python3.7/dist-packages (from transformers) (3.6.0)\n",
            "Requirement already satisfied: tqdm>=4.27 in /usr/local/lib/python3.7/dist-packages (from transformers) (4.64.0)\n",
            "Requirement already satisfied: numpy>=1.17 in /usr/local/lib/python3.7/dist-packages (from transformers) (1.21.5)\n",
            "Requirement already satisfied: tokenizers!=0.11.3,<0.13,>=0.11.1 in /usr/local/lib/python3.7/dist-packages (from transformers) (0.12.1)\n",
            "Requirement already satisfied: importlib-metadata in /usr/local/lib/python3.7/dist-packages (from transformers) (4.11.3)\n",
            "Requirement already satisfied: pyyaml>=5.1 in /usr/local/lib/python3.7/dist-packages (from transformers) (6.0)\n",
            "Requirement already satisfied: typing-extensions>=3.7.4.3 in /usr/local/lib/python3.7/dist-packages (from huggingface-hub<1.0,>=0.1.0->transformers) (4.1.1)\n",
            "Requirement already satisfied: pyparsing!=3.0.5,>=2.0.2 in /usr/local/lib/python3.7/dist-packages (from packaging>=20.0->transformers) (3.0.8)\n",
            "Requirement already satisfied: zipp>=0.5 in /usr/local/lib/python3.7/dist-packages (from importlib-metadata->transformers) (3.8.0)\n",
            "Requirement already satisfied: certifi>=2017.4.17 in /usr/local/lib/python3.7/dist-packages (from requests->transformers) (2021.10.8)\n",
            "Requirement already satisfied: urllib3!=1.25.0,!=1.25.1,<1.26,>=1.21.1 in /usr/local/lib/python3.7/dist-packages (from requests->transformers) (1.24.3)\n",
            "Requirement already satisfied: idna<3,>=2.5 in /usr/local/lib/python3.7/dist-packages (from requests->transformers) (2.10)\n",
            "Requirement already satisfied: chardet<4,>=3.0.2 in /usr/local/lib/python3.7/dist-packages (from requests->transformers) (3.0.4)\n",
            "Requirement already satisfied: joblib in /usr/local/lib/python3.7/dist-packages (from sacremoses->transformers) (1.1.0)\n",
            "Requirement already satisfied: six in /usr/local/lib/python3.7/dist-packages (from sacremoses->transformers) (1.15.0)\n",
            "Requirement already satisfied: click in /usr/local/lib/python3.7/dist-packages (from sacremoses->transformers) (7.1.2)\n"
          ]
        }
      ]
    },
    {
      "cell_type": "code",
      "metadata": {
        "id": "x4giRzM7NtHJ"
      },
      "source": [
        "import numpy as np\n",
        "import pandas as pd\n",
        "import torch\n",
        "import torch.nn as nn\n",
        "from sklearn.model_selection import train_test_split\n",
        "from sklearn.metrics import classification_report\n",
        "import transformers\n",
        "from transformers import AutoModel, BertTokenizerFast\n",
        "\n",
        "# specify GPU\n",
        "device = torch.device(\"cuda\")"
      ],
      "execution_count": null,
      "outputs": []
    },
    {
      "cell_type": "markdown",
      "metadata": {
        "id": "kKd-Tj3hOMsZ"
      },
      "source": [
        "# Load Dataset"
      ]
    },
    {
      "cell_type": "code",
      "metadata": {
        "id": "cwJrQFQgN_BE",
        "colab": {
          "base_uri": "https://localhost:8080/",
          "height": 206
        },
        "outputId": "8ae34f0e-0bb4-418e-bc9b-2cbec98f8ed8"
      },
      "source": [
        "df = pd.read_csv(\"./data.csv\")\n",
        "df.head()"
      ],
      "execution_count": null,
      "outputs": [
        {
          "output_type": "execute_result",
          "data": {
            "text/plain": [
              "                                            Sentence Sentiment\n",
              "0  The GeoSolutions technology will leverage Bene...  positive\n",
              "1  $ESI on lows, down $1.50 to $2.50 BK a real po...  negative\n",
              "2  For the last quarter of 2010 , Componenta 's n...  positive\n",
              "3  According to the Finnish-Russian Chamber of Co...   neutral\n",
              "4  The Swedish buyout firm has sold its remaining...   neutral"
            ],
            "text/html": [
              "\n",
              "  <div id=\"df-e6d5566a-a952-4f61-9a3b-c2684bebda2a\">\n",
              "    <div class=\"colab-df-container\">\n",
              "      <div>\n",
              "<style scoped>\n",
              "    .dataframe tbody tr th:only-of-type {\n",
              "        vertical-align: middle;\n",
              "    }\n",
              "\n",
              "    .dataframe tbody tr th {\n",
              "        vertical-align: top;\n",
              "    }\n",
              "\n",
              "    .dataframe thead th {\n",
              "        text-align: right;\n",
              "    }\n",
              "</style>\n",
              "<table border=\"1\" class=\"dataframe\">\n",
              "  <thead>\n",
              "    <tr style=\"text-align: right;\">\n",
              "      <th></th>\n",
              "      <th>Sentence</th>\n",
              "      <th>Sentiment</th>\n",
              "    </tr>\n",
              "  </thead>\n",
              "  <tbody>\n",
              "    <tr>\n",
              "      <th>0</th>\n",
              "      <td>The GeoSolutions technology will leverage Bene...</td>\n",
              "      <td>positive</td>\n",
              "    </tr>\n",
              "    <tr>\n",
              "      <th>1</th>\n",
              "      <td>$ESI on lows, down $1.50 to $2.50 BK a real po...</td>\n",
              "      <td>negative</td>\n",
              "    </tr>\n",
              "    <tr>\n",
              "      <th>2</th>\n",
              "      <td>For the last quarter of 2010 , Componenta 's n...</td>\n",
              "      <td>positive</td>\n",
              "    </tr>\n",
              "    <tr>\n",
              "      <th>3</th>\n",
              "      <td>According to the Finnish-Russian Chamber of Co...</td>\n",
              "      <td>neutral</td>\n",
              "    </tr>\n",
              "    <tr>\n",
              "      <th>4</th>\n",
              "      <td>The Swedish buyout firm has sold its remaining...</td>\n",
              "      <td>neutral</td>\n",
              "    </tr>\n",
              "  </tbody>\n",
              "</table>\n",
              "</div>\n",
              "      <button class=\"colab-df-convert\" onclick=\"convertToInteractive('df-e6d5566a-a952-4f61-9a3b-c2684bebda2a')\"\n",
              "              title=\"Convert this dataframe to an interactive table.\"\n",
              "              style=\"display:none;\">\n",
              "        \n",
              "  <svg xmlns=\"http://www.w3.org/2000/svg\" height=\"24px\"viewBox=\"0 0 24 24\"\n",
              "       width=\"24px\">\n",
              "    <path d=\"M0 0h24v24H0V0z\" fill=\"none\"/>\n",
              "    <path d=\"M18.56 5.44l.94 2.06.94-2.06 2.06-.94-2.06-.94-.94-2.06-.94 2.06-2.06.94zm-11 1L8.5 8.5l.94-2.06 2.06-.94-2.06-.94L8.5 2.5l-.94 2.06-2.06.94zm10 10l.94 2.06.94-2.06 2.06-.94-2.06-.94-.94-2.06-.94 2.06-2.06.94z\"/><path d=\"M17.41 7.96l-1.37-1.37c-.4-.4-.92-.59-1.43-.59-.52 0-1.04.2-1.43.59L10.3 9.45l-7.72 7.72c-.78.78-.78 2.05 0 2.83L4 21.41c.39.39.9.59 1.41.59.51 0 1.02-.2 1.41-.59l7.78-7.78 2.81-2.81c.8-.78.8-2.07 0-2.86zM5.41 20L4 18.59l7.72-7.72 1.47 1.35L5.41 20z\"/>\n",
              "  </svg>\n",
              "      </button>\n",
              "      \n",
              "  <style>\n",
              "    .colab-df-container {\n",
              "      display:flex;\n",
              "      flex-wrap:wrap;\n",
              "      gap: 12px;\n",
              "    }\n",
              "\n",
              "    .colab-df-convert {\n",
              "      background-color: #E8F0FE;\n",
              "      border: none;\n",
              "      border-radius: 50%;\n",
              "      cursor: pointer;\n",
              "      display: none;\n",
              "      fill: #1967D2;\n",
              "      height: 32px;\n",
              "      padding: 0 0 0 0;\n",
              "      width: 32px;\n",
              "    }\n",
              "\n",
              "    .colab-df-convert:hover {\n",
              "      background-color: #E2EBFA;\n",
              "      box-shadow: 0px 1px 2px rgba(60, 64, 67, 0.3), 0px 1px 3px 1px rgba(60, 64, 67, 0.15);\n",
              "      fill: #174EA6;\n",
              "    }\n",
              "\n",
              "    [theme=dark] .colab-df-convert {\n",
              "      background-color: #3B4455;\n",
              "      fill: #D2E3FC;\n",
              "    }\n",
              "\n",
              "    [theme=dark] .colab-df-convert:hover {\n",
              "      background-color: #434B5C;\n",
              "      box-shadow: 0px 1px 3px 1px rgba(0, 0, 0, 0.15);\n",
              "      filter: drop-shadow(0px 1px 2px rgba(0, 0, 0, 0.3));\n",
              "      fill: #FFFFFF;\n",
              "    }\n",
              "  </style>\n",
              "\n",
              "      <script>\n",
              "        const buttonEl =\n",
              "          document.querySelector('#df-e6d5566a-a952-4f61-9a3b-c2684bebda2a button.colab-df-convert');\n",
              "        buttonEl.style.display =\n",
              "          google.colab.kernel.accessAllowed ? 'block' : 'none';\n",
              "\n",
              "        async function convertToInteractive(key) {\n",
              "          const element = document.querySelector('#df-e6d5566a-a952-4f61-9a3b-c2684bebda2a');\n",
              "          const dataTable =\n",
              "            await google.colab.kernel.invokeFunction('convertToInteractive',\n",
              "                                                     [key], {});\n",
              "          if (!dataTable) return;\n",
              "\n",
              "          const docLinkHtml = 'Like what you see? Visit the ' +\n",
              "            '<a target=\"_blank\" href=https://colab.research.google.com/notebooks/data_table.ipynb>data table notebook</a>'\n",
              "            + ' to learn more about interactive tables.';\n",
              "          element.innerHTML = '';\n",
              "          dataTable['output_type'] = 'display_data';\n",
              "          await google.colab.output.renderOutput(dataTable, element);\n",
              "          const docLink = document.createElement('div');\n",
              "          docLink.innerHTML = docLinkHtml;\n",
              "          element.appendChild(docLink);\n",
              "        }\n",
              "      </script>\n",
              "    </div>\n",
              "  </div>\n",
              "  "
            ]
          },
          "metadata": {},
          "execution_count": 3
        }
      ]
    },
    {
      "cell_type": "code",
      "metadata": {
        "id": "fzPPOrVQWiW5",
        "colab": {
          "base_uri": "https://localhost:8080/"
        },
        "outputId": "b1334637-2940-4bfd-b439-1855c995b241"
      },
      "source": [
        "df.shape"
      ],
      "execution_count": null,
      "outputs": [
        {
          "output_type": "execute_result",
          "data": {
            "text/plain": [
              "(5842, 2)"
            ]
          },
          "metadata": {},
          "execution_count": 4
        }
      ]
    },
    {
      "cell_type": "code",
      "metadata": {
        "id": "676DPU1BOPdp",
        "colab": {
          "base_uri": "https://localhost:8080/"
        },
        "outputId": "5ae73d06-813a-434f-f107-9132446d53ec"
      },
      "source": [
        "# check class distribution\n",
        "df['Sentiment'].value_counts(normalize = True)"
      ],
      "execution_count": null,
      "outputs": [
        {
          "output_type": "execute_result",
          "data": {
            "text/plain": [
              "neutral     0.535775\n",
              "positive    0.317015\n",
              "negative    0.147210\n",
              "Name: Sentiment, dtype: float64"
            ]
          },
          "metadata": {},
          "execution_count": 5
        }
      ]
    },
    {
      "cell_type": "markdown",
      "metadata": {
        "id": "MKfWnApvOoE7"
      },
      "source": [
        "# Split train dataset into train, validation and test sets"
      ]
    },
    {
      "cell_type": "code",
      "metadata": {
        "id": "mfhSPF5jOWb7"
      },
      "source": [
        "train_text, temp_text, train_labels, temp_labels = train_test_split(df['Sentence'], df['Sentiment'], \n",
        "                                                                    random_state=2018, \n",
        "                                                                    test_size=0.3, \n",
        "                                                                    stratify=df['Sentiment'])\n",
        "\n",
        "# we will use temp_text and temp_labels to create validation and test set\n",
        "val_text, test_text, val_labels, test_labels = train_test_split(temp_text, temp_labels, \n",
        "                                                                random_state=2018, \n",
        "                                                                test_size=0.5, \n",
        "                                                                stratify=temp_labels)"
      ],
      "execution_count": null,
      "outputs": []
    },
    {
      "cell_type": "markdown",
      "metadata": {
        "id": "n7hsdLoCO7uB"
      },
      "source": [
        "# Import BERT Tokenizer"
      ]
    },
    {
      "cell_type": "code",
      "metadata": {
        "id": "S1kY3gZjO2RE"
      },
      "source": [
        "# Load the BERT tokenizer\n",
        "tokenizer = BertTokenizerFast.from_pretrained('bert-base-uncased', do_lower_case=True)"
      ],
      "execution_count": null,
      "outputs": []
    },
    {
      "cell_type": "code",
      "metadata": {
        "id": "_zOKeOMeO-DT"
      },
      "source": [
        "# sample data\n",
        "text = [\"this is a bert model tutorial\", \"we will fine-tune a bert model\"]\n",
        "\n",
        "# encode text\n",
        "sent_id = tokenizer.batch_encode_plus(text, padding=True, return_token_type_ids=False)"
      ],
      "execution_count": null,
      "outputs": []
    },
    {
      "cell_type": "code",
      "metadata": {
        "id": "oAH73n39PHLw",
        "colab": {
          "base_uri": "https://localhost:8080/"
        },
        "outputId": "59165922-2ae2-4167-de50-ec9fb9e76fa8"
      },
      "source": [
        "# output\n",
        "print(sent_id)"
      ],
      "execution_count": null,
      "outputs": [
        {
          "output_type": "stream",
          "name": "stdout",
          "text": [
            "{'input_ids': [[101, 2023, 2003, 1037, 14324, 2944, 14924, 4818, 102, 0], [101, 2057, 2097, 2986, 1011, 8694, 1037, 14324, 2944, 102]], 'attention_mask': [[1, 1, 1, 1, 1, 1, 1, 1, 1, 0], [1, 1, 1, 1, 1, 1, 1, 1, 1, 1]]}\n"
          ]
        }
      ]
    },
    {
      "cell_type": "code",
      "source": [
        "print(f'Padding token: \"{tokenizer.pad_token}\", ID: {tokenizer.pad_token_id}')"
      ],
      "metadata": {
        "colab": {
          "base_uri": "https://localhost:8080/"
        },
        "id": "ffsM1y8Y74qd",
        "outputId": "c110c98f-6a5c-46b6-b262-3f41b9f98f79"
      },
      "execution_count": null,
      "outputs": [
        {
          "output_type": "stream",
          "name": "stdout",
          "text": [
            "Padding token: \"[PAD]\", ID: 0\n"
          ]
        }
      ]
    },
    {
      "cell_type": "markdown",
      "metadata": {
        "id": "8wIYaWI_Prg8"
      },
      "source": [
        "# Tokenization"
      ]
    },
    {
      "cell_type": "code",
      "metadata": {
        "id": "yKwbpeN_PMiu",
        "colab": {
          "base_uri": "https://localhost:8080/",
          "height": 283
        },
        "outputId": "13605307-087a-44f2-c348-3f6326b187d1"
      },
      "source": [
        "# get length of all the messages in the train set\n",
        "seq_len = [len(i.split()) for i in train_text]\n",
        "\n",
        "pd.Series(seq_len).hist(bins = 30)"
      ],
      "execution_count": null,
      "outputs": [
        {
          "output_type": "execute_result",
          "data": {
            "text/plain": [
              "<matplotlib.axes._subplots.AxesSubplot at 0x7f82c002fe10>"
            ]
          },
          "metadata": {},
          "execution_count": 11
        },
        {
          "output_type": "display_data",
          "data": {
            "text/plain": [
              "<Figure size 432x288 with 1 Axes>"
            ],
            "image/png": "[encoded data removed]"
          },
          "metadata": {
            "needs_background": "light"
          }
        }
      ]
    },
    {
      "cell_type": "code",
      "metadata": {
        "id": "OXcswEIRPvGe"
      },
      "source": [
        "max_seq_len = 50"
      ],
      "execution_count": null,
      "outputs": []
    },
    {
      "cell_type": "code",
      "metadata": {
        "id": "tk5S7DWaP2t6",
        "colab": {
          "base_uri": "https://localhost:8080/"
        },
        "outputId": "a91dcd3f-f532-49c5-fc26-c5ede8bc7189"
      },
      "source": [
        "\n",
        "# tokenize and encode sequences in the training set\n",
        "tokens_train = tokenizer.batch_encode_plus(\n",
        "    train_text.tolist(),\n",
        "    max_length = max_seq_len,\n",
        "    pad_to_max_length=True,\n",
        "    truncation=True,\n",
        "    return_token_type_ids=False\n",
        ")\n",
        "\n",
        "# tokenize and encode sequences in the validation set\n",
        "tokens_val = tokenizer.batch_encode_plus(\n",
        "    val_text.tolist(),\n",
        "    max_length = max_seq_len,\n",
        "    pad_to_max_length=True,\n",
        "    truncation=True,\n",
        "    return_token_type_ids=False\n",
        ")\n",
        "\n",
        "# tokenize and encode sequences in the test set\n",
        "tokens_test = tokenizer.batch_encode_plus(\n",
        "    test_text.tolist(),\n",
        "    max_length = max_seq_len,\n",
        "    pad_to_max_length=True,\n",
        "    truncation=True,\n",
        "    return_token_type_ids=False\n",
        ")"
      ],
      "execution_count": null,
      "outputs": [
        {
          "output_type": "stream",
          "name": "stderr",
          "text": [
            "/usr/local/lib/python3.7/dist-packages/transformers/tokenization_utils_base.py:2269: FutureWarning: The `pad_to_max_length` argument is deprecated and will be removed in a future version, use `padding=True` or `padding='longest'` to pad to the longest sequence in the batch, or use `padding='max_length'` to pad to a max length. In this case, you can give a specific length with `max_length` (e.g. `max_length=45`) or leave max_length to None to pad to the maximal input size of the model (e.g. 512 for Bert).\n",
            "  FutureWarning,\n"
          ]
        }
      ]
    },
    {
      "cell_type": "code",
      "source": [
        "input_ids = tokens_train['input_ids']\n",
        "attention_masks = tokens_train['attention_mask']\n",
        "\n",
        "print('Original: ', tokens_train['input_ids'][0])\n",
        "print('* Token IDs:', tokens_train['attention_mask'][0])\n",
        "print('* Tokenized:', tokenizer.decode(tokens_train['input_ids'][0]))\n",
        "print('* Attention_mask', tokens_train['attention_mask'][0])"
      ],
      "metadata": {
        "colab": {
          "base_uri": "https://localhost:8080/"
        },
        "id": "E4VxgiDO7-sg",
        "outputId": "e878b674-4ad0-49e4-8e92-92ff3618d3e3"
      },
      "execution_count": null,
      "outputs": [
        {
          "output_type": "stream",
          "name": "stdout",
          "text": [
            "Original:  [101, 10380, 4630, 3415, 9455, 3003, 2004, 5766, 3464, 24735, 102, 0, 0, 0, 0, 0, 0, 0, 0, 0, 0, 0, 0, 0, 0, 0, 0, 0, 0, 0, 0, 0, 0, 0, 0, 0, 0, 0, 0, 0, 0, 0, 0, 0, 0, 0, 0, 0, 0, 0]\n",
            "* Token IDs: [1, 1, 1, 1, 1, 1, 1, 1, 1, 1, 1, 0, 0, 0, 0, 0, 0, 0, 0, 0, 0, 0, 0, 0, 0, 0, 0, 0, 0, 0, 0, 0, 0, 0, 0, 0, 0, 0, 0, 0, 0, 0, 0, 0, 0, 0, 0, 0, 0, 0]\n",
            "* Tokenized: [CLS] valeant names interim leader as ceo remains hospitalized [SEP] [PAD] [PAD] [PAD] [PAD] [PAD] [PAD] [PAD] [PAD] [PAD] [PAD] [PAD] [PAD] [PAD] [PAD] [PAD] [PAD] [PAD] [PAD] [PAD] [PAD] [PAD] [PAD] [PAD] [PAD] [PAD] [PAD] [PAD] [PAD] [PAD] [PAD] [PAD] [PAD] [PAD] [PAD] [PAD] [PAD] [PAD] [PAD] [PAD]\n",
            "* Attention_mask [1, 1, 1, 1, 1, 1, 1, 1, 1, 1, 1, 0, 0, 0, 0, 0, 0, 0, 0, 0, 0, 0, 0, 0, 0, 0, 0, 0, 0, 0, 0, 0, 0, 0, 0, 0, 0, 0, 0, 0, 0, 0, 0, 0, 0, 0, 0, 0, 0, 0]\n"
          ]
        }
      ]
    },
    {
      "cell_type": "markdown",
      "metadata": {
        "id": "Wsm8bkRZQTw9"
      },
      "source": [
        "# Convert Integer Sequences to Tensors"
      ]
    },
    {
      "cell_type": "code",
      "source": [
        "train_labels[train_labels == 'neutral'] = 0\n",
        "train_labels[train_labels == 'positive'] = 1\n",
        "train_labels[train_labels == 'negative'] = 2\n",
        "\n",
        "val_labels[val_labels == 'neutral'] = 0\n",
        "val_labels[val_labels == 'positive'] = 1\n",
        "val_labels[val_labels == 'negative'] = 2\n",
        "\n",
        "test_labels[test_labels == 'neutral'] = 0\n",
        "test_labels[test_labels == 'positive'] = 1\n",
        "test_labels[test_labels == 'negative'] = 2"
      ],
      "metadata": {
        "id": "U9kj1XzWP-zp"
      },
      "execution_count": null,
      "outputs": []
    },
    {
      "cell_type": "code",
      "metadata": {
        "id": "QR-lXwmzQPd6"
      },
      "source": [
        "# for train set\n",
        "train_seq = torch.tensor(tokens_train['input_ids'])\n",
        "train_mask = torch.tensor(tokens_train['attention_mask'])\n",
        "train_y = torch.tensor(train_labels.tolist())\n",
        "\n",
        "# for validation set\n",
        "val_seq = torch.tensor(tokens_val['input_ids'])\n",
        "val_mask = torch.tensor(tokens_val['attention_mask'])\n",
        "val_y = torch.tensor(val_labels.tolist())\n",
        "\n",
        "# for test set\n",
        "test_seq = torch.tensor(tokens_test['input_ids'])\n",
        "test_mask = torch.tensor(tokens_test['attention_mask'])\n",
        "test_y = torch.tensor(test_labels.tolist())"
      ],
      "execution_count": null,
      "outputs": []
    },
    {
      "cell_type": "code",
      "source": [
        "len(tokens_train['input_ids'][10])"
      ],
      "metadata": {
        "colab": {
          "base_uri": "https://localhost:8080/"
        },
        "id": "PdsfzCUyTV8S",
        "outputId": "9714be33-c80a-4a2c-fed7-c2320ee36cc6"
      },
      "execution_count": null,
      "outputs": [
        {
          "output_type": "execute_result",
          "data": {
            "text/plain": [
              "50"
            ]
          },
          "metadata": {},
          "execution_count": 17
        }
      ]
    },
    {
      "cell_type": "markdown",
      "metadata": {
        "id": "Ov1cOBlcRLuk"
      },
      "source": [
        "# Create DataLoaders"
      ]
    },
    {
      "cell_type": "code",
      "metadata": {
        "id": "qUy9JKFYQYLp"
      },
      "source": [
        "from torch.utils.data import TensorDataset, DataLoader, RandomSampler, SequentialSampler\n",
        "\n",
        "# define a batch size\n",
        "batch_size = 64\n",
        "\n",
        "# wrap tensors\n",
        "train_data = TensorDataset(train_seq, train_mask, train_y)\n",
        "\n",
        "# sampler for sampling the data during training\n",
        "train_sampler = RandomSampler(train_data)\n",
        "\n",
        "# dataLoader for train set\n",
        "train_dataloader = DataLoader(train_data, sampler=train_sampler, batch_size=batch_size)\n",
        "\n",
        "# wrap tensors\n",
        "val_data = TensorDataset(val_seq, val_mask, val_y)\n",
        "\n",
        "# sampler for sampling the data during training\n",
        "val_sampler = SequentialSampler(val_data)\n",
        "\n",
        "# dataLoader for validation set\n",
        "val_dataloader = DataLoader(val_data, sampler = val_sampler, batch_size=batch_size)"
      ],
      "execution_count": null,
      "outputs": []
    },
    {
      "cell_type": "markdown",
      "metadata": {
        "id": "j9CDpoMQR_rK"
      },
      "source": [
        "# Find Class Weights and Set Loss "
      ]
    },
    {
      "cell_type": "code",
      "metadata": {
        "id": "izY5xH5eR7Ur",
        "colab": {
          "base_uri": "https://localhost:8080/"
        },
        "outputId": "1870e2f2-3410-4235-ce9b-bd3e4febc346"
      },
      "source": [
        "from sklearn.utils.class_weight import compute_class_weight\n",
        "\n",
        "#compute the class weights\n",
        "class_wts = compute_class_weight(class_weight = 'balanced', classes = np.unique(train_labels), y = train_labels)\n",
        "\n",
        "print(class_wts)"
      ],
      "execution_count": null,
      "outputs": [
        {
          "output_type": "stream",
          "name": "stdout",
          "text": [
            "[0.62209037 1.05169753 2.2641196 ]\n"
          ]
        }
      ]
    },
    {
      "cell_type": "code",
      "metadata": {
        "id": "r1WvfY2vSGKi"
      },
      "source": [
        "# convert class weights to tensor\n",
        "weights= torch.tensor(class_wts,dtype=torch.float)\n",
        "weights = weights.to(device)\n",
        "\n",
        "# number of training epochs\n",
        "epochs = 10"
      ],
      "execution_count": null,
      "outputs": []
    },
    {
      "cell_type": "markdown",
      "metadata": {
        "id": "s7ahGBUWRi3X"
      },
      "source": [
        "# Define Model Architecture\n",
        "\n",
        "BERT Documentation: https://huggingface.co/docs/transformers/model_doc/bert\n",
        "\n",
        "We are going to be using the `from_pretrained` module for this task. `BERTConfig` module is used to set the number of labels in the built-in classification head to be 3.\n",
        "\n",
        "We can find the model documentation here: https://huggingface.co/docs/transformers/model_doc/bert#transformers.BertForSequenceClassification\n",
        "\n",
        "If you want to use the `from_pretrained` module: https://huggingface.co/docs/transformers/v4.18.0/en/main_classes/model#transformers.PreTrainedModel.from_pretrained"
      ]
    },
    {
      "cell_type": "code",
      "source": [
        "from transformers import BertForSequenceClassification, BertConfig\n",
        "\n",
        "# Initializing a BERT configuration\n",
        "configuration = BertConfig(num_labels=3)\n",
        "\n",
        "# Initializing a model from the configuration\n",
        "bert_model = BertForSequenceClassification.from_pretrained(\"bert-base-uncased\", config=configuration)\n",
        "bert_model.config.num_labels = 3"
      ],
      "metadata": {
        "id": "AL6qbGviJh96",
        "colab": {
          "base_uri": "https://localhost:8080/"
        },
        "outputId": "0000cb1c-5b57-4fb9-c323-d4d2016ff301"
      },
      "execution_count": null,
      "outputs": [
        {
          "output_type": "stream",
          "name": "stderr",
          "text": [
            "Some weights of the model checkpoint at bert-base-uncased were not used when initializing BertForSequenceClassification: ['cls.predictions.transform.LayerNorm.bias', 'cls.predictions.transform.LayerNorm.weight', 'cls.predictions.transform.dense.weight', 'cls.seq_relationship.bias', 'cls.predictions.transform.dense.bias', 'cls.predictions.decoder.weight', 'cls.seq_relationship.weight', 'cls.predictions.bias']\n",
            "- This IS expected if you are initializing BertForSequenceClassification from the checkpoint of a model trained on another task or with another architecture (e.g. initializing a BertForSequenceClassification model from a BertForPreTraining model).\n",
            "- This IS NOT expected if you are initializing BertForSequenceClassification from the checkpoint of a model that you expect to be exactly identical (initializing a BertForSequenceClassification model from a BertForSequenceClassification model).\n",
            "Some weights of BertForSequenceClassification were not initialized from the model checkpoint at bert-base-uncased and are newly initialized: ['classifier.weight', 'classifier.bias']\n",
            "You should probably TRAIN this model on a down-stream task to be able to use it for predictions and inference.\n"
          ]
        }
      ]
    },
    {
      "cell_type": "code",
      "metadata": {
        "id": "b3iEtGyYRd0A"
      },
      "source": [
        "class BertForSentimentClassification(nn.Module):\n",
        "    def __init__(self, bert_model):\n",
        "        super().__init__()\n",
        "        \n",
        "        self.bert = bert_model\n",
        "\n",
        "    def forward(self, input_ids=None, attention_mask=None):\n",
        "        outputs = self.bert(input_ids, attention_mask=attention_mask)\n",
        "\n",
        "        logits = outputs.logits\n",
        "        \n",
        "        return logits"
      ],
      "execution_count": null,
      "outputs": []
    },
    {
      "cell_type": "code",
      "metadata": {
        "id": "cBAJJVuJRliv"
      },
      "source": [
        "# pass the pre-trained BERT to our define architecture\n",
        "model = BertForSentimentClassification(bert_model)\n",
        "\n",
        "# push the model to GPU\n",
        "model = model.to(device)"
      ],
      "execution_count": null,
      "outputs": []
    },
    {
      "cell_type": "code",
      "source": [
        "# Model parameters visualization\n",
        "params = list(model.named_parameters())\n",
        "\n",
        "print('BERT has {:} different named parameters.\\n'.format(len(params)))\n",
        "\n",
        "print('==== Embedding Layer ====\\n')\n",
        "\n",
        "for p in params[0:5]:\n",
        "    print(\"{:<55} {:>12}\".format(p[0], str(tuple(p[1].size()))))\n",
        "\n",
        "print('\\n==== 1st Transformer Layer ====\\n')\n",
        "\n",
        "for p in params[5:21]:\n",
        "    print(\"{:<55} {:>12}\".format(p[0], str(tuple(p[1].size()))))\n",
        "\n",
        "print('\\n==== 2nd Transformer Layer ====\\n')\n",
        "\n",
        "for p in params[21:37]:\n",
        "    print(\"{:<55} {:>12}\".format(p[0], str(tuple(p[1].size()))))\n",
        "\n",
        "print('\\n==== 3rd Transformer Layer ====\\n')\n",
        "\n",
        "for p in params[37:53]:\n",
        "    print(\"{:<55} {:>12}\".format(p[0], str(tuple(p[1].size()))))\n",
        "\n",
        "print('\\n==== Output Layer ====\\n')\n",
        "\n",
        "for p in params[-3:]:\n",
        "    print(\"{:<55} {:>12}\".format(p[0], str(tuple(p[1].size()))))"
      ],
      "metadata": {
        "id": "qUo2YU0vfsbl",
        "colab": {
          "base_uri": "https://localhost:8080/"
        },
        "outputId": "db39dce0-7b23-4b2f-e3d2-9ddf58b1387c"
      },
      "execution_count": null,
      "outputs": [
        {
          "output_type": "stream",
          "name": "stdout",
          "text": [
            "BERT has 201 different named parameters.\n",
            "\n",
            "==== Embedding Layer ====\n",
            "\n",
            "bert.bert.embeddings.word_embeddings.weight             (30522, 768)\n",
            "bert.bert.embeddings.position_embeddings.weight           (512, 768)\n",
            "bert.bert.embeddings.token_type_embeddings.weight           (2, 768)\n",
            "bert.bert.embeddings.LayerNorm.weight                         (768,)\n",
            "bert.bert.embeddings.LayerNorm.bias                           (768,)\n",
            "\n",
            "==== 1st Transformer Layer ====\n",
            "\n",
            "bert.bert.encoder.layer.0.attention.self.query.weight     (768, 768)\n",
            "bert.bert.encoder.layer.0.attention.self.query.bias           (768,)\n",
            "bert.bert.encoder.layer.0.attention.self.key.weight       (768, 768)\n",
            "bert.bert.encoder.layer.0.attention.self.key.bias             (768,)\n",
            "bert.bert.encoder.layer.0.attention.self.value.weight     (768, 768)\n",
            "bert.bert.encoder.layer.0.attention.self.value.bias           (768,)\n",
            "bert.bert.encoder.layer.0.attention.output.dense.weight   (768, 768)\n",
            "bert.bert.encoder.layer.0.attention.output.dense.bias         (768,)\n",
            "bert.bert.encoder.layer.0.attention.output.LayerNorm.weight       (768,)\n",
            "bert.bert.encoder.layer.0.attention.output.LayerNorm.bias       (768,)\n",
            "bert.bert.encoder.layer.0.intermediate.dense.weight      (3072, 768)\n",
            "bert.bert.encoder.layer.0.intermediate.dense.bias            (3072,)\n",
            "bert.bert.encoder.layer.0.output.dense.weight            (768, 3072)\n",
            "bert.bert.encoder.layer.0.output.dense.bias                   (768,)\n",
            "bert.bert.encoder.layer.0.output.LayerNorm.weight             (768,)\n",
            "bert.bert.encoder.layer.0.output.LayerNorm.bias               (768,)\n",
            "\n",
            "==== 2nd Transformer Layer ====\n",
            "\n",
            "bert.bert.encoder.layer.1.attention.self.query.weight     (768, 768)\n",
            "bert.bert.encoder.layer.1.attention.self.query.bias           (768,)\n",
            "bert.bert.encoder.layer.1.attention.self.key.weight       (768, 768)\n",
            "bert.bert.encoder.layer.1.attention.self.key.bias             (768,)\n",
            "bert.bert.encoder.layer.1.attention.self.value.weight     (768, 768)\n",
            "bert.bert.encoder.layer.1.attention.self.value.bias           (768,)\n",
            "bert.bert.encoder.layer.1.attention.output.dense.weight   (768, 768)\n",
            "bert.bert.encoder.layer.1.attention.output.dense.bias         (768,)\n",
            "bert.bert.encoder.layer.1.attention.output.LayerNorm.weight       (768,)\n",
            "bert.bert.encoder.layer.1.attention.output.LayerNorm.bias       (768,)\n",
            "bert.bert.encoder.layer.1.intermediate.dense.weight      (3072, 768)\n",
            "bert.bert.encoder.layer.1.intermediate.dense.bias            (3072,)\n",
            "bert.bert.encoder.layer.1.output.dense.weight            (768, 3072)\n",
            "bert.bert.encoder.layer.1.output.dense.bias                   (768,)\n",
            "bert.bert.encoder.layer.1.output.LayerNorm.weight             (768,)\n",
            "bert.bert.encoder.layer.1.output.LayerNorm.bias               (768,)\n",
            "\n",
            "==== 3rd Transformer Layer ====\n",
            "\n",
            "bert.bert.encoder.layer.2.attention.self.query.weight     (768, 768)\n",
            "bert.bert.encoder.layer.2.attention.self.query.bias           (768,)\n",
            "bert.bert.encoder.layer.2.attention.self.key.weight       (768, 768)\n",
            "bert.bert.encoder.layer.2.attention.self.key.bias             (768,)\n",
            "bert.bert.encoder.layer.2.attention.self.value.weight     (768, 768)\n",
            "bert.bert.encoder.layer.2.attention.self.value.bias           (768,)\n",
            "bert.bert.encoder.layer.2.attention.output.dense.weight   (768, 768)\n",
            "bert.bert.encoder.layer.2.attention.output.dense.bias         (768,)\n",
            "bert.bert.encoder.layer.2.attention.output.LayerNorm.weight       (768,)\n",
            "bert.bert.encoder.layer.2.attention.output.LayerNorm.bias       (768,)\n",
            "bert.bert.encoder.layer.2.intermediate.dense.weight      (3072, 768)\n",
            "bert.bert.encoder.layer.2.intermediate.dense.bias            (3072,)\n",
            "bert.bert.encoder.layer.2.output.dense.weight            (768, 3072)\n",
            "bert.bert.encoder.layer.2.output.dense.bias                   (768,)\n",
            "bert.bert.encoder.layer.2.output.LayerNorm.weight             (768,)\n",
            "bert.bert.encoder.layer.2.output.LayerNorm.bias               (768,)\n",
            "\n",
            "==== Output Layer ====\n",
            "\n",
            "bert.bert.pooler.dense.bias                                   (768,)\n",
            "bert.classifier.weight                                      (3, 768)\n",
            "bert.classifier.bias                                            (3,)\n"
          ]
        }
      ]
    },
    {
      "cell_type": "markdown",
      "metadata": {
        "id": "My4CA0qaShLq"
      },
      "source": [
        "# Fine-Tune BERT"
      ]
    },
    {
      "cell_type": "code",
      "source": [
        "import time\n",
        "import datetime\n",
        "from transformers import get_linear_schedule_with_warmup\n",
        "from tqdm import tqdm\n",
        "\n",
        "# optimizer from hugging face transformers\n",
        "from transformers import AdamW"
      ],
      "metadata": {
        "id": "2sFiIeoFZbq6"
      },
      "execution_count": null,
      "outputs": []
    },
    {
      "cell_type": "code",
      "source": [
        "loss_func = torch.nn.CrossEntropyLoss(weight=weights)"
      ],
      "metadata": {
        "id": "86tWm8JRLoSX"
      },
      "execution_count": null,
      "outputs": []
    },
    {
      "cell_type": "code",
      "source": [
        "def flat_accuracy(preds, labels):\n",
        "    pred_flat = np.argmax(preds, axis=1).flatten()\n",
        "    labels_flat = labels.flatten()\n",
        "    return np.sum(pred_flat == labels_flat) / len(labels_flat)"
      ],
      "metadata": {
        "id": "w4i6qDR_ZcbG"
      },
      "execution_count": null,
      "outputs": []
    },
    {
      "cell_type": "code",
      "source": [
        "def format_time(elapsed):\n",
        "    elapsed_rounded = int(round((elapsed)))\n",
        "    return str(datetime.timedelta(seconds=elapsed_rounded))"
      ],
      "metadata": {
        "id": "BJQZu53TZfF7"
      },
      "execution_count": null,
      "outputs": []
    },
    {
      "cell_type": "code",
      "source": [
        "def get_optimizer_and_scheduler(model, total_steps, lr=2e-5, weight_decay=0.01):\n",
        "    # Apply weight decay to all parameters beside the biases or LayerNorm weights\n",
        "    no_decay = ['bias', 'LayerNorm.weight']\n",
        "    optimizer_grouped_parameters = [\n",
        "        {\n",
        "            'params': [p for n, p in model.named_parameters() if not any(nd in n for nd in no_decay)],\n",
        "            'weight_decay': weight_decay},\n",
        "        {\n",
        "            'params': [p for n, p in model.named_parameters() if any(nd in n for nd in no_decay)],\n",
        "            'weight_decay': 0.0\n",
        "        }\n",
        "    ]\n",
        "    optimizer = AdamW(model.parameters(), lr=lr)\n",
        "    scheduler = get_linear_schedule_with_warmup(\n",
        "        optimizer,\n",
        "        # Warmup learning rate for first 10% of training steps\n",
        "        num_warmup_steps=int(0.10 * total_steps), \n",
        "        num_training_steps=total_steps,\n",
        "    )\n",
        "    return optimizer, scheduler"
      ],
      "metadata": {
        "id": "eEVtjFJCA3zp"
      },
      "execution_count": null,
      "outputs": []
    },
    {
      "cell_type": "code",
      "source": [
        "def train_model(model, loss_func, epochs, train_dataloader, validation_dataloader):\n",
        "    # Use GPU, if available\n",
        "    device = torch.device(\"cuda\" if torch.cuda.is_available() else \"cpu\")\n",
        "    model = model.to(device)\n",
        "\n",
        "    # Set learning rate and weight decay:\n",
        "    lr = 0.001\n",
        "    weight_decay = 0.01\n",
        "\n",
        "    # Setup optimizer and LR scheduler \n",
        "    total_steps = len(train_dataloader) * epochs\n",
        "    optimizer, scheduler = get_optimizer_and_scheduler(\n",
        "        model, total_steps, lr=lr, weight_decay=weight_decay\n",
        "    )\n",
        "\n",
        "    loss_values = []\n",
        "    train_acc_values = []\n",
        "\n",
        "    eval_loss_vals = []\n",
        "    eval_accs = []\n",
        "\n",
        "    for epoch in range(0, epochs):\n",
        "        t0 = time.time()\n",
        "\n",
        "        total_loss = 0\n",
        "        total_train_accuracy = 0\n",
        "\n",
        "        model.train()\n",
        "\n",
        "        with tqdm(train_dataloader, unit=\"batch\") as train_pbar:\n",
        "            for batch in train_pbar:\n",
        "                train_pbar.set_description(f\"Training (epoch {epoch + 1})\")\n",
        "                b_input_ids = batch[0].to(device)\n",
        "                b_input_mask = batch[1].to(device)\n",
        "                b_labels = batch[2].to(device)\n",
        "\n",
        "                model.zero_grad()        \n",
        "\n",
        "                # Perform a forward pass (evaluate the model on this training batch).\n",
        "                # This will return the loss because we have provided the `labels`.\n",
        "                outputs = model(\n",
        "                    input_ids=b_input_ids, \n",
        "                    attention_mask=b_input_mask, \n",
        "                )\n",
        "\n",
        "                # Move the training logits and training labels to CPU\n",
        "                train_logits = outputs.detach().cpu().numpy()\n",
        "                label_ids_train = b_labels.to('cpu').numpy()\n",
        "\n",
        "                # Calculate the accuracy for this batch of training sentences.\n",
        "                tmp_train_accuracy = flat_accuracy(train_logits, label_ids_train)\n",
        "\n",
        "                # Accumulate total training accuracy.\n",
        "                total_train_accuracy += tmp_train_accuracy\n",
        "\n",
        "                loss = loss_func(outputs, b_labels)\n",
        "\n",
        "                total_loss += loss.item()\n",
        "\n",
        "                # Perform a backward pass to calculate the gradients.\n",
        "                loss.backward()\n",
        "\n",
        "                # Clip the norm of the gradients to 1.0.\n",
        "                # This is to help prevent the \"exploding gradients\" problem.\n",
        "                torch.nn.utils.clip_grad_norm_(model.parameters(), 1.0)\n",
        "\n",
        "                optimizer.step()\n",
        "\n",
        "                # Update the learning rate.\n",
        "                scheduler.step()\n",
        "\n",
        "        # Calculate the average loss and accuracy over the training data.\n",
        "        avg_train_loss = total_loss / len(train_dataloader)    \n",
        "        avg_train_accuracy = total_train_accuracy / len(train_dataloader)            \n",
        "        \n",
        "        # Store the loss and accuracy values for plotting the learning curve.\n",
        "        loss_values.append(avg_train_loss)\n",
        "        train_acc_values.append(avg_train_accuracy)\n",
        "\n",
        "        print(\"  * Average training loss: {0:.2f}\".format(avg_train_loss))\n",
        "        print(\"  * Average training accuracy: {0:.2f}\".format(avg_train_accuracy))\n",
        "        print(\"  * Training epoch took: {:}\".format(format_time(time.time() - t0)))\n",
        "            \n",
        "        print(\"Running Validation...\")\n",
        "\n",
        "        t0 = time.time()\n",
        "        model.eval()\n",
        "\n",
        "        eval_loss, eval_accuracy = 0, 0\n",
        "        nb_eval_steps, nb_eval_examples = 0, 0\n",
        "\n",
        "        # Evaluate data for one epoch\n",
        "        for batch in validation_dataloader:\n",
        "            batch = tuple(t.to(device) for t in batch)\n",
        "            b_input_ids, b_input_mask, b_labels = batch\n",
        "            \n",
        "            with torch.no_grad():        \n",
        "                # Forward pass, calculate logit predictions.\n",
        "                # This will return the logits rather than the loss because we have\n",
        "                # not provided labels.\n",
        "                logits = model(\n",
        "                    input_ids=b_input_ids, \n",
        "                    attention_mask=b_input_mask\n",
        "                )\n",
        "            \n",
        "            v_loss = loss_func(logits, b_labels)\n",
        "            eval_loss += v_loss.item()\n",
        "            \n",
        "            # Move logits and labels to CPU\n",
        "            logits = logits.detach().cpu().numpy()\n",
        "            label_ids = b_labels.to('cpu').numpy()\n",
        "            \n",
        "            tmp_eval_accuracy = flat_accuracy(logits, label_ids)\n",
        "            \n",
        "            eval_accuracy += tmp_eval_accuracy\n",
        "            \n",
        "            nb_eval_steps += 1\n",
        "\n",
        "        avg_eval_loss = eval_loss/nb_eval_steps\n",
        "        avg_eval_acc = eval_accuracy/nb_eval_steps\n",
        "\n",
        "        print(\"  * Loss: {0:.2f}\".format(avg_eval_loss))\n",
        "        print(\"  * Accuracy: {0:.2f}\".format(avg_eval_acc))\n",
        "        print(\"  * Validation took: {:}\".format(format_time(time.time() - t0)))\n",
        "        \n",
        "        eval_loss_vals.append(avg_eval_loss)\n",
        "        eval_accs.append(avg_eval_acc)\n",
        "    print(\"Training complete!\")\n",
        "    return loss_values, train_acc_values, eval_loss_vals, eval_accs"
      ],
      "metadata": {
        "id": "f7RBD5LJBBuF"
      },
      "execution_count": null,
      "outputs": []
    },
    {
      "cell_type": "code",
      "source": [
        "bert_train_loss_vals, bert_train_accs, bert_eval_loss_vals, bert_eval_accs = train_model(\n",
        "    model=model,\n",
        "    loss_func=loss_func,\n",
        "    epochs=40, \n",
        "    train_dataloader=train_dataloader,\n",
        "    validation_dataloader=val_dataloader\n",
        ")"
      ],
      "metadata": {
        "id": "B9-MoSiuadkY",
        "colab": {
          "base_uri": "https://localhost:8080/"
        },
        "outputId": "5620d1ad-e3da-4d57-c88d-51c9fa6f1562"
      },
      "execution_count": null,
      "outputs": [
        {
          "output_type": "stream",
          "name": "stderr",
          "text": [
            "/usr/local/lib/python3.7/dist-packages/transformers/optimization.py:309: FutureWarning: This implementation of AdamW is deprecated and will be removed in a future version. Use the PyTorch implementation torch.optim.AdamW instead, or set `no_deprecation_warning=True` to disable this warning\n",
            "  FutureWarning,\n",
            "Training (epoch 1): 100%|██████████| 64/64 [00:32<00:00,  1.99batch/s]\n"
          ]
        },
        {
          "output_type": "stream",
          "name": "stdout",
          "text": [
            "  * Average training loss: 0.85\n",
            "  * Average training accuracy: 0.59\n",
            "  * Training epoch took: 0:00:32\n",
            "Running Validation...\n",
            "  * Loss: 0.66\n",
            "  * Accuracy: 0.69\n",
            "  * Validation took: 0:00:02\n"
          ]
        },
        {
          "output_type": "stream",
          "name": "stderr",
          "text": [
            "Training (epoch 2): 100%|██████████| 64/64 [00:32<00:00,  1.96batch/s]\n"
          ]
        },
        {
          "output_type": "stream",
          "name": "stdout",
          "text": [
            "  * Average training loss: 0.63\n",
            "  * Average training accuracy: 0.74\n",
            "  * Training epoch took: 0:00:33\n",
            "Running Validation...\n",
            "  * Loss: 0.81\n",
            "  * Accuracy: 0.62\n",
            "  * Validation took: 0:00:02\n"
          ]
        },
        {
          "output_type": "stream",
          "name": "stderr",
          "text": [
            "Training (epoch 3): 100%|██████████| 64/64 [00:33<00:00,  1.92batch/s]\n"
          ]
        },
        {
          "output_type": "stream",
          "name": "stdout",
          "text": [
            "  * Average training loss: 0.73\n",
            "  * Average training accuracy: 0.71\n",
            "  * Training epoch took: 0:00:33\n",
            "Running Validation...\n",
            "  * Loss: 0.93\n",
            "  * Accuracy: 0.60\n",
            "  * Validation took: 0:00:03\n"
          ]
        },
        {
          "output_type": "stream",
          "name": "stderr",
          "text": [
            "Training (epoch 4): 100%|██████████| 64/64 [00:33<00:00,  1.90batch/s]\n"
          ]
        },
        {
          "output_type": "stream",
          "name": "stdout",
          "text": [
            "  * Average training loss: 1.05\n",
            "  * Average training accuracy: 0.51\n",
            "  * Training epoch took: 0:00:34\n",
            "Running Validation...\n",
            "  * Loss: 1.07\n",
            "  * Accuracy: 0.59\n",
            "  * Validation took: 0:00:02\n"
          ]
        },
        {
          "output_type": "stream",
          "name": "stderr",
          "text": [
            "Training (epoch 5): 100%|██████████| 64/64 [00:33<00:00,  1.90batch/s]\n"
          ]
        },
        {
          "output_type": "stream",
          "name": "stdout",
          "text": [
            "  * Average training loss: 1.13\n",
            "  * Average training accuracy: 0.35\n",
            "  * Training epoch took: 0:00:34\n",
            "Running Validation...\n",
            "  * Loss: 1.14\n",
            "  * Accuracy: 0.32\n",
            "  * Validation took: 0:00:02\n"
          ]
        },
        {
          "output_type": "stream",
          "name": "stderr",
          "text": [
            "Training (epoch 6): 100%|██████████| 64/64 [00:34<00:00,  1.88batch/s]\n"
          ]
        },
        {
          "output_type": "stream",
          "name": "stdout",
          "text": [
            "  * Average training loss: 1.14\n",
            "  * Average training accuracy: 0.32\n",
            "  * Training epoch took: 0:00:34\n",
            "Running Validation...\n",
            "  * Loss: 1.10\n",
            "  * Accuracy: 0.32\n",
            "  * Validation took: 0:00:02\n"
          ]
        },
        {
          "output_type": "stream",
          "name": "stderr",
          "text": [
            "Training (epoch 7): 100%|██████████| 64/64 [00:34<00:00,  1.87batch/s]\n"
          ]
        },
        {
          "output_type": "stream",
          "name": "stdout",
          "text": [
            "  * Average training loss: 1.14\n",
            "  * Average training accuracy: 0.32\n",
            "  * Training epoch took: 0:00:34\n",
            "Running Validation...\n",
            "  * Loss: 1.16\n",
            "  * Accuracy: 0.15\n",
            "  * Validation took: 0:00:03\n"
          ]
        },
        {
          "output_type": "stream",
          "name": "stderr",
          "text": [
            "Training (epoch 8): 100%|██████████| 64/64 [00:34<00:00,  1.87batch/s]\n"
          ]
        },
        {
          "output_type": "stream",
          "name": "stdout",
          "text": [
            "  * Average training loss: 1.16\n",
            "  * Average training accuracy: 0.33\n",
            "  * Training epoch took: 0:00:34\n",
            "Running Validation...\n",
            "  * Loss: 1.10\n",
            "  * Accuracy: 0.15\n",
            "  * Validation took: 0:00:02\n"
          ]
        },
        {
          "output_type": "stream",
          "name": "stderr",
          "text": [
            "Training (epoch 9): 100%|██████████| 64/64 [00:34<00:00,  1.87batch/s]\n"
          ]
        },
        {
          "output_type": "stream",
          "name": "stdout",
          "text": [
            "  * Average training loss: 1.14\n",
            "  * Average training accuracy: 0.33\n",
            "  * Training epoch took: 0:00:34\n",
            "Running Validation...\n",
            "  * Loss: 1.11\n",
            "  * Accuracy: 0.15\n",
            "  * Validation took: 0:00:02\n"
          ]
        },
        {
          "output_type": "stream",
          "name": "stderr",
          "text": [
            "Training (epoch 10): 100%|██████████| 64/64 [00:34<00:00,  1.87batch/s]\n"
          ]
        },
        {
          "output_type": "stream",
          "name": "stdout",
          "text": [
            "  * Average training loss: 1.12\n",
            "  * Average training accuracy: 0.31\n",
            "  * Training epoch took: 0:00:34\n",
            "Running Validation...\n",
            "  * Loss: 1.11\n",
            "  * Accuracy: 0.15\n",
            "  * Validation took: 0:00:02\n"
          ]
        },
        {
          "output_type": "stream",
          "name": "stderr",
          "text": [
            "Training (epoch 11): 100%|██████████| 64/64 [00:34<00:00,  1.87batch/s]\n"
          ]
        },
        {
          "output_type": "stream",
          "name": "stdout",
          "text": [
            "  * Average training loss: 1.12\n",
            "  * Average training accuracy: 0.33\n",
            "  * Training epoch took: 0:00:34\n",
            "Running Validation...\n",
            "  * Loss: 1.10\n",
            "  * Accuracy: 0.32\n",
            "  * Validation took: 0:00:02\n"
          ]
        },
        {
          "output_type": "stream",
          "name": "stderr",
          "text": [
            "Training (epoch 12): 100%|██████████| 64/64 [00:34<00:00,  1.87batch/s]\n"
          ]
        },
        {
          "output_type": "stream",
          "name": "stdout",
          "text": [
            "  * Average training loss: 1.13\n",
            "  * Average training accuracy: 0.33\n",
            "  * Training epoch took: 0:00:34\n",
            "Running Validation...\n",
            "  * Loss: 1.12\n",
            "  * Accuracy: 0.32\n",
            "  * Validation took: 0:00:02\n"
          ]
        },
        {
          "output_type": "stream",
          "name": "stderr",
          "text": [
            "Training (epoch 13): 100%|██████████| 64/64 [00:34<00:00,  1.87batch/s]\n"
          ]
        },
        {
          "output_type": "stream",
          "name": "stdout",
          "text": [
            "  * Average training loss: 1.12\n",
            "  * Average training accuracy: 0.35\n",
            "  * Training epoch took: 0:00:34\n",
            "Running Validation...\n",
            "  * Loss: 1.12\n",
            "  * Accuracy: 0.15\n",
            "  * Validation took: 0:00:02\n"
          ]
        },
        {
          "output_type": "stream",
          "name": "stderr",
          "text": [
            "Training (epoch 14): 100%|██████████| 64/64 [00:34<00:00,  1.87batch/s]\n"
          ]
        },
        {
          "output_type": "stream",
          "name": "stdout",
          "text": [
            "  * Average training loss: 1.12\n",
            "  * Average training accuracy: 0.31\n",
            "  * Training epoch took: 0:00:34\n",
            "Running Validation...\n",
            "  * Loss: 1.29\n",
            "  * Accuracy: 0.15\n",
            "  * Validation took: 0:00:02\n"
          ]
        },
        {
          "output_type": "stream",
          "name": "stderr",
          "text": [
            "Training (epoch 15): 100%|██████████| 64/64 [00:34<00:00,  1.86batch/s]\n"
          ]
        },
        {
          "output_type": "stream",
          "name": "stdout",
          "text": [
            "  * Average training loss: 1.14\n",
            "  * Average training accuracy: 0.32\n",
            "  * Training epoch took: 0:00:34\n",
            "Running Validation...\n",
            "  * Loss: 1.10\n",
            "  * Accuracy: 0.15\n",
            "  * Validation took: 0:00:02\n"
          ]
        },
        {
          "output_type": "stream",
          "name": "stderr",
          "text": [
            "Training (epoch 16): 100%|██████████| 64/64 [00:34<00:00,  1.87batch/s]\n"
          ]
        },
        {
          "output_type": "stream",
          "name": "stdout",
          "text": [
            "  * Average training loss: 1.12\n",
            "  * Average training accuracy: 0.33\n",
            "  * Training epoch took: 0:00:34\n",
            "Running Validation...\n",
            "  * Loss: 1.12\n",
            "  * Accuracy: 0.32\n",
            "  * Validation took: 0:00:02\n"
          ]
        },
        {
          "output_type": "stream",
          "name": "stderr",
          "text": [
            "Training (epoch 17): 100%|██████████| 64/64 [00:34<00:00,  1.87batch/s]\n"
          ]
        },
        {
          "output_type": "stream",
          "name": "stdout",
          "text": [
            "  * Average training loss: 1.13\n",
            "  * Average training accuracy: 0.32\n",
            "  * Training epoch took: 0:00:34\n",
            "Running Validation...\n",
            "  * Loss: 1.12\n",
            "  * Accuracy: 0.54\n",
            "  * Validation took: 0:00:02\n"
          ]
        },
        {
          "output_type": "stream",
          "name": "stderr",
          "text": [
            "Training (epoch 18): 100%|██████████| 64/64 [00:34<00:00,  1.87batch/s]\n"
          ]
        },
        {
          "output_type": "stream",
          "name": "stdout",
          "text": [
            "  * Average training loss: 1.12\n",
            "  * Average training accuracy: 0.33\n",
            "  * Training epoch took: 0:00:34\n",
            "Running Validation...\n",
            "  * Loss: 1.11\n",
            "  * Accuracy: 0.32\n",
            "  * Validation took: 0:00:02\n"
          ]
        },
        {
          "output_type": "stream",
          "name": "stderr",
          "text": [
            "Training (epoch 19): 100%|██████████| 64/64 [00:34<00:00,  1.87batch/s]\n"
          ]
        },
        {
          "output_type": "stream",
          "name": "stdout",
          "text": [
            "  * Average training loss: 1.13\n",
            "  * Average training accuracy: 0.34\n",
            "  * Training epoch took: 0:00:34\n",
            "Running Validation...\n",
            "  * Loss: 1.11\n",
            "  * Accuracy: 0.54\n",
            "  * Validation took: 0:00:02\n"
          ]
        },
        {
          "output_type": "stream",
          "name": "stderr",
          "text": [
            "Training (epoch 20): 100%|██████████| 64/64 [00:34<00:00,  1.87batch/s]\n"
          ]
        },
        {
          "output_type": "stream",
          "name": "stdout",
          "text": [
            "  * Average training loss: 1.12\n",
            "  * Average training accuracy: 0.33\n",
            "  * Training epoch took: 0:00:34\n",
            "Running Validation...\n",
            "  * Loss: 1.10\n",
            "  * Accuracy: 0.32\n",
            "  * Validation took: 0:00:02\n"
          ]
        },
        {
          "output_type": "stream",
          "name": "stderr",
          "text": [
            "Training (epoch 21): 100%|██████████| 64/64 [00:34<00:00,  1.87batch/s]\n"
          ]
        },
        {
          "output_type": "stream",
          "name": "stdout",
          "text": [
            "  * Average training loss: 1.11\n",
            "  * Average training accuracy: 0.33\n",
            "  * Training epoch took: 0:00:34\n",
            "Running Validation...\n",
            "  * Loss: 1.13\n",
            "  * Accuracy: 0.54\n",
            "  * Validation took: 0:00:02\n"
          ]
        },
        {
          "output_type": "stream",
          "name": "stderr",
          "text": [
            "Training (epoch 22): 100%|██████████| 64/64 [00:34<00:00,  1.88batch/s]\n"
          ]
        },
        {
          "output_type": "stream",
          "name": "stdout",
          "text": [
            "  * Average training loss: 1.11\n",
            "  * Average training accuracy: 0.36\n",
            "  * Training epoch took: 0:00:34\n",
            "Running Validation...\n",
            "  * Loss: 1.10\n",
            "  * Accuracy: 0.54\n",
            "  * Validation took: 0:00:02\n"
          ]
        },
        {
          "output_type": "stream",
          "name": "stderr",
          "text": [
            "Training (epoch 23): 100%|██████████| 64/64 [00:34<00:00,  1.88batch/s]\n"
          ]
        },
        {
          "output_type": "stream",
          "name": "stdout",
          "text": [
            "  * Average training loss: 1.12\n",
            "  * Average training accuracy: 0.35\n",
            "  * Training epoch took: 0:00:34\n",
            "Running Validation...\n",
            "  * Loss: 1.10\n",
            "  * Accuracy: 0.32\n",
            "  * Validation took: 0:00:02\n"
          ]
        },
        {
          "output_type": "stream",
          "name": "stderr",
          "text": [
            "Training (epoch 24): 100%|██████████| 64/64 [00:34<00:00,  1.87batch/s]\n"
          ]
        },
        {
          "output_type": "stream",
          "name": "stdout",
          "text": [
            "  * Average training loss: 1.11\n",
            "  * Average training accuracy: 0.36\n",
            "  * Training epoch took: 0:00:34\n",
            "Running Validation...\n",
            "  * Loss: 1.10\n",
            "  * Accuracy: 0.54\n",
            "  * Validation took: 0:00:02\n"
          ]
        },
        {
          "output_type": "stream",
          "name": "stderr",
          "text": [
            "Training (epoch 25): 100%|██████████| 64/64 [00:34<00:00,  1.87batch/s]\n"
          ]
        },
        {
          "output_type": "stream",
          "name": "stdout",
          "text": [
            "  * Average training loss: 1.11\n",
            "  * Average training accuracy: 0.31\n",
            "  * Training epoch took: 0:00:34\n",
            "Running Validation...\n",
            "  * Loss: 1.11\n",
            "  * Accuracy: 0.54\n",
            "  * Validation took: 0:00:02\n"
          ]
        },
        {
          "output_type": "stream",
          "name": "stderr",
          "text": [
            "Training (epoch 26): 100%|██████████| 64/64 [00:34<00:00,  1.87batch/s]\n"
          ]
        },
        {
          "output_type": "stream",
          "name": "stdout",
          "text": [
            "  * Average training loss: 1.11\n",
            "  * Average training accuracy: 0.35\n",
            "  * Training epoch took: 0:00:34\n",
            "Running Validation...\n",
            "  * Loss: 1.11\n",
            "  * Accuracy: 0.54\n",
            "  * Validation took: 0:00:02\n"
          ]
        },
        {
          "output_type": "stream",
          "name": "stderr",
          "text": [
            "Training (epoch 27): 100%|██████████| 64/64 [00:34<00:00,  1.87batch/s]\n"
          ]
        },
        {
          "output_type": "stream",
          "name": "stdout",
          "text": [
            "  * Average training loss: 1.11\n",
            "  * Average training accuracy: 0.30\n",
            "  * Training epoch took: 0:00:34\n",
            "Running Validation...\n",
            "  * Loss: 1.10\n",
            "  * Accuracy: 0.32\n",
            "  * Validation took: 0:00:02\n"
          ]
        },
        {
          "output_type": "stream",
          "name": "stderr",
          "text": [
            "Training (epoch 28): 100%|██████████| 64/64 [00:34<00:00,  1.87batch/s]\n"
          ]
        },
        {
          "output_type": "stream",
          "name": "stdout",
          "text": [
            "  * Average training loss: 1.11\n",
            "  * Average training accuracy: 0.32\n",
            "  * Training epoch took: 0:00:34\n",
            "Running Validation...\n",
            "  * Loss: 1.11\n",
            "  * Accuracy: 0.15\n",
            "  * Validation took: 0:00:02\n"
          ]
        },
        {
          "output_type": "stream",
          "name": "stderr",
          "text": [
            "Training (epoch 29): 100%|██████████| 64/64 [00:34<00:00,  1.87batch/s]\n"
          ]
        },
        {
          "output_type": "stream",
          "name": "stdout",
          "text": [
            "  * Average training loss: 1.12\n",
            "  * Average training accuracy: 0.31\n",
            "  * Training epoch took: 0:00:34\n",
            "Running Validation...\n",
            "  * Loss: 1.10\n",
            "  * Accuracy: 0.54\n",
            "  * Validation took: 0:00:02\n"
          ]
        },
        {
          "output_type": "stream",
          "name": "stderr",
          "text": [
            "Training (epoch 30): 100%|██████████| 64/64 [00:34<00:00,  1.87batch/s]\n"
          ]
        },
        {
          "output_type": "stream",
          "name": "stdout",
          "text": [
            "  * Average training loss: 1.12\n",
            "  * Average training accuracy: 0.37\n",
            "  * Training epoch took: 0:00:34\n",
            "Running Validation...\n",
            "  * Loss: 1.11\n",
            "  * Accuracy: 0.32\n",
            "  * Validation took: 0:00:02\n"
          ]
        },
        {
          "output_type": "stream",
          "name": "stderr",
          "text": [
            "Training (epoch 31): 100%|██████████| 64/64 [00:34<00:00,  1.87batch/s]\n"
          ]
        },
        {
          "output_type": "stream",
          "name": "stdout",
          "text": [
            "  * Average training loss: 1.11\n",
            "  * Average training accuracy: 0.35\n",
            "  * Training epoch took: 0:00:34\n",
            "Running Validation...\n",
            "  * Loss: 1.11\n",
            "  * Accuracy: 0.15\n",
            "  * Validation took: 0:00:02\n"
          ]
        },
        {
          "output_type": "stream",
          "name": "stderr",
          "text": [
            "Training (epoch 32): 100%|██████████| 64/64 [00:34<00:00,  1.87batch/s]\n"
          ]
        },
        {
          "output_type": "stream",
          "name": "stdout",
          "text": [
            "  * Average training loss: 1.11\n",
            "  * Average training accuracy: 0.32\n",
            "  * Training epoch took: 0:00:34\n",
            "Running Validation...\n",
            "  * Loss: 1.10\n",
            "  * Accuracy: 0.15\n",
            "  * Validation took: 0:00:02\n"
          ]
        },
        {
          "output_type": "stream",
          "name": "stderr",
          "text": [
            "Training (epoch 33): 100%|██████████| 64/64 [00:34<00:00,  1.87batch/s]\n"
          ]
        },
        {
          "output_type": "stream",
          "name": "stdout",
          "text": [
            "  * Average training loss: 1.10\n",
            "  * Average training accuracy: 0.34\n",
            "  * Training epoch took: 0:00:34\n",
            "Running Validation...\n",
            "  * Loss: 1.11\n",
            "  * Accuracy: 0.15\n",
            "  * Validation took: 0:00:02\n"
          ]
        },
        {
          "output_type": "stream",
          "name": "stderr",
          "text": [
            "Training (epoch 34): 100%|██████████| 64/64 [00:34<00:00,  1.87batch/s]\n"
          ]
        },
        {
          "output_type": "stream",
          "name": "stdout",
          "text": [
            "  * Average training loss: 1.11\n",
            "  * Average training accuracy: 0.33\n",
            "  * Training epoch took: 0:00:34\n",
            "Running Validation...\n",
            "  * Loss: 1.10\n",
            "  * Accuracy: 0.15\n",
            "  * Validation took: 0:00:02\n"
          ]
        },
        {
          "output_type": "stream",
          "name": "stderr",
          "text": [
            "Training (epoch 35): 100%|██████████| 64/64 [00:34<00:00,  1.87batch/s]\n"
          ]
        },
        {
          "output_type": "stream",
          "name": "stdout",
          "text": [
            "  * Average training loss: 1.11\n",
            "  * Average training accuracy: 0.33\n",
            "  * Training epoch took: 0:00:34\n",
            "Running Validation...\n",
            "  * Loss: 1.10\n",
            "  * Accuracy: 0.15\n",
            "  * Validation took: 0:00:02\n"
          ]
        },
        {
          "output_type": "stream",
          "name": "stderr",
          "text": [
            "Training (epoch 36): 100%|██████████| 64/64 [00:34<00:00,  1.88batch/s]\n"
          ]
        },
        {
          "output_type": "stream",
          "name": "stdout",
          "text": [
            "  * Average training loss: 1.11\n",
            "  * Average training accuracy: 0.31\n",
            "  * Training epoch took: 0:00:34\n",
            "Running Validation...\n",
            "  * Loss: 1.10\n",
            "  * Accuracy: 0.32\n",
            "  * Validation took: 0:00:02\n"
          ]
        },
        {
          "output_type": "stream",
          "name": "stderr",
          "text": [
            "Training (epoch 37): 100%|██████████| 64/64 [00:34<00:00,  1.88batch/s]\n"
          ]
        },
        {
          "output_type": "stream",
          "name": "stdout",
          "text": [
            "  * Average training loss: 1.11\n",
            "  * Average training accuracy: 0.35\n",
            "  * Training epoch took: 0:00:34\n",
            "Running Validation...\n",
            "  * Loss: 1.10\n",
            "  * Accuracy: 0.15\n",
            "  * Validation took: 0:00:02\n"
          ]
        },
        {
          "output_type": "stream",
          "name": "stderr",
          "text": [
            "Training (epoch 38): 100%|██████████| 64/64 [00:34<00:00,  1.88batch/s]\n"
          ]
        },
        {
          "output_type": "stream",
          "name": "stdout",
          "text": [
            "  * Average training loss: 1.11\n",
            "  * Average training accuracy: 0.30\n",
            "  * Training epoch took: 0:00:34\n",
            "Running Validation...\n",
            "  * Loss: 1.10\n",
            "  * Accuracy: 0.54\n",
            "  * Validation took: 0:00:02\n"
          ]
        },
        {
          "output_type": "stream",
          "name": "stderr",
          "text": [
            "Training (epoch 39): 100%|██████████| 64/64 [00:34<00:00,  1.87batch/s]\n"
          ]
        },
        {
          "output_type": "stream",
          "name": "stdout",
          "text": [
            "  * Average training loss: 1.10\n",
            "  * Average training accuracy: 0.36\n",
            "  * Training epoch took: 0:00:34\n",
            "Running Validation...\n",
            "  * Loss: 1.10\n",
            "  * Accuracy: 0.32\n",
            "  * Validation took: 0:00:02\n"
          ]
        },
        {
          "output_type": "stream",
          "name": "stderr",
          "text": [
            "Training (epoch 40): 100%|██████████| 64/64 [00:34<00:00,  1.87batch/s]\n"
          ]
        },
        {
          "output_type": "stream",
          "name": "stdout",
          "text": [
            "  * Average training loss: 1.10\n",
            "  * Average training accuracy: 0.34\n",
            "  * Training epoch took: 0:00:34\n",
            "Running Validation...\n",
            "  * Loss: 1.10\n",
            "  * Accuracy: 0.54\n",
            "  * Validation took: 0:00:02\n",
            "Training complete!\n"
          ]
        }
      ]
    },
    {
      "cell_type": "markdown",
      "source": [
        "## Training and Validation Loss Graphs"
      ],
      "metadata": {
        "id": "5kCs8RLTyAXN"
      }
    },
    {
      "cell_type": "code",
      "source": [
        "%matplotlib inline\n",
        "import matplotlib.pyplot as plt\n",
        "import seaborn as sns\n",
        "\n",
        "def plot_loss(train_loss_vals, eval_loss_vals):\n",
        "    sns.set(style='darkgrid')\n",
        "    sns.set(font_scale=1.5)\n",
        "    plt.rcParams[\"figure.figsize\"] = (12,6)\n",
        "    fig, ax1 = plt.subplots(1,1)\n",
        "    plt.title('BERT Baseline Loss') \n",
        "    ax1.plot(train_loss_vals, 'b-o', label = 'training loss')\n",
        "    ax1.plot(eval_loss_vals, 'g-o', label = 'validation loss')\n",
        "    ax1.set_xlabel(\"Epochs\", color='k')\n",
        "    ax1.set_ylabel(\"Loss\", color='k')\n",
        "    ax1.tick_params(axis='y', rotation=0, labelcolor='k' )\n",
        "    plt.legend()\n",
        "    plt.show()"
      ],
      "metadata": {
        "id": "BRfO3MWTyCkx"
      },
      "execution_count": null,
      "outputs": []
    },
    {
      "cell_type": "code",
      "source": [
        "plot_loss(bert_train_loss_vals, bert_eval_loss_vals)"
      ],
      "metadata": {
        "colab": {
          "base_uri": "https://localhost:8080/",
          "height": 427
        },
        "id": "aDR4pfomyEwk",
        "outputId": "f4105c1e-49f8-4c86-a0cf-19bd8345e11b"
      },
      "execution_count": null,
      "outputs": [
        {
          "output_type": "display_data",
          "data": {
            "text/plain": [
              "<Figure size 864x432 with 1 Axes>"
            ],
            "image/png": "[encoded data removed]"
          },
          "metadata": {}
        }
      ]
    },
    {
      "cell_type": "markdown",
      "source": [
        "## Training and Validation Accuracy Graphs"
      ],
      "metadata": {
        "id": "-PCeYDrGySn-"
      }
    },
    {
      "cell_type": "code",
      "source": [
        "def plot_acc(train_accs, eval_accs):\n",
        "    sns.set(style='darkgrid')\n",
        "    sns.set(font_scale=1.5)\n",
        "    plt.rcParams[\"figure.figsize\"] = (12,6)\n",
        "    fig, ax1 = plt.subplots(1,1)\n",
        "    plt.title('BERT Baseline Accuracy')\n",
        "    ax1.plot(train_accs, 'b-o', label = 'training accuracy')\n",
        "    ax1.plot(eval_accs, 'g-o', label = 'validation accuracy')\n",
        "    ax1.set_ylabel(\"Accuracy\", color='k')\n",
        "    ax1.set_xlabel(\"Loss\", color='k')\n",
        "    ax1.tick_params(axis='y', rotation=0, labelcolor='k' )\n",
        "    plt.legend()\n",
        "    plt.show()"
      ],
      "metadata": {
        "id": "GuCKkxSFyKUC"
      },
      "execution_count": null,
      "outputs": []
    },
    {
      "cell_type": "code",
      "source": [
        "plot_acc(bert_train_accs, bert_eval_accs)"
      ],
      "metadata": {
        "colab": {
          "base_uri": "https://localhost:8080/",
          "height": 427
        },
        "id": "JSYyHO-kyPKl",
        "outputId": "ce366609-898b-4479-9eda-10acdc0a6400"
      },
      "execution_count": null,
      "outputs": [
        {
          "output_type": "display_data",
          "data": {
            "text/plain": [
              "<Figure size 864x432 with 1 Axes>"
            ],
            "image/png": "[encoded data removed]"
          },
          "metadata": {}
        }
      ]
    },
    {
      "cell_type": "markdown",
      "metadata": {
        "id": "x4SVftkkTZXA"
      },
      "source": [
        "## Get Predictions for Test Data"
      ]
    },
    {
      "cell_type": "code",
      "metadata": {
        "id": "NZl0SZmFTRQA"
      },
      "source": [
        "# get predictions for test data\n",
        "with torch.no_grad():\n",
        "  preds = model(input_ids=test_seq.to(device), attention_mask=test_mask.to(device))\n",
        "  preds = preds.detach().cpu().numpy()"
      ],
      "execution_count": null,
      "outputs": []
    },
    {
      "cell_type": "code",
      "source": [
        "def test_flat_accuracy(preds, labels):\n",
        "    pred_flat = np.argmax(preds, axis = 1)\n",
        "    labels_flat = np.array(labels.flatten())\n",
        "    return np.sum(pred_flat == labels_flat) / len(labels_flat)"
      ],
      "metadata": {
        "id": "bE6fFzbQ_iQ8"
      },
      "execution_count": null,
      "outputs": []
    },
    {
      "cell_type": "code",
      "source": [
        "test_flat_accuracy(preds, test_y)"
      ],
      "metadata": {
        "colab": {
          "base_uri": "https://localhost:8080/"
        },
        "id": "QQ3K0FKV_jpp",
        "outputId": "a6eb4d45-a6a7-4cbb-b3af-5cdd53aad5b1"
      },
      "execution_count": null,
      "outputs": [
        {
          "output_type": "execute_result",
          "data": {
            "text/plain": [
              "0.5359179019384265"
            ]
          },
          "metadata": {},
          "execution_count": 38
        }
      ]
    },
    {
      "cell_type": "code",
      "metadata": {
        "id": "Ms1ObHZxTYSI",
        "colab": {
          "base_uri": "https://localhost:8080/"
        },
        "outputId": "79b9236d-34b7-4ae7-b531-e580fbcaf740"
      },
      "source": [
        "# model's performance\n",
        "preds = np.argmax(preds, axis = 1)\n",
        "print(classification_report(test_y, preds))"
      ],
      "execution_count": null,
      "outputs": [
        {
          "output_type": "stream",
          "name": "stdout",
          "text": [
            "              precision    recall  f1-score   support\n",
            "\n",
            "           0       0.54      1.00      0.70       470\n",
            "           1       0.00      0.00      0.00       278\n",
            "           2       0.00      0.00      0.00       129\n",
            "\n",
            "    accuracy                           0.54       877\n",
            "   macro avg       0.18      0.33      0.23       877\n",
            "weighted avg       0.29      0.54      0.37       877\n",
            "\n"
          ]
        },
        {
          "output_type": "stream",
          "name": "stderr",
          "text": [
            "/usr/local/lib/python3.7/dist-packages/sklearn/metrics/_classification.py:1318: UndefinedMetricWarning: Precision and F-score are ill-defined and being set to 0.0 in labels with no predicted samples. Use `zero_division` parameter to control this behavior.\n",
            "  _warn_prf(average, modifier, msg_start, len(result))\n",
            "/usr/local/lib/python3.7/dist-packages/sklearn/metrics/_classification.py:1318: UndefinedMetricWarning: Precision and F-score are ill-defined and being set to 0.0 in labels with no predicted samples. Use `zero_division` parameter to control this behavior.\n",
            "  _warn_prf(average, modifier, msg_start, len(result))\n",
            "/usr/local/lib/python3.7/dist-packages/sklearn/metrics/_classification.py:1318: UndefinedMetricWarning: Precision and F-score are ill-defined and being set to 0.0 in labels with no predicted samples. Use `zero_division` parameter to control this behavior.\n",
            "  _warn_prf(average, modifier, msg_start, len(result))\n"
          ]
        }
      ]
    },
    {
      "cell_type": "code",
      "metadata": {
        "id": "YqzLS7rHTp4T",
        "colab": {
          "base_uri": "https://localhost:8080/",
          "height": 175
        },
        "outputId": "7945c5fd-97d0-4d71-d5f7-4950574bbbb8"
      },
      "source": [
        "# confusion matrix\n",
        "pd.crosstab(test_y, preds)"
      ],
      "execution_count": null,
      "outputs": [
        {
          "output_type": "execute_result",
          "data": {
            "text/plain": [
              "col_0    0\n",
              "row_0     \n",
              "0      470\n",
              "1      278\n",
              "2      129"
            ],
            "text/html": [
              "\n",
              "  <div id=\"df-0d24a764-7170-4e5f-b662-7f8a2b7cb51c\">\n",
              "    <div class=\"colab-df-container\">\n",
              "      <div>\n",
              "<style scoped>\n",
              "    .dataframe tbody tr th:only-of-type {\n",
              "        vertical-align: middle;\n",
              "    }\n",
              "\n",
              "    .dataframe tbody tr th {\n",
              "        vertical-align: top;\n",
              "    }\n",
              "\n",
              "    .dataframe thead th {\n",
              "        text-align: right;\n",
              "    }\n",
              "</style>\n",
              "<table border=\"1\" class=\"dataframe\">\n",
              "  <thead>\n",
              "    <tr style=\"text-align: right;\">\n",
              "      <th>col_0</th>\n",
              "      <th>0</th>\n",
              "    </tr>\n",
              "    <tr>\n",
              "      <th>row_0</th>\n",
              "      <th></th>\n",
              "    </tr>\n",
              "  </thead>\n",
              "  <tbody>\n",
              "    <tr>\n",
              "      <th>0</th>\n",
              "      <td>470</td>\n",
              "    </tr>\n",
              "    <tr>\n",
              "      <th>1</th>\n",
              "      <td>278</td>\n",
              "    </tr>\n",
              "    <tr>\n",
              "      <th>2</th>\n",
              "      <td>129</td>\n",
              "    </tr>\n",
              "  </tbody>\n",
              "</table>\n",
              "</div>\n",
              "      <button class=\"colab-df-convert\" onclick=\"convertToInteractive('df-0d24a764-7170-4e5f-b662-7f8a2b7cb51c')\"\n",
              "              title=\"Convert this dataframe to an interactive table.\"\n",
              "              style=\"display:none;\">\n",
              "        \n",
              "  <svg xmlns=\"http://www.w3.org/2000/svg\" height=\"24px\"viewBox=\"0 0 24 24\"\n",
              "       width=\"24px\">\n",
              "    <path d=\"M0 0h24v24H0V0z\" fill=\"none\"/>\n",
              "    <path d=\"M18.56 5.44l.94 2.06.94-2.06 2.06-.94-2.06-.94-.94-2.06-.94 2.06-2.06.94zm-11 1L8.5 8.5l.94-2.06 2.06-.94-2.06-.94L8.5 2.5l-.94 2.06-2.06.94zm10 10l.94 2.06.94-2.06 2.06-.94-2.06-.94-.94-2.06-.94 2.06-2.06.94z\"/><path d=\"M17.41 7.96l-1.37-1.37c-.4-.4-.92-.59-1.43-.59-.52 0-1.04.2-1.43.59L10.3 9.45l-7.72 7.72c-.78.78-.78 2.05 0 2.83L4 21.41c.39.39.9.59 1.41.59.51 0 1.02-.2 1.41-.59l7.78-7.78 2.81-2.81c.8-.78.8-2.07 0-2.86zM5.41 20L4 18.59l7.72-7.72 1.47 1.35L5.41 20z\"/>\n",
              "  </svg>\n",
              "      </button>\n",
              "      \n",
              "  <style>\n",
              "    .colab-df-container {\n",
              "      display:flex;\n",
              "      flex-wrap:wrap;\n",
              "      gap: 12px;\n",
              "    }\n",
              "\n",
              "    .colab-df-convert {\n",
              "      background-color: #E8F0FE;\n",
              "      border: none;\n",
              "      border-radius: 50%;\n",
              "      cursor: pointer;\n",
              "      display: none;\n",
              "      fill: #1967D2;\n",
              "      height: 32px;\n",
              "      padding: 0 0 0 0;\n",
              "      width: 32px;\n",
              "    }\n",
              "\n",
              "    .colab-df-convert:hover {\n",
              "      background-color: #E2EBFA;\n",
              "      box-shadow: 0px 1px 2px rgba(60, 64, 67, 0.3), 0px 1px 3px 1px rgba(60, 64, 67, 0.15);\n",
              "      fill: #174EA6;\n",
              "    }\n",
              "\n",
              "    [theme=dark] .colab-df-convert {\n",
              "      background-color: #3B4455;\n",
              "      fill: #D2E3FC;\n",
              "    }\n",
              "\n",
              "    [theme=dark] .colab-df-convert:hover {\n",
              "      background-color: #434B5C;\n",
              "      box-shadow: 0px 1px 3px 1px rgba(0, 0, 0, 0.15);\n",
              "      filter: drop-shadow(0px 1px 2px rgba(0, 0, 0, 0.3));\n",
              "      fill: #FFFFFF;\n",
              "    }\n",
              "  </style>\n",
              "\n",
              "      <script>\n",
              "        const buttonEl =\n",
              "          document.querySelector('#df-0d24a764-7170-4e5f-b662-7f8a2b7cb51c button.colab-df-convert');\n",
              "        buttonEl.style.display =\n",
              "          google.colab.kernel.accessAllowed ? 'block' : 'none';\n",
              "\n",
              "        async function convertToInteractive(key) {\n",
              "          const element = document.querySelector('#df-0d24a764-7170-4e5f-b662-7f8a2b7cb51c');\n",
              "          const dataTable =\n",
              "            await google.colab.kernel.invokeFunction('convertToInteractive',\n",
              "                                                     [key], {});\n",
              "          if (!dataTable) return;\n",
              "\n",
              "          const docLinkHtml = 'Like what you see? Visit the ' +\n",
              "            '<a target=\"_blank\" href=https://colab.research.google.com/notebooks/data_table.ipynb>data table notebook</a>'\n",
              "            + ' to learn more about interactive tables.';\n",
              "          element.innerHTML = '';\n",
              "          dataTable['output_type'] = 'display_data';\n",
              "          await google.colab.output.renderOutput(dataTable, element);\n",
              "          const docLink = document.createElement('div');\n",
              "          docLink.innerHTML = docLinkHtml;\n",
              "          element.appendChild(docLink);\n",
              "        }\n",
              "      </script>\n",
              "    </div>\n",
              "  </div>\n",
              "  "
            ]
          },
          "metadata": {},
          "execution_count": 40
        }
      ]
    },
    {
      "cell_type": "code",
      "metadata": {
        "id": "jpX1uTwjUPY6"
      },
      "source": [
        ""
      ],
      "execution_count": null,
      "outputs": []
    }
  ]
}