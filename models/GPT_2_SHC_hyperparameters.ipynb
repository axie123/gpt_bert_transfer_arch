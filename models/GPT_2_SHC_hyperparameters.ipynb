{
  "cells": [
    {
      "cell_type": "markdown",
      "metadata": {
        "id": "playxmEu9Csz"
      },
      "source": [
        "## Installing the Transformers Module."
      ]
    },
    {
      "cell_type": "code",
      "execution_count": 1,
      "metadata": {
        "colab": {
          "base_uri": "https://localhost:8080/"
        },
        "id": "Uri9dHqR2t4X",
        "outputId": "e7bae5ca-f18c-401f-e5f7-03f9aeb28e9f"
      },
      "outputs": [
        {
          "output_type": "stream",
          "name": "stdout",
          "text": [
            "Collecting transformers\n",
            "  Downloading transformers-4.18.0-py3-none-any.whl (4.0 MB)\n",
            "\u001b[K     |████████████████████████████████| 4.0 MB 5.0 MB/s \n",
            "\u001b[?25hRequirement already satisfied: regex!=2019.12.17 in /usr/local/lib/python3.7/dist-packages (from transformers) (2019.12.20)\n",
            "Requirement already satisfied: requests in /usr/local/lib/python3.7/dist-packages (from transformers) (2.23.0)\n",
            "Collecting sacremoses\n",
            "  Downloading sacremoses-0.0.49-py3-none-any.whl (895 kB)\n",
            "\u001b[K     |████████████████████████████████| 895 kB 45.0 MB/s \n",
            "\u001b[?25hRequirement already satisfied: tqdm>=4.27 in /usr/local/lib/python3.7/dist-packages (from transformers) (4.64.0)\n",
            "Requirement already satisfied: packaging>=20.0 in /usr/local/lib/python3.7/dist-packages (from transformers) (21.3)\n",
            "Requirement already satisfied: importlib-metadata in /usr/local/lib/python3.7/dist-packages (from transformers) (4.11.3)\n",
            "Requirement already satisfied: filelock in /usr/local/lib/python3.7/dist-packages (from transformers) (3.6.0)\n",
            "Collecting tokenizers!=0.11.3,<0.13,>=0.11.1\n",
            "  Downloading tokenizers-0.12.1-cp37-cp37m-manylinux_2_12_x86_64.manylinux2010_x86_64.whl (6.6 MB)\n",
            "\u001b[K     |████████████████████████████████| 6.6 MB 37.3 MB/s \n",
            "\u001b[?25hCollecting pyyaml>=5.1\n",
            "  Downloading PyYAML-6.0-cp37-cp37m-manylinux_2_5_x86_64.manylinux1_x86_64.manylinux_2_12_x86_64.manylinux2010_x86_64.whl (596 kB)\n",
            "\u001b[K     |████████████████████████████████| 596 kB 37.5 MB/s \n",
            "\u001b[?25hCollecting huggingface-hub<1.0,>=0.1.0\n",
            "  Downloading huggingface_hub-0.5.1-py3-none-any.whl (77 kB)\n",
            "\u001b[K     |████████████████████████████████| 77 kB 3.7 MB/s \n",
            "\u001b[?25hRequirement already satisfied: numpy>=1.17 in /usr/local/lib/python3.7/dist-packages (from transformers) (1.21.5)\n",
            "Requirement already satisfied: typing-extensions>=3.7.4.3 in /usr/local/lib/python3.7/dist-packages (from huggingface-hub<1.0,>=0.1.0->transformers) (4.1.1)\n",
            "Requirement already satisfied: pyparsing!=3.0.5,>=2.0.2 in /usr/local/lib/python3.7/dist-packages (from packaging>=20.0->transformers) (3.0.8)\n",
            "Requirement already satisfied: zipp>=0.5 in /usr/local/lib/python3.7/dist-packages (from importlib-metadata->transformers) (3.8.0)\n",
            "Requirement already satisfied: idna<3,>=2.5 in /usr/local/lib/python3.7/dist-packages (from requests->transformers) (2.10)\n",
            "Requirement already satisfied: chardet<4,>=3.0.2 in /usr/local/lib/python3.7/dist-packages (from requests->transformers) (3.0.4)\n",
            "Requirement already satisfied: urllib3!=1.25.0,!=1.25.1,<1.26,>=1.21.1 in /usr/local/lib/python3.7/dist-packages (from requests->transformers) (1.24.3)\n",
            "Requirement already satisfied: certifi>=2017.4.17 in /usr/local/lib/python3.7/dist-packages (from requests->transformers) (2021.10.8)\n",
            "Requirement already satisfied: click in /usr/local/lib/python3.7/dist-packages (from sacremoses->transformers) (7.1.2)\n",
            "Requirement already satisfied: joblib in /usr/local/lib/python3.7/dist-packages (from sacremoses->transformers) (1.1.0)\n",
            "Requirement already satisfied: six in /usr/local/lib/python3.7/dist-packages (from sacremoses->transformers) (1.15.0)\n",
            "Installing collected packages: pyyaml, tokenizers, sacremoses, huggingface-hub, transformers\n",
            "  Attempting uninstall: pyyaml\n",
            "    Found existing installation: PyYAML 3.13\n",
            "    Uninstalling PyYAML-3.13:\n",
            "      Successfully uninstalled PyYAML-3.13\n",
            "Successfully installed huggingface-hub-0.5.1 pyyaml-6.0 sacremoses-0.0.49 tokenizers-0.12.1 transformers-4.18.0\n"
          ]
        }
      ],
      "source": [
        "!pip install --upgrade transformers"
      ]
    },
    {
      "cell_type": "markdown",
      "metadata": {
        "id": "YRTFFtAu9Ktk"
      },
      "source": [
        "## Install PyTorch, initiate GPU, and other ML Dependencies"
      ]
    },
    {
      "cell_type": "code",
      "execution_count": 2,
      "metadata": {
        "id": "fAROv4jMBNgI"
      },
      "outputs": [],
      "source": [
        "import os\n",
        "import random\n",
        "\n",
        "import numpy as np\n",
        "import pandas as pd\n",
        "import torch\n",
        "import torch.nn as nn\n",
        "\n",
        "SEED = 42\n",
        "\n",
        "torch.manual_seed(SEED)\n",
        "torch.cuda.manual_seed_all(SEED)\n",
        "torch.backends.cudnn.deterministic = True\n",
        "torch.backends.cudnn.benchmark = False"
      ]
    },
    {
      "cell_type": "code",
      "execution_count": null,
      "metadata": {
        "colab": {
          "base_uri": "https://localhost:8080/"
        },
        "id": "RWKmzR-y3sGz",
        "outputId": "711f883e-875a-4baa-d568-5c7296d425c3"
      },
      "outputs": [
        {
          "output_type": "stream",
          "name": "stdout",
          "text": [
            "There are 1 GPU(s) available.\n",
            "We will use the GPU: Tesla K80\n"
          ]
        }
      ],
      "source": [
        "# If there's a GPU available...\n",
        "if torch.cuda.is_available():    \n",
        "\n",
        "    # Tell PyTorch to use the GPU.    \n",
        "    device = torch.device(\"cuda\")\n",
        "\n",
        "    print('There are %d GPU(s) available.' % torch.cuda.device_count())\n",
        "\n",
        "    print('We will use the GPU:', torch.cuda.get_device_name(0))\n",
        "\n",
        "# If not...\n",
        "else:\n",
        "    print('No GPU available, using the CPU instead.')\n",
        "    device = torch.device(\"cpu\")"
      ]
    },
    {
      "cell_type": "markdown",
      "metadata": {
        "id": "yosIWH3HB1FN"
      },
      "source": [
        "## Downloading the Finanica Sentinment Analysis Dataset."
      ]
    },
    {
      "cell_type": "code",
      "execution_count": null,
      "metadata": {
        "id": "0-hKW-JtCnH_"
      },
      "outputs": [],
      "source": [
        "financial_data = pd.read_csv(\"./data.csv\")"
      ]
    },
    {
      "cell_type": "code",
      "execution_count": null,
      "metadata": {
        "colab": {
          "base_uri": "https://localhost:8080/",
          "height": 363
        },
        "id": "h4QByjRPgd86",
        "outputId": "7b6f215e-e9c9-41d3-bc2f-8437d622436e"
      },
      "outputs": [
        {
          "output_type": "execute_result",
          "data": {
            "text/plain": [
              "                                            Sentence Sentiment\n",
              "0  The GeoSolutions technology will leverage Bene...  positive\n",
              "1  $ESI on lows, down $1.50 to $2.50 BK a real po...  negative\n",
              "2  For the last quarter of 2010 , Componenta 's n...  positive\n",
              "3  According to the Finnish-Russian Chamber of Co...   neutral\n",
              "4  The Swedish buyout firm has sold its remaining...   neutral\n",
              "5    $SPY wouldn't be surprised to see a green close  positive\n",
              "6  Shell's $70 Billion BG Deal Meets Shareholder ...  negative\n",
              "7  SSH COMMUNICATIONS SECURITY CORP STOCK EXCHANG...  negative\n",
              "8  Kone 's net sales rose by some 14 % year-on-ye...  positive\n",
              "9  The Stockmann department store will have a tot...   neutral"
            ],
            "text/html": [
              "\n",
              "  <div id=\"df-5b9665a0-4f66-4ce3-9048-8a85988ab6f5\">\n",
              "    <div class=\"colab-df-container\">\n",
              "      <div>\n",
              "<style scoped>\n",
              "    .dataframe tbody tr th:only-of-type {\n",
              "        vertical-align: middle;\n",
              "    }\n",
              "\n",
              "    .dataframe tbody tr th {\n",
              "        vertical-align: top;\n",
              "    }\n",
              "\n",
              "    .dataframe thead th {\n",
              "        text-align: right;\n",
              "    }\n",
              "</style>\n",
              "<table border=\"1\" class=\"dataframe\">\n",
              "  <thead>\n",
              "    <tr style=\"text-align: right;\">\n",
              "      <th></th>\n",
              "      <th>Sentence</th>\n",
              "      <th>Sentiment</th>\n",
              "    </tr>\n",
              "  </thead>\n",
              "  <tbody>\n",
              "    <tr>\n",
              "      <th>0</th>\n",
              "      <td>The GeoSolutions technology will leverage Bene...</td>\n",
              "      <td>positive</td>\n",
              "    </tr>\n",
              "    <tr>\n",
              "      <th>1</th>\n",
              "      <td>$ESI on lows, down $1.50 to $2.50 BK a real po...</td>\n",
              "      <td>negative</td>\n",
              "    </tr>\n",
              "    <tr>\n",
              "      <th>2</th>\n",
              "      <td>For the last quarter of 2010 , Componenta 's n...</td>\n",
              "      <td>positive</td>\n",
              "    </tr>\n",
              "    <tr>\n",
              "      <th>3</th>\n",
              "      <td>According to the Finnish-Russian Chamber of Co...</td>\n",
              "      <td>neutral</td>\n",
              "    </tr>\n",
              "    <tr>\n",
              "      <th>4</th>\n",
              "      <td>The Swedish buyout firm has sold its remaining...</td>\n",
              "      <td>neutral</td>\n",
              "    </tr>\n",
              "    <tr>\n",
              "      <th>5</th>\n",
              "      <td>$SPY wouldn't be surprised to see a green close</td>\n",
              "      <td>positive</td>\n",
              "    </tr>\n",
              "    <tr>\n",
              "      <th>6</th>\n",
              "      <td>Shell's $70 Billion BG Deal Meets Shareholder ...</td>\n",
              "      <td>negative</td>\n",
              "    </tr>\n",
              "    <tr>\n",
              "      <th>7</th>\n",
              "      <td>SSH COMMUNICATIONS SECURITY CORP STOCK EXCHANG...</td>\n",
              "      <td>negative</td>\n",
              "    </tr>\n",
              "    <tr>\n",
              "      <th>8</th>\n",
              "      <td>Kone 's net sales rose by some 14 % year-on-ye...</td>\n",
              "      <td>positive</td>\n",
              "    </tr>\n",
              "    <tr>\n",
              "      <th>9</th>\n",
              "      <td>The Stockmann department store will have a tot...</td>\n",
              "      <td>neutral</td>\n",
              "    </tr>\n",
              "  </tbody>\n",
              "</table>\n",
              "</div>\n",
              "      <button class=\"colab-df-convert\" onclick=\"convertToInteractive('df-5b9665a0-4f66-4ce3-9048-8a85988ab6f5')\"\n",
              "              title=\"Convert this dataframe to an interactive table.\"\n",
              "              style=\"display:none;\">\n",
              "        \n",
              "  <svg xmlns=\"http://www.w3.org/2000/svg\" height=\"24px\"viewBox=\"0 0 24 24\"\n",
              "       width=\"24px\">\n",
              "    <path d=\"M0 0h24v24H0V0z\" fill=\"none\"/>\n",
              "    <path d=\"M18.56 5.44l.94 2.06.94-2.06 2.06-.94-2.06-.94-.94-2.06-.94 2.06-2.06.94zm-11 1L8.5 8.5l.94-2.06 2.06-.94-2.06-.94L8.5 2.5l-.94 2.06-2.06.94zm10 10l.94 2.06.94-2.06 2.06-.94-2.06-.94-.94-2.06-.94 2.06-2.06.94z\"/><path d=\"M17.41 7.96l-1.37-1.37c-.4-.4-.92-.59-1.43-.59-.52 0-1.04.2-1.43.59L10.3 9.45l-7.72 7.72c-.78.78-.78 2.05 0 2.83L4 21.41c.39.39.9.59 1.41.59.51 0 1.02-.2 1.41-.59l7.78-7.78 2.81-2.81c.8-.78.8-2.07 0-2.86zM5.41 20L4 18.59l7.72-7.72 1.47 1.35L5.41 20z\"/>\n",
              "  </svg>\n",
              "      </button>\n",
              "      \n",
              "  <style>\n",
              "    .colab-df-container {\n",
              "      display:flex;\n",
              "      flex-wrap:wrap;\n",
              "      gap: 12px;\n",
              "    }\n",
              "\n",
              "    .colab-df-convert {\n",
              "      background-color: #E8F0FE;\n",
              "      border: none;\n",
              "      border-radius: 50%;\n",
              "      cursor: pointer;\n",
              "      display: none;\n",
              "      fill: #1967D2;\n",
              "      height: 32px;\n",
              "      padding: 0 0 0 0;\n",
              "      width: 32px;\n",
              "    }\n",
              "\n",
              "    .colab-df-convert:hover {\n",
              "      background-color: #E2EBFA;\n",
              "      box-shadow: 0px 1px 2px rgba(60, 64, 67, 0.3), 0px 1px 3px 1px rgba(60, 64, 67, 0.15);\n",
              "      fill: #174EA6;\n",
              "    }\n",
              "\n",
              "    [theme=dark] .colab-df-convert {\n",
              "      background-color: #3B4455;\n",
              "      fill: #D2E3FC;\n",
              "    }\n",
              "\n",
              "    [theme=dark] .colab-df-convert:hover {\n",
              "      background-color: #434B5C;\n",
              "      box-shadow: 0px 1px 3px 1px rgba(0, 0, 0, 0.15);\n",
              "      filter: drop-shadow(0px 1px 2px rgba(0, 0, 0, 0.3));\n",
              "      fill: #FFFFFF;\n",
              "    }\n",
              "  </style>\n",
              "\n",
              "      <script>\n",
              "        const buttonEl =\n",
              "          document.querySelector('#df-5b9665a0-4f66-4ce3-9048-8a85988ab6f5 button.colab-df-convert');\n",
              "        buttonEl.style.display =\n",
              "          google.colab.kernel.accessAllowed ? 'block' : 'none';\n",
              "\n",
              "        async function convertToInteractive(key) {\n",
              "          const element = document.querySelector('#df-5b9665a0-4f66-4ce3-9048-8a85988ab6f5');\n",
              "          const dataTable =\n",
              "            await google.colab.kernel.invokeFunction('convertToInteractive',\n",
              "                                                     [key], {});\n",
              "          if (!dataTable) return;\n",
              "\n",
              "          const docLinkHtml = 'Like what you see? Visit the ' +\n",
              "            '<a target=\"_blank\" href=https://colab.research.google.com/notebooks/data_table.ipynb>data table notebook</a>'\n",
              "            + ' to learn more about interactive tables.';\n",
              "          element.innerHTML = '';\n",
              "          dataTable['output_type'] = 'display_data';\n",
              "          await google.colab.output.renderOutput(dataTable, element);\n",
              "          const docLink = document.createElement('div');\n",
              "          docLink.innerHTML = docLinkHtml;\n",
              "          element.appendChild(docLink);\n",
              "        }\n",
              "      </script>\n",
              "    </div>\n",
              "  </div>\n",
              "  "
            ]
          },
          "metadata": {},
          "execution_count": 5
        }
      ],
      "source": [
        "financial_data.head(10)"
      ]
    },
    {
      "cell_type": "code",
      "execution_count": null,
      "metadata": {
        "colab": {
          "base_uri": "https://localhost:8080/"
        },
        "id": "R2rKtH56YePy",
        "outputId": "84e097a4-9188-4a7b-e211-511f3ce15e75"
      },
      "outputs": [
        {
          "output_type": "execute_result",
          "data": {
            "text/plain": [
              "(5842, 2)"
            ]
          },
          "metadata": {},
          "execution_count": 6
        }
      ],
      "source": [
        "financial_data.shape"
      ]
    },
    {
      "cell_type": "markdown",
      "metadata": {
        "id": "ajgGruqEnSfs"
      },
      "source": [
        "## Tokenizer\n",
        "\n",
        "The tokenizer class `GPT2Tokenizer` inherits properties from the superclass `PreTrainedTokenizer`, which inherits from [`PreTrainedTokenizerBase`](https://huggingface.co/docs/transformers/v4.17.0/en/internal/tokenization_utils#transformers.PreTrainedTokenizerBase). You can look up the class propeties in the links below:\n",
        "\n",
        "`GPT2Tokenizer` Documentation: https://huggingface.co/docs/transformers/model_doc/gpt2\n",
        "\n",
        "`PreTrainedTokenizer`: https://huggingface.co/docs/transformers/v4.17.0/en/main_classes/tokenizer#transformers.PreTrainedTokenizer\n",
        "\n",
        "*****Note**: You can also use the `AutoTokenizer` class, which will instantiate an instance of the same tokenizer class. Found at https://huggingface.co/docs/transformers/v4.17.0/en/model_doc/auto#transformers.AutoTokenizer"
      ]
    },
    {
      "cell_type": "code",
      "execution_count": null,
      "metadata": {
        "id": "44EhGqmk5USV",
        "colab": {
          "base_uri": "https://localhost:8080/",
          "height": 145,
          "referenced_widgets": [
            "5862d7effe72494684c8ace81d4e9cce",
            "1ad7e962381c4a148e430565b3fa30ae",
            "88ace2ce7dbf4cf99cb0f22e134c9e8c",
            "5be3f858883047b29b34b4de496b7468",
            "a0247d6fd0314419883df82fd16927f2",
            "574da3e4cb684ea29ccc5e96860ec339",
            "ebfd322df85f4b2d8c1e9c45d9f5ffd5",
            "28d637d3e2274a2abec5f50312b92c2d",
            "da13d834b6ad43db89d4dfb7c29aed61",
            "561c31c971d14f4583d8f92055756743",
            "ae681127793843cab429996cf4f0c6ac",
            "d55b39d566ad4ddb86cddb427a3a1e39",
            "d652919ca6a4451cb73cf0e2bed14a99",
            "653f27ad03f7451eb9375b4c91f1b4f4",
            "d98a6e3b0542438aa5c5c1c2b2536411",
            "f43078517c24492a9484f611427daeb9",
            "97156ebd044542ef94af4e59ea0f5fed",
            "dd3801b9f8fe429c8ad2c9dd5b06c76f",
            "954ecff780704881b1782b16d691198f",
            "a3d400902dbb4d9f9b7c97480183f036",
            "74423dfcb539491c88eb14e0adb76359",
            "bebff593cdef4463981121f097f9382f",
            "e988104a43e24620aeac67b47948e859",
            "45b463040d054ee390d1ee3fab9a548d",
            "9f4e45d83e674df995d1c521a74d26b4",
            "ff791b04b6df4921866fe759a9f7fea6",
            "1e97429874cb4df4967ab74e333f7a04",
            "2f002f8bc758460587c0c3f45f1ef8bd",
            "12520fc9507d47699073adc9bebe169a",
            "8e443af33b8b4c4098d4889ec220cadc",
            "65030bbf7c5e44d7bc481b7fa8024832",
            "374adeadde1047118fcc7cfbf399e0c9",
            "baf3dc7effe44a739a59f10fea695927",
            "93a0d747a89940efaa7323e004c74168",
            "4175f3d284c14ed4a0b128464ca12d66",
            "c35ebe507cac437dbe9f24070a6160f7",
            "ba3094aed14549d79abda6f465bc8023",
            "6cf26a29ae52490e98a712c23fb51c34",
            "acb63a487db5453b865816de8f9d47ca",
            "e72e5ba37e0b4cd9b29d26ec16957157",
            "f44390f9f4944e71963498644d704512",
            "f4ac784c0a364438a9775b4dcd086072",
            "017828b2330e4711b94039b3abc094b1",
            "a7b8d8e46f25491bbf6e84411756b547"
          ]
        },
        "outputId": "39296eed-5336-41e7-cfb8-86168a07bafa"
      },
      "outputs": [
        {
          "output_type": "display_data",
          "data": {
            "text/plain": [
              "Downloading:   0%|          | 0.00/0.99M [00:00<?, ?B/s]"
            ],
            "application/vnd.jupyter.widget-view+json": {
              "version_major": 2,
              "version_minor": 0,
              "model_id": "5862d7effe72494684c8ace81d4e9cce"
            }
          },
          "metadata": {}
        },
        {
          "output_type": "display_data",
          "data": {
            "text/plain": [
              "Downloading:   0%|          | 0.00/446k [00:00<?, ?B/s]"
            ],
            "application/vnd.jupyter.widget-view+json": {
              "version_major": 2,
              "version_minor": 0,
              "model_id": "d55b39d566ad4ddb86cddb427a3a1e39"
            }
          },
          "metadata": {}
        },
        {
          "output_type": "display_data",
          "data": {
            "text/plain": [
              "Downloading:   0%|          | 0.00/1.29M [00:00<?, ?B/s]"
            ],
            "application/vnd.jupyter.widget-view+json": {
              "version_major": 2,
              "version_minor": 0,
              "model_id": "e988104a43e24620aeac67b47948e859"
            }
          },
          "metadata": {}
        },
        {
          "output_type": "display_data",
          "data": {
            "text/plain": [
              "Downloading:   0%|          | 0.00/665 [00:00<?, ?B/s]"
            ],
            "application/vnd.jupyter.widget-view+json": {
              "version_major": 2,
              "version_minor": 0,
              "model_id": "93a0d747a89940efaa7323e004c74168"
            }
          },
          "metadata": {}
        }
      ],
      "source": [
        "from transformers import GPT2TokenizerFast\n",
        "\n",
        "gpt_tokenizer = GPT2TokenizerFast.from_pretrained(\"gpt2\", do_lower_case=True)"
      ]
    },
    {
      "cell_type": "markdown",
      "metadata": {
        "id": "dKhPXuSC4T5Z"
      },
      "source": [
        "Since GPT-2 doesn't utilize a padding token during pre-training. We can define one ourselves. However, the model wouldn't recognize this and you would need to train GPT-2 again to account for this. Therefore, we will just use the existing EOS token as padding.\n",
        "\n",
        "(FYI: you can add new tokens by modifiying the class parameters in https://huggingface.co/docs/transformers/v4.17.0/en/main_classes/tokenizer#transformers.PreTrainedTokenizer. It should be under the first set of parameters listed.)\n",
        "\n",
        "Our way of doing it: `eos_token`. You can also access the `add_special_tokens` parameter, which digs into the `add_special_tokens` call parameter and adds the new token."
      ]
    },
    {
      "cell_type": "code",
      "execution_count": null,
      "metadata": {
        "id": "dhvbJ1oN3nY0"
      },
      "outputs": [],
      "source": [
        "gpt_tokenizer.pad_token = gpt_tokenizer.eos_token"
      ]
    },
    {
      "cell_type": "code",
      "execution_count": null,
      "metadata": {
        "colab": {
          "base_uri": "https://localhost:8080/"
        },
        "id": "TR-z9TOaqaKN",
        "outputId": "08604181-0005-4bdc-d274-dc051e1a2aa8"
      },
      "outputs": [
        {
          "output_type": "stream",
          "name": "stdout",
          "text": [
            "Train data size  218\n",
            "* Original:   The GeoSolutions technology will leverage Benefon 's GPS solutions by providing Location Based Search Technology , a Communities Platform , location relevant multimedia content and a new and powerful commercial model .\n",
            "* Tokenized:  ['The', 'ĠGeo', 'S', 'olutions', 'Ġtechnology', 'Ġwill', 'Ġleverage', 'ĠBenef', 'on', \"Ġ'\", 's', 'ĠGPS', 'Ġsolutions', 'Ġby', 'Ġproviding', 'ĠLocation', 'ĠBased', 'ĠSearch', 'ĠTechnology', 'Ġ,', 'Ġa', 'ĠCommunities', 'ĠPlatform', 'Ġ,', 'Ġlocation', 'Ġrelevant', 'Ġmultimedia', 'Ġcontent', 'Ġand', 'Ġa', 'Ġnew', 'Ġand', 'Ġpowerful', 'Ġcommercial', 'Ġmodel', 'Ġ.']\n",
            "* Token IDs:  [464, 32960, 50, 14191, 3037, 481, 16094, 19899, 261, 705, 82, 15472, 8136, 416, 4955, 13397, 13403, 11140, 8987, 837, 257, 35530, 19193, 837, 4067, 5981, 40162, 2695, 290, 257, 649, 290, 3665, 5068, 2746, 764]\n"
          ]
        }
      ],
      "source": [
        "example_tokenization = financial_data['Sentence'][0]\n",
        "\n",
        "print(\"Train data size \", len(example_tokenization))\n",
        "print('* Original:  ', example_tokenization)\n",
        "# Print the sentence split into tokens.\n",
        "print('* Tokenized: ', gpt_tokenizer.tokenize(example_tokenization))\n",
        "# Print the sentence mapped to token ids.\n",
        "print('* Token IDs: ', gpt_tokenizer.convert_tokens_to_ids(gpt_tokenizer.tokenize(example_tokenization)))"
      ]
    },
    {
      "cell_type": "code",
      "execution_count": null,
      "metadata": {
        "id": "UJXo8QDuok_u"
      },
      "outputs": [],
      "source": [
        "\n",
        "MAX_LEN = 50"
      ]
    },
    {
      "cell_type": "code",
      "execution_count": null,
      "metadata": {
        "id": "KIQ4-HQE1i1f"
      },
      "outputs": [],
      "source": [
        "data_input = financial_data['Sentence'].values\n",
        "label_input = financial_data['Sentiment'].values"
      ]
    },
    {
      "cell_type": "markdown",
      "metadata": {
        "id": "snQQdwBl66xo"
      },
      "source": [
        "We now build the GPT-2 tokenizer with the following setup:\n",
        "\n",
        "*   default 12 transformer layers.\n",
        "*   max length set for transformer input.\n",
        "*   pad to max length.\n",
        "*   don't return token types.\n",
        "*   activate truncation.\n",
        "\n",
        "****The CLS and SEP tokens are added as the EOS token as the beginning of fine-tuning, as they are here. We use the EOS token to avoid re-training the model.*"
      ]
    },
    {
      "cell_type": "code",
      "execution_count": null,
      "metadata": {
        "id": "-HDJWPi4RvkW"
      },
      "outputs": [],
      "source": [
        "gpt_tokenizer.cls_token = gpt_tokenizer.eos_token\n",
        "gpt_tokenizer.sep_token = gpt_tokenizer.eos_token"
      ]
    },
    {
      "cell_type": "code",
      "execution_count": null,
      "metadata": {
        "id": "6A1Wye0JyCyy"
      },
      "outputs": [],
      "source": [
        "tokenized_data_inputs = gpt_tokenizer(\n",
        "    data_input.tolist(),          # Input text\n",
        "    add_special_tokens=True,      # add '<|CLS|>' and '<|SEP|>'\n",
        "    padding='max_length',         # pad to a length specified by the max_length\n",
        "    max_length=MAX_LEN,           # truncate all sentences longer than max_length\n",
        "    truncation=True,              # activate truncation so batched tensors are the same length\n",
        "    return_tensors='pt',          # return everything we need as PyTorch tensors\n",
        ")"
      ]
    },
    {
      "cell_type": "markdown",
      "metadata": {
        "id": "7Z3vxyZc7wnj"
      },
      "source": [
        "## Training and Validation Split"
      ]
    },
    {
      "cell_type": "code",
      "execution_count": null,
      "metadata": {
        "id": "4btITYFL716v"
      },
      "outputs": [],
      "source": [
        "from sklearn.model_selection import train_test_split\n",
        "from torch.utils.data import TensorDataset, DataLoader, RandomSampler, SequentialSampler"
      ]
    },
    {
      "cell_type": "code",
      "execution_count": null,
      "metadata": {
        "id": "H5Q5Mn3P9g3R"
      },
      "outputs": [],
      "source": [
        "input_seqs = tokenized_data_inputs['input_ids']\n",
        "attention_masks = tokenized_data_inputs['attention_mask']"
      ]
    },
    {
      "cell_type": "code",
      "execution_count": null,
      "metadata": {
        "id": "eSZ2UcDR_YNe"
      },
      "outputs": [],
      "source": [
        "def train_valid_split(input_ids, attention_masks, labels):\n",
        "    # Use 70% for training and 30% for validation and testing.\n",
        "    train_seq, eval_seq, train_masks, eval_masks, train_labels, eval_labels = train_test_split(\n",
        "        input_ids, attention_masks, labels, random_state=2018, test_size=0.3, stratify=labels, shuffle=True\n",
        "    )\n",
        "\n",
        "    val_seq, test_seq, val_masks, test_masks, val_labels, test_labels = train_test_split(\n",
        "        eval_seq, eval_masks, eval_labels, random_state=2018, test_size=0.5, stratify=eval_labels, shuffle=True\n",
        "    )\n",
        "\n",
        "    return train_seq, train_masks, train_labels, val_seq, val_masks, val_labels, test_seq, test_masks, test_labels\n"
      ]
    },
    {
      "cell_type": "code",
      "execution_count": null,
      "metadata": {
        "id": "tl_l_BX5Docd"
      },
      "outputs": [],
      "source": [
        "train_seq, train_masks, train_labels, val_seq, val_masks, val_labels, test_seq, test_masks, test_labels = train_valid_split(input_seqs, attention_masks, label_input)"
      ]
    },
    {
      "cell_type": "markdown",
      "metadata": {
        "id": "Htddc16qG7PL"
      },
      "source": [
        "Change the sentinment into numerical representation. This version of CE Loss will use class indices instead of probabilities. You can check out the class indice and the probabilistic on-hot versions at \n",
        "https://pytorch.org/docs/stable/generated/torch.nn.CrossEntropyLoss.html"
      ]
    },
    {
      "cell_type": "code",
      "execution_count": null,
      "metadata": {
        "id": "cPBC_IbIFqFM"
      },
      "outputs": [],
      "source": [
        "train_labels[train_labels == 'neutral'] = 0\n",
        "train_labels[train_labels == 'positive'] = 1\n",
        "train_labels[train_labels == 'negative'] = 2\n",
        "\n",
        "val_labels[val_labels == 'neutral'] = 0\n",
        "val_labels[val_labels == 'positive'] = 1\n",
        "val_labels[val_labels == 'negative'] = 2\n",
        "\n",
        "test_labels[test_labels == 'neutral'] = 0\n",
        "test_labels[test_labels == 'positive'] = 1\n",
        "test_labels[test_labels == 'negative'] = 2"
      ]
    },
    {
      "cell_type": "code",
      "execution_count": null,
      "metadata": {
        "id": "U5sgS3ujfzP5"
      },
      "outputs": [],
      "source": [
        "train_labels = torch.from_numpy(train_labels.astype('int64'))\n",
        "val_labels = torch.from_numpy(val_labels.astype('int64'))\n",
        "test_labels = torch.from_numpy(test_labels.astype('int64'))"
      ]
    },
    {
      "cell_type": "markdown",
      "metadata": {
        "id": "03iHdCi8IeS9"
      },
      "source": [
        "We now want to define a Dataloader to load our training and validation data."
      ]
    },
    {
      "cell_type": "code",
      "execution_count": null,
      "metadata": {
        "id": "SuZYngIgIUfN"
      },
      "outputs": [],
      "source": [
        "from torch.utils.data import TensorDataset, DataLoader, RandomSampler, SequentialSampler"
      ]
    },
    {
      "cell_type": "markdown",
      "metadata": {
        "id": "8jjs6EFiU84C"
      },
      "source": [
        "Change the batch size: 8, 16, 32, 64, 128"
      ]
    },
    {
      "cell_type": "code",
      "execution_count": null,
      "metadata": {
        "id": "AnHz2HscIhyb"
      },
      "outputs": [],
      "source": [
        "batch_size = 128\n",
        "\n",
        "train_data = TensorDataset(train_seq, train_masks, train_labels)\n",
        "train_sampler = RandomSampler(train_data)\n",
        "train_dataloader = DataLoader(train_data, sampler=train_sampler, batch_size=batch_size)\n",
        "\n",
        "val_data = TensorDataset(val_seq, val_masks, val_labels)\n",
        "val_sampler = SequentialSampler(val_data)\n",
        "val_dataloader = DataLoader(val_data, sampler=val_sampler, batch_size=batch_size)"
      ]
    },
    {
      "cell_type": "markdown",
      "metadata": {
        "id": "pZvMmXrFkYV1"
      },
      "source": [
        "Adjust Class Weights for Imbalanced Training Dataset."
      ]
    },
    {
      "cell_type": "code",
      "execution_count": null,
      "metadata": {
        "id": "t6zcrouvkX8W"
      },
      "outputs": [],
      "source": [
        "from sklearn.utils.class_weight import compute_class_weight"
      ]
    },
    {
      "cell_type": "code",
      "execution_count": null,
      "metadata": {
        "id": "HgPRPOoZkghL"
      },
      "outputs": [],
      "source": [
        "class_wts = compute_class_weight(class_weight = 'balanced', classes = np.unique(train_labels), y = np.array(train_labels))"
      ]
    },
    {
      "cell_type": "code",
      "execution_count": null,
      "metadata": {
        "id": "UYjX8jIdkmbO"
      },
      "outputs": [],
      "source": [
        "# convert class weights to tensor\n",
        "weights = torch.tensor(class_wts, dtype=torch.float)\n",
        "weights = weights.to(device)"
      ]
    },
    {
      "cell_type": "markdown",
      "metadata": {
        "id": "YExnEcQzpXyV"
      },
      "source": [
        "## Setting Up GPT-2 Model for SequenceClassification\n",
        "\n",
        "We are going to be using the `from_pretrained` module for this task. `GPT2Config` module is used to set the number of labels in the built-in classification head to be 3.\n",
        "\n",
        "We can find the model documentation here: https://huggingface.co/docs/transformers/model_doc/gpt2#transformers.GPT2ForSequenceClassification\n",
        "\n",
        "If you want to use the `from_pretrained` module: https://huggingface.co/docs/transformers/v4.18.0/en/main_classes/model#transformers.PreTrainedModel.from_pretrained\n",
        "\n",
        " ****If you want to use the GPT2ForSequenceClassification module directly like we did before, that's ok too and it's possible to config it as such. It will yield the same result.*"
      ]
    },
    {
      "cell_type": "code",
      "execution_count": null,
      "metadata": {
        "colab": {
          "base_uri": "https://localhost:8080/",
          "height": 104,
          "referenced_widgets": [
            "b8b20c7e7fd24119bb9f633237d0b28f",
            "6d764cb95ab34613898c31916d4b3562",
            "28ab9c09265d4b2caf77c58ed968a44e",
            "ae332b8045324ac7b4bbbb00425737ba",
            "bb815eb42293435f95e81fcd3cda7799",
            "88b4dbf72cbd4bbbbb98eb05e6e0d65b",
            "47d5d0132dab42d7bd5d81719605d0b3",
            "0fd88e38068a4873b913c0af0e61a111",
            "f312864719d94786b1c4d37c09b18582",
            "229d1a0106134b449de4f79448adaed5",
            "2a79bb7edb0046c499008a4f67f8443f"
          ]
        },
        "id": "7fYBJJeN4Lw2",
        "outputId": "942251cc-2a1c-4aa0-9092-b50f2b8eee74"
      },
      "outputs": [
        {
          "output_type": "display_data",
          "data": {
            "text/plain": [
              "Downloading:   0%|          | 0.00/523M [00:00<?, ?B/s]"
            ],
            "application/vnd.jupyter.widget-view+json": {
              "version_major": 2,
              "version_minor": 0,
              "model_id": "b8b20c7e7fd24119bb9f633237d0b28f"
            }
          },
          "metadata": {}
        },
        {
          "output_type": "stream",
          "name": "stderr",
          "text": [
            "Some weights of GPT2ForSequenceClassification were not initialized from the model checkpoint at gpt2 and are newly initialized: ['score.weight']\n",
            "You should probably TRAIN this model on a down-stream task to be able to use it for predictions and inference.\n"
          ]
        }
      ],
      "source": [
        "from transformers import GPT2ForSequenceClassification, GPT2Config\n",
        "\n",
        "# Initializing a GPT2 configuration\n",
        "configuration = GPT2Config(num_labels=3)\n",
        "\n",
        "# Initializing a model from the configuration\n",
        "gpt2Model = GPT2ForSequenceClassification.from_pretrained(\"gpt2\", config=configuration)\n",
        "gpt2Model.config.num_labels = 3\n",
        "gpt2Model.config.pad_token_id = gpt2Model.config.eos_token_id"
      ]
    },
    {
      "cell_type": "code",
      "execution_count": null,
      "metadata": {
        "id": "g3X0gdhb5AaK"
      },
      "outputs": [],
      "source": [
        "class GPTForSentinmentClassification(nn.Module):\n",
        "    def __init__(self, gpt_model):\n",
        "        super().__init__()\n",
        "        \n",
        "        self.gpt = gpt_model\n",
        "\n",
        "        self.loss = torch.nn.CrossEntropyLoss(weight=weights)\n",
        "\n",
        "    def forward(self, input_ids=None, attention_mask=None, labels=None):\n",
        "        outputs = self.gpt(input_ids, attention_mask=attention_mask)\n",
        "        logits = outputs.logits\n",
        "\n",
        "        if labels is not None:\n",
        "            outputs = (logits, self.loss(logits, labels))\n",
        "        else:\n",
        "            outputs = (logits,)\n",
        "        return outputs"
      ]
    },
    {
      "cell_type": "code",
      "execution_count": null,
      "metadata": {
        "id": "knbwsQKqL5AF"
      },
      "outputs": [],
      "source": [
        "gpt2_model = GPTForSentinmentClassification(gpt2Model)"
      ]
    },
    {
      "cell_type": "code",
      "execution_count": null,
      "metadata": {
        "colab": {
          "base_uri": "https://localhost:8080/"
        },
        "id": "xrW3OjAsMCqq",
        "outputId": "a5e7513b-1157-4dee-fe55-c4db45ac9742"
      },
      "outputs": [
        {
          "output_type": "stream",
          "name": "stdout",
          "text": [
            "GPT-2 has 149 different named parameters.\n",
            "\n",
            "==== Embedding Layer ====\n",
            "\n",
            "gpt.transformer.wte.weight                              (50257, 768)\n",
            "gpt.transformer.wpe.weight                               (1024, 768)\n",
            "\n",
            "==== 1st Transformer Layer ====\n",
            "\n",
            "gpt.transformer.h.0.ln_1.weight                               (768,)\n",
            "gpt.transformer.h.0.ln_1.bias                                 (768,)\n",
            "gpt.transformer.h.0.attn.c_attn.weight                   (768, 2304)\n",
            "gpt.transformer.h.0.attn.c_attn.bias                         (2304,)\n",
            "gpt.transformer.h.0.attn.c_proj.weight                    (768, 768)\n",
            "gpt.transformer.h.0.attn.c_proj.bias                          (768,)\n",
            "gpt.transformer.h.0.ln_2.weight                               (768,)\n",
            "gpt.transformer.h.0.ln_2.bias                                 (768,)\n",
            "gpt.transformer.h.0.mlp.c_fc.weight                      (768, 3072)\n",
            "gpt.transformer.h.0.mlp.c_fc.bias                            (3072,)\n",
            "gpt.transformer.h.0.mlp.c_proj.weight                    (3072, 768)\n",
            "gpt.transformer.h.0.mlp.c_proj.bias                           (768,)\n",
            "\n",
            "==== 2nd Transformer Layer ====\n",
            "\n",
            "gpt.transformer.h.1.ln_1.weight                               (768,)\n",
            "gpt.transformer.h.1.ln_1.bias                                 (768,)\n",
            "gpt.transformer.h.1.attn.c_attn.weight                   (768, 2304)\n",
            "gpt.transformer.h.1.attn.c_attn.bias                         (2304,)\n",
            "gpt.transformer.h.1.attn.c_proj.weight                    (768, 768)\n",
            "gpt.transformer.h.1.attn.c_proj.bias                          (768,)\n",
            "gpt.transformer.h.1.ln_2.weight                               (768,)\n",
            "gpt.transformer.h.1.ln_2.bias                                 (768,)\n",
            "gpt.transformer.h.1.mlp.c_fc.weight                      (768, 3072)\n",
            "gpt.transformer.h.1.mlp.c_fc.bias                            (3072,)\n",
            "gpt.transformer.h.1.mlp.c_proj.weight                    (3072, 768)\n",
            "gpt.transformer.h.1.mlp.c_proj.bias                           (768,)\n",
            "\n",
            "==== 3rd Transformer Layer ====\n",
            "\n",
            "gpt.transformer.h.2.ln_1.weight                               (768,)\n",
            "gpt.transformer.h.2.ln_1.bias                                 (768,)\n",
            "gpt.transformer.h.2.attn.c_attn.weight                   (768, 2304)\n",
            "gpt.transformer.h.2.attn.c_attn.bias                         (2304,)\n",
            "gpt.transformer.h.2.attn.c_proj.weight                    (768, 768)\n",
            "gpt.transformer.h.2.attn.c_proj.bias                          (768,)\n",
            "gpt.transformer.h.2.ln_2.weight                               (768,)\n",
            "gpt.transformer.h.2.ln_2.bias                                 (768,)\n",
            "gpt.transformer.h.2.mlp.c_fc.weight                      (768, 3072)\n",
            "gpt.transformer.h.2.mlp.c_fc.bias                            (3072,)\n",
            "gpt.transformer.h.2.mlp.c_proj.weight                    (3072, 768)\n",
            "gpt.transformer.h.2.mlp.c_proj.bias                           (768,)\n",
            "\n",
            "==== Output Layer ====\n",
            "\n",
            "gpt.transformer.h.11.mlp.c_proj.weight                   (3072, 768)\n",
            "gpt.transformer.h.11.mlp.c_proj.bias                          (768,)\n",
            "gpt.transformer.ln_f.weight                                   (768,)\n",
            "gpt.transformer.ln_f.bias                                     (768,)\n",
            "gpt.score.weight                                            (3, 768)\n"
          ]
        }
      ],
      "source": [
        "# Model parameters visualization\n",
        "params = list(gpt2_model.named_parameters())\n",
        "\n",
        "print('GPT-2 has {:} different named parameters.\\n'.format(len(params)))\n",
        "\n",
        "print('==== Embedding Layer ====\\n')\n",
        "\n",
        "for p in params[0:2]:\n",
        "    print(\"{:<55} {:>12}\".format(p[0], str(tuple(p[1].size()))))\n",
        "\n",
        "print('\\n==== 1st Transformer Layer ====\\n')\n",
        "\n",
        "for p in params[2:14]:\n",
        "    print(\"{:<55} {:>12}\".format(p[0], str(tuple(p[1].size()))))\n",
        "\n",
        "print('\\n==== 2nd Transformer Layer ====\\n')\n",
        "\n",
        "for p in params[14:26]:\n",
        "    print(\"{:<55} {:>12}\".format(p[0], str(tuple(p[1].size()))))\n",
        "\n",
        "print('\\n==== 3rd Transformer Layer ====\\n')\n",
        "\n",
        "for p in params[26:38]:\n",
        "    print(\"{:<55} {:>12}\".format(p[0], str(tuple(p[1].size()))))\n",
        "\n",
        "print('\\n==== Output Layer ====\\n')\n",
        "\n",
        "for p in params[-5:]:\n",
        "    print(\"{:<55} {:>12}\".format(p[0], str(tuple(p[1].size()))))"
      ]
    },
    {
      "cell_type": "markdown",
      "metadata": {
        "id": "Q-UEMDN8ajHS"
      },
      "source": [
        "## Freeze the Transformer Layer(s):"
      ]
    },
    {
      "cell_type": "markdown",
      "metadata": {
        "id": "UZphRiUbUwCp"
      },
      "source": [
        "Freeze the first 6 layers for optimal model:"
      ]
    },
    {
      "cell_type": "code",
      "execution_count": null,
      "metadata": {
        "colab": {
          "base_uri": "https://localhost:8080/"
        },
        "id": "ir759zUUaihn",
        "outputId": "1488ed04-e460-4ae7-c83b-40b2a600790d"
      },
      "outputs": [
        {
          "output_type": "stream",
          "name": "stdout",
          "text": [
            "gpt.transformer.h.0.ln_1.weight\n",
            "gpt.transformer.h.0.ln_1.bias\n",
            "gpt.transformer.h.0.attn.c_attn.weight\n",
            "gpt.transformer.h.0.attn.c_attn.bias\n",
            "gpt.transformer.h.0.attn.c_proj.weight\n",
            "gpt.transformer.h.0.attn.c_proj.bias\n",
            "gpt.transformer.h.0.ln_2.weight\n",
            "gpt.transformer.h.0.ln_2.bias\n",
            "gpt.transformer.h.0.mlp.c_fc.weight\n",
            "gpt.transformer.h.0.mlp.c_fc.bias\n",
            "gpt.transformer.h.0.mlp.c_proj.weight\n",
            "gpt.transformer.h.0.mlp.c_proj.bias\n",
            "gpt.transformer.h.1.ln_1.weight\n",
            "gpt.transformer.h.1.ln_1.bias\n",
            "gpt.transformer.h.1.attn.c_attn.weight\n",
            "gpt.transformer.h.1.attn.c_attn.bias\n",
            "gpt.transformer.h.1.attn.c_proj.weight\n",
            "gpt.transformer.h.1.attn.c_proj.bias\n",
            "gpt.transformer.h.1.ln_2.weight\n",
            "gpt.transformer.h.1.ln_2.bias\n",
            "gpt.transformer.h.1.mlp.c_fc.weight\n",
            "gpt.transformer.h.1.mlp.c_fc.bias\n",
            "gpt.transformer.h.1.mlp.c_proj.weight\n",
            "gpt.transformer.h.1.mlp.c_proj.bias\n",
            "gpt.transformer.h.2.ln_1.weight\n",
            "gpt.transformer.h.2.ln_1.bias\n",
            "gpt.transformer.h.2.attn.c_attn.weight\n",
            "gpt.transformer.h.2.attn.c_attn.bias\n",
            "gpt.transformer.h.2.attn.c_proj.weight\n",
            "gpt.transformer.h.2.attn.c_proj.bias\n",
            "gpt.transformer.h.2.ln_2.weight\n",
            "gpt.transformer.h.2.ln_2.bias\n",
            "gpt.transformer.h.2.mlp.c_fc.weight\n",
            "gpt.transformer.h.2.mlp.c_fc.bias\n",
            "gpt.transformer.h.2.mlp.c_proj.weight\n",
            "gpt.transformer.h.2.mlp.c_proj.bias\n",
            "gpt.transformer.h.3.ln_1.weight\n",
            "gpt.transformer.h.3.ln_1.bias\n",
            "gpt.transformer.h.3.attn.c_attn.weight\n",
            "gpt.transformer.h.3.attn.c_attn.bias\n",
            "gpt.transformer.h.3.attn.c_proj.weight\n",
            "gpt.transformer.h.3.attn.c_proj.bias\n",
            "gpt.transformer.h.3.ln_2.weight\n",
            "gpt.transformer.h.3.ln_2.bias\n",
            "gpt.transformer.h.3.mlp.c_fc.weight\n",
            "gpt.transformer.h.3.mlp.c_fc.bias\n",
            "gpt.transformer.h.3.mlp.c_proj.weight\n",
            "gpt.transformer.h.3.mlp.c_proj.bias\n",
            "gpt.transformer.h.4.ln_1.weight\n",
            "gpt.transformer.h.4.ln_1.bias\n",
            "gpt.transformer.h.4.attn.c_attn.weight\n",
            "gpt.transformer.h.4.attn.c_attn.bias\n",
            "gpt.transformer.h.4.attn.c_proj.weight\n",
            "gpt.transformer.h.4.attn.c_proj.bias\n",
            "gpt.transformer.h.4.ln_2.weight\n",
            "gpt.transformer.h.4.ln_2.bias\n",
            "gpt.transformer.h.4.mlp.c_fc.weight\n",
            "gpt.transformer.h.4.mlp.c_fc.bias\n",
            "gpt.transformer.h.4.mlp.c_proj.weight\n",
            "gpt.transformer.h.4.mlp.c_proj.bias\n",
            "gpt.transformer.h.5.ln_1.weight\n",
            "gpt.transformer.h.5.ln_1.bias\n",
            "gpt.transformer.h.5.attn.c_attn.weight\n",
            "gpt.transformer.h.5.attn.c_attn.bias\n",
            "gpt.transformer.h.5.attn.c_proj.weight\n",
            "gpt.transformer.h.5.attn.c_proj.bias\n",
            "gpt.transformer.h.5.ln_2.weight\n",
            "gpt.transformer.h.5.ln_2.bias\n",
            "gpt.transformer.h.5.mlp.c_fc.weight\n",
            "gpt.transformer.h.5.mlp.c_fc.bias\n",
            "gpt.transformer.h.5.mlp.c_proj.weight\n",
            "gpt.transformer.h.5.mlp.c_proj.bias\n"
          ]
        }
      ],
      "source": [
        "for name, param in gpt2_model.named_parameters():\n",
        "  if 'gpt.transformer.h.0.' in name or 'gpt.transformer.h.1.' in name\\\n",
        "     or 'gpt.transformer.h.2.' in name or 'gpt.transformer.h.3.' in name\\\n",
        "     or 'gpt.transformer.h.4.' in name or 'gpt.transformer.h.5.' in name:\n",
        "    print(name)\n",
        "    param.requires_grad = False"
      ]
    },
    {
      "cell_type": "markdown",
      "metadata": {
        "id": "IMHlubVckN4-"
      },
      "source": [
        "Mount the model onto device."
      ]
    },
    {
      "cell_type": "code",
      "execution_count": null,
      "metadata": {
        "id": "GNKWyFH-kGd8"
      },
      "outputs": [],
      "source": [
        "# Use GPU, if available\n",
        "device = torch.device(\"cuda\" if torch.cuda.is_available() else \"cpu\")\n",
        "gpt2_model = gpt2_model.to(device)"
      ]
    },
    {
      "cell_type": "markdown",
      "metadata": {
        "id": "vQHGrigYPdeg"
      },
      "source": [
        "## Training the Model"
      ]
    },
    {
      "cell_type": "markdown",
      "metadata": {
        "id": "kG4qjeCsTOCd"
      },
      "source": [
        "\n",
        "*   Batch Size\n",
        "*   Learning Rate\n",
        "*   Weight Decay\n",
        "\n",
        "We can find more hyperparameters to tune with Config: https://huggingface.co/docs/transformers/model_doc/gpt2\n",
        "\n",
        "Here, we needed to use some of the code from the assignment.\n"
      ]
    },
    {
      "cell_type": "code",
      "execution_count": null,
      "metadata": {
        "id": "HG5MDfbfPc_x"
      },
      "outputs": [],
      "source": [
        "from torch.optim import AdamW\n",
        "import time\n",
        "import datetime\n",
        "from transformers import get_linear_schedule_with_warmup\n",
        "from tqdm import tqdm"
      ]
    },
    {
      "cell_type": "code",
      "execution_count": null,
      "metadata": {
        "id": "Asi6QXLqAb4G"
      },
      "outputs": [],
      "source": [
        "def flat_accuracy(preds, labels):\n",
        "    pred_flat = np.argmax(preds, axis=1).flatten()\n",
        "    labels_flat = labels.flatten()\n",
        "    return np.sum(pred_flat == labels_flat) / len(labels_flat)"
      ]
    },
    {
      "cell_type": "code",
      "execution_count": null,
      "metadata": {
        "id": "hIXynL0lAdvs"
      },
      "outputs": [],
      "source": [
        "def format_time(elapsed):\n",
        "    elapsed_rounded = int(round((elapsed)))\n",
        "    return str(datetime.timedelta(seconds=elapsed_rounded))"
      ]
    },
    {
      "cell_type": "code",
      "execution_count": null,
      "metadata": {
        "id": "pGAFrUFlAfxo"
      },
      "outputs": [],
      "source": [
        "def get_optimizer_and_scheduler(model, total_steps, lr=2e-5, weight_decay=0.01):\n",
        "    # Apply weight decay to all parameters beside the biases\n",
        "    no_decay = ['bias']\n",
        "    optimizer_grouped_parameters = [\n",
        "        {\n",
        "            'params': [p for n, p in model.named_parameters() if not any(nd in n for nd in no_decay)],\n",
        "            'weight_decay': weight_decay},\n",
        "        {\n",
        "            'params': [p for n, p in model.named_parameters() if any(nd in n for nd in no_decay)],\n",
        "            'weight_decay': 0.0\n",
        "        }\n",
        "    ]\n",
        "    optimizer = AdamW(model.parameters(), lr=lr)\n",
        "    scheduler = get_linear_schedule_with_warmup(\n",
        "        optimizer,\n",
        "        # Warmup learning rate for first 10% of training steps\n",
        "        num_warmup_steps=int(0.10 * total_steps), \n",
        "        num_training_steps=total_steps,\n",
        "    )\n",
        "    return optimizer, scheduler"
      ]
    },
    {
      "cell_type": "markdown",
      "metadata": {
        "id": "UXmzCUiHVFd4"
      },
      "source": [
        "Set the learning rates: 0.01, 0.005, 0.001, 0.0005, 0.0001, 0.00005, 0.00003\n"
      ]
    },
    {
      "cell_type": "code",
      "execution_count": null,
      "metadata": {
        "id": "eFiqE2uSAl1T"
      },
      "outputs": [],
      "source": [
        "def train_model(model, epochs, train_dataloader, validation_dataloader):\n",
        "\n",
        "    # Set learning rate and weight decay:\n",
        "    lr = 0.00003\n",
        "    weight_decay = 0.01\n",
        "\n",
        "    # Setup optimizer and LR scheduler.\n",
        "    total_steps = len(train_dataloader) * epochs\n",
        "    optimizer, scheduler = get_optimizer_and_scheduler(\n",
        "        model, total_steps, lr=lr, weight_decay=weight_decay\n",
        "    )\n",
        "\n",
        "    loss_values = []\n",
        "    train_acc_values = []\n",
        "\n",
        "    eval_loss_vals = []\n",
        "    eval_accs = []\n",
        "\n",
        "    for epoch in range(0, epochs):\n",
        "        t0 = time.time()\n",
        "\n",
        "        total_loss = 0\n",
        "        total_train_accuracy = 0\n",
        "\n",
        "        # Initiate training mode.\n",
        "        model.train()\n",
        "\n",
        "        with tqdm(train_dataloader, unit=\"batch\") as train_pbar:\n",
        "\n",
        "            # Training with each batch in the training set:\n",
        "            for batch in train_pbar:\n",
        "                train_pbar.set_description(f\"Training (epoch {epoch + 1})\")\n",
        "\n",
        "                # Splitting the training batch into it's respective parts:\n",
        "                b_input_ids = batch[0].to(device)\n",
        "                b_input_mask = batch[1].to(device)\n",
        "                b_labels = batch[2].to(device)\n",
        "\n",
        "                # Clear previously calculated gradients:\n",
        "                model.zero_grad()        \n",
        "\n",
        "                # Get model predictions and loss:\n",
        "                outputs = model(\n",
        "                    input_ids=b_input_ids, \n",
        "                    attention_mask=b_input_mask, \n",
        "                    labels=b_labels\n",
        "                )\n",
        "                \n",
        "                train_logits, loss = outputs\n",
        "\n",
        "                # Move the training logits and training labels to CPU\n",
        "                train_logits = train_logits.detach().cpu().numpy()\n",
        "                label_ids_train = b_labels.to('cpu').numpy()\n",
        "\n",
        "                # Calculate the accuracy for this batch of training sentences.\n",
        "                tmp_train_accuracy = flat_accuracy(train_logits, label_ids_train)\n",
        "\n",
        "                # Accumulate total training accuracy.\n",
        "                total_train_accuracy += tmp_train_accuracy\n",
        "\n",
        "                total_loss += loss.item()\n",
        "\n",
        "                # Backprop.\n",
        "                loss.backward()\n",
        "\n",
        "                # Clip the the gradients to 1.0. It helps in preventing the exploding gradient problem.\n",
        "                torch.nn.utils.clip_grad_norm_(model.parameters(), 1.0)\n",
        "\n",
        "                # Update parameters.\n",
        "                optimizer.step()\n",
        "\n",
        "                scheduler.step()\n",
        "\n",
        "        # Calculate the average loss and accuracy over the training data.\n",
        "        avg_train_loss = total_loss / len(train_dataloader)    \n",
        "        avg_train_accuracy = total_train_accuracy / len(train_dataloader)  \n",
        "        \n",
        "        # Store the loss and accuracy values for plotting the learning curve.\n",
        "        loss_values.append(avg_train_loss)\n",
        "        train_acc_values.append(avg_train_accuracy)\n",
        "\n",
        "        print(\"  * Average training loss: {0:.2f}\".format(avg_train_loss))\n",
        "        print(\"  * Average training accuracy: {0:.2f}\".format(avg_train_accuracy))\n",
        "        print(\"  * Training epoch took: {:}\".format(format_time(time.time() - t0)))\n",
        "            \n",
        "        print(\"Running Validation...\")\n",
        "\n",
        "        t0 = time.time()\n",
        "        model.eval()\n",
        "\n",
        "        eval_loss, eval_accuracy = 0, 0\n",
        "        nb_eval_steps, nb_eval_examples = 0, 0\n",
        "\n",
        "        # Evaluate data for one epoch\n",
        "        for batch in validation_dataloader:\n",
        "            batch = tuple(t.to(device) for t in batch)\n",
        "            b_input_ids, b_input_mask, b_labels = batch\n",
        "            \n",
        "            with torch.no_grad():        \n",
        "                outputs = model(\n",
        "                    input_ids=b_input_ids, \n",
        "                    attention_mask=b_input_mask,\n",
        "                    labels=b_labels\n",
        "                )\n",
        "\n",
        "            v_loss = outputs[1]\n",
        "            eval_loss += v_loss.item()\n",
        "\n",
        "            # Get the \"logits\" output by the model. The \"logits\" are the output\n",
        "            # values prior to applying an activation function like the softmax.\n",
        "            logits = outputs[0]\n",
        "            # Move logits and labels to CPU\n",
        "            logits = logits.detach().cpu().numpy()\n",
        "            label_ids = b_labels.to('cpu').numpy()\n",
        "            # Calculate the accuracy for this batch of test sentences.\n",
        "            tmp_eval_accuracy = flat_accuracy(logits, label_ids)\n",
        "            # Accumulate the total accuracy.\n",
        "            eval_accuracy += tmp_eval_accuracy\n",
        "            # Track the number of batches\n",
        "            nb_eval_steps += 1\n",
        "\n",
        "        avg_eval_loss = eval_loss/nb_eval_steps\n",
        "        avg_eval_acc = eval_accuracy/nb_eval_steps\n",
        "\n",
        "        print(\"  * Loss: {0:.2f}\".format(avg_eval_loss))\n",
        "        print(\"  * Accuracy: {0:.2f}\".format(avg_eval_acc))\n",
        "        print(\"  * Validation took: {:}\".format(format_time(time.time() - t0)))\n",
        "\n",
        "        eval_loss_vals.append(avg_eval_loss)\n",
        "        eval_accs.append(avg_eval_acc)\n",
        "    print(\"Training complete!\")\n",
        "    return loss_values, train_acc_values, eval_loss_vals, eval_accs"
      ]
    },
    {
      "cell_type": "code",
      "execution_count": null,
      "metadata": {
        "colab": {
          "base_uri": "https://localhost:8080/"
        },
        "id": "uaxx1j9iBMx3",
        "outputId": "f0d63789-080a-4934-ca21-2154f8860491"
      },
      "outputs": [
        {
          "output_type": "stream",
          "name": "stderr",
          "text": [
            "Training (epoch 1): 100%|██████████| 32/32 [01:01<00:00,  1.92s/batch]\n"
          ]
        },
        {
          "output_type": "stream",
          "name": "stdout",
          "text": [
            "  * Average training loss: 0.14\n",
            "  * Average training accuracy: 0.92\n",
            "  * Training epoch took: 0:01:02\n",
            "Running Validation...\n",
            "  * Loss: 0.79\n",
            "  * Accuracy: 0.77\n",
            "  * Validation took: 0:00:05\n"
          ]
        },
        {
          "output_type": "stream",
          "name": "stderr",
          "text": [
            "Training (epoch 2): 100%|██████████| 32/32 [01:01<00:00,  1.91s/batch]\n"
          ]
        },
        {
          "output_type": "stream",
          "name": "stdout",
          "text": [
            "  * Average training loss: 0.15\n",
            "  * Average training accuracy: 0.92\n",
            "  * Training epoch took: 0:01:01\n",
            "Running Validation...\n",
            "  * Loss: 0.82\n",
            "  * Accuracy: 0.77\n",
            "  * Validation took: 0:00:05\n"
          ]
        },
        {
          "output_type": "stream",
          "name": "stderr",
          "text": [
            "Training (epoch 3): 100%|██████████| 32/32 [01:01<00:00,  1.91s/batch]\n"
          ]
        },
        {
          "output_type": "stream",
          "name": "stdout",
          "text": [
            "  * Average training loss: 0.14\n",
            "  * Average training accuracy: 0.92\n",
            "  * Training epoch took: 0:01:01\n",
            "Running Validation...\n",
            "  * Loss: 0.88\n",
            "  * Accuracy: 0.78\n",
            "  * Validation took: 0:00:05\n"
          ]
        },
        {
          "output_type": "stream",
          "name": "stderr",
          "text": [
            "Training (epoch 4): 100%|██████████| 32/32 [01:01<00:00,  1.91s/batch]\n"
          ]
        },
        {
          "output_type": "stream",
          "name": "stdout",
          "text": [
            "  * Average training loss: 0.16\n",
            "  * Average training accuracy: 0.92\n",
            "  * Training epoch took: 0:01:01\n",
            "Running Validation...\n",
            "  * Loss: 0.82\n",
            "  * Accuracy: 0.77\n",
            "  * Validation took: 0:00:05\n"
          ]
        },
        {
          "output_type": "stream",
          "name": "stderr",
          "text": [
            "Training (epoch 5): 100%|██████████| 32/32 [01:01<00:00,  1.91s/batch]\n"
          ]
        },
        {
          "output_type": "stream",
          "name": "stdout",
          "text": [
            "  * Average training loss: 0.15\n",
            "  * Average training accuracy: 0.92\n",
            "  * Training epoch took: 0:01:01\n",
            "Running Validation...\n",
            "  * Loss: 0.82\n",
            "  * Accuracy: 0.77\n",
            "  * Validation took: 0:00:05\n"
          ]
        },
        {
          "output_type": "stream",
          "name": "stderr",
          "text": [
            "Training (epoch 6): 100%|██████████| 32/32 [01:01<00:00,  1.91s/batch]\n"
          ]
        },
        {
          "output_type": "stream",
          "name": "stdout",
          "text": [
            "  * Average training loss: 0.14\n",
            "  * Average training accuracy: 0.92\n",
            "  * Training epoch took: 0:01:01\n",
            "Running Validation...\n",
            "  * Loss: 0.82\n",
            "  * Accuracy: 0.76\n",
            "  * Validation took: 0:00:05\n"
          ]
        },
        {
          "output_type": "stream",
          "name": "stderr",
          "text": [
            "Training (epoch 7): 100%|██████████| 32/32 [01:01<00:00,  1.91s/batch]\n"
          ]
        },
        {
          "output_type": "stream",
          "name": "stdout",
          "text": [
            "  * Average training loss: 0.14\n",
            "  * Average training accuracy: 0.92\n",
            "  * Training epoch took: 0:01:01\n",
            "Running Validation...\n",
            "  * Loss: 0.83\n",
            "  * Accuracy: 0.76\n",
            "  * Validation took: 0:00:05\n"
          ]
        },
        {
          "output_type": "stream",
          "name": "stderr",
          "text": [
            "Training (epoch 8): 100%|██████████| 32/32 [01:01<00:00,  1.91s/batch]\n"
          ]
        },
        {
          "output_type": "stream",
          "name": "stdout",
          "text": [
            "  * Average training loss: 0.14\n",
            "  * Average training accuracy: 0.92\n",
            "  * Training epoch took: 0:01:01\n",
            "Running Validation...\n",
            "  * Loss: 0.87\n",
            "  * Accuracy: 0.76\n",
            "  * Validation took: 0:00:05\n"
          ]
        },
        {
          "output_type": "stream",
          "name": "stderr",
          "text": [
            "Training (epoch 9): 100%|██████████| 32/32 [01:01<00:00,  1.91s/batch]\n"
          ]
        },
        {
          "output_type": "stream",
          "name": "stdout",
          "text": [
            "  * Average training loss: 0.14\n",
            "  * Average training accuracy: 0.92\n",
            "  * Training epoch took: 0:01:01\n",
            "Running Validation...\n",
            "  * Loss: 0.87\n",
            "  * Accuracy: 0.75\n",
            "  * Validation took: 0:00:05\n"
          ]
        },
        {
          "output_type": "stream",
          "name": "stderr",
          "text": [
            "Training (epoch 10): 100%|██████████| 32/32 [01:01<00:00,  1.91s/batch]\n"
          ]
        },
        {
          "output_type": "stream",
          "name": "stdout",
          "text": [
            "  * Average training loss: 0.14\n",
            "  * Average training accuracy: 0.92\n",
            "  * Training epoch took: 0:01:01\n",
            "Running Validation...\n",
            "  * Loss: 0.88\n",
            "  * Accuracy: 0.76\n",
            "  * Validation took: 0:00:05\n"
          ]
        },
        {
          "output_type": "stream",
          "name": "stderr",
          "text": [
            "Training (epoch 11): 100%|██████████| 32/32 [01:01<00:00,  1.91s/batch]\n"
          ]
        },
        {
          "output_type": "stream",
          "name": "stdout",
          "text": [
            "  * Average training loss: 0.13\n",
            "  * Average training accuracy: 0.92\n",
            "  * Training epoch took: 0:01:01\n",
            "Running Validation...\n",
            "  * Loss: 0.95\n",
            "  * Accuracy: 0.76\n",
            "  * Validation took: 0:00:05\n"
          ]
        },
        {
          "output_type": "stream",
          "name": "stderr",
          "text": [
            "Training (epoch 12): 100%|██████████| 32/32 [01:00<00:00,  1.91s/batch]\n"
          ]
        },
        {
          "output_type": "stream",
          "name": "stdout",
          "text": [
            "  * Average training loss: 0.14\n",
            "  * Average training accuracy: 0.92\n",
            "  * Training epoch took: 0:01:01\n",
            "Running Validation...\n",
            "  * Loss: 0.91\n",
            "  * Accuracy: 0.76\n",
            "  * Validation took: 0:00:05\n"
          ]
        },
        {
          "output_type": "stream",
          "name": "stderr",
          "text": [
            "Training (epoch 13): 100%|██████████| 32/32 [01:01<00:00,  1.91s/batch]\n"
          ]
        },
        {
          "output_type": "stream",
          "name": "stdout",
          "text": [
            "  * Average training loss: 0.13\n",
            "  * Average training accuracy: 0.92\n",
            "  * Training epoch took: 0:01:01\n",
            "Running Validation...\n",
            "  * Loss: 0.92\n",
            "  * Accuracy: 0.75\n",
            "  * Validation took: 0:00:05\n"
          ]
        },
        {
          "output_type": "stream",
          "name": "stderr",
          "text": [
            "Training (epoch 14): 100%|██████████| 32/32 [01:01<00:00,  1.91s/batch]\n"
          ]
        },
        {
          "output_type": "stream",
          "name": "stdout",
          "text": [
            "  * Average training loss: 0.13\n",
            "  * Average training accuracy: 0.93\n",
            "  * Training epoch took: 0:01:01\n",
            "Running Validation...\n",
            "  * Loss: 0.93\n",
            "  * Accuracy: 0.76\n",
            "  * Validation took: 0:00:05\n"
          ]
        },
        {
          "output_type": "stream",
          "name": "stderr",
          "text": [
            "Training (epoch 15): 100%|██████████| 32/32 [01:00<00:00,  1.91s/batch]\n"
          ]
        },
        {
          "output_type": "stream",
          "name": "stdout",
          "text": [
            "  * Average training loss: 0.13\n",
            "  * Average training accuracy: 0.93\n",
            "  * Training epoch took: 0:01:01\n",
            "Running Validation...\n",
            "  * Loss: 1.00\n",
            "  * Accuracy: 0.76\n",
            "  * Validation took: 0:00:05\n"
          ]
        },
        {
          "output_type": "stream",
          "name": "stderr",
          "text": [
            "Training (epoch 16): 100%|██████████| 32/32 [01:01<00:00,  1.91s/batch]\n"
          ]
        },
        {
          "output_type": "stream",
          "name": "stdout",
          "text": [
            "  * Average training loss: 0.13\n",
            "  * Average training accuracy: 0.92\n",
            "  * Training epoch took: 0:01:01\n",
            "Running Validation...\n",
            "  * Loss: 0.96\n",
            "  * Accuracy: 0.76\n",
            "  * Validation took: 0:00:05\n"
          ]
        },
        {
          "output_type": "stream",
          "name": "stderr",
          "text": [
            "Training (epoch 17): 100%|██████████| 32/32 [01:01<00:00,  1.91s/batch]\n"
          ]
        },
        {
          "output_type": "stream",
          "name": "stdout",
          "text": [
            "  * Average training loss: 0.13\n",
            "  * Average training accuracy: 0.92\n",
            "  * Training epoch took: 0:01:01\n",
            "Running Validation...\n",
            "  * Loss: 0.96\n",
            "  * Accuracy: 0.76\n",
            "  * Validation took: 0:00:05\n"
          ]
        },
        {
          "output_type": "stream",
          "name": "stderr",
          "text": [
            "Training (epoch 18): 100%|██████████| 32/32 [01:01<00:00,  1.91s/batch]\n"
          ]
        },
        {
          "output_type": "stream",
          "name": "stdout",
          "text": [
            "  * Average training loss: 0.13\n",
            "  * Average training accuracy: 0.93\n",
            "  * Training epoch took: 0:01:01\n",
            "Running Validation...\n",
            "  * Loss: 1.05\n",
            "  * Accuracy: 0.75\n",
            "  * Validation took: 0:00:05\n"
          ]
        },
        {
          "output_type": "stream",
          "name": "stderr",
          "text": [
            "Training (epoch 19): 100%|██████████| 32/32 [01:01<00:00,  1.91s/batch]\n"
          ]
        },
        {
          "output_type": "stream",
          "name": "stdout",
          "text": [
            "  * Average training loss: 0.14\n",
            "  * Average training accuracy: 0.92\n",
            "  * Training epoch took: 0:01:01\n",
            "Running Validation...\n",
            "  * Loss: 0.99\n",
            "  * Accuracy: 0.76\n",
            "  * Validation took: 0:00:05\n"
          ]
        },
        {
          "output_type": "stream",
          "name": "stderr",
          "text": [
            "Training (epoch 20): 100%|██████████| 32/32 [01:00<00:00,  1.90s/batch]\n"
          ]
        },
        {
          "output_type": "stream",
          "name": "stdout",
          "text": [
            "  * Average training loss: 0.12\n",
            "  * Average training accuracy: 0.93\n",
            "  * Training epoch took: 0:01:01\n",
            "Running Validation...\n",
            "  * Loss: 1.04\n",
            "  * Accuracy: 0.75\n",
            "  * Validation took: 0:00:05\n"
          ]
        },
        {
          "output_type": "stream",
          "name": "stderr",
          "text": [
            "Training (epoch 21): 100%|██████████| 32/32 [01:01<00:00,  1.91s/batch]\n"
          ]
        },
        {
          "output_type": "stream",
          "name": "stdout",
          "text": [
            "  * Average training loss: 0.13\n",
            "  * Average training accuracy: 0.92\n",
            "  * Training epoch took: 0:01:01\n",
            "Running Validation...\n",
            "  * Loss: 1.01\n",
            "  * Accuracy: 0.75\n",
            "  * Validation took: 0:00:05\n"
          ]
        },
        {
          "output_type": "stream",
          "name": "stderr",
          "text": [
            "Training (epoch 22): 100%|██████████| 32/32 [01:01<00:00,  1.91s/batch]\n"
          ]
        },
        {
          "output_type": "stream",
          "name": "stdout",
          "text": [
            "  * Average training loss: 0.13\n",
            "  * Average training accuracy: 0.93\n",
            "  * Training epoch took: 0:01:01\n",
            "Running Validation...\n",
            "  * Loss: 1.01\n",
            "  * Accuracy: 0.75\n",
            "  * Validation took: 0:00:05\n"
          ]
        },
        {
          "output_type": "stream",
          "name": "stderr",
          "text": [
            "Training (epoch 23): 100%|██████████| 32/32 [01:01<00:00,  1.91s/batch]\n"
          ]
        },
        {
          "output_type": "stream",
          "name": "stdout",
          "text": [
            "  * Average training loss: 0.12\n",
            "  * Average training accuracy: 0.93\n",
            "  * Training epoch took: 0:01:01\n",
            "Running Validation...\n",
            "  * Loss: 1.04\n",
            "  * Accuracy: 0.75\n",
            "  * Validation took: 0:00:05\n"
          ]
        },
        {
          "output_type": "stream",
          "name": "stderr",
          "text": [
            "Training (epoch 24): 100%|██████████| 32/32 [01:00<00:00,  1.91s/batch]\n"
          ]
        },
        {
          "output_type": "stream",
          "name": "stdout",
          "text": [
            "  * Average training loss: 0.12\n",
            "  * Average training accuracy: 0.93\n",
            "  * Training epoch took: 0:01:01\n",
            "Running Validation...\n",
            "  * Loss: 1.03\n",
            "  * Accuracy: 0.75\n",
            "  * Validation took: 0:00:05\n"
          ]
        },
        {
          "output_type": "stream",
          "name": "stderr",
          "text": [
            "Training (epoch 25): 100%|██████████| 32/32 [01:01<00:00,  1.91s/batch]\n"
          ]
        },
        {
          "output_type": "stream",
          "name": "stdout",
          "text": [
            "  * Average training loss: 0.12\n",
            "  * Average training accuracy: 0.93\n",
            "  * Training epoch took: 0:01:01\n",
            "Running Validation...\n",
            "  * Loss: 1.03\n",
            "  * Accuracy: 0.75\n",
            "  * Validation took: 0:00:05\n"
          ]
        },
        {
          "output_type": "stream",
          "name": "stderr",
          "text": [
            "Training (epoch 26): 100%|██████████| 32/32 [01:01<00:00,  1.91s/batch]\n"
          ]
        },
        {
          "output_type": "stream",
          "name": "stdout",
          "text": [
            "  * Average training loss: 0.13\n",
            "  * Average training accuracy: 0.93\n",
            "  * Training epoch took: 0:01:01\n",
            "Running Validation...\n",
            "  * Loss: 1.03\n",
            "  * Accuracy: 0.76\n",
            "  * Validation took: 0:00:05\n"
          ]
        },
        {
          "output_type": "stream",
          "name": "stderr",
          "text": [
            "Training (epoch 27): 100%|██████████| 32/32 [01:01<00:00,  1.91s/batch]\n"
          ]
        },
        {
          "output_type": "stream",
          "name": "stdout",
          "text": [
            "  * Average training loss: 0.12\n",
            "  * Average training accuracy: 0.93\n",
            "  * Training epoch took: 0:01:01\n",
            "Running Validation...\n",
            "  * Loss: 1.06\n",
            "  * Accuracy: 0.75\n",
            "  * Validation took: 0:00:05\n"
          ]
        },
        {
          "output_type": "stream",
          "name": "stderr",
          "text": [
            "Training (epoch 28): 100%|██████████| 32/32 [01:01<00:00,  1.91s/batch]\n"
          ]
        },
        {
          "output_type": "stream",
          "name": "stdout",
          "text": [
            "  * Average training loss: 0.12\n",
            "  * Average training accuracy: 0.93\n",
            "  * Training epoch took: 0:01:01\n",
            "Running Validation...\n",
            "  * Loss: 1.05\n",
            "  * Accuracy: 0.75\n",
            "  * Validation took: 0:00:05\n"
          ]
        },
        {
          "output_type": "stream",
          "name": "stderr",
          "text": [
            "Training (epoch 29): 100%|██████████| 32/32 [01:01<00:00,  1.91s/batch]\n"
          ]
        },
        {
          "output_type": "stream",
          "name": "stdout",
          "text": [
            "  * Average training loss: 0.12\n",
            "  * Average training accuracy: 0.93\n",
            "  * Training epoch took: 0:01:01\n",
            "Running Validation...\n",
            "  * Loss: 1.06\n",
            "  * Accuracy: 0.75\n",
            "  * Validation took: 0:00:05\n"
          ]
        },
        {
          "output_type": "stream",
          "name": "stderr",
          "text": [
            "Training (epoch 30): 100%|██████████| 32/32 [01:01<00:00,  1.91s/batch]\n"
          ]
        },
        {
          "output_type": "stream",
          "name": "stdout",
          "text": [
            "  * Average training loss: 0.12\n",
            "  * Average training accuracy: 0.93\n",
            "  * Training epoch took: 0:01:01\n",
            "Running Validation...\n",
            "  * Loss: 1.06\n",
            "  * Accuracy: 0.75\n",
            "  * Validation took: 0:00:05\n",
            "Training complete!\n"
          ]
        }
      ],
      "source": [
        "gpt2_train_loss_vals, gpt2_train_accs, gpt2_eval_loss_vals, gpt2_eval_accs = train_model(\n",
        "    model=gpt2_model,\n",
        "    epochs=30, \n",
        "    train_dataloader=train_dataloader,\n",
        "    validation_dataloader=val_dataloader\n",
        ")"
      ]
    },
    {
      "cell_type": "markdown",
      "metadata": {
        "id": "A8X4Faw_j_Mh"
      },
      "source": [
        "## Storing the Results"
      ]
    },
    {
      "cell_type": "code",
      "execution_count": 3,
      "metadata": {
        "id": "Zq7OvVIckmND"
      },
      "outputs": [],
      "source": [
        "import json"
      ]
    },
    {
      "cell_type": "code",
      "execution_count": null,
      "metadata": {
        "colab": {
          "base_uri": "https://localhost:8080/"
        },
        "id": "RAZAYPS_hAZU",
        "outputId": "554464d8-cba6-4e45-86d6-3e00b089beaf"
      },
      "outputs": [
        {
          "output_type": "execute_result",
          "data": {
            "text/plain": [
              "(0.9300486667097108, 29)"
            ]
          },
          "metadata": {},
          "execution_count": 63
        }
      ],
      "source": [
        "max(gpt2_train_accs) , np.argmax(gpt2_train_accs) + 1"
      ]
    },
    {
      "cell_type": "code",
      "execution_count": null,
      "metadata": {
        "colab": {
          "base_uri": "https://localhost:8080/"
        },
        "id": "WovG1YrQhAkK",
        "outputId": "679c3f0e-5528-4f12-e0c2-9d82642d96d4"
      },
      "outputs": [
        {
          "output_type": "execute_result",
          "data": {
            "text/plain": [
              "(0.7760003306878307, 3)"
            ]
          },
          "metadata": {},
          "execution_count": 64
        }
      ],
      "source": [
        "max(gpt2_eval_accs) , np.argmax(gpt2_eval_accs) + 1"
      ]
    },
    {
      "cell_type": "code",
      "execution_count": 4,
      "metadata": {
        "id": "csK_rCt-j-IJ"
      },
      "outputs": [],
      "source": [
        "with open('lr_losses_gpt.json') as json_file:\n",
        "    loss_dict = json.load(json_file)"
      ]
    },
    {
      "cell_type": "code",
      "execution_count": 5,
      "metadata": {
        "colab": {
          "base_uri": "https://localhost:8080/"
        },
        "id": "sUnnsmT2mGeR",
        "outputId": "3abe0c57-7706-4122-8460-20c6eef1173a"
      },
      "outputs": [
        {
          "output_type": "execute_result",
          "data": {
            "text/plain": [
              "dict_keys(['0.0001', '0.00005', '0.00003', '0.01', '0.005', '0.001', '0.0005'])"
            ]
          },
          "metadata": {},
          "execution_count": 5
        }
      ],
      "source": [
        "loss_dict.keys()"
      ]
    },
    {
      "cell_type": "code",
      "execution_count": null,
      "metadata": {
        "id": "OOqFjZR7kGSO"
      },
      "outputs": [],
      "source": [
        "loss_dict['0.00003'] = {}"
      ]
    },
    {
      "cell_type": "code",
      "execution_count": null,
      "metadata": {
        "id": "3sCcQJ7bkNtc"
      },
      "outputs": [],
      "source": [
        "loss_dict['0.00003']['training_loss'] = gpt2_train_loss_vals\n",
        "loss_dict['0.00003']['val_loss'] = gpt2_eval_loss_vals"
      ]
    },
    {
      "cell_type": "code",
      "execution_count": null,
      "metadata": {
        "colab": {
          "base_uri": "https://localhost:8080/"
        },
        "id": "T_ZnOoNBtdu3",
        "outputId": "0a13dd67-559b-41e0-c467-78d6e0368bf7"
      },
      "outputs": [
        {
          "output_type": "execute_result",
          "data": {
            "text/plain": [
              "dict_keys(['0.0001', '0.00005', '0.00003'])"
            ]
          },
          "metadata": {},
          "execution_count": 69
        }
      ],
      "source": [
        "loss_dict.keys()"
      ]
    },
    {
      "cell_type": "code",
      "execution_count": null,
      "metadata": {
        "id": "EURsPN8KkdaF"
      },
      "outputs": [],
      "source": [
        "with open(\"lr_losses_gpt.json\", \"w\") as outfile:\n",
        "    json.dump(loss_dict, outfile)\n",
        "    \n",
        "outfile.close()"
      ]
    },
    {
      "cell_type": "code",
      "execution_count": 6,
      "metadata": {
        "id": "vwjT06Z2lImN"
      },
      "outputs": [],
      "source": [
        "with open('lr_accs_gpt.json') as json_file:\n",
        "    acc_dict = json.load(json_file)"
      ]
    },
    {
      "cell_type": "code",
      "execution_count": null,
      "metadata": {
        "id": "AXM6qHuUlLRz"
      },
      "outputs": [],
      "source": [
        "acc_dict['0.00003'] = {}"
      ]
    },
    {
      "cell_type": "code",
      "execution_count": null,
      "metadata": {
        "id": "ykFSO4aClNWz"
      },
      "outputs": [],
      "source": [
        "acc_dict['0.00003']['training_acc'] = gpt2_train_accs\n",
        "acc_dict['0.00005']['val_acc'] = gpt2_eval_accs"
      ]
    },
    {
      "cell_type": "code",
      "execution_count": 7,
      "metadata": {
        "colab": {
          "base_uri": "https://localhost:8080/"
        },
        "id": "DlbhisxC0xmX",
        "outputId": "92bf1124-f06d-4611-9a0b-b8143dff9065"
      },
      "outputs": [
        {
          "output_type": "execute_result",
          "data": {
            "text/plain": [
              "dict_keys(['0.0001', '0.00005', '0.00003', '0.01', '0.005', '0.001', '0.0005'])"
            ]
          },
          "metadata": {},
          "execution_count": 7
        }
      ],
      "source": [
        "acc_dict.keys()"
      ]
    },
    {
      "cell_type": "code",
      "execution_count": null,
      "metadata": {
        "id": "eckg6FrBlVhr"
      },
      "outputs": [],
      "source": [
        "with open(\"lr_accs_gpt.json\", \"w\") as outfile:\n",
        "    json.dump(acc_dict, outfile)\n",
        "    \n",
        "outfile.close()"
      ]
    },
    {
      "cell_type": "markdown",
      "metadata": {
        "id": "7gt-eWCkylYs"
      },
      "source": [
        "## Get Predictions for Test Data"
      ]
    },
    {
      "cell_type": "code",
      "execution_count": null,
      "metadata": {
        "id": "r7-aTbiUy8FO"
      },
      "outputs": [],
      "source": [
        "from sklearn.metrics import classification_report"
      ]
    },
    {
      "cell_type": "code",
      "execution_count": null,
      "metadata": {
        "id": "OxB6onpxyj73"
      },
      "outputs": [],
      "source": [
        "# get predictions for test data\n",
        "with torch.no_grad():\n",
        "  preds = gpt2_model(input_ids=test_seq.to(device), attention_mask=test_masks.to(device))\n",
        "  preds = preds[0].detach().cpu().numpy()"
      ]
    },
    {
      "cell_type": "code",
      "execution_count": null,
      "metadata": {
        "id": "Icgyg1RM2ZED"
      },
      "outputs": [],
      "source": [
        "def test_flat_accuracy(preds, labels):\n",
        "    pred_flat = np.argmax(preds, axis = 1)\n",
        "    labels_flat = np.array(labels.flatten())\n",
        "    return np.sum(pred_flat == labels_flat) / len(labels_flat)"
      ]
    },
    {
      "cell_type": "code",
      "execution_count": null,
      "metadata": {
        "colab": {
          "base_uri": "https://localhost:8080/"
        },
        "id": "zZrS5FFQ2KUQ",
        "outputId": "228d35e2-b7b5-4469-af16-556d6a5b020b"
      },
      "outputs": [
        {
          "output_type": "execute_result",
          "data": {
            "text/plain": [
              "0.7639680729760547"
            ]
          },
          "metadata": {},
          "execution_count": 79
        }
      ],
      "source": [
        "test_flat_accuracy(preds, test_labels)"
      ]
    },
    {
      "cell_type": "code",
      "execution_count": null,
      "metadata": {
        "colab": {
          "base_uri": "https://localhost:8080/"
        },
        "id": "DM2IJHkdyoZt",
        "outputId": "4b2c6284-8a69-44a7-8b5a-8c2efd14d8d8"
      },
      "outputs": [
        {
          "output_type": "stream",
          "name": "stdout",
          "text": [
            "              precision    recall  f1-score   support\n",
            "\n",
            "           0       0.84      0.76      0.80       470\n",
            "           1       0.84      0.86      0.85       278\n",
            "           2       0.43      0.56      0.49       129\n",
            "\n",
            "    accuracy                           0.76       877\n",
            "   macro avg       0.71      0.73      0.71       877\n",
            "weighted avg       0.78      0.76      0.77       877\n",
            "\n"
          ]
        }
      ],
      "source": [
        "# model's performance\n",
        "preds = np.argmax(preds, axis = 1)\n",
        "print(classification_report(test_labels, preds))"
      ]
    },
    {
      "cell_type": "code",
      "execution_count": null,
      "metadata": {
        "colab": {
          "background_save": true,
          "base_uri": "https://localhost:8080/"
        },
        "id": "pMPyauQUyp3Q",
        "outputId": "f23be1c4-bf68-43c8-e55f-961bbe7b09a0"
      },
      "outputs": [
        {
          "data": {
            "text/html": [
              "\n",
              "  <div id=\"df-41b37a22-0093-48d4-add5-0795344c951f\">\n",
              "    <div class=\"colab-df-container\">\n",
              "      <div>\n",
              "<style scoped>\n",
              "    .dataframe tbody tr th:only-of-type {\n",
              "        vertical-align: middle;\n",
              "    }\n",
              "\n",
              "    .dataframe tbody tr th {\n",
              "        vertical-align: top;\n",
              "    }\n",
              "\n",
              "    .dataframe thead th {\n",
              "        text-align: right;\n",
              "    }\n",
              "</style>\n",
              "<table border=\"1\" class=\"dataframe\">\n",
              "  <thead>\n",
              "    <tr style=\"text-align: right;\">\n",
              "      <th>col_0</th>\n",
              "      <th>0</th>\n",
              "      <th>1</th>\n",
              "      <th>2</th>\n",
              "    </tr>\n",
              "    <tr>\n",
              "      <th>row_0</th>\n",
              "      <th></th>\n",
              "      <th></th>\n",
              "      <th></th>\n",
              "    </tr>\n",
              "  </thead>\n",
              "  <tbody>\n",
              "    <tr>\n",
              "      <th>0</th>\n",
              "      <td>349</td>\n",
              "      <td>30</td>\n",
              "      <td>91</td>\n",
              "    </tr>\n",
              "    <tr>\n",
              "      <th>1</th>\n",
              "      <td>22</td>\n",
              "      <td>245</td>\n",
              "      <td>11</td>\n",
              "    </tr>\n",
              "    <tr>\n",
              "      <th>2</th>\n",
              "      <td>46</td>\n",
              "      <td>11</td>\n",
              "      <td>72</td>\n",
              "    </tr>\n",
              "  </tbody>\n",
              "</table>\n",
              "</div>\n",
              "      <button class=\"colab-df-convert\" onclick=\"convertToInteractive('df-41b37a22-0093-48d4-add5-0795344c951f')\"\n",
              "              title=\"Convert this dataframe to an interactive table.\"\n",
              "              style=\"display:none;\">\n",
              "        \n",
              "  <svg xmlns=\"http://www.w3.org/2000/svg\" height=\"24px\"viewBox=\"0 0 24 24\"\n",
              "       width=\"24px\">\n",
              "    <path d=\"M0 0h24v24H0V0z\" fill=\"none\"/>\n",
              "    <path d=\"M18.56 5.44l.94 2.06.94-2.06 2.06-.94-2.06-.94-.94-2.06-.94 2.06-2.06.94zm-11 1L8.5 8.5l.94-2.06 2.06-.94-2.06-.94L8.5 2.5l-.94 2.06-2.06.94zm10 10l.94 2.06.94-2.06 2.06-.94-2.06-.94-.94-2.06-.94 2.06-2.06.94z\"/><path d=\"M17.41 7.96l-1.37-1.37c-.4-.4-.92-.59-1.43-.59-.52 0-1.04.2-1.43.59L10.3 9.45l-7.72 7.72c-.78.78-.78 2.05 0 2.83L4 21.41c.39.39.9.59 1.41.59.51 0 1.02-.2 1.41-.59l7.78-7.78 2.81-2.81c.8-.78.8-2.07 0-2.86zM5.41 20L4 18.59l7.72-7.72 1.47 1.35L5.41 20z\"/>\n",
              "  </svg>\n",
              "      </button>\n",
              "      \n",
              "  <style>\n",
              "    .colab-df-container {\n",
              "      display:flex;\n",
              "      flex-wrap:wrap;\n",
              "      gap: 12px;\n",
              "    }\n",
              "\n",
              "    .colab-df-convert {\n",
              "      background-color: #E8F0FE;\n",
              "      border: none;\n",
              "      border-radius: 50%;\n",
              "      cursor: pointer;\n",
              "      display: none;\n",
              "      fill: #1967D2;\n",
              "      height: 32px;\n",
              "      padding: 0 0 0 0;\n",
              "      width: 32px;\n",
              "    }\n",
              "\n",
              "    .colab-df-convert:hover {\n",
              "      background-color: #E2EBFA;\n",
              "      box-shadow: 0px 1px 2px rgba(60, 64, 67, 0.3), 0px 1px 3px 1px rgba(60, 64, 67, 0.15);\n",
              "      fill: #174EA6;\n",
              "    }\n",
              "\n",
              "    [theme=dark] .colab-df-convert {\n",
              "      background-color: #3B4455;\n",
              "      fill: #D2E3FC;\n",
              "    }\n",
              "\n",
              "    [theme=dark] .colab-df-convert:hover {\n",
              "      background-color: #434B5C;\n",
              "      box-shadow: 0px 1px 3px 1px rgba(0, 0, 0, 0.15);\n",
              "      filter: drop-shadow(0px 1px 2px rgba(0, 0, 0, 0.3));\n",
              "      fill: #FFFFFF;\n",
              "    }\n",
              "  </style>\n",
              "\n",
              "      <script>\n",
              "        const buttonEl =\n",
              "          document.querySelector('#df-41b37a22-0093-48d4-add5-0795344c951f button.colab-df-convert');\n",
              "        buttonEl.style.display =\n",
              "          google.colab.kernel.accessAllowed ? 'block' : 'none';\n",
              "\n",
              "        async function convertToInteractive(key) {\n",
              "          const element = document.querySelector('#df-41b37a22-0093-48d4-add5-0795344c951f');\n",
              "          const dataTable =\n",
              "            await google.colab.kernel.invokeFunction('convertToInteractive',\n",
              "                                                     [key], {});\n",
              "          if (!dataTable) return;\n",
              "\n",
              "          const docLinkHtml = 'Like what you see? Visit the ' +\n",
              "            '<a target=\"_blank\" href=https://colab.research.google.com/notebooks/data_table.ipynb>data table notebook</a>'\n",
              "            + ' to learn more about interactive tables.';\n",
              "          element.innerHTML = '';\n",
              "          dataTable['output_type'] = 'display_data';\n",
              "          await google.colab.output.renderOutput(dataTable, element);\n",
              "          const docLink = document.createElement('div');\n",
              "          docLink.innerHTML = docLinkHtml;\n",
              "          element.appendChild(docLink);\n",
              "        }\n",
              "      </script>\n",
              "    </div>\n",
              "  </div>\n",
              "  "
            ],
            "text/plain": [
              "col_0    0    1   2\n",
              "row_0              \n",
              "0      349   30  91\n",
              "1       22  245  11\n",
              "2       46   11  72"
            ]
          },
          "execution_count": null,
          "metadata": {},
          "output_type": "execute_result"
        }
      ],
      "source": [
        "# confusion matrix\n",
        "pd.crosstab(test_labels, preds)"
      ]
    },
    {
      "cell_type": "markdown",
      "metadata": {
        "id": "c4PBO9E0mu4Z"
      },
      "source": [
        "## Training and Validation Loss Graphs"
      ]
    },
    {
      "cell_type": "code",
      "execution_count": 10,
      "metadata": {
        "id": "_qEWDcrIrVCo"
      },
      "outputs": [],
      "source": [
        "%matplotlib inline\n",
        "import matplotlib.pyplot as plt\n",
        "import seaborn as sns\n",
        "\n",
        "def plot_loss(eval_l_1, eval_l_2, eval_l_3, eval_l_4, eval_l_5, eval_l_6, eval_l_7):\n",
        "    sns.set(style='darkgrid')\n",
        "    sns.set(font_scale=1.5)\n",
        "    plt.rcParams[\"figure.figsize\"] = (12,6)\n",
        "    fig, ax1 = plt.subplots(1,1)\n",
        "    plt.title('GPT-2 Validation Loss by Learning Rate') \n",
        "    ax1.plot(np.arange(1, len(eval_l_1)+1), eval_l_1, 'b-o', label = '0.01')\n",
        "    ax1.plot(np.arange(1, len(eval_l_1)+1), eval_l_2, 'g-o', label = '0.005')\n",
        "    ax1.plot(np.arange(1, len(eval_l_1)+1), eval_l_3, 'r-o', label = '0.001')\n",
        "    ax1.plot(np.arange(1, len(eval_l_1)+1), eval_l_4, 'c-o', label = '0.0005')\n",
        "    ax1.plot(np.arange(1, len(eval_l_1)+1), eval_l_5, 'y-o', label = '0.0001')\n",
        "    ax1.plot(np.arange(1, len(eval_l_1)+1), eval_l_6, 'm-o', label = '0.00005')\n",
        "    ax1.plot(np.arange(1, len(eval_l_1)+1), eval_l_7, 'k-o', label = '0.00003')\n",
        "    ax1.set_xlabel(\"Epochs\", color='k')\n",
        "    ax1.set_ylabel(\"Loss\", color='k')\n",
        "    ax1.tick_params(axis='y', rotation=0, labelcolor='k' )\n",
        "    plt.legend(prop={'size': 10})\n",
        "    plt.show()"
      ]
    },
    {
      "cell_type": "code",
      "execution_count": 11,
      "metadata": {
        "colab": {
          "base_uri": "https://localhost:8080/",
          "height": 427
        },
        "id": "iiELHfuvd3_3",
        "outputId": "e6c7c7e5-0ec9-40ea-a890-8936a0124120"
      },
      "outputs": [
        {
          "output_type": "display_data",
          "data": {
            "text/plain": [
              "<Figure size 864x432 with 1 Axes>"
            ],
            "image/png": "[encoded data removed]"
          },
          "metadata": {}
        }
      ],
      "source": [
        "plot_loss(loss_dict['0.01']['val_loss'], loss_dict['0.005']['val_loss'], loss_dict['0.001']['val_loss'], loss_dict['0.0005']['val_loss'], loss_dict['0.0001']['val_loss'], loss_dict['0.00005']['val_loss'], loss_dict['0.00003']['val_loss'])"
      ]
    },
    {
      "cell_type": "markdown",
      "metadata": {
        "id": "h1doM1l5n7GP"
      },
      "source": [
        "## Training and Validation Accuracy Graphs"
      ]
    },
    {
      "cell_type": "code",
      "execution_count": 12,
      "metadata": {
        "id": "GRWUhZlKnedc"
      },
      "outputs": [],
      "source": [
        "def plot_acc(eval_l_1, eval_l_2, eval_l_3, eval_l_4, eval_l_5, eval_l_6, eval_l_7):\n",
        "    sns.set(style='darkgrid')\n",
        "    sns.set(font_scale=1.5)\n",
        "    plt.rcParams[\"figure.figsize\"] = (13,8)\n",
        "    fig, ax1 = plt.subplots(1,1)\n",
        "    plt.title('GPT-2 Validation Accuracy by Learning Rate') \n",
        "    ax1.plot(np.arange(1, len(eval_l_1)+1), eval_l_1, 'b-o', label = '0.01')\n",
        "    ax1.plot(np.arange(1, len(eval_l_1)+1), eval_l_2, 'g-o', label = '0.005')\n",
        "    ax1.plot(np.arange(1, len(eval_l_1)+1), eval_l_3, 'r-o', label = '0.001')\n",
        "    ax1.plot(np.arange(1, len(eval_l_1)+1), eval_l_4, 'c-o', label = '0.0005')\n",
        "    ax1.plot(np.arange(1, len(eval_l_1)+1), eval_l_5, 'y-o', label = '0.0001')\n",
        "    ax1.plot(np.arange(1, len(eval_l_1)+1), eval_l_6, 'm-o', label = '0.00005')\n",
        "    ax1.plot(np.arange(1, len(eval_l_1)+1), eval_l_7, 'k-o', label = '0.00003')\n",
        "    ax1.set_xlabel(\"Epochs\", color='k')\n",
        "    ax1.set_ylabel(\"Accuracy\", color='k')\n",
        "    ax1.tick_params(axis='y', rotation=0, labelcolor='k' )\n",
        "    plt.legend(prop={'size': 10})\n",
        "    plt.show()"
      ]
    },
    {
      "cell_type": "code",
      "execution_count": 13,
      "metadata": {
        "colab": {
          "base_uri": "https://localhost:8080/",
          "height": 535
        },
        "id": "X95AG8191tKv",
        "outputId": "5eecc3f7-8bec-4a48-cfe2-38c52d183098"
      },
      "outputs": [
        {
          "output_type": "display_data",
          "data": {
            "text/plain": [
              "<Figure size 936x576 with 1 Axes>"
            ],
            "image/png": "[encoded data removed]"
          },
          "metadata": {}
        }
      ],
      "source": [
        "plot_acc(acc_dict['0.01']['val_acc'], acc_dict['0.005']['val_acc'], acc_dict['0.001']['val_acc'], acc_dict['0.0005']['val_acc'], acc_dict['0.0001']['val_acc'], acc_dict['0.00005']['val_acc'], acc_dict['0.00003']['val_acc'])"
      ]
    },
    {
      "cell_type": "code",
      "source": [
        ""
      ],
      "metadata": {
        "id": "V7mM47Z3ZbZz"
      },
      "execution_count": null,
      "outputs": []
    }
  ],
  "metadata": {
    "accelerator": "GPU",
    "colab": {
      "collapsed_sections": [],
      "name": "GPT_2_SHC_hyperparameters.ipynb",
      "provenance": []
    },
    "kernelspec": {
      "display_name": "Python 3",
      "name": "python3"
    },
    "language_info": {
      "name": "python"
    },
    "widgets": {
      "application/vnd.jupyter.widget-state+json": {
        "5862d7effe72494684c8ace81d4e9cce": {
          "model_module": "@jupyter-widgets/controls",
          "model_name": "HBoxModel",
          "model_module_version": "1.5.0",
          "state": {
            "_dom_classes": [],
            "_model_module": "@jupyter-widgets/controls",
            "_model_module_version": "1.5.0",
            "_model_name": "HBoxModel",
            "_view_count": null,
            "_view_module": "@jupyter-widgets/controls",
            "_view_module_version": "1.5.0",
            "_view_name": "HBoxView",
            "box_style": "",
            "children": [
              "IPY_MODEL_1ad7e962381c4a148e430565b3fa30ae",
              "IPY_MODEL_88ace2ce7dbf4cf99cb0f22e134c9e8c",
              "IPY_MODEL_5be3f858883047b29b34b4de496b7468"
            ],
            "layout": "IPY_MODEL_a0247d6fd0314419883df82fd16927f2"
          }
        },
        "1ad7e962381c4a148e430565b3fa30ae": {
          "model_module": "@jupyter-widgets/controls",
          "model_name": "HTMLModel",
          "model_module_version": "1.5.0",
          "state": {
            "_dom_classes": [],
            "_model_module": "@jupyter-widgets/controls",
            "_model_module_version": "1.5.0",
            "_model_name": "HTMLModel",
            "_view_count": null,
            "_view_module": "@jupyter-widgets/controls",
            "_view_module_version": "1.5.0",
            "_view_name": "HTMLView",
            "description": "",
            "description_tooltip": null,
            "layout": "IPY_MODEL_574da3e4cb684ea29ccc5e96860ec339",
            "placeholder": "​",
            "style": "IPY_MODEL_ebfd322df85f4b2d8c1e9c45d9f5ffd5",
            "value": "Downloading: 100%"
          }
        },
        "88ace2ce7dbf4cf99cb0f22e134c9e8c": {
          "model_module": "@jupyter-widgets/controls",
          "model_name": "FloatProgressModel",
          "model_module_version": "1.5.0",
          "state": {
            "_dom_classes": [],
            "_model_module": "@jupyter-widgets/controls",
            "_model_module_version": "1.5.0",
            "_model_name": "FloatProgressModel",
            "_view_count": null,
            "_view_module": "@jupyter-widgets/controls",
            "_view_module_version": "1.5.0",
            "_view_name": "ProgressView",
            "bar_style": "success",
            "description": "",
            "description_tooltip": null,
            "layout": "IPY_MODEL_28d637d3e2274a2abec5f50312b92c2d",
            "max": 1042301,
            "min": 0,
            "orientation": "horizontal",
            "style": "IPY_MODEL_da13d834b6ad43db89d4dfb7c29aed61",
            "value": 1042301
          }
        },
        "5be3f858883047b29b34b4de496b7468": {
          "model_module": "@jupyter-widgets/controls",
          "model_name": "HTMLModel",
          "model_module_version": "1.5.0",
          "state": {
            "_dom_classes": [],
            "_model_module": "@jupyter-widgets/controls",
            "_model_module_version": "1.5.0",
            "_model_name": "HTMLModel",
            "_view_count": null,
            "_view_module": "@jupyter-widgets/controls",
            "_view_module_version": "1.5.0",
            "_view_name": "HTMLView",
            "description": "",
            "description_tooltip": null,
            "layout": "IPY_MODEL_561c31c971d14f4583d8f92055756743",
            "placeholder": "​",
            "style": "IPY_MODEL_ae681127793843cab429996cf4f0c6ac",
            "value": " 0.99M/0.99M [00:01&lt;00:00, 1.28MB/s]"
          }
        },
        "a0247d6fd0314419883df82fd16927f2": {
          "model_module": "@jupyter-widgets/base",
          "model_name": "LayoutModel",
          "model_module_version": "1.2.0",
          "state": {
            "_model_module": "@jupyter-widgets/base",
            "_model_module_version": "1.2.0",
            "_model_name": "LayoutModel",
            "_view_count": null,
            "_view_module": "@jupyter-widgets/base",
            "_view_module_version": "1.2.0",
            "_view_name": "LayoutView",
            "align_content": null,
            "align_items": null,
            "align_self": null,
            "border": null,
            "bottom": null,
            "display": null,
            "flex": null,
            "flex_flow": null,
            "grid_area": null,
            "grid_auto_columns": null,
            "grid_auto_flow": null,
            "grid_auto_rows": null,
            "grid_column": null,
            "grid_gap": null,
            "grid_row": null,
            "grid_template_areas": null,
            "grid_template_columns": null,
            "grid_template_rows": null,
            "height": null,
            "justify_content": null,
            "justify_items": null,
            "left": null,
            "margin": null,
            "max_height": null,
            "max_width": null,
            "min_height": null,
            "min_width": null,
            "object_fit": null,
            "object_position": null,
            "order": null,
            "overflow": null,
            "overflow_x": null,
            "overflow_y": null,
            "padding": null,
            "right": null,
            "top": null,
            "visibility": null,
            "width": null
          }
        },
        "574da3e4cb684ea29ccc5e96860ec339": {
          "model_module": "@jupyter-widgets/base",
          "model_name": "LayoutModel",
          "model_module_version": "1.2.0",
          "state": {
            "_model_module": "@jupyter-widgets/base",
            "_model_module_version": "1.2.0",
            "_model_name": "LayoutModel",
            "_view_count": null,
            "_view_module": "@jupyter-widgets/base",
            "_view_module_version": "1.2.0",
            "_view_name": "LayoutView",
            "align_content": null,
            "align_items": null,
            "align_self": null,
            "border": null,
            "bottom": null,
            "display": null,
            "flex": null,
            "flex_flow": null,
            "grid_area": null,
            "grid_auto_columns": null,
            "grid_auto_flow": null,
            "grid_auto_rows": null,
            "grid_column": null,
            "grid_gap": null,
            "grid_row": null,
            "grid_template_areas": null,
            "grid_template_columns": null,
            "grid_template_rows": null,
            "height": null,
            "justify_content": null,
            "justify_items": null,
            "left": null,
            "margin": null,
            "max_height": null,
            "max_width": null,
            "min_height": null,
            "min_width": null,
            "object_fit": null,
            "object_position": null,
            "order": null,
            "overflow": null,
            "overflow_x": null,
            "overflow_y": null,
            "padding": null,
            "right": null,
            "top": null,
            "visibility": null,
            "width": null
          }
        },
        "ebfd322df85f4b2d8c1e9c45d9f5ffd5": {
          "model_module": "@jupyter-widgets/controls",
          "model_name": "DescriptionStyleModel",
          "model_module_version": "1.5.0",
          "state": {
            "_model_module": "@jupyter-widgets/controls",
            "_model_module_version": "1.5.0",
            "_model_name": "DescriptionStyleModel",
            "_view_count": null,
            "_view_module": "@jupyter-widgets/base",
            "_view_module_version": "1.2.0",
            "_view_name": "StyleView",
            "description_width": ""
          }
        },
        "28d637d3e2274a2abec5f50312b92c2d": {
          "model_module": "@jupyter-widgets/base",
          "model_name": "LayoutModel",
          "model_module_version": "1.2.0",
          "state": {
            "_model_module": "@jupyter-widgets/base",
            "_model_module_version": "1.2.0",
            "_model_name": "LayoutModel",
            "_view_count": null,
            "_view_module": "@jupyter-widgets/base",
            "_view_module_version": "1.2.0",
            "_view_name": "LayoutView",
            "align_content": null,
            "align_items": null,
            "align_self": null,
            "border": null,
            "bottom": null,
            "display": null,
            "flex": null,
            "flex_flow": null,
            "grid_area": null,
            "grid_auto_columns": null,
            "grid_auto_flow": null,
            "grid_auto_rows": null,
            "grid_column": null,
            "grid_gap": null,
            "grid_row": null,
            "grid_template_areas": null,
            "grid_template_columns": null,
            "grid_template_rows": null,
            "height": null,
            "justify_content": null,
            "justify_items": null,
            "left": null,
            "margin": null,
            "max_height": null,
            "max_width": null,
            "min_height": null,
            "min_width": null,
            "object_fit": null,
            "object_position": null,
            "order": null,
            "overflow": null,
            "overflow_x": null,
            "overflow_y": null,
            "padding": null,
            "right": null,
            "top": null,
            "visibility": null,
            "width": null
          }
        },
        "da13d834b6ad43db89d4dfb7c29aed61": {
          "model_module": "@jupyter-widgets/controls",
          "model_name": "ProgressStyleModel",
          "model_module_version": "1.5.0",
          "state": {
            "_model_module": "@jupyter-widgets/controls",
            "_model_module_version": "1.5.0",
            "_model_name": "ProgressStyleModel",
            "_view_count": null,
            "_view_module": "@jupyter-widgets/base",
            "_view_module_version": "1.2.0",
            "_view_name": "StyleView",
            "bar_color": null,
            "description_width": ""
          }
        },
        "561c31c971d14f4583d8f92055756743": {
          "model_module": "@jupyter-widgets/base",
          "model_name": "LayoutModel",
          "model_module_version": "1.2.0",
          "state": {
            "_model_module": "@jupyter-widgets/base",
            "_model_module_version": "1.2.0",
            "_model_name": "LayoutModel",
            "_view_count": null,
            "_view_module": "@jupyter-widgets/base",
            "_view_module_version": "1.2.0",
            "_view_name": "LayoutView",
            "align_content": null,
            "align_items": null,
            "align_self": null,
            "border": null,
            "bottom": null,
            "display": null,
            "flex": null,
            "flex_flow": null,
            "grid_area": null,
            "grid_auto_columns": null,
            "grid_auto_flow": null,
            "grid_auto_rows": null,
            "grid_column": null,
            "grid_gap": null,
            "grid_row": null,
            "grid_template_areas": null,
            "grid_template_columns": null,
            "grid_template_rows": null,
            "height": null,
            "justify_content": null,
            "justify_items": null,
            "left": null,
            "margin": null,
            "max_height": null,
            "max_width": null,
            "min_height": null,
            "min_width": null,
            "object_fit": null,
            "object_position": null,
            "order": null,
            "overflow": null,
            "overflow_x": null,
            "overflow_y": null,
            "padding": null,
            "right": null,
            "top": null,
            "visibility": null,
            "width": null
          }
        },
        "ae681127793843cab429996cf4f0c6ac": {
          "model_module": "@jupyter-widgets/controls",
          "model_name": "DescriptionStyleModel",
          "model_module_version": "1.5.0",
          "state": {
            "_model_module": "@jupyter-widgets/controls",
            "_model_module_version": "1.5.0",
            "_model_name": "DescriptionStyleModel",
            "_view_count": null,
            "_view_module": "@jupyter-widgets/base",
            "_view_module_version": "1.2.0",
            "_view_name": "StyleView",
            "description_width": ""
          }
        },
        "d55b39d566ad4ddb86cddb427a3a1e39": {
          "model_module": "@jupyter-widgets/controls",
          "model_name": "HBoxModel",
          "model_module_version": "1.5.0",
          "state": {
            "_dom_classes": [],
            "_model_module": "@jupyter-widgets/controls",
            "_model_module_version": "1.5.0",
            "_model_name": "HBoxModel",
            "_view_count": null,
            "_view_module": "@jupyter-widgets/controls",
            "_view_module_version": "1.5.0",
            "_view_name": "HBoxView",
            "box_style": "",
            "children": [
              "IPY_MODEL_d652919ca6a4451cb73cf0e2bed14a99",
              "IPY_MODEL_653f27ad03f7451eb9375b4c91f1b4f4",
              "IPY_MODEL_d98a6e3b0542438aa5c5c1c2b2536411"
            ],
            "layout": "IPY_MODEL_f43078517c24492a9484f611427daeb9"
          }
        },
        "d652919ca6a4451cb73cf0e2bed14a99": {
          "model_module": "@jupyter-widgets/controls",
          "model_name": "HTMLModel",
          "model_module_version": "1.5.0",
          "state": {
            "_dom_classes": [],
            "_model_module": "@jupyter-widgets/controls",
            "_model_module_version": "1.5.0",
            "_model_name": "HTMLModel",
            "_view_count": null,
            "_view_module": "@jupyter-widgets/controls",
            "_view_module_version": "1.5.0",
            "_view_name": "HTMLView",
            "description": "",
            "description_tooltip": null,
            "layout": "IPY_MODEL_97156ebd044542ef94af4e59ea0f5fed",
            "placeholder": "​",
            "style": "IPY_MODEL_dd3801b9f8fe429c8ad2c9dd5b06c76f",
            "value": "Downloading: 100%"
          }
        },
        "653f27ad03f7451eb9375b4c91f1b4f4": {
          "model_module": "@jupyter-widgets/controls",
          "model_name": "FloatProgressModel",
          "model_module_version": "1.5.0",
          "state": {
            "_dom_classes": [],
            "_model_module": "@jupyter-widgets/controls",
            "_model_module_version": "1.5.0",
            "_model_name": "FloatProgressModel",
            "_view_count": null,
            "_view_module": "@jupyter-widgets/controls",
            "_view_module_version": "1.5.0",
            "_view_name": "ProgressView",
            "bar_style": "success",
            "description": "",
            "description_tooltip": null,
            "layout": "IPY_MODEL_954ecff780704881b1782b16d691198f",
            "max": 456318,
            "min": 0,
            "orientation": "horizontal",
            "style": "IPY_MODEL_a3d400902dbb4d9f9b7c97480183f036",
            "value": 456318
          }
        },
        "d98a6e3b0542438aa5c5c1c2b2536411": {
          "model_module": "@jupyter-widgets/controls",
          "model_name": "HTMLModel",
          "model_module_version": "1.5.0",
          "state": {
            "_dom_classes": [],
            "_model_module": "@jupyter-widgets/controls",
            "_model_module_version": "1.5.0",
            "_model_name": "HTMLModel",
            "_view_count": null,
            "_view_module": "@jupyter-widgets/controls",
            "_view_module_version": "1.5.0",
            "_view_name": "HTMLView",
            "description": "",
            "description_tooltip": null,
            "layout": "IPY_MODEL_74423dfcb539491c88eb14e0adb76359",
            "placeholder": "​",
            "style": "IPY_MODEL_bebff593cdef4463981121f097f9382f",
            "value": " 446k/446k [00:00&lt;00:00, 615kB/s]"
          }
        },
        "f43078517c24492a9484f611427daeb9": {
          "model_module": "@jupyter-widgets/base",
          "model_name": "LayoutModel",
          "model_module_version": "1.2.0",
          "state": {
            "_model_module": "@jupyter-widgets/base",
            "_model_module_version": "1.2.0",
            "_model_name": "LayoutModel",
            "_view_count": null,
            "_view_module": "@jupyter-widgets/base",
            "_view_module_version": "1.2.0",
            "_view_name": "LayoutView",
            "align_content": null,
            "align_items": null,
            "align_self": null,
            "border": null,
            "bottom": null,
            "display": null,
            "flex": null,
            "flex_flow": null,
            "grid_area": null,
            "grid_auto_columns": null,
            "grid_auto_flow": null,
            "grid_auto_rows": null,
            "grid_column": null,
            "grid_gap": null,
            "grid_row": null,
            "grid_template_areas": null,
            "grid_template_columns": null,
            "grid_template_rows": null,
            "height": null,
            "justify_content": null,
            "justify_items": null,
            "left": null,
            "margin": null,
            "max_height": null,
            "max_width": null,
            "min_height": null,
            "min_width": null,
            "object_fit": null,
            "object_position": null,
            "order": null,
            "overflow": null,
            "overflow_x": null,
            "overflow_y": null,
            "padding": null,
            "right": null,
            "top": null,
            "visibility": null,
            "width": null
          }
        },
        "97156ebd044542ef94af4e59ea0f5fed": {
          "model_module": "@jupyter-widgets/base",
          "model_name": "LayoutModel",
          "model_module_version": "1.2.0",
          "state": {
            "_model_module": "@jupyter-widgets/base",
            "_model_module_version": "1.2.0",
            "_model_name": "LayoutModel",
            "_view_count": null,
            "_view_module": "@jupyter-widgets/base",
            "_view_module_version": "1.2.0",
            "_view_name": "LayoutView",
            "align_content": null,
            "align_items": null,
            "align_self": null,
            "border": null,
            "bottom": null,
            "display": null,
            "flex": null,
            "flex_flow": null,
            "grid_area": null,
            "grid_auto_columns": null,
            "grid_auto_flow": null,
            "grid_auto_rows": null,
            "grid_column": null,
            "grid_gap": null,
            "grid_row": null,
            "grid_template_areas": null,
            "grid_template_columns": null,
            "grid_template_rows": null,
            "height": null,
            "justify_content": null,
            "justify_items": null,
            "left": null,
            "margin": null,
            "max_height": null,
            "max_width": null,
            "min_height": null,
            "min_width": null,
            "object_fit": null,
            "object_position": null,
            "order": null,
            "overflow": null,
            "overflow_x": null,
            "overflow_y": null,
            "padding": null,
            "right": null,
            "top": null,
            "visibility": null,
            "width": null
          }
        },
        "dd3801b9f8fe429c8ad2c9dd5b06c76f": {
          "model_module": "@jupyter-widgets/controls",
          "model_name": "DescriptionStyleModel",
          "model_module_version": "1.5.0",
          "state": {
            "_model_module": "@jupyter-widgets/controls",
            "_model_module_version": "1.5.0",
            "_model_name": "DescriptionStyleModel",
            "_view_count": null,
            "_view_module": "@jupyter-widgets/base",
            "_view_module_version": "1.2.0",
            "_view_name": "StyleView",
            "description_width": ""
          }
        },
        "954ecff780704881b1782b16d691198f": {
          "model_module": "@jupyter-widgets/base",
          "model_name": "LayoutModel",
          "model_module_version": "1.2.0",
          "state": {
            "_model_module": "@jupyter-widgets/base",
            "_model_module_version": "1.2.0",
            "_model_name": "LayoutModel",
            "_view_count": null,
            "_view_module": "@jupyter-widgets/base",
            "_view_module_version": "1.2.0",
            "_view_name": "LayoutView",
            "align_content": null,
            "align_items": null,
            "align_self": null,
            "border": null,
            "bottom": null,
            "display": null,
            "flex": null,
            "flex_flow": null,
            "grid_area": null,
            "grid_auto_columns": null,
            "grid_auto_flow": null,
            "grid_auto_rows": null,
            "grid_column": null,
            "grid_gap": null,
            "grid_row": null,
            "grid_template_areas": null,
            "grid_template_columns": null,
            "grid_template_rows": null,
            "height": null,
            "justify_content": null,
            "justify_items": null,
            "left": null,
            "margin": null,
            "max_height": null,
            "max_width": null,
            "min_height": null,
            "min_width": null,
            "object_fit": null,
            "object_position": null,
            "order": null,
            "overflow": null,
            "overflow_x": null,
            "overflow_y": null,
            "padding": null,
            "right": null,
            "top": null,
            "visibility": null,
            "width": null
          }
        },
        "a3d400902dbb4d9f9b7c97480183f036": {
          "model_module": "@jupyter-widgets/controls",
          "model_name": "ProgressStyleModel",
          "model_module_version": "1.5.0",
          "state": {
            "_model_module": "@jupyter-widgets/controls",
            "_model_module_version": "1.5.0",
            "_model_name": "ProgressStyleModel",
            "_view_count": null,
            "_view_module": "@jupyter-widgets/base",
            "_view_module_version": "1.2.0",
            "_view_name": "StyleView",
            "bar_color": null,
            "description_width": ""
          }
        },
        "74423dfcb539491c88eb14e0adb76359": {
          "model_module": "@jupyter-widgets/base",
          "model_name": "LayoutModel",
          "model_module_version": "1.2.0",
          "state": {
            "_model_module": "@jupyter-widgets/base",
            "_model_module_version": "1.2.0",
            "_model_name": "LayoutModel",
            "_view_count": null,
            "_view_module": "@jupyter-widgets/base",
            "_view_module_version": "1.2.0",
            "_view_name": "LayoutView",
            "align_content": null,
            "align_items": null,
            "align_self": null,
            "border": null,
            "bottom": null,
            "display": null,
            "flex": null,
            "flex_flow": null,
            "grid_area": null,
            "grid_auto_columns": null,
            "grid_auto_flow": null,
            "grid_auto_rows": null,
            "grid_column": null,
            "grid_gap": null,
            "grid_row": null,
            "grid_template_areas": null,
            "grid_template_columns": null,
            "grid_template_rows": null,
            "height": null,
            "justify_content": null,
            "justify_items": null,
            "left": null,
            "margin": null,
            "max_height": null,
            "max_width": null,
            "min_height": null,
            "min_width": null,
            "object_fit": null,
            "object_position": null,
            "order": null,
            "overflow": null,
            "overflow_x": null,
            "overflow_y": null,
            "padding": null,
            "right": null,
            "top": null,
            "visibility": null,
            "width": null
          }
        },
        "bebff593cdef4463981121f097f9382f": {
          "model_module": "@jupyter-widgets/controls",
          "model_name": "DescriptionStyleModel",
          "model_module_version": "1.5.0",
          "state": {
            "_model_module": "@jupyter-widgets/controls",
            "_model_module_version": "1.5.0",
            "_model_name": "DescriptionStyleModel",
            "_view_count": null,
            "_view_module": "@jupyter-widgets/base",
            "_view_module_version": "1.2.0",
            "_view_name": "StyleView",
            "description_width": ""
          }
        },
        "e988104a43e24620aeac67b47948e859": {
          "model_module": "@jupyter-widgets/controls",
          "model_name": "HBoxModel",
          "model_module_version": "1.5.0",
          "state": {
            "_dom_classes": [],
            "_model_module": "@jupyter-widgets/controls",
            "_model_module_version": "1.5.0",
            "_model_name": "HBoxModel",
            "_view_count": null,
            "_view_module": "@jupyter-widgets/controls",
            "_view_module_version": "1.5.0",
            "_view_name": "HBoxView",
            "box_style": "",
            "children": [
              "IPY_MODEL_45b463040d054ee390d1ee3fab9a548d",
              "IPY_MODEL_9f4e45d83e674df995d1c521a74d26b4",
              "IPY_MODEL_ff791b04b6df4921866fe759a9f7fea6"
            ],
            "layout": "IPY_MODEL_1e97429874cb4df4967ab74e333f7a04"
          }
        },
        "45b463040d054ee390d1ee3fab9a548d": {
          "model_module": "@jupyter-widgets/controls",
          "model_name": "HTMLModel",
          "model_module_version": "1.5.0",
          "state": {
            "_dom_classes": [],
            "_model_module": "@jupyter-widgets/controls",
            "_model_module_version": "1.5.0",
            "_model_name": "HTMLModel",
            "_view_count": null,
            "_view_module": "@jupyter-widgets/controls",
            "_view_module_version": "1.5.0",
            "_view_name": "HTMLView",
            "description": "",
            "description_tooltip": null,
            "layout": "IPY_MODEL_2f002f8bc758460587c0c3f45f1ef8bd",
            "placeholder": "​",
            "style": "IPY_MODEL_12520fc9507d47699073adc9bebe169a",
            "value": "Downloading: 100%"
          }
        },
        "9f4e45d83e674df995d1c521a74d26b4": {
          "model_module": "@jupyter-widgets/controls",
          "model_name": "FloatProgressModel",
          "model_module_version": "1.5.0",
          "state": {
            "_dom_classes": [],
            "_model_module": "@jupyter-widgets/controls",
            "_model_module_version": "1.5.0",
            "_model_name": "FloatProgressModel",
            "_view_count": null,
            "_view_module": "@jupyter-widgets/controls",
            "_view_module_version": "1.5.0",
            "_view_name": "ProgressView",
            "bar_style": "success",
            "description": "",
            "description_tooltip": null,
            "layout": "IPY_MODEL_8e443af33b8b4c4098d4889ec220cadc",
            "max": 1355256,
            "min": 0,
            "orientation": "horizontal",
            "style": "IPY_MODEL_65030bbf7c5e44d7bc481b7fa8024832",
            "value": 1355256
          }
        },
        "ff791b04b6df4921866fe759a9f7fea6": {
          "model_module": "@jupyter-widgets/controls",
          "model_name": "HTMLModel",
          "model_module_version": "1.5.0",
          "state": {
            "_dom_classes": [],
            "_model_module": "@jupyter-widgets/controls",
            "_model_module_version": "1.5.0",
            "_model_name": "HTMLModel",
            "_view_count": null,
            "_view_module": "@jupyter-widgets/controls",
            "_view_module_version": "1.5.0",
            "_view_name": "HTMLView",
            "description": "",
            "description_tooltip": null,
            "layout": "IPY_MODEL_374adeadde1047118fcc7cfbf399e0c9",
            "placeholder": "​",
            "style": "IPY_MODEL_baf3dc7effe44a739a59f10fea695927",
            "value": " 1.29M/1.29M [00:00&lt;00:00, 1.40MB/s]"
          }
        },
        "1e97429874cb4df4967ab74e333f7a04": {
          "model_module": "@jupyter-widgets/base",
          "model_name": "LayoutModel",
          "model_module_version": "1.2.0",
          "state": {
            "_model_module": "@jupyter-widgets/base",
            "_model_module_version": "1.2.0",
            "_model_name": "LayoutModel",
            "_view_count": null,
            "_view_module": "@jupyter-widgets/base",
            "_view_module_version": "1.2.0",
            "_view_name": "LayoutView",
            "align_content": null,
            "align_items": null,
            "align_self": null,
            "border": null,
            "bottom": null,
            "display": null,
            "flex": null,
            "flex_flow": null,
            "grid_area": null,
            "grid_auto_columns": null,
            "grid_auto_flow": null,
            "grid_auto_rows": null,
            "grid_column": null,
            "grid_gap": null,
            "grid_row": null,
            "grid_template_areas": null,
            "grid_template_columns": null,
            "grid_template_rows": null,
            "height": null,
            "justify_content": null,
            "justify_items": null,
            "left": null,
            "margin": null,
            "max_height": null,
            "max_width": null,
            "min_height": null,
            "min_width": null,
            "object_fit": null,
            "object_position": null,
            "order": null,
            "overflow": null,
            "overflow_x": null,
            "overflow_y": null,
            "padding": null,
            "right": null,
            "top": null,
            "visibility": null,
            "width": null
          }
        },
        "2f002f8bc758460587c0c3f45f1ef8bd": {
          "model_module": "@jupyter-widgets/base",
          "model_name": "LayoutModel",
          "model_module_version": "1.2.0",
          "state": {
            "_model_module": "@jupyter-widgets/base",
            "_model_module_version": "1.2.0",
            "_model_name": "LayoutModel",
            "_view_count": null,
            "_view_module": "@jupyter-widgets/base",
            "_view_module_version": "1.2.0",
            "_view_name": "LayoutView",
            "align_content": null,
            "align_items": null,
            "align_self": null,
            "border": null,
            "bottom": null,
            "display": null,
            "flex": null,
            "flex_flow": null,
            "grid_area": null,
            "grid_auto_columns": null,
            "grid_auto_flow": null,
            "grid_auto_rows": null,
            "grid_column": null,
            "grid_gap": null,
            "grid_row": null,
            "grid_template_areas": null,
            "grid_template_columns": null,
            "grid_template_rows": null,
            "height": null,
            "justify_content": null,
            "justify_items": null,
            "left": null,
            "margin": null,
            "max_height": null,
            "max_width": null,
            "min_height": null,
            "min_width": null,
            "object_fit": null,
            "object_position": null,
            "order": null,
            "overflow": null,
            "overflow_x": null,
            "overflow_y": null,
            "padding": null,
            "right": null,
            "top": null,
            "visibility": null,
            "width": null
          }
        },
        "12520fc9507d47699073adc9bebe169a": {
          "model_module": "@jupyter-widgets/controls",
          "model_name": "DescriptionStyleModel",
          "model_module_version": "1.5.0",
          "state": {
            "_model_module": "@jupyter-widgets/controls",
            "_model_module_version": "1.5.0",
            "_model_name": "DescriptionStyleModel",
            "_view_count": null,
            "_view_module": "@jupyter-widgets/base",
            "_view_module_version": "1.2.0",
            "_view_name": "StyleView",
            "description_width": ""
          }
        },
        "8e443af33b8b4c4098d4889ec220cadc": {
          "model_module": "@jupyter-widgets/base",
          "model_name": "LayoutModel",
          "model_module_version": "1.2.0",
          "state": {
            "_model_module": "@jupyter-widgets/base",
            "_model_module_version": "1.2.0",
            "_model_name": "LayoutModel",
            "_view_count": null,
            "_view_module": "@jupyter-widgets/base",
            "_view_module_version": "1.2.0",
            "_view_name": "LayoutView",
            "align_content": null,
            "align_items": null,
            "align_self": null,
            "border": null,
            "bottom": null,
            "display": null,
            "flex": null,
            "flex_flow": null,
            "grid_area": null,
            "grid_auto_columns": null,
            "grid_auto_flow": null,
            "grid_auto_rows": null,
            "grid_column": null,
            "grid_gap": null,
            "grid_row": null,
            "grid_template_areas": null,
            "grid_template_columns": null,
            "grid_template_rows": null,
            "height": null,
            "justify_content": null,
            "justify_items": null,
            "left": null,
            "margin": null,
            "max_height": null,
            "max_width": null,
            "min_height": null,
            "min_width": null,
            "object_fit": null,
            "object_position": null,
            "order": null,
            "overflow": null,
            "overflow_x": null,
            "overflow_y": null,
            "padding": null,
            "right": null,
            "top": null,
            "visibility": null,
            "width": null
          }
        },
        "65030bbf7c5e44d7bc481b7fa8024832": {
          "model_module": "@jupyter-widgets/controls",
          "model_name": "ProgressStyleModel",
          "model_module_version": "1.5.0",
          "state": {
            "_model_module": "@jupyter-widgets/controls",
            "_model_module_version": "1.5.0",
            "_model_name": "ProgressStyleModel",
            "_view_count": null,
            "_view_module": "@jupyter-widgets/base",
            "_view_module_version": "1.2.0",
            "_view_name": "StyleView",
            "bar_color": null,
            "description_width": ""
          }
        },
        "374adeadde1047118fcc7cfbf399e0c9": {
          "model_module": "@jupyter-widgets/base",
          "model_name": "LayoutModel",
          "model_module_version": "1.2.0",
          "state": {
            "_model_module": "@jupyter-widgets/base",
            "_model_module_version": "1.2.0",
            "_model_name": "LayoutModel",
            "_view_count": null,
            "_view_module": "@jupyter-widgets/base",
            "_view_module_version": "1.2.0",
            "_view_name": "LayoutView",
            "align_content": null,
            "align_items": null,
            "align_self": null,
            "border": null,
            "bottom": null,
            "display": null,
            "flex": null,
            "flex_flow": null,
            "grid_area": null,
            "grid_auto_columns": null,
            "grid_auto_flow": null,
            "grid_auto_rows": null,
            "grid_column": null,
            "grid_gap": null,
            "grid_row": null,
            "grid_template_areas": null,
            "grid_template_columns": null,
            "grid_template_rows": null,
            "height": null,
            "justify_content": null,
            "justify_items": null,
            "left": null,
            "margin": null,
            "max_height": null,
            "max_width": null,
            "min_height": null,
            "min_width": null,
            "object_fit": null,
            "object_position": null,
            "order": null,
            "overflow": null,
            "overflow_x": null,
            "overflow_y": null,
            "padding": null,
            "right": null,
            "top": null,
            "visibility": null,
            "width": null
          }
        },
        "baf3dc7effe44a739a59f10fea695927": {
          "model_module": "@jupyter-widgets/controls",
          "model_name": "DescriptionStyleModel",
          "model_module_version": "1.5.0",
          "state": {
            "_model_module": "@jupyter-widgets/controls",
            "_model_module_version": "1.5.0",
            "_model_name": "DescriptionStyleModel",
            "_view_count": null,
            "_view_module": "@jupyter-widgets/base",
            "_view_module_version": "1.2.0",
            "_view_name": "StyleView",
            "description_width": ""
          }
        },
        "93a0d747a89940efaa7323e004c74168": {
          "model_module": "@jupyter-widgets/controls",
          "model_name": "HBoxModel",
          "model_module_version": "1.5.0",
          "state": {
            "_dom_classes": [],
            "_model_module": "@jupyter-widgets/controls",
            "_model_module_version": "1.5.0",
            "_model_name": "HBoxModel",
            "_view_count": null,
            "_view_module": "@jupyter-widgets/controls",
            "_view_module_version": "1.5.0",
            "_view_name": "HBoxView",
            "box_style": "",
            "children": [
              "IPY_MODEL_4175f3d284c14ed4a0b128464ca12d66",
              "IPY_MODEL_c35ebe507cac437dbe9f24070a6160f7",
              "IPY_MODEL_ba3094aed14549d79abda6f465bc8023"
            ],
            "layout": "IPY_MODEL_6cf26a29ae52490e98a712c23fb51c34"
          }
        },
        "4175f3d284c14ed4a0b128464ca12d66": {
          "model_module": "@jupyter-widgets/controls",
          "model_name": "HTMLModel",
          "model_module_version": "1.5.0",
          "state": {
            "_dom_classes": [],
            "_model_module": "@jupyter-widgets/controls",
            "_model_module_version": "1.5.0",
            "_model_name": "HTMLModel",
            "_view_count": null,
            "_view_module": "@jupyter-widgets/controls",
            "_view_module_version": "1.5.0",
            "_view_name": "HTMLView",
            "description": "",
            "description_tooltip": null,
            "layout": "IPY_MODEL_acb63a487db5453b865816de8f9d47ca",
            "placeholder": "​",
            "style": "IPY_MODEL_e72e5ba37e0b4cd9b29d26ec16957157",
            "value": "Downloading: 100%"
          }
        },
        "c35ebe507cac437dbe9f24070a6160f7": {
          "model_module": "@jupyter-widgets/controls",
          "model_name": "FloatProgressModel",
          "model_module_version": "1.5.0",
          "state": {
            "_dom_classes": [],
            "_model_module": "@jupyter-widgets/controls",
            "_model_module_version": "1.5.0",
            "_model_name": "FloatProgressModel",
            "_view_count": null,
            "_view_module": "@jupyter-widgets/controls",
            "_view_module_version": "1.5.0",
            "_view_name": "ProgressView",
            "bar_style": "success",
            "description": "",
            "description_tooltip": null,
            "layout": "IPY_MODEL_f44390f9f4944e71963498644d704512",
            "max": 665,
            "min": 0,
            "orientation": "horizontal",
            "style": "IPY_MODEL_f4ac784c0a364438a9775b4dcd086072",
            "value": 665
          }
        },
        "ba3094aed14549d79abda6f465bc8023": {
          "model_module": "@jupyter-widgets/controls",
          "model_name": "HTMLModel",
          "model_module_version": "1.5.0",
          "state": {
            "_dom_classes": [],
            "_model_module": "@jupyter-widgets/controls",
            "_model_module_version": "1.5.0",
            "_model_name": "HTMLModel",
            "_view_count": null,
            "_view_module": "@jupyter-widgets/controls",
            "_view_module_version": "1.5.0",
            "_view_name": "HTMLView",
            "description": "",
            "description_tooltip": null,
            "layout": "IPY_MODEL_017828b2330e4711b94039b3abc094b1",
            "placeholder": "​",
            "style": "IPY_MODEL_a7b8d8e46f25491bbf6e84411756b547",
            "value": " 665/665 [00:00&lt;00:00, 4.10kB/s]"
          }
        },
        "6cf26a29ae52490e98a712c23fb51c34": {
          "model_module": "@jupyter-widgets/base",
          "model_name": "LayoutModel",
          "model_module_version": "1.2.0",
          "state": {
            "_model_module": "@jupyter-widgets/base",
            "_model_module_version": "1.2.0",
            "_model_name": "LayoutModel",
            "_view_count": null,
            "_view_module": "@jupyter-widgets/base",
            "_view_module_version": "1.2.0",
            "_view_name": "LayoutView",
            "align_content": null,
            "align_items": null,
            "align_self": null,
            "border": null,
            "bottom": null,
            "display": null,
            "flex": null,
            "flex_flow": null,
            "grid_area": null,
            "grid_auto_columns": null,
            "grid_auto_flow": null,
            "grid_auto_rows": null,
            "grid_column": null,
            "grid_gap": null,
            "grid_row": null,
            "grid_template_areas": null,
            "grid_template_columns": null,
            "grid_template_rows": null,
            "height": null,
            "justify_content": null,
            "justify_items": null,
            "left": null,
            "margin": null,
            "max_height": null,
            "max_width": null,
            "min_height": null,
            "min_width": null,
            "object_fit": null,
            "object_position": null,
            "order": null,
            "overflow": null,
            "overflow_x": null,
            "overflow_y": null,
            "padding": null,
            "right": null,
            "top": null,
            "visibility": null,
            "width": null
          }
        },
        "acb63a487db5453b865816de8f9d47ca": {
          "model_module": "@jupyter-widgets/base",
          "model_name": "LayoutModel",
          "model_module_version": "1.2.0",
          "state": {
            "_model_module": "@jupyter-widgets/base",
            "_model_module_version": "1.2.0",
            "_model_name": "LayoutModel",
            "_view_count": null,
            "_view_module": "@jupyter-widgets/base",
            "_view_module_version": "1.2.0",
            "_view_name": "LayoutView",
            "align_content": null,
            "align_items": null,
            "align_self": null,
            "border": null,
            "bottom": null,
            "display": null,
            "flex": null,
            "flex_flow": null,
            "grid_area": null,
            "grid_auto_columns": null,
            "grid_auto_flow": null,
            "grid_auto_rows": null,
            "grid_column": null,
            "grid_gap": null,
            "grid_row": null,
            "grid_template_areas": null,
            "grid_template_columns": null,
            "grid_template_rows": null,
            "height": null,
            "justify_content": null,
            "justify_items": null,
            "left": null,
            "margin": null,
            "max_height": null,
            "max_width": null,
            "min_height": null,
            "min_width": null,
            "object_fit": null,
            "object_position": null,
            "order": null,
            "overflow": null,
            "overflow_x": null,
            "overflow_y": null,
            "padding": null,
            "right": null,
            "top": null,
            "visibility": null,
            "width": null
          }
        },
        "e72e5ba37e0b4cd9b29d26ec16957157": {
          "model_module": "@jupyter-widgets/controls",
          "model_name": "DescriptionStyleModel",
          "model_module_version": "1.5.0",
          "state": {
            "_model_module": "@jupyter-widgets/controls",
            "_model_module_version": "1.5.0",
            "_model_name": "DescriptionStyleModel",
            "_view_count": null,
            "_view_module": "@jupyter-widgets/base",
            "_view_module_version": "1.2.0",
            "_view_name": "StyleView",
            "description_width": ""
          }
        },
        "f44390f9f4944e71963498644d704512": {
          "model_module": "@jupyter-widgets/base",
          "model_name": "LayoutModel",
          "model_module_version": "1.2.0",
          "state": {
            "_model_module": "@jupyter-widgets/base",
            "_model_module_version": "1.2.0",
            "_model_name": "LayoutModel",
            "_view_count": null,
            "_view_module": "@jupyter-widgets/base",
            "_view_module_version": "1.2.0",
            "_view_name": "LayoutView",
            "align_content": null,
            "align_items": null,
            "align_self": null,
            "border": null,
            "bottom": null,
            "display": null,
            "flex": null,
            "flex_flow": null,
            "grid_area": null,
            "grid_auto_columns": null,
            "grid_auto_flow": null,
            "grid_auto_rows": null,
            "grid_column": null,
            "grid_gap": null,
            "grid_row": null,
            "grid_template_areas": null,
            "grid_template_columns": null,
            "grid_template_rows": null,
            "height": null,
            "justify_content": null,
            "justify_items": null,
            "left": null,
            "margin": null,
            "max_height": null,
            "max_width": null,
            "min_height": null,
            "min_width": null,
            "object_fit": null,
            "object_position": null,
            "order": null,
            "overflow": null,
            "overflow_x": null,
            "overflow_y": null,
            "padding": null,
            "right": null,
            "top": null,
            "visibility": null,
            "width": null
          }
        },
        "f4ac784c0a364438a9775b4dcd086072": {
          "model_module": "@jupyter-widgets/controls",
          "model_name": "ProgressStyleModel",
          "model_module_version": "1.5.0",
          "state": {
            "_model_module": "@jupyter-widgets/controls",
            "_model_module_version": "1.5.0",
            "_model_name": "ProgressStyleModel",
            "_view_count": null,
            "_view_module": "@jupyter-widgets/base",
            "_view_module_version": "1.2.0",
            "_view_name": "StyleView",
            "bar_color": null,
            "description_width": ""
          }
        },
        "017828b2330e4711b94039b3abc094b1": {
          "model_module": "@jupyter-widgets/base",
          "model_name": "LayoutModel",
          "model_module_version": "1.2.0",
          "state": {
            "_model_module": "@jupyter-widgets/base",
            "_model_module_version": "1.2.0",
            "_model_name": "LayoutModel",
            "_view_count": null,
            "_view_module": "@jupyter-widgets/base",
            "_view_module_version": "1.2.0",
            "_view_name": "LayoutView",
            "align_content": null,
            "align_items": null,
            "align_self": null,
            "border": null,
            "bottom": null,
            "display": null,
            "flex": null,
            "flex_flow": null,
            "grid_area": null,
            "grid_auto_columns": null,
            "grid_auto_flow": null,
            "grid_auto_rows": null,
            "grid_column": null,
            "grid_gap": null,
            "grid_row": null,
            "grid_template_areas": null,
            "grid_template_columns": null,
            "grid_template_rows": null,
            "height": null,
            "justify_content": null,
            "justify_items": null,
            "left": null,
            "margin": null,
            "max_height": null,
            "max_width": null,
            "min_height": null,
            "min_width": null,
            "object_fit": null,
            "object_position": null,
            "order": null,
            "overflow": null,
            "overflow_x": null,
            "overflow_y": null,
            "padding": null,
            "right": null,
            "top": null,
            "visibility": null,
            "width": null
          }
        },
        "a7b8d8e46f25491bbf6e84411756b547": {
          "model_module": "@jupyter-widgets/controls",
          "model_name": "DescriptionStyleModel",
          "model_module_version": "1.5.0",
          "state": {
            "_model_module": "@jupyter-widgets/controls",
            "_model_module_version": "1.5.0",
            "_model_name": "DescriptionStyleModel",
            "_view_count": null,
            "_view_module": "@jupyter-widgets/base",
            "_view_module_version": "1.2.0",
            "_view_name": "StyleView",
            "description_width": ""
          }
        },
        "b8b20c7e7fd24119bb9f633237d0b28f": {
          "model_module": "@jupyter-widgets/controls",
          "model_name": "HBoxModel",
          "model_module_version": "1.5.0",
          "state": {
            "_dom_classes": [],
            "_model_module": "@jupyter-widgets/controls",
            "_model_module_version": "1.5.0",
            "_model_name": "HBoxModel",
            "_view_count": null,
            "_view_module": "@jupyter-widgets/controls",
            "_view_module_version": "1.5.0",
            "_view_name": "HBoxView",
            "box_style": "",
            "children": [
              "IPY_MODEL_6d764cb95ab34613898c31916d4b3562",
              "IPY_MODEL_28ab9c09265d4b2caf77c58ed968a44e",
              "IPY_MODEL_ae332b8045324ac7b4bbbb00425737ba"
            ],
            "layout": "IPY_MODEL_bb815eb42293435f95e81fcd3cda7799"
          }
        },
        "6d764cb95ab34613898c31916d4b3562": {
          "model_module": "@jupyter-widgets/controls",
          "model_name": "HTMLModel",
          "model_module_version": "1.5.0",
          "state": {
            "_dom_classes": [],
            "_model_module": "@jupyter-widgets/controls",
            "_model_module_version": "1.5.0",
            "_model_name": "HTMLModel",
            "_view_count": null,
            "_view_module": "@jupyter-widgets/controls",
            "_view_module_version": "1.5.0",
            "_view_name": "HTMLView",
            "description": "",
            "description_tooltip": null,
            "layout": "IPY_MODEL_88b4dbf72cbd4bbbbb98eb05e6e0d65b",
            "placeholder": "​",
            "style": "IPY_MODEL_47d5d0132dab42d7bd5d81719605d0b3",
            "value": "Downloading: 100%"
          }
        },
        "28ab9c09265d4b2caf77c58ed968a44e": {
          "model_module": "@jupyter-widgets/controls",
          "model_name": "FloatProgressModel",
          "model_module_version": "1.5.0",
          "state": {
            "_dom_classes": [],
            "_model_module": "@jupyter-widgets/controls",
            "_model_module_version": "1.5.0",
            "_model_name": "FloatProgressModel",
            "_view_count": null,
            "_view_module": "@jupyter-widgets/controls",
            "_view_module_version": "1.5.0",
            "_view_name": "ProgressView",
            "bar_style": "success",
            "description": "",
            "description_tooltip": null,
            "layout": "IPY_MODEL_0fd88e38068a4873b913c0af0e61a111",
            "max": 548118077,
            "min": 0,
            "orientation": "horizontal",
            "style": "IPY_MODEL_f312864719d94786b1c4d37c09b18582",
            "value": 548118077
          }
        },
        "ae332b8045324ac7b4bbbb00425737ba": {
          "model_module": "@jupyter-widgets/controls",
          "model_name": "HTMLModel",
          "model_module_version": "1.5.0",
          "state": {
            "_dom_classes": [],
            "_model_module": "@jupyter-widgets/controls",
            "_model_module_version": "1.5.0",
            "_model_name": "HTMLModel",
            "_view_count": null,
            "_view_module": "@jupyter-widgets/controls",
            "_view_module_version": "1.5.0",
            "_view_name": "HTMLView",
            "description": "",
            "description_tooltip": null,
            "layout": "IPY_MODEL_229d1a0106134b449de4f79448adaed5",
            "placeholder": "​",
            "style": "IPY_MODEL_2a79bb7edb0046c499008a4f67f8443f",
            "value": " 523M/523M [00:18&lt;00:00, 28.2MB/s]"
          }
        },
        "bb815eb42293435f95e81fcd3cda7799": {
          "model_module": "@jupyter-widgets/base",
          "model_name": "LayoutModel",
          "model_module_version": "1.2.0",
          "state": {
            "_model_module": "@jupyter-widgets/base",
            "_model_module_version": "1.2.0",
            "_model_name": "LayoutModel",
            "_view_count": null,
            "_view_module": "@jupyter-widgets/base",
            "_view_module_version": "1.2.0",
            "_view_name": "LayoutView",
            "align_content": null,
            "align_items": null,
            "align_self": null,
            "border": null,
            "bottom": null,
            "display": null,
            "flex": null,
            "flex_flow": null,
            "grid_area": null,
            "grid_auto_columns": null,
            "grid_auto_flow": null,
            "grid_auto_rows": null,
            "grid_column": null,
            "grid_gap": null,
            "grid_row": null,
            "grid_template_areas": null,
            "grid_template_columns": null,
            "grid_template_rows": null,
            "height": null,
            "justify_content": null,
            "justify_items": null,
            "left": null,
            "margin": null,
            "max_height": null,
            "max_width": null,
            "min_height": null,
            "min_width": null,
            "object_fit": null,
            "object_position": null,
            "order": null,
            "overflow": null,
            "overflow_x": null,
            "overflow_y": null,
            "padding": null,
            "right": null,
            "top": null,
            "visibility": null,
            "width": null
          }
        },
        "88b4dbf72cbd4bbbbb98eb05e6e0d65b": {
          "model_module": "@jupyter-widgets/base",
          "model_name": "LayoutModel",
          "model_module_version": "1.2.0",
          "state": {
            "_model_module": "@jupyter-widgets/base",
            "_model_module_version": "1.2.0",
            "_model_name": "LayoutModel",
            "_view_count": null,
            "_view_module": "@jupyter-widgets/base",
            "_view_module_version": "1.2.0",
            "_view_name": "LayoutView",
            "align_content": null,
            "align_items": null,
            "align_self": null,
            "border": null,
            "bottom": null,
            "display": null,
            "flex": null,
            "flex_flow": null,
            "grid_area": null,
            "grid_auto_columns": null,
            "grid_auto_flow": null,
            "grid_auto_rows": null,
            "grid_column": null,
            "grid_gap": null,
            "grid_row": null,
            "grid_template_areas": null,
            "grid_template_columns": null,
            "grid_template_rows": null,
            "height": null,
            "justify_content": null,
            "justify_items": null,
            "left": null,
            "margin": null,
            "max_height": null,
            "max_width": null,
            "min_height": null,
            "min_width": null,
            "object_fit": null,
            "object_position": null,
            "order": null,
            "overflow": null,
            "overflow_x": null,
            "overflow_y": null,
            "padding": null,
            "right": null,
            "top": null,
            "visibility": null,
            "width": null
          }
        },
        "47d5d0132dab42d7bd5d81719605d0b3": {
          "model_module": "@jupyter-widgets/controls",
          "model_name": "DescriptionStyleModel",
          "model_module_version": "1.5.0",
          "state": {
            "_model_module": "@jupyter-widgets/controls",
            "_model_module_version": "1.5.0",
            "_model_name": "DescriptionStyleModel",
            "_view_count": null,
            "_view_module": "@jupyter-widgets/base",
            "_view_module_version": "1.2.0",
            "_view_name": "StyleView",
            "description_width": ""
          }
        },
        "0fd88e38068a4873b913c0af0e61a111": {
          "model_module": "@jupyter-widgets/base",
          "model_name": "LayoutModel",
          "model_module_version": "1.2.0",
          "state": {
            "_model_module": "@jupyter-widgets/base",
            "_model_module_version": "1.2.0",
            "_model_name": "LayoutModel",
            "_view_count": null,
            "_view_module": "@jupyter-widgets/base",
            "_view_module_version": "1.2.0",
            "_view_name": "LayoutView",
            "align_content": null,
            "align_items": null,
            "align_self": null,
            "border": null,
            "bottom": null,
            "display": null,
            "flex": null,
            "flex_flow": null,
            "grid_area": null,
            "grid_auto_columns": null,
            "grid_auto_flow": null,
            "grid_auto_rows": null,
            "grid_column": null,
            "grid_gap": null,
            "grid_row": null,
            "grid_template_areas": null,
            "grid_template_columns": null,
            "grid_template_rows": null,
            "height": null,
            "justify_content": null,
            "justify_items": null,
            "left": null,
            "margin": null,
            "max_height": null,
            "max_width": null,
            "min_height": null,
            "min_width": null,
            "object_fit": null,
            "object_position": null,
            "order": null,
            "overflow": null,
            "overflow_x": null,
            "overflow_y": null,
            "padding": null,
            "right": null,
            "top": null,
            "visibility": null,
            "width": null
          }
        },
        "f312864719d94786b1c4d37c09b18582": {
          "model_module": "@jupyter-widgets/controls",
          "model_name": "ProgressStyleModel",
          "model_module_version": "1.5.0",
          "state": {
            "_model_module": "@jupyter-widgets/controls",
            "_model_module_version": "1.5.0",
            "_model_name": "ProgressStyleModel",
            "_view_count": null,
            "_view_module": "@jupyter-widgets/base",
            "_view_module_version": "1.2.0",
            "_view_name": "StyleView",
            "bar_color": null,
            "description_width": ""
          }
        },
        "229d1a0106134b449de4f79448adaed5": {
          "model_module": "@jupyter-widgets/base",
          "model_name": "LayoutModel",
          "model_module_version": "1.2.0",
          "state": {
            "_model_module": "@jupyter-widgets/base",
            "_model_module_version": "1.2.0",
            "_model_name": "LayoutModel",
            "_view_count": null,
            "_view_module": "@jupyter-widgets/base",
            "_view_module_version": "1.2.0",
            "_view_name": "LayoutView",
            "align_content": null,
            "align_items": null,
            "align_self": null,
            "border": null,
            "bottom": null,
            "display": null,
            "flex": null,
            "flex_flow": null,
            "grid_area": null,
            "grid_auto_columns": null,
            "grid_auto_flow": null,
            "grid_auto_rows": null,
            "grid_column": null,
            "grid_gap": null,
            "grid_row": null,
            "grid_template_areas": null,
            "grid_template_columns": null,
            "grid_template_rows": null,
            "height": null,
            "justify_content": null,
            "justify_items": null,
            "left": null,
            "margin": null,
            "max_height": null,
            "max_width": null,
            "min_height": null,
            "min_width": null,
            "object_fit": null,
            "object_position": null,
            "order": null,
            "overflow": null,
            "overflow_x": null,
            "overflow_y": null,
            "padding": null,
            "right": null,
            "top": null,
            "visibility": null,
            "width": null
          }
        },
        "2a79bb7edb0046c499008a4f67f8443f": {
          "model_module": "@jupyter-widgets/controls",
          "model_name": "DescriptionStyleModel",
          "model_module_version": "1.5.0",
          "state": {
            "_model_module": "@jupyter-widgets/controls",
            "_model_module_version": "1.5.0",
            "_model_name": "DescriptionStyleModel",
            "_view_count": null,
            "_view_module": "@jupyter-widgets/base",
            "_view_module_version": "1.2.0",
            "_view_name": "StyleView",
            "description_width": ""
          }
        }
      }
    }
  },
  "nbformat": 4,
  "nbformat_minor": 0
}