{
  "nbformat": 4,
  "nbformat_minor": 0,
  "metadata": {
    "colab": {
      "name": "GPT-2 SeqClassHead -- Baseline",
      "provenance": [],
      "collapsed_sections": []
    },
    "kernelspec": {
      "name": "python3",
      "display_name": "Python 3"
    },
    "language_info": {
      "name": "python"
    },
    "accelerator": "GPU",
    "widgets": {
      "application/vnd.jupyter.widget-state+json": {
        "ed87c6cbcfb94b9ba5db0e89668a6730": {
          "model_module": "@jupyter-widgets/controls",
          "model_name": "HBoxModel",
          "model_module_version": "1.5.0",
          "state": {
            "_dom_classes": [],
            "_model_module": "@jupyter-widgets/controls",
            "_model_module_version": "1.5.0",
            "_model_name": "HBoxModel",
            "_view_count": null,
            "_view_module": "@jupyter-widgets/controls",
            "_view_module_version": "1.5.0",
            "_view_name": "HBoxView",
            "box_style": "",
            "children": [
              "IPY_MODEL_dfeaf3209f7647c7a9d387429c30f958",
              "IPY_MODEL_7ac94d9e92ee495895024e4c1fe6ffc8",
              "IPY_MODEL_810307a0b4e64d97a1cf79432304eb93"
            ],
            "layout": "IPY_MODEL_5ef164c1d18b404692fcb28babd84f84"
          }
        },
        "dfeaf3209f7647c7a9d387429c30f958": {
          "model_module": "@jupyter-widgets/controls",
          "model_name": "HTMLModel",
          "model_module_version": "1.5.0",
          "state": {
            "_dom_classes": [],
            "_model_module": "@jupyter-widgets/controls",
            "_model_module_version": "1.5.0",
            "_model_name": "HTMLModel",
            "_view_count": null,
            "_view_module": "@jupyter-widgets/controls",
            "_view_module_version": "1.5.0",
            "_view_name": "HTMLView",
            "description": "",
            "description_tooltip": null,
            "layout": "IPY_MODEL_1707ba69ca474493b6dd26217a0ec8e2",
            "placeholder": "​",
            "style": "IPY_MODEL_552a8bac3baf42cb860539cc187f9a65",
            "value": "Downloading: 100%"
          }
        },
        "7ac94d9e92ee495895024e4c1fe6ffc8": {
          "model_module": "@jupyter-widgets/controls",
          "model_name": "FloatProgressModel",
          "model_module_version": "1.5.0",
          "state": {
            "_dom_classes": [],
            "_model_module": "@jupyter-widgets/controls",
            "_model_module_version": "1.5.0",
            "_model_name": "FloatProgressModel",
            "_view_count": null,
            "_view_module": "@jupyter-widgets/controls",
            "_view_module_version": "1.5.0",
            "_view_name": "ProgressView",
            "bar_style": "success",
            "description": "",
            "description_tooltip": null,
            "layout": "IPY_MODEL_6a03816603a0493f8f776cfa974afe9b",
            "max": 1042301,
            "min": 0,
            "orientation": "horizontal",
            "style": "IPY_MODEL_2deecd58de9d4455a3fad9cbc5b49624",
            "value": 1042301
          }
        },
        "810307a0b4e64d97a1cf79432304eb93": {
          "model_module": "@jupyter-widgets/controls",
          "model_name": "HTMLModel",
          "model_module_version": "1.5.0",
          "state": {
            "_dom_classes": [],
            "_model_module": "@jupyter-widgets/controls",
            "_model_module_version": "1.5.0",
            "_model_name": "HTMLModel",
            "_view_count": null,
            "_view_module": "@jupyter-widgets/controls",
            "_view_module_version": "1.5.0",
            "_view_name": "HTMLView",
            "description": "",
            "description_tooltip": null,
            "layout": "IPY_MODEL_a8ff2eb74224407fb5bd33811f7dcd2d",
            "placeholder": "​",
            "style": "IPY_MODEL_543879b0128f4fde856ebc8aab2c8258",
            "value": " 0.99M/0.99M [00:00&lt;00:00, 947kB/s]"
          }
        },
        "5ef164c1d18b404692fcb28babd84f84": {
          "model_module": "@jupyter-widgets/base",
          "model_name": "LayoutModel",
          "model_module_version": "1.2.0",
          "state": {
            "_model_module": "@jupyter-widgets/base",
            "_model_module_version": "1.2.0",
            "_model_name": "LayoutModel",
            "_view_count": null,
            "_view_module": "@jupyter-widgets/base",
            "_view_module_version": "1.2.0",
            "_view_name": "LayoutView",
            "align_content": null,
            "align_items": null,
            "align_self": null,
            "border": null,
            "bottom": null,
            "display": null,
            "flex": null,
            "flex_flow": null,
            "grid_area": null,
            "grid_auto_columns": null,
            "grid_auto_flow": null,
            "grid_auto_rows": null,
            "grid_column": null,
            "grid_gap": null,
            "grid_row": null,
            "grid_template_areas": null,
            "grid_template_columns": null,
            "grid_template_rows": null,
            "height": null,
            "justify_content": null,
            "justify_items": null,
            "left": null,
            "margin": null,
            "max_height": null,
            "max_width": null,
            "min_height": null,
            "min_width": null,
            "object_fit": null,
            "object_position": null,
            "order": null,
            "overflow": null,
            "overflow_x": null,
            "overflow_y": null,
            "padding": null,
            "right": null,
            "top": null,
            "visibility": null,
            "width": null
          }
        },
        "1707ba69ca474493b6dd26217a0ec8e2": {
          "model_module": "@jupyter-widgets/base",
          "model_name": "LayoutModel",
          "model_module_version": "1.2.0",
          "state": {
            "_model_module": "@jupyter-widgets/base",
            "_model_module_version": "1.2.0",
            "_model_name": "LayoutModel",
            "_view_count": null,
            "_view_module": "@jupyter-widgets/base",
            "_view_module_version": "1.2.0",
            "_view_name": "LayoutView",
            "align_content": null,
            "align_items": null,
            "align_self": null,
            "border": null,
            "bottom": null,
            "display": null,
            "flex": null,
            "flex_flow": null,
            "grid_area": null,
            "grid_auto_columns": null,
            "grid_auto_flow": null,
            "grid_auto_rows": null,
            "grid_column": null,
            "grid_gap": null,
            "grid_row": null,
            "grid_template_areas": null,
            "grid_template_columns": null,
            "grid_template_rows": null,
            "height": null,
            "justify_content": null,
            "justify_items": null,
            "left": null,
            "margin": null,
            "max_height": null,
            "max_width": null,
            "min_height": null,
            "min_width": null,
            "object_fit": null,
            "object_position": null,
            "order": null,
            "overflow": null,
            "overflow_x": null,
            "overflow_y": null,
            "padding": null,
            "right": null,
            "top": null,
            "visibility": null,
            "width": null
          }
        },
        "552a8bac3baf42cb860539cc187f9a65": {
          "model_module": "@jupyter-widgets/controls",
          "model_name": "DescriptionStyleModel",
          "model_module_version": "1.5.0",
          "state": {
            "_model_module": "@jupyter-widgets/controls",
            "_model_module_version": "1.5.0",
            "_model_name": "DescriptionStyleModel",
            "_view_count": null,
            "_view_module": "@jupyter-widgets/base",
            "_view_module_version": "1.2.0",
            "_view_name": "StyleView",
            "description_width": ""
          }
        },
        "6a03816603a0493f8f776cfa974afe9b": {
          "model_module": "@jupyter-widgets/base",
          "model_name": "LayoutModel",
          "model_module_version": "1.2.0",
          "state": {
            "_model_module": "@jupyter-widgets/base",
            "_model_module_version": "1.2.0",
            "_model_name": "LayoutModel",
            "_view_count": null,
            "_view_module": "@jupyter-widgets/base",
            "_view_module_version": "1.2.0",
            "_view_name": "LayoutView",
            "align_content": null,
            "align_items": null,
            "align_self": null,
            "border": null,
            "bottom": null,
            "display": null,
            "flex": null,
            "flex_flow": null,
            "grid_area": null,
            "grid_auto_columns": null,
            "grid_auto_flow": null,
            "grid_auto_rows": null,
            "grid_column": null,
            "grid_gap": null,
            "grid_row": null,
            "grid_template_areas": null,
            "grid_template_columns": null,
            "grid_template_rows": null,
            "height": null,
            "justify_content": null,
            "justify_items": null,
            "left": null,
            "margin": null,
            "max_height": null,
            "max_width": null,
            "min_height": null,
            "min_width": null,
            "object_fit": null,
            "object_position": null,
            "order": null,
            "overflow": null,
            "overflow_x": null,
            "overflow_y": null,
            "padding": null,
            "right": null,
            "top": null,
            "visibility": null,
            "width": null
          }
        },
        "2deecd58de9d4455a3fad9cbc5b49624": {
          "model_module": "@jupyter-widgets/controls",
          "model_name": "ProgressStyleModel",
          "model_module_version": "1.5.0",
          "state": {
            "_model_module": "@jupyter-widgets/controls",
            "_model_module_version": "1.5.0",
            "_model_name": "ProgressStyleModel",
            "_view_count": null,
            "_view_module": "@jupyter-widgets/base",
            "_view_module_version": "1.2.0",
            "_view_name": "StyleView",
            "bar_color": null,
            "description_width": ""
          }
        },
        "a8ff2eb74224407fb5bd33811f7dcd2d": {
          "model_module": "@jupyter-widgets/base",
          "model_name": "LayoutModel",
          "model_module_version": "1.2.0",
          "state": {
            "_model_module": "@jupyter-widgets/base",
            "_model_module_version": "1.2.0",
            "_model_name": "LayoutModel",
            "_view_count": null,
            "_view_module": "@jupyter-widgets/base",
            "_view_module_version": "1.2.0",
            "_view_name": "LayoutView",
            "align_content": null,
            "align_items": null,
            "align_self": null,
            "border": null,
            "bottom": null,
            "display": null,
            "flex": null,
            "flex_flow": null,
            "grid_area": null,
            "grid_auto_columns": null,
            "grid_auto_flow": null,
            "grid_auto_rows": null,
            "grid_column": null,
            "grid_gap": null,
            "grid_row": null,
            "grid_template_areas": null,
            "grid_template_columns": null,
            "grid_template_rows": null,
            "height": null,
            "justify_content": null,
            "justify_items": null,
            "left": null,
            "margin": null,
            "max_height": null,
            "max_width": null,
            "min_height": null,
            "min_width": null,
            "object_fit": null,
            "object_position": null,
            "order": null,
            "overflow": null,
            "overflow_x": null,
            "overflow_y": null,
            "padding": null,
            "right": null,
            "top": null,
            "visibility": null,
            "width": null
          }
        },
        "543879b0128f4fde856ebc8aab2c8258": {
          "model_module": "@jupyter-widgets/controls",
          "model_name": "DescriptionStyleModel",
          "model_module_version": "1.5.0",
          "state": {
            "_model_module": "@jupyter-widgets/controls",
            "_model_module_version": "1.5.0",
            "_model_name": "DescriptionStyleModel",
            "_view_count": null,
            "_view_module": "@jupyter-widgets/base",
            "_view_module_version": "1.2.0",
            "_view_name": "StyleView",
            "description_width": ""
          }
        },
        "8bb24a032e7d4d1387af867275efb8e4": {
          "model_module": "@jupyter-widgets/controls",
          "model_name": "HBoxModel",
          "model_module_version": "1.5.0",
          "state": {
            "_dom_classes": [],
            "_model_module": "@jupyter-widgets/controls",
            "_model_module_version": "1.5.0",
            "_model_name": "HBoxModel",
            "_view_count": null,
            "_view_module": "@jupyter-widgets/controls",
            "_view_module_version": "1.5.0",
            "_view_name": "HBoxView",
            "box_style": "",
            "children": [
              "IPY_MODEL_9d113104d21e4aa298f4cc22ca9ea530",
              "IPY_MODEL_788814347df44a63a734ba4d23ca972f",
              "IPY_MODEL_5a105860bdc94ea2bbde73e21465885b"
            ],
            "layout": "IPY_MODEL_42aee47c228041bca55855383087a8d7"
          }
        },
        "9d113104d21e4aa298f4cc22ca9ea530": {
          "model_module": "@jupyter-widgets/controls",
          "model_name": "HTMLModel",
          "model_module_version": "1.5.0",
          "state": {
            "_dom_classes": [],
            "_model_module": "@jupyter-widgets/controls",
            "_model_module_version": "1.5.0",
            "_model_name": "HTMLModel",
            "_view_count": null,
            "_view_module": "@jupyter-widgets/controls",
            "_view_module_version": "1.5.0",
            "_view_name": "HTMLView",
            "description": "",
            "description_tooltip": null,
            "layout": "IPY_MODEL_567f898a7e104271b381e7b53652d7aa",
            "placeholder": "​",
            "style": "IPY_MODEL_5875fb4f8739468ebe15dcb8f821a243",
            "value": "Downloading: 100%"
          }
        },
        "788814347df44a63a734ba4d23ca972f": {
          "model_module": "@jupyter-widgets/controls",
          "model_name": "FloatProgressModel",
          "model_module_version": "1.5.0",
          "state": {
            "_dom_classes": [],
            "_model_module": "@jupyter-widgets/controls",
            "_model_module_version": "1.5.0",
            "_model_name": "FloatProgressModel",
            "_view_count": null,
            "_view_module": "@jupyter-widgets/controls",
            "_view_module_version": "1.5.0",
            "_view_name": "ProgressView",
            "bar_style": "success",
            "description": "",
            "description_tooltip": null,
            "layout": "IPY_MODEL_d2819d8cb3a04913aab48271677911c5",
            "max": 456318,
            "min": 0,
            "orientation": "horizontal",
            "style": "IPY_MODEL_9af4cd616de141b58eceaec123b46629",
            "value": 456318
          }
        },
        "5a105860bdc94ea2bbde73e21465885b": {
          "model_module": "@jupyter-widgets/controls",
          "model_name": "HTMLModel",
          "model_module_version": "1.5.0",
          "state": {
            "_dom_classes": [],
            "_model_module": "@jupyter-widgets/controls",
            "_model_module_version": "1.5.0",
            "_model_name": "HTMLModel",
            "_view_count": null,
            "_view_module": "@jupyter-widgets/controls",
            "_view_module_version": "1.5.0",
            "_view_name": "HTMLView",
            "description": "",
            "description_tooltip": null,
            "layout": "IPY_MODEL_4443b1c1cd074304b1b23ac60bb4f163",
            "placeholder": "​",
            "style": "IPY_MODEL_4dbc08aa05574cb9b9d62ab54a954f87",
            "value": " 446k/446k [00:00&lt;00:00, 1.56MB/s]"
          }
        },
        "42aee47c228041bca55855383087a8d7": {
          "model_module": "@jupyter-widgets/base",
          "model_name": "LayoutModel",
          "model_module_version": "1.2.0",
          "state": {
            "_model_module": "@jupyter-widgets/base",
            "_model_module_version": "1.2.0",
            "_model_name": "LayoutModel",
            "_view_count": null,
            "_view_module": "@jupyter-widgets/base",
            "_view_module_version": "1.2.0",
            "_view_name": "LayoutView",
            "align_content": null,
            "align_items": null,
            "align_self": null,
            "border": null,
            "bottom": null,
            "display": null,
            "flex": null,
            "flex_flow": null,
            "grid_area": null,
            "grid_auto_columns": null,
            "grid_auto_flow": null,
            "grid_auto_rows": null,
            "grid_column": null,
            "grid_gap": null,
            "grid_row": null,
            "grid_template_areas": null,
            "grid_template_columns": null,
            "grid_template_rows": null,
            "height": null,
            "justify_content": null,
            "justify_items": null,
            "left": null,
            "margin": null,
            "max_height": null,
            "max_width": null,
            "min_height": null,
            "min_width": null,
            "object_fit": null,
            "object_position": null,
            "order": null,
            "overflow": null,
            "overflow_x": null,
            "overflow_y": null,
            "padding": null,
            "right": null,
            "top": null,
            "visibility": null,
            "width": null
          }
        },
        "567f898a7e104271b381e7b53652d7aa": {
          "model_module": "@jupyter-widgets/base",
          "model_name": "LayoutModel",
          "model_module_version": "1.2.0",
          "state": {
            "_model_module": "@jupyter-widgets/base",
            "_model_module_version": "1.2.0",
            "_model_name": "LayoutModel",
            "_view_count": null,
            "_view_module": "@jupyter-widgets/base",
            "_view_module_version": "1.2.0",
            "_view_name": "LayoutView",
            "align_content": null,
            "align_items": null,
            "align_self": null,
            "border": null,
            "bottom": null,
            "display": null,
            "flex": null,
            "flex_flow": null,
            "grid_area": null,
            "grid_auto_columns": null,
            "grid_auto_flow": null,
            "grid_auto_rows": null,
            "grid_column": null,
            "grid_gap": null,
            "grid_row": null,
            "grid_template_areas": null,
            "grid_template_columns": null,
            "grid_template_rows": null,
            "height": null,
            "justify_content": null,
            "justify_items": null,
            "left": null,
            "margin": null,
            "max_height": null,
            "max_width": null,
            "min_height": null,
            "min_width": null,
            "object_fit": null,
            "object_position": null,
            "order": null,
            "overflow": null,
            "overflow_x": null,
            "overflow_y": null,
            "padding": null,
            "right": null,
            "top": null,
            "visibility": null,
            "width": null
          }
        },
        "5875fb4f8739468ebe15dcb8f821a243": {
          "model_module": "@jupyter-widgets/controls",
          "model_name": "DescriptionStyleModel",
          "model_module_version": "1.5.0",
          "state": {
            "_model_module": "@jupyter-widgets/controls",
            "_model_module_version": "1.5.0",
            "_model_name": "DescriptionStyleModel",
            "_view_count": null,
            "_view_module": "@jupyter-widgets/base",
            "_view_module_version": "1.2.0",
            "_view_name": "StyleView",
            "description_width": ""
          }
        },
        "d2819d8cb3a04913aab48271677911c5": {
          "model_module": "@jupyter-widgets/base",
          "model_name": "LayoutModel",
          "model_module_version": "1.2.0",
          "state": {
            "_model_module": "@jupyter-widgets/base",
            "_model_module_version": "1.2.0",
            "_model_name": "LayoutModel",
            "_view_count": null,
            "_view_module": "@jupyter-widgets/base",
            "_view_module_version": "1.2.0",
            "_view_name": "LayoutView",
            "align_content": null,
            "align_items": null,
            "align_self": null,
            "border": null,
            "bottom": null,
            "display": null,
            "flex": null,
            "flex_flow": null,
            "grid_area": null,
            "grid_auto_columns": null,
            "grid_auto_flow": null,
            "grid_auto_rows": null,
            "grid_column": null,
            "grid_gap": null,
            "grid_row": null,
            "grid_template_areas": null,
            "grid_template_columns": null,
            "grid_template_rows": null,
            "height": null,
            "justify_content": null,
            "justify_items": null,
            "left": null,
            "margin": null,
            "max_height": null,
            "max_width": null,
            "min_height": null,
            "min_width": null,
            "object_fit": null,
            "object_position": null,
            "order": null,
            "overflow": null,
            "overflow_x": null,
            "overflow_y": null,
            "padding": null,
            "right": null,
            "top": null,
            "visibility": null,
            "width": null
          }
        },
        "9af4cd616de141b58eceaec123b46629": {
          "model_module": "@jupyter-widgets/controls",
          "model_name": "ProgressStyleModel",
          "model_module_version": "1.5.0",
          "state": {
            "_model_module": "@jupyter-widgets/controls",
            "_model_module_version": "1.5.0",
            "_model_name": "ProgressStyleModel",
            "_view_count": null,
            "_view_module": "@jupyter-widgets/base",
            "_view_module_version": "1.2.0",
            "_view_name": "StyleView",
            "bar_color": null,
            "description_width": ""
          }
        },
        "4443b1c1cd074304b1b23ac60bb4f163": {
          "model_module": "@jupyter-widgets/base",
          "model_name": "LayoutModel",
          "model_module_version": "1.2.0",
          "state": {
            "_model_module": "@jupyter-widgets/base",
            "_model_module_version": "1.2.0",
            "_model_name": "LayoutModel",
            "_view_count": null,
            "_view_module": "@jupyter-widgets/base",
            "_view_module_version": "1.2.0",
            "_view_name": "LayoutView",
            "align_content": null,
            "align_items": null,
            "align_self": null,
            "border": null,
            "bottom": null,
            "display": null,
            "flex": null,
            "flex_flow": null,
            "grid_area": null,
            "grid_auto_columns": null,
            "grid_auto_flow": null,
            "grid_auto_rows": null,
            "grid_column": null,
            "grid_gap": null,
            "grid_row": null,
            "grid_template_areas": null,
            "grid_template_columns": null,
            "grid_template_rows": null,
            "height": null,
            "justify_content": null,
            "justify_items": null,
            "left": null,
            "margin": null,
            "max_height": null,
            "max_width": null,
            "min_height": null,
            "min_width": null,
            "object_fit": null,
            "object_position": null,
            "order": null,
            "overflow": null,
            "overflow_x": null,
            "overflow_y": null,
            "padding": null,
            "right": null,
            "top": null,
            "visibility": null,
            "width": null
          }
        },
        "4dbc08aa05574cb9b9d62ab54a954f87": {
          "model_module": "@jupyter-widgets/controls",
          "model_name": "DescriptionStyleModel",
          "model_module_version": "1.5.0",
          "state": {
            "_model_module": "@jupyter-widgets/controls",
            "_model_module_version": "1.5.0",
            "_model_name": "DescriptionStyleModel",
            "_view_count": null,
            "_view_module": "@jupyter-widgets/base",
            "_view_module_version": "1.2.0",
            "_view_name": "StyleView",
            "description_width": ""
          }
        },
        "52235f3f3a244b99949396730c124247": {
          "model_module": "@jupyter-widgets/controls",
          "model_name": "HBoxModel",
          "model_module_version": "1.5.0",
          "state": {
            "_dom_classes": [],
            "_model_module": "@jupyter-widgets/controls",
            "_model_module_version": "1.5.0",
            "_model_name": "HBoxModel",
            "_view_count": null,
            "_view_module": "@jupyter-widgets/controls",
            "_view_module_version": "1.5.0",
            "_view_name": "HBoxView",
            "box_style": "",
            "children": [
              "IPY_MODEL_f3a4847881fa4b5ea28bc09438eb2077",
              "IPY_MODEL_75e0c6247fbe4af189aeee55f66ef2d1",
              "IPY_MODEL_cf92a219d4b749fcbf0522cd50f2565d"
            ],
            "layout": "IPY_MODEL_187fd5850e314167bc06293316038c8f"
          }
        },
        "f3a4847881fa4b5ea28bc09438eb2077": {
          "model_module": "@jupyter-widgets/controls",
          "model_name": "HTMLModel",
          "model_module_version": "1.5.0",
          "state": {
            "_dom_classes": [],
            "_model_module": "@jupyter-widgets/controls",
            "_model_module_version": "1.5.0",
            "_model_name": "HTMLModel",
            "_view_count": null,
            "_view_module": "@jupyter-widgets/controls",
            "_view_module_version": "1.5.0",
            "_view_name": "HTMLView",
            "description": "",
            "description_tooltip": null,
            "layout": "IPY_MODEL_39879fb7330d4279b193c95d963b053e",
            "placeholder": "​",
            "style": "IPY_MODEL_6db45a3963404208ad1c81b23536a4cc",
            "value": "Downloading: 100%"
          }
        },
        "75e0c6247fbe4af189aeee55f66ef2d1": {
          "model_module": "@jupyter-widgets/controls",
          "model_name": "FloatProgressModel",
          "model_module_version": "1.5.0",
          "state": {
            "_dom_classes": [],
            "_model_module": "@jupyter-widgets/controls",
            "_model_module_version": "1.5.0",
            "_model_name": "FloatProgressModel",
            "_view_count": null,
            "_view_module": "@jupyter-widgets/controls",
            "_view_module_version": "1.5.0",
            "_view_name": "ProgressView",
            "bar_style": "success",
            "description": "",
            "description_tooltip": null,
            "layout": "IPY_MODEL_041c2c8926224f21a485b2e3d1046164",
            "max": 1355256,
            "min": 0,
            "orientation": "horizontal",
            "style": "IPY_MODEL_a38870117fe74ff2acb2d58f043cdc19",
            "value": 1355256
          }
        },
        "cf92a219d4b749fcbf0522cd50f2565d": {
          "model_module": "@jupyter-widgets/controls",
          "model_name": "HTMLModel",
          "model_module_version": "1.5.0",
          "state": {
            "_dom_classes": [],
            "_model_module": "@jupyter-widgets/controls",
            "_model_module_version": "1.5.0",
            "_model_name": "HTMLModel",
            "_view_count": null,
            "_view_module": "@jupyter-widgets/controls",
            "_view_module_version": "1.5.0",
            "_view_name": "HTMLView",
            "description": "",
            "description_tooltip": null,
            "layout": "IPY_MODEL_d945f226912b4a08b000d90a86ef3fc6",
            "placeholder": "​",
            "style": "IPY_MODEL_d2655d6ddc9e446383ac03cdfa50c44b",
            "value": " 1.29M/1.29M [00:00&lt;00:00, 2.78MB/s]"
          }
        },
        "187fd5850e314167bc06293316038c8f": {
          "model_module": "@jupyter-widgets/base",
          "model_name": "LayoutModel",
          "model_module_version": "1.2.0",
          "state": {
            "_model_module": "@jupyter-widgets/base",
            "_model_module_version": "1.2.0",
            "_model_name": "LayoutModel",
            "_view_count": null,
            "_view_module": "@jupyter-widgets/base",
            "_view_module_version": "1.2.0",
            "_view_name": "LayoutView",
            "align_content": null,
            "align_items": null,
            "align_self": null,
            "border": null,
            "bottom": null,
            "display": null,
            "flex": null,
            "flex_flow": null,
            "grid_area": null,
            "grid_auto_columns": null,
            "grid_auto_flow": null,
            "grid_auto_rows": null,
            "grid_column": null,
            "grid_gap": null,
            "grid_row": null,
            "grid_template_areas": null,
            "grid_template_columns": null,
            "grid_template_rows": null,
            "height": null,
            "justify_content": null,
            "justify_items": null,
            "left": null,
            "margin": null,
            "max_height": null,
            "max_width": null,
            "min_height": null,
            "min_width": null,
            "object_fit": null,
            "object_position": null,
            "order": null,
            "overflow": null,
            "overflow_x": null,
            "overflow_y": null,
            "padding": null,
            "right": null,
            "top": null,
            "visibility": null,
            "width": null
          }
        },
        "39879fb7330d4279b193c95d963b053e": {
          "model_module": "@jupyter-widgets/base",
          "model_name": "LayoutModel",
          "model_module_version": "1.2.0",
          "state": {
            "_model_module": "@jupyter-widgets/base",
            "_model_module_version": "1.2.0",
            "_model_name": "LayoutModel",
            "_view_count": null,
            "_view_module": "@jupyter-widgets/base",
            "_view_module_version": "1.2.0",
            "_view_name": "LayoutView",
            "align_content": null,
            "align_items": null,
            "align_self": null,
            "border": null,
            "bottom": null,
            "display": null,
            "flex": null,
            "flex_flow": null,
            "grid_area": null,
            "grid_auto_columns": null,
            "grid_auto_flow": null,
            "grid_auto_rows": null,
            "grid_column": null,
            "grid_gap": null,
            "grid_row": null,
            "grid_template_areas": null,
            "grid_template_columns": null,
            "grid_template_rows": null,
            "height": null,
            "justify_content": null,
            "justify_items": null,
            "left": null,
            "margin": null,
            "max_height": null,
            "max_width": null,
            "min_height": null,
            "min_width": null,
            "object_fit": null,
            "object_position": null,
            "order": null,
            "overflow": null,
            "overflow_x": null,
            "overflow_y": null,
            "padding": null,
            "right": null,
            "top": null,
            "visibility": null,
            "width": null
          }
        },
        "6db45a3963404208ad1c81b23536a4cc": {
          "model_module": "@jupyter-widgets/controls",
          "model_name": "DescriptionStyleModel",
          "model_module_version": "1.5.0",
          "state": {
            "_model_module": "@jupyter-widgets/controls",
            "_model_module_version": "1.5.0",
            "_model_name": "DescriptionStyleModel",
            "_view_count": null,
            "_view_module": "@jupyter-widgets/base",
            "_view_module_version": "1.2.0",
            "_view_name": "StyleView",
            "description_width": ""
          }
        },
        "041c2c8926224f21a485b2e3d1046164": {
          "model_module": "@jupyter-widgets/base",
          "model_name": "LayoutModel",
          "model_module_version": "1.2.0",
          "state": {
            "_model_module": "@jupyter-widgets/base",
            "_model_module_version": "1.2.0",
            "_model_name": "LayoutModel",
            "_view_count": null,
            "_view_module": "@jupyter-widgets/base",
            "_view_module_version": "1.2.0",
            "_view_name": "LayoutView",
            "align_content": null,
            "align_items": null,
            "align_self": null,
            "border": null,
            "bottom": null,
            "display": null,
            "flex": null,
            "flex_flow": null,
            "grid_area": null,
            "grid_auto_columns": null,
            "grid_auto_flow": null,
            "grid_auto_rows": null,
            "grid_column": null,
            "grid_gap": null,
            "grid_row": null,
            "grid_template_areas": null,
            "grid_template_columns": null,
            "grid_template_rows": null,
            "height": null,
            "justify_content": null,
            "justify_items": null,
            "left": null,
            "margin": null,
            "max_height": null,
            "max_width": null,
            "min_height": null,
            "min_width": null,
            "object_fit": null,
            "object_position": null,
            "order": null,
            "overflow": null,
            "overflow_x": null,
            "overflow_y": null,
            "padding": null,
            "right": null,
            "top": null,
            "visibility": null,
            "width": null
          }
        },
        "a38870117fe74ff2acb2d58f043cdc19": {
          "model_module": "@jupyter-widgets/controls",
          "model_name": "ProgressStyleModel",
          "model_module_version": "1.5.0",
          "state": {
            "_model_module": "@jupyter-widgets/controls",
            "_model_module_version": "1.5.0",
            "_model_name": "ProgressStyleModel",
            "_view_count": null,
            "_view_module": "@jupyter-widgets/base",
            "_view_module_version": "1.2.0",
            "_view_name": "StyleView",
            "bar_color": null,
            "description_width": ""
          }
        },
        "d945f226912b4a08b000d90a86ef3fc6": {
          "model_module": "@jupyter-widgets/base",
          "model_name": "LayoutModel",
          "model_module_version": "1.2.0",
          "state": {
            "_model_module": "@jupyter-widgets/base",
            "_model_module_version": "1.2.0",
            "_model_name": "LayoutModel",
            "_view_count": null,
            "_view_module": "@jupyter-widgets/base",
            "_view_module_version": "1.2.0",
            "_view_name": "LayoutView",
            "align_content": null,
            "align_items": null,
            "align_self": null,
            "border": null,
            "bottom": null,
            "display": null,
            "flex": null,
            "flex_flow": null,
            "grid_area": null,
            "grid_auto_columns": null,
            "grid_auto_flow": null,
            "grid_auto_rows": null,
            "grid_column": null,
            "grid_gap": null,
            "grid_row": null,
            "grid_template_areas": null,
            "grid_template_columns": null,
            "grid_template_rows": null,
            "height": null,
            "justify_content": null,
            "justify_items": null,
            "left": null,
            "margin": null,
            "max_height": null,
            "max_width": null,
            "min_height": null,
            "min_width": null,
            "object_fit": null,
            "object_position": null,
            "order": null,
            "overflow": null,
            "overflow_x": null,
            "overflow_y": null,
            "padding": null,
            "right": null,
            "top": null,
            "visibility": null,
            "width": null
          }
        },
        "d2655d6ddc9e446383ac03cdfa50c44b": {
          "model_module": "@jupyter-widgets/controls",
          "model_name": "DescriptionStyleModel",
          "model_module_version": "1.5.0",
          "state": {
            "_model_module": "@jupyter-widgets/controls",
            "_model_module_version": "1.5.0",
            "_model_name": "DescriptionStyleModel",
            "_view_count": null,
            "_view_module": "@jupyter-widgets/base",
            "_view_module_version": "1.2.0",
            "_view_name": "StyleView",
            "description_width": ""
          }
        },
        "af820cc0a4d04e7f8305a469bcc62e8d": {
          "model_module": "@jupyter-widgets/controls",
          "model_name": "HBoxModel",
          "model_module_version": "1.5.0",
          "state": {
            "_dom_classes": [],
            "_model_module": "@jupyter-widgets/controls",
            "_model_module_version": "1.5.0",
            "_model_name": "HBoxModel",
            "_view_count": null,
            "_view_module": "@jupyter-widgets/controls",
            "_view_module_version": "1.5.0",
            "_view_name": "HBoxView",
            "box_style": "",
            "children": [
              "IPY_MODEL_291069e06e744a2bbe2a7a8431e187e4",
              "IPY_MODEL_e38aea78d6304bf898445bcef72decf3",
              "IPY_MODEL_b5421a8f58724ff6824631dd5ebe4d07"
            ],
            "layout": "IPY_MODEL_95f39a4d244b464aa541ec7e05ea03e9"
          }
        },
        "291069e06e744a2bbe2a7a8431e187e4": {
          "model_module": "@jupyter-widgets/controls",
          "model_name": "HTMLModel",
          "model_module_version": "1.5.0",
          "state": {
            "_dom_classes": [],
            "_model_module": "@jupyter-widgets/controls",
            "_model_module_version": "1.5.0",
            "_model_name": "HTMLModel",
            "_view_count": null,
            "_view_module": "@jupyter-widgets/controls",
            "_view_module_version": "1.5.0",
            "_view_name": "HTMLView",
            "description": "",
            "description_tooltip": null,
            "layout": "IPY_MODEL_9af8b3a81013442bb1fd394521ee0314",
            "placeholder": "​",
            "style": "IPY_MODEL_b87bf9f824a948c59009c7db075705a7",
            "value": "Downloading: 100%"
          }
        },
        "e38aea78d6304bf898445bcef72decf3": {
          "model_module": "@jupyter-widgets/controls",
          "model_name": "FloatProgressModel",
          "model_module_version": "1.5.0",
          "state": {
            "_dom_classes": [],
            "_model_module": "@jupyter-widgets/controls",
            "_model_module_version": "1.5.0",
            "_model_name": "FloatProgressModel",
            "_view_count": null,
            "_view_module": "@jupyter-widgets/controls",
            "_view_module_version": "1.5.0",
            "_view_name": "ProgressView",
            "bar_style": "success",
            "description": "",
            "description_tooltip": null,
            "layout": "IPY_MODEL_283ece8c3a3f428fb7f44014b8ba7dfe",
            "max": 665,
            "min": 0,
            "orientation": "horizontal",
            "style": "IPY_MODEL_44cf16190a704d469fa6cecfb996e5fb",
            "value": 665
          }
        },
        "b5421a8f58724ff6824631dd5ebe4d07": {
          "model_module": "@jupyter-widgets/controls",
          "model_name": "HTMLModel",
          "model_module_version": "1.5.0",
          "state": {
            "_dom_classes": [],
            "_model_module": "@jupyter-widgets/controls",
            "_model_module_version": "1.5.0",
            "_model_name": "HTMLModel",
            "_view_count": null,
            "_view_module": "@jupyter-widgets/controls",
            "_view_module_version": "1.5.0",
            "_view_name": "HTMLView",
            "description": "",
            "description_tooltip": null,
            "layout": "IPY_MODEL_bee90e16e4ab413ba32cbe1ec8d8ed2c",
            "placeholder": "​",
            "style": "IPY_MODEL_11be5f20523146e3be2cbaaf4acf43cd",
            "value": " 665/665 [00:00&lt;00:00, 4.13kB/s]"
          }
        },
        "95f39a4d244b464aa541ec7e05ea03e9": {
          "model_module": "@jupyter-widgets/base",
          "model_name": "LayoutModel",
          "model_module_version": "1.2.0",
          "state": {
            "_model_module": "@jupyter-widgets/base",
            "_model_module_version": "1.2.0",
            "_model_name": "LayoutModel",
            "_view_count": null,
            "_view_module": "@jupyter-widgets/base",
            "_view_module_version": "1.2.0",
            "_view_name": "LayoutView",
            "align_content": null,
            "align_items": null,
            "align_self": null,
            "border": null,
            "bottom": null,
            "display": null,
            "flex": null,
            "flex_flow": null,
            "grid_area": null,
            "grid_auto_columns": null,
            "grid_auto_flow": null,
            "grid_auto_rows": null,
            "grid_column": null,
            "grid_gap": null,
            "grid_row": null,
            "grid_template_areas": null,
            "grid_template_columns": null,
            "grid_template_rows": null,
            "height": null,
            "justify_content": null,
            "justify_items": null,
            "left": null,
            "margin": null,
            "max_height": null,
            "max_width": null,
            "min_height": null,
            "min_width": null,
            "object_fit": null,
            "object_position": null,
            "order": null,
            "overflow": null,
            "overflow_x": null,
            "overflow_y": null,
            "padding": null,
            "right": null,
            "top": null,
            "visibility": null,
            "width": null
          }
        },
        "9af8b3a81013442bb1fd394521ee0314": {
          "model_module": "@jupyter-widgets/base",
          "model_name": "LayoutModel",
          "model_module_version": "1.2.0",
          "state": {
            "_model_module": "@jupyter-widgets/base",
            "_model_module_version": "1.2.0",
            "_model_name": "LayoutModel",
            "_view_count": null,
            "_view_module": "@jupyter-widgets/base",
            "_view_module_version": "1.2.0",
            "_view_name": "LayoutView",
            "align_content": null,
            "align_items": null,
            "align_self": null,
            "border": null,
            "bottom": null,
            "display": null,
            "flex": null,
            "flex_flow": null,
            "grid_area": null,
            "grid_auto_columns": null,
            "grid_auto_flow": null,
            "grid_auto_rows": null,
            "grid_column": null,
            "grid_gap": null,
            "grid_row": null,
            "grid_template_areas": null,
            "grid_template_columns": null,
            "grid_template_rows": null,
            "height": null,
            "justify_content": null,
            "justify_items": null,
            "left": null,
            "margin": null,
            "max_height": null,
            "max_width": null,
            "min_height": null,
            "min_width": null,
            "object_fit": null,
            "object_position": null,
            "order": null,
            "overflow": null,
            "overflow_x": null,
            "overflow_y": null,
            "padding": null,
            "right": null,
            "top": null,
            "visibility": null,
            "width": null
          }
        },
        "b87bf9f824a948c59009c7db075705a7": {
          "model_module": "@jupyter-widgets/controls",
          "model_name": "DescriptionStyleModel",
          "model_module_version": "1.5.0",
          "state": {
            "_model_module": "@jupyter-widgets/controls",
            "_model_module_version": "1.5.0",
            "_model_name": "DescriptionStyleModel",
            "_view_count": null,
            "_view_module": "@jupyter-widgets/base",
            "_view_module_version": "1.2.0",
            "_view_name": "StyleView",
            "description_width": ""
          }
        },
        "283ece8c3a3f428fb7f44014b8ba7dfe": {
          "model_module": "@jupyter-widgets/base",
          "model_name": "LayoutModel",
          "model_module_version": "1.2.0",
          "state": {
            "_model_module": "@jupyter-widgets/base",
            "_model_module_version": "1.2.0",
            "_model_name": "LayoutModel",
            "_view_count": null,
            "_view_module": "@jupyter-widgets/base",
            "_view_module_version": "1.2.0",
            "_view_name": "LayoutView",
            "align_content": null,
            "align_items": null,
            "align_self": null,
            "border": null,
            "bottom": null,
            "display": null,
            "flex": null,
            "flex_flow": null,
            "grid_area": null,
            "grid_auto_columns": null,
            "grid_auto_flow": null,
            "grid_auto_rows": null,
            "grid_column": null,
            "grid_gap": null,
            "grid_row": null,
            "grid_template_areas": null,
            "grid_template_columns": null,
            "grid_template_rows": null,
            "height": null,
            "justify_content": null,
            "justify_items": null,
            "left": null,
            "margin": null,
            "max_height": null,
            "max_width": null,
            "min_height": null,
            "min_width": null,
            "object_fit": null,
            "object_position": null,
            "order": null,
            "overflow": null,
            "overflow_x": null,
            "overflow_y": null,
            "padding": null,
            "right": null,
            "top": null,
            "visibility": null,
            "width": null
          }
        },
        "44cf16190a704d469fa6cecfb996e5fb": {
          "model_module": "@jupyter-widgets/controls",
          "model_name": "ProgressStyleModel",
          "model_module_version": "1.5.0",
          "state": {
            "_model_module": "@jupyter-widgets/controls",
            "_model_module_version": "1.5.0",
            "_model_name": "ProgressStyleModel",
            "_view_count": null,
            "_view_module": "@jupyter-widgets/base",
            "_view_module_version": "1.2.0",
            "_view_name": "StyleView",
            "bar_color": null,
            "description_width": ""
          }
        },
        "bee90e16e4ab413ba32cbe1ec8d8ed2c": {
          "model_module": "@jupyter-widgets/base",
          "model_name": "LayoutModel",
          "model_module_version": "1.2.0",
          "state": {
            "_model_module": "@jupyter-widgets/base",
            "_model_module_version": "1.2.0",
            "_model_name": "LayoutModel",
            "_view_count": null,
            "_view_module": "@jupyter-widgets/base",
            "_view_module_version": "1.2.0",
            "_view_name": "LayoutView",
            "align_content": null,
            "align_items": null,
            "align_self": null,
            "border": null,
            "bottom": null,
            "display": null,
            "flex": null,
            "flex_flow": null,
            "grid_area": null,
            "grid_auto_columns": null,
            "grid_auto_flow": null,
            "grid_auto_rows": null,
            "grid_column": null,
            "grid_gap": null,
            "grid_row": null,
            "grid_template_areas": null,
            "grid_template_columns": null,
            "grid_template_rows": null,
            "height": null,
            "justify_content": null,
            "justify_items": null,
            "left": null,
            "margin": null,
            "max_height": null,
            "max_width": null,
            "min_height": null,
            "min_width": null,
            "object_fit": null,
            "object_position": null,
            "order": null,
            "overflow": null,
            "overflow_x": null,
            "overflow_y": null,
            "padding": null,
            "right": null,
            "top": null,
            "visibility": null,
            "width": null
          }
        },
        "11be5f20523146e3be2cbaaf4acf43cd": {
          "model_module": "@jupyter-widgets/controls",
          "model_name": "DescriptionStyleModel",
          "model_module_version": "1.5.0",
          "state": {
            "_model_module": "@jupyter-widgets/controls",
            "_model_module_version": "1.5.0",
            "_model_name": "DescriptionStyleModel",
            "_view_count": null,
            "_view_module": "@jupyter-widgets/base",
            "_view_module_version": "1.2.0",
            "_view_name": "StyleView",
            "description_width": ""
          }
        },
        "d75c4dca88874c5eacfeb9cb959f3b8e": {
          "model_module": "@jupyter-widgets/controls",
          "model_name": "HBoxModel",
          "model_module_version": "1.5.0",
          "state": {
            "_dom_classes": [],
            "_model_module": "@jupyter-widgets/controls",
            "_model_module_version": "1.5.0",
            "_model_name": "HBoxModel",
            "_view_count": null,
            "_view_module": "@jupyter-widgets/controls",
            "_view_module_version": "1.5.0",
            "_view_name": "HBoxView",
            "box_style": "",
            "children": [
              "IPY_MODEL_f6fc2af9769a4ca4a239df5f076d233c",
              "IPY_MODEL_f6ad9c7eb24645b1bb0303603d9aef36",
              "IPY_MODEL_7c9e5a5877a2449ba2a11b5d33575d41"
            ],
            "layout": "IPY_MODEL_59287b70fee348f6bac7ab9526f774ba"
          }
        },
        "f6fc2af9769a4ca4a239df5f076d233c": {
          "model_module": "@jupyter-widgets/controls",
          "model_name": "HTMLModel",
          "model_module_version": "1.5.0",
          "state": {
            "_dom_classes": [],
            "_model_module": "@jupyter-widgets/controls",
            "_model_module_version": "1.5.0",
            "_model_name": "HTMLModel",
            "_view_count": null,
            "_view_module": "@jupyter-widgets/controls",
            "_view_module_version": "1.5.0",
            "_view_name": "HTMLView",
            "description": "",
            "description_tooltip": null,
            "layout": "IPY_MODEL_0ffb32260a6e409ca85ec7ab4e9dd855",
            "placeholder": "​",
            "style": "IPY_MODEL_227a6fdb414e4f948d83ae5f7529b8df",
            "value": "Downloading: 100%"
          }
        },
        "f6ad9c7eb24645b1bb0303603d9aef36": {
          "model_module": "@jupyter-widgets/controls",
          "model_name": "FloatProgressModel",
          "model_module_version": "1.5.0",
          "state": {
            "_dom_classes": [],
            "_model_module": "@jupyter-widgets/controls",
            "_model_module_version": "1.5.0",
            "_model_name": "FloatProgressModel",
            "_view_count": null,
            "_view_module": "@jupyter-widgets/controls",
            "_view_module_version": "1.5.0",
            "_view_name": "ProgressView",
            "bar_style": "success",
            "description": "",
            "description_tooltip": null,
            "layout": "IPY_MODEL_7fdf8e0ac10545858c3cd7014673d8c1",
            "max": 548118077,
            "min": 0,
            "orientation": "horizontal",
            "style": "IPY_MODEL_09a414743ef14cc789bb1bc55cd5d284",
            "value": 548118077
          }
        },
        "7c9e5a5877a2449ba2a11b5d33575d41": {
          "model_module": "@jupyter-widgets/controls",
          "model_name": "HTMLModel",
          "model_module_version": "1.5.0",
          "state": {
            "_dom_classes": [],
            "_model_module": "@jupyter-widgets/controls",
            "_model_module_version": "1.5.0",
            "_model_name": "HTMLModel",
            "_view_count": null,
            "_view_module": "@jupyter-widgets/controls",
            "_view_module_version": "1.5.0",
            "_view_name": "HTMLView",
            "description": "",
            "description_tooltip": null,
            "layout": "IPY_MODEL_391da6df25ec4a1db2535c5794a0b72f",
            "placeholder": "​",
            "style": "IPY_MODEL_85f6bb533ff146df91958b3feb0fdc10",
            "value": " 523M/523M [00:15&lt;00:00, 39.5MB/s]"
          }
        },
        "59287b70fee348f6bac7ab9526f774ba": {
          "model_module": "@jupyter-widgets/base",
          "model_name": "LayoutModel",
          "model_module_version": "1.2.0",
          "state": {
            "_model_module": "@jupyter-widgets/base",
            "_model_module_version": "1.2.0",
            "_model_name": "LayoutModel",
            "_view_count": null,
            "_view_module": "@jupyter-widgets/base",
            "_view_module_version": "1.2.0",
            "_view_name": "LayoutView",
            "align_content": null,
            "align_items": null,
            "align_self": null,
            "border": null,
            "bottom": null,
            "display": null,
            "flex": null,
            "flex_flow": null,
            "grid_area": null,
            "grid_auto_columns": null,
            "grid_auto_flow": null,
            "grid_auto_rows": null,
            "grid_column": null,
            "grid_gap": null,
            "grid_row": null,
            "grid_template_areas": null,
            "grid_template_columns": null,
            "grid_template_rows": null,
            "height": null,
            "justify_content": null,
            "justify_items": null,
            "left": null,
            "margin": null,
            "max_height": null,
            "max_width": null,
            "min_height": null,
            "min_width": null,
            "object_fit": null,
            "object_position": null,
            "order": null,
            "overflow": null,
            "overflow_x": null,
            "overflow_y": null,
            "padding": null,
            "right": null,
            "top": null,
            "visibility": null,
            "width": null
          }
        },
        "0ffb32260a6e409ca85ec7ab4e9dd855": {
          "model_module": "@jupyter-widgets/base",
          "model_name": "LayoutModel",
          "model_module_version": "1.2.0",
          "state": {
            "_model_module": "@jupyter-widgets/base",
            "_model_module_version": "1.2.0",
            "_model_name": "LayoutModel",
            "_view_count": null,
            "_view_module": "@jupyter-widgets/base",
            "_view_module_version": "1.2.0",
            "_view_name": "LayoutView",
            "align_content": null,
            "align_items": null,
            "align_self": null,
            "border": null,
            "bottom": null,
            "display": null,
            "flex": null,
            "flex_flow": null,
            "grid_area": null,
            "grid_auto_columns": null,
            "grid_auto_flow": null,
            "grid_auto_rows": null,
            "grid_column": null,
            "grid_gap": null,
            "grid_row": null,
            "grid_template_areas": null,
            "grid_template_columns": null,
            "grid_template_rows": null,
            "height": null,
            "justify_content": null,
            "justify_items": null,
            "left": null,
            "margin": null,
            "max_height": null,
            "max_width": null,
            "min_height": null,
            "min_width": null,
            "object_fit": null,
            "object_position": null,
            "order": null,
            "overflow": null,
            "overflow_x": null,
            "overflow_y": null,
            "padding": null,
            "right": null,
            "top": null,
            "visibility": null,
            "width": null
          }
        },
        "227a6fdb414e4f948d83ae5f7529b8df": {
          "model_module": "@jupyter-widgets/controls",
          "model_name": "DescriptionStyleModel",
          "model_module_version": "1.5.0",
          "state": {
            "_model_module": "@jupyter-widgets/controls",
            "_model_module_version": "1.5.0",
            "_model_name": "DescriptionStyleModel",
            "_view_count": null,
            "_view_module": "@jupyter-widgets/base",
            "_view_module_version": "1.2.0",
            "_view_name": "StyleView",
            "description_width": ""
          }
        },
        "7fdf8e0ac10545858c3cd7014673d8c1": {
          "model_module": "@jupyter-widgets/base",
          "model_name": "LayoutModel",
          "model_module_version": "1.2.0",
          "state": {
            "_model_module": "@jupyter-widgets/base",
            "_model_module_version": "1.2.0",
            "_model_name": "LayoutModel",
            "_view_count": null,
            "_view_module": "@jupyter-widgets/base",
            "_view_module_version": "1.2.0",
            "_view_name": "LayoutView",
            "align_content": null,
            "align_items": null,
            "align_self": null,
            "border": null,
            "bottom": null,
            "display": null,
            "flex": null,
            "flex_flow": null,
            "grid_area": null,
            "grid_auto_columns": null,
            "grid_auto_flow": null,
            "grid_auto_rows": null,
            "grid_column": null,
            "grid_gap": null,
            "grid_row": null,
            "grid_template_areas": null,
            "grid_template_columns": null,
            "grid_template_rows": null,
            "height": null,
            "justify_content": null,
            "justify_items": null,
            "left": null,
            "margin": null,
            "max_height": null,
            "max_width": null,
            "min_height": null,
            "min_width": null,
            "object_fit": null,
            "object_position": null,
            "order": null,
            "overflow": null,
            "overflow_x": null,
            "overflow_y": null,
            "padding": null,
            "right": null,
            "top": null,
            "visibility": null,
            "width": null
          }
        },
        "09a414743ef14cc789bb1bc55cd5d284": {
          "model_module": "@jupyter-widgets/controls",
          "model_name": "ProgressStyleModel",
          "model_module_version": "1.5.0",
          "state": {
            "_model_module": "@jupyter-widgets/controls",
            "_model_module_version": "1.5.0",
            "_model_name": "ProgressStyleModel",
            "_view_count": null,
            "_view_module": "@jupyter-widgets/base",
            "_view_module_version": "1.2.0",
            "_view_name": "StyleView",
            "bar_color": null,
            "description_width": ""
          }
        },
        "391da6df25ec4a1db2535c5794a0b72f": {
          "model_module": "@jupyter-widgets/base",
          "model_name": "LayoutModel",
          "model_module_version": "1.2.0",
          "state": {
            "_model_module": "@jupyter-widgets/base",
            "_model_module_version": "1.2.0",
            "_model_name": "LayoutModel",
            "_view_count": null,
            "_view_module": "@jupyter-widgets/base",
            "_view_module_version": "1.2.0",
            "_view_name": "LayoutView",
            "align_content": null,
            "align_items": null,
            "align_self": null,
            "border": null,
            "bottom": null,
            "display": null,
            "flex": null,
            "flex_flow": null,
            "grid_area": null,
            "grid_auto_columns": null,
            "grid_auto_flow": null,
            "grid_auto_rows": null,
            "grid_column": null,
            "grid_gap": null,
            "grid_row": null,
            "grid_template_areas": null,
            "grid_template_columns": null,
            "grid_template_rows": null,
            "height": null,
            "justify_content": null,
            "justify_items": null,
            "left": null,
            "margin": null,
            "max_height": null,
            "max_width": null,
            "min_height": null,
            "min_width": null,
            "object_fit": null,
            "object_position": null,
            "order": null,
            "overflow": null,
            "overflow_x": null,
            "overflow_y": null,
            "padding": null,
            "right": null,
            "top": null,
            "visibility": null,
            "width": null
          }
        },
        "85f6bb533ff146df91958b3feb0fdc10": {
          "model_module": "@jupyter-widgets/controls",
          "model_name": "DescriptionStyleModel",
          "model_module_version": "1.5.0",
          "state": {
            "_model_module": "@jupyter-widgets/controls",
            "_model_module_version": "1.5.0",
            "_model_name": "DescriptionStyleModel",
            "_view_count": null,
            "_view_module": "@jupyter-widgets/base",
            "_view_module_version": "1.2.0",
            "_view_name": "StyleView",
            "description_width": ""
          }
        }
      }
    }
  },
  "cells": [
    {
      "cell_type": "markdown",
      "source": [
        "## Installing the Transformers Module."
      ],
      "metadata": {
        "id": "playxmEu9Csz"
      }
    },
    {
      "cell_type": "code",
      "execution_count": null,
      "metadata": {
        "colab": {
          "base_uri": "https://localhost:8080/"
        },
        "id": "Uri9dHqR2t4X",
        "outputId": "bc62dcb8-ce4e-4df5-baf0-e2a3bf0fe4f5"
      },
      "outputs": [
        {
          "output_type": "stream",
          "name": "stdout",
          "text": [
            "Collecting transformers\n",
            "  Downloading transformers-4.18.0-py3-none-any.whl (4.0 MB)\n",
            "\u001b[K     |████████████████████████████████| 4.0 MB 3.5 MB/s \n",
            "\u001b[?25hRequirement already satisfied: regex!=2019.12.17 in /usr/local/lib/python3.7/dist-packages (from transformers) (2019.12.20)\n",
            "Requirement already satisfied: numpy>=1.17 in /usr/local/lib/python3.7/dist-packages (from transformers) (1.21.5)\n",
            "Requirement already satisfied: filelock in /usr/local/lib/python3.7/dist-packages (from transformers) (3.6.0)\n",
            "Requirement already satisfied: tqdm>=4.27 in /usr/local/lib/python3.7/dist-packages (from transformers) (4.64.0)\n",
            "Requirement already satisfied: packaging>=20.0 in /usr/local/lib/python3.7/dist-packages (from transformers) (21.3)\n",
            "Requirement already satisfied: importlib-metadata in /usr/local/lib/python3.7/dist-packages (from transformers) (4.11.3)\n",
            "Collecting sacremoses\n",
            "  Downloading sacremoses-0.0.49-py3-none-any.whl (895 kB)\n",
            "\u001b[K     |████████████████████████████████| 895 kB 37.0 MB/s \n",
            "\u001b[?25hCollecting pyyaml>=5.1\n",
            "  Downloading PyYAML-6.0-cp37-cp37m-manylinux_2_5_x86_64.manylinux1_x86_64.manylinux_2_12_x86_64.manylinux2010_x86_64.whl (596 kB)\n",
            "\u001b[K     |████████████████████████████████| 596 kB 41.0 MB/s \n",
            "\u001b[?25hCollecting tokenizers!=0.11.3,<0.13,>=0.11.1\n",
            "  Downloading tokenizers-0.12.1-cp37-cp37m-manylinux_2_12_x86_64.manylinux2010_x86_64.whl (6.6 MB)\n",
            "\u001b[K     |████████████████████████████████| 6.6 MB 13.2 MB/s \n",
            "\u001b[?25hCollecting huggingface-hub<1.0,>=0.1.0\n",
            "  Downloading huggingface_hub-0.5.1-py3-none-any.whl (77 kB)\n",
            "\u001b[K     |████████████████████████████████| 77 kB 6.5 MB/s \n",
            "\u001b[?25hRequirement already satisfied: requests in /usr/local/lib/python3.7/dist-packages (from transformers) (2.23.0)\n",
            "Requirement already satisfied: typing-extensions>=3.7.4.3 in /usr/local/lib/python3.7/dist-packages (from huggingface-hub<1.0,>=0.1.0->transformers) (4.1.1)\n",
            "Requirement already satisfied: pyparsing!=3.0.5,>=2.0.2 in /usr/local/lib/python3.7/dist-packages (from packaging>=20.0->transformers) (3.0.8)\n",
            "Requirement already satisfied: zipp>=0.5 in /usr/local/lib/python3.7/dist-packages (from importlib-metadata->transformers) (3.8.0)\n",
            "Requirement already satisfied: chardet<4,>=3.0.2 in /usr/local/lib/python3.7/dist-packages (from requests->transformers) (3.0.4)\n",
            "Requirement already satisfied: urllib3!=1.25.0,!=1.25.1,<1.26,>=1.21.1 in /usr/local/lib/python3.7/dist-packages (from requests->transformers) (1.24.3)\n",
            "Requirement already satisfied: idna<3,>=2.5 in /usr/local/lib/python3.7/dist-packages (from requests->transformers) (2.10)\n",
            "Requirement already satisfied: certifi>=2017.4.17 in /usr/local/lib/python3.7/dist-packages (from requests->transformers) (2021.10.8)\n",
            "Requirement already satisfied: joblib in /usr/local/lib/python3.7/dist-packages (from sacremoses->transformers) (1.1.0)\n",
            "Requirement already satisfied: click in /usr/local/lib/python3.7/dist-packages (from sacremoses->transformers) (7.1.2)\n",
            "Requirement already satisfied: six in /usr/local/lib/python3.7/dist-packages (from sacremoses->transformers) (1.15.0)\n",
            "Installing collected packages: pyyaml, tokenizers, sacremoses, huggingface-hub, transformers\n",
            "  Attempting uninstall: pyyaml\n",
            "    Found existing installation: PyYAML 3.13\n",
            "    Uninstalling PyYAML-3.13:\n",
            "      Successfully uninstalled PyYAML-3.13\n",
            "Successfully installed huggingface-hub-0.5.1 pyyaml-6.0 sacremoses-0.0.49 tokenizers-0.12.1 transformers-4.18.0\n"
          ]
        }
      ],
      "source": [
        "!pip install --upgrade transformers"
      ]
    },
    {
      "cell_type": "markdown",
      "source": [
        "## Install PyTorch, initiate GPU, and other ML Dependencies"
      ],
      "metadata": {
        "id": "YRTFFtAu9Ktk"
      }
    },
    {
      "cell_type": "code",
      "source": [
        "import os\n",
        "import random\n",
        "\n",
        "import numpy as np\n",
        "import pandas as pd\n",
        "import torch\n",
        "import torch.nn as nn\n",
        "\n",
        "SEED = 42\n",
        "\n",
        "torch.manual_seed(SEED)\n",
        "torch.cuda.manual_seed_all(SEED)\n",
        "torch.backends.cudnn.deterministic = True\n",
        "torch.backends.cudnn.benchmark = False"
      ],
      "metadata": {
        "id": "fAROv4jMBNgI"
      },
      "execution_count": null,
      "outputs": []
    },
    {
      "cell_type": "code",
      "source": [
        "# If there's a GPU available...\n",
        "if torch.cuda.is_available():    \n",
        "\n",
        "    # Tell PyTorch to use the GPU.    \n",
        "    device = torch.device(\"cuda\")\n",
        "\n",
        "    print('There are %d GPU(s) available.' % torch.cuda.device_count())\n",
        "\n",
        "    print('We will use the GPU:', torch.cuda.get_device_name(0))\n",
        "\n",
        "# If not...\n",
        "else:\n",
        "    print('No GPU available, using the CPU instead.')\n",
        "    device = torch.device(\"cpu\")"
      ],
      "metadata": {
        "colab": {
          "base_uri": "https://localhost:8080/"
        },
        "id": "RWKmzR-y3sGz",
        "outputId": "fd8d37fb-3f81-457e-eda7-d62bbdc4747a"
      },
      "execution_count": null,
      "outputs": [
        {
          "output_type": "stream",
          "name": "stdout",
          "text": [
            "There are 1 GPU(s) available.\n",
            "We will use the GPU: Tesla K80\n"
          ]
        }
      ]
    },
    {
      "cell_type": "markdown",
      "source": [
        "## Downloading the Finanica Sentinment Analysis Dataset."
      ],
      "metadata": {
        "id": "yosIWH3HB1FN"
      }
    },
    {
      "cell_type": "code",
      "source": [
        "financial_data = pd.read_csv(\"./data.csv\")"
      ],
      "metadata": {
        "id": "0-hKW-JtCnH_"
      },
      "execution_count": null,
      "outputs": []
    },
    {
      "cell_type": "code",
      "source": [
        "financial_data.head(10)"
      ],
      "metadata": {
        "colab": {
          "base_uri": "https://localhost:8080/",
          "height": 363
        },
        "id": "h4QByjRPgd86",
        "outputId": "dbb48861-5071-452a-906b-4ce6e6450528"
      },
      "execution_count": null,
      "outputs": [
        {
          "output_type": "execute_result",
          "data": {
            "text/plain": [
              "                                            Sentence Sentiment\n",
              "0  The GeoSolutions technology will leverage Bene...  positive\n",
              "1  $ESI on lows, down $1.50 to $2.50 BK a real po...  negative\n",
              "2  For the last quarter of 2010 , Componenta 's n...  positive\n",
              "3  According to the Finnish-Russian Chamber of Co...   neutral\n",
              "4  The Swedish buyout firm has sold its remaining...   neutral\n",
              "5    $SPY wouldn't be surprised to see a green close  positive\n",
              "6  Shell's $70 Billion BG Deal Meets Shareholder ...  negative\n",
              "7  SSH COMMUNICATIONS SECURITY CORP STOCK EXCHANG...  negative\n",
              "8  Kone 's net sales rose by some 14 % year-on-ye...  positive\n",
              "9  The Stockmann department store will have a tot...   neutral"
            ],
            "text/html": [
              "\n",
              "  <div id=\"df-ba11e499-93fc-43c7-9b84-1e63f6362b92\">\n",
              "    <div class=\"colab-df-container\">\n",
              "      <div>\n",
              "<style scoped>\n",
              "    .dataframe tbody tr th:only-of-type {\n",
              "        vertical-align: middle;\n",
              "    }\n",
              "\n",
              "    .dataframe tbody tr th {\n",
              "        vertical-align: top;\n",
              "    }\n",
              "\n",
              "    .dataframe thead th {\n",
              "        text-align: right;\n",
              "    }\n",
              "</style>\n",
              "<table border=\"1\" class=\"dataframe\">\n",
              "  <thead>\n",
              "    <tr style=\"text-align: right;\">\n",
              "      <th></th>\n",
              "      <th>Sentence</th>\n",
              "      <th>Sentiment</th>\n",
              "    </tr>\n",
              "  </thead>\n",
              "  <tbody>\n",
              "    <tr>\n",
              "      <th>0</th>\n",
              "      <td>The GeoSolutions technology will leverage Bene...</td>\n",
              "      <td>positive</td>\n",
              "    </tr>\n",
              "    <tr>\n",
              "      <th>1</th>\n",
              "      <td>$ESI on lows, down $1.50 to $2.50 BK a real po...</td>\n",
              "      <td>negative</td>\n",
              "    </tr>\n",
              "    <tr>\n",
              "      <th>2</th>\n",
              "      <td>For the last quarter of 2010 , Componenta 's n...</td>\n",
              "      <td>positive</td>\n",
              "    </tr>\n",
              "    <tr>\n",
              "      <th>3</th>\n",
              "      <td>According to the Finnish-Russian Chamber of Co...</td>\n",
              "      <td>neutral</td>\n",
              "    </tr>\n",
              "    <tr>\n",
              "      <th>4</th>\n",
              "      <td>The Swedish buyout firm has sold its remaining...</td>\n",
              "      <td>neutral</td>\n",
              "    </tr>\n",
              "    <tr>\n",
              "      <th>5</th>\n",
              "      <td>$SPY wouldn't be surprised to see a green close</td>\n",
              "      <td>positive</td>\n",
              "    </tr>\n",
              "    <tr>\n",
              "      <th>6</th>\n",
              "      <td>Shell's $70 Billion BG Deal Meets Shareholder ...</td>\n",
              "      <td>negative</td>\n",
              "    </tr>\n",
              "    <tr>\n",
              "      <th>7</th>\n",
              "      <td>SSH COMMUNICATIONS SECURITY CORP STOCK EXCHANG...</td>\n",
              "      <td>negative</td>\n",
              "    </tr>\n",
              "    <tr>\n",
              "      <th>8</th>\n",
              "      <td>Kone 's net sales rose by some 14 % year-on-ye...</td>\n",
              "      <td>positive</td>\n",
              "    </tr>\n",
              "    <tr>\n",
              "      <th>9</th>\n",
              "      <td>The Stockmann department store will have a tot...</td>\n",
              "      <td>neutral</td>\n",
              "    </tr>\n",
              "  </tbody>\n",
              "</table>\n",
              "</div>\n",
              "      <button class=\"colab-df-convert\" onclick=\"convertToInteractive('df-ba11e499-93fc-43c7-9b84-1e63f6362b92')\"\n",
              "              title=\"Convert this dataframe to an interactive table.\"\n",
              "              style=\"display:none;\">\n",
              "        \n",
              "  <svg xmlns=\"http://www.w3.org/2000/svg\" height=\"24px\"viewBox=\"0 0 24 24\"\n",
              "       width=\"24px\">\n",
              "    <path d=\"M0 0h24v24H0V0z\" fill=\"none\"/>\n",
              "    <path d=\"M18.56 5.44l.94 2.06.94-2.06 2.06-.94-2.06-.94-.94-2.06-.94 2.06-2.06.94zm-11 1L8.5 8.5l.94-2.06 2.06-.94-2.06-.94L8.5 2.5l-.94 2.06-2.06.94zm10 10l.94 2.06.94-2.06 2.06-.94-2.06-.94-.94-2.06-.94 2.06-2.06.94z\"/><path d=\"M17.41 7.96l-1.37-1.37c-.4-.4-.92-.59-1.43-.59-.52 0-1.04.2-1.43.59L10.3 9.45l-7.72 7.72c-.78.78-.78 2.05 0 2.83L4 21.41c.39.39.9.59 1.41.59.51 0 1.02-.2 1.41-.59l7.78-7.78 2.81-2.81c.8-.78.8-2.07 0-2.86zM5.41 20L4 18.59l7.72-7.72 1.47 1.35L5.41 20z\"/>\n",
              "  </svg>\n",
              "      </button>\n",
              "      \n",
              "  <style>\n",
              "    .colab-df-container {\n",
              "      display:flex;\n",
              "      flex-wrap:wrap;\n",
              "      gap: 12px;\n",
              "    }\n",
              "\n",
              "    .colab-df-convert {\n",
              "      background-color: #E8F0FE;\n",
              "      border: none;\n",
              "      border-radius: 50%;\n",
              "      cursor: pointer;\n",
              "      display: none;\n",
              "      fill: #1967D2;\n",
              "      height: 32px;\n",
              "      padding: 0 0 0 0;\n",
              "      width: 32px;\n",
              "    }\n",
              "\n",
              "    .colab-df-convert:hover {\n",
              "      background-color: #E2EBFA;\n",
              "      box-shadow: 0px 1px 2px rgba(60, 64, 67, 0.3), 0px 1px 3px 1px rgba(60, 64, 67, 0.15);\n",
              "      fill: #174EA6;\n",
              "    }\n",
              "\n",
              "    [theme=dark] .colab-df-convert {\n",
              "      background-color: #3B4455;\n",
              "      fill: #D2E3FC;\n",
              "    }\n",
              "\n",
              "    [theme=dark] .colab-df-convert:hover {\n",
              "      background-color: #434B5C;\n",
              "      box-shadow: 0px 1px 3px 1px rgba(0, 0, 0, 0.15);\n",
              "      filter: drop-shadow(0px 1px 2px rgba(0, 0, 0, 0.3));\n",
              "      fill: #FFFFFF;\n",
              "    }\n",
              "  </style>\n",
              "\n",
              "      <script>\n",
              "        const buttonEl =\n",
              "          document.querySelector('#df-ba11e499-93fc-43c7-9b84-1e63f6362b92 button.colab-df-convert');\n",
              "        buttonEl.style.display =\n",
              "          google.colab.kernel.accessAllowed ? 'block' : 'none';\n",
              "\n",
              "        async function convertToInteractive(key) {\n",
              "          const element = document.querySelector('#df-ba11e499-93fc-43c7-9b84-1e63f6362b92');\n",
              "          const dataTable =\n",
              "            await google.colab.kernel.invokeFunction('convertToInteractive',\n",
              "                                                     [key], {});\n",
              "          if (!dataTable) return;\n",
              "\n",
              "          const docLinkHtml = 'Like what you see? Visit the ' +\n",
              "            '<a target=\"_blank\" href=https://colab.research.google.com/notebooks/data_table.ipynb>data table notebook</a>'\n",
              "            + ' to learn more about interactive tables.';\n",
              "          element.innerHTML = '';\n",
              "          dataTable['output_type'] = 'display_data';\n",
              "          await google.colab.output.renderOutput(dataTable, element);\n",
              "          const docLink = document.createElement('div');\n",
              "          docLink.innerHTML = docLinkHtml;\n",
              "          element.appendChild(docLink);\n",
              "        }\n",
              "      </script>\n",
              "    </div>\n",
              "  </div>\n",
              "  "
            ]
          },
          "metadata": {},
          "execution_count": 6
        }
      ]
    },
    {
      "cell_type": "code",
      "source": [
        "financial_data.shape"
      ],
      "metadata": {
        "colab": {
          "base_uri": "https://localhost:8080/"
        },
        "id": "R2rKtH56YePy",
        "outputId": "01b98558-17ef-400f-e35e-d0a4e8589e24"
      },
      "execution_count": null,
      "outputs": [
        {
          "output_type": "execute_result",
          "data": {
            "text/plain": [
              "(5842, 2)"
            ]
          },
          "metadata": {},
          "execution_count": 7
        }
      ]
    },
    {
      "cell_type": "markdown",
      "source": [
        "## Tokenizer\n",
        "\n",
        "The tokenizer class `GPT2Tokenizer` inherits properties from the superclass `PreTrainedTokenizer`, which inherits from [`PreTrainedTokenizerBase`](https://huggingface.co/docs/transformers/v4.17.0/en/internal/tokenization_utils#transformers.PreTrainedTokenizerBase). You can look up the class propeties in the links below:\n",
        "\n",
        "`GPT2Tokenizer` Documentation: https://huggingface.co/docs/transformers/model_doc/gpt2\n",
        "\n",
        "`PreTrainedTokenizer`: https://huggingface.co/docs/transformers/v4.17.0/en/main_classes/tokenizer#transformers.PreTrainedTokenizer\n",
        "\n",
        "*****Note**: You can also use the `AutoTokenizer` class, which will instantiate an instance of the same tokenizer class. Found at https://huggingface.co/docs/transformers/v4.17.0/en/model_doc/auto#transformers.AutoTokenizer"
      ],
      "metadata": {
        "id": "ajgGruqEnSfs"
      }
    },
    {
      "cell_type": "code",
      "source": [
        "from transformers import GPT2TokenizerFast\n",
        "\n",
        "gpt_tokenizer = GPT2TokenizerFast.from_pretrained(\"gpt2\", do_lower_case=True)"
      ],
      "metadata": {
        "id": "44EhGqmk5USV",
        "colab": {
          "base_uri": "https://localhost:8080/",
          "height": 145,
          "referenced_widgets": [
            "ed87c6cbcfb94b9ba5db0e89668a6730",
            "dfeaf3209f7647c7a9d387429c30f958",
            "7ac94d9e92ee495895024e4c1fe6ffc8",
            "810307a0b4e64d97a1cf79432304eb93",
            "5ef164c1d18b404692fcb28babd84f84",
            "1707ba69ca474493b6dd26217a0ec8e2",
            "552a8bac3baf42cb860539cc187f9a65",
            "6a03816603a0493f8f776cfa974afe9b",
            "2deecd58de9d4455a3fad9cbc5b49624",
            "a8ff2eb74224407fb5bd33811f7dcd2d",
            "543879b0128f4fde856ebc8aab2c8258",
            "8bb24a032e7d4d1387af867275efb8e4",
            "9d113104d21e4aa298f4cc22ca9ea530",
            "788814347df44a63a734ba4d23ca972f",
            "5a105860bdc94ea2bbde73e21465885b",
            "42aee47c228041bca55855383087a8d7",
            "567f898a7e104271b381e7b53652d7aa",
            "5875fb4f8739468ebe15dcb8f821a243",
            "d2819d8cb3a04913aab48271677911c5",
            "9af4cd616de141b58eceaec123b46629",
            "4443b1c1cd074304b1b23ac60bb4f163",
            "4dbc08aa05574cb9b9d62ab54a954f87",
            "52235f3f3a244b99949396730c124247",
            "f3a4847881fa4b5ea28bc09438eb2077",
            "75e0c6247fbe4af189aeee55f66ef2d1",
            "cf92a219d4b749fcbf0522cd50f2565d",
            "187fd5850e314167bc06293316038c8f",
            "39879fb7330d4279b193c95d963b053e",
            "6db45a3963404208ad1c81b23536a4cc",
            "041c2c8926224f21a485b2e3d1046164",
            "a38870117fe74ff2acb2d58f043cdc19",
            "d945f226912b4a08b000d90a86ef3fc6",
            "d2655d6ddc9e446383ac03cdfa50c44b",
            "af820cc0a4d04e7f8305a469bcc62e8d",
            "291069e06e744a2bbe2a7a8431e187e4",
            "e38aea78d6304bf898445bcef72decf3",
            "b5421a8f58724ff6824631dd5ebe4d07",
            "95f39a4d244b464aa541ec7e05ea03e9",
            "9af8b3a81013442bb1fd394521ee0314",
            "b87bf9f824a948c59009c7db075705a7",
            "283ece8c3a3f428fb7f44014b8ba7dfe",
            "44cf16190a704d469fa6cecfb996e5fb",
            "bee90e16e4ab413ba32cbe1ec8d8ed2c",
            "11be5f20523146e3be2cbaaf4acf43cd"
          ]
        },
        "outputId": "80e3986d-c6e7-42fb-8041-6b414e1f0b11"
      },
      "execution_count": null,
      "outputs": [
        {
          "output_type": "display_data",
          "data": {
            "text/plain": [
              "Downloading:   0%|          | 0.00/0.99M [00:00<?, ?B/s]"
            ],
            "application/vnd.jupyter.widget-view+json": {
              "version_major": 2,
              "version_minor": 0,
              "model_id": "ed87c6cbcfb94b9ba5db0e89668a6730"
            }
          },
          "metadata": {}
        },
        {
          "output_type": "display_data",
          "data": {
            "text/plain": [
              "Downloading:   0%|          | 0.00/446k [00:00<?, ?B/s]"
            ],
            "application/vnd.jupyter.widget-view+json": {
              "version_major": 2,
              "version_minor": 0,
              "model_id": "8bb24a032e7d4d1387af867275efb8e4"
            }
          },
          "metadata": {}
        },
        {
          "output_type": "display_data",
          "data": {
            "text/plain": [
              "Downloading:   0%|          | 0.00/1.29M [00:00<?, ?B/s]"
            ],
            "application/vnd.jupyter.widget-view+json": {
              "version_major": 2,
              "version_minor": 0,
              "model_id": "52235f3f3a244b99949396730c124247"
            }
          },
          "metadata": {}
        },
        {
          "output_type": "display_data",
          "data": {
            "text/plain": [
              "Downloading:   0%|          | 0.00/665 [00:00<?, ?B/s]"
            ],
            "application/vnd.jupyter.widget-view+json": {
              "version_major": 2,
              "version_minor": 0,
              "model_id": "af820cc0a4d04e7f8305a469bcc62e8d"
            }
          },
          "metadata": {}
        }
      ]
    },
    {
      "cell_type": "markdown",
      "source": [
        "Since GPT-2 doesn't utilize a padding token during pre-training. We can define one ourselves. However, the model wouldn't recognize this and you would need to train GPT-2 again to account for this. Therefore, we will just use the existing EOS token as padding.\n",
        "\n",
        "(FYI: you can add new tokens by modifiying the class parameters in https://huggingface.co/docs/transformers/v4.17.0/en/main_classes/tokenizer#transformers.PreTrainedTokenizer. It should be under the first set of parameters listed.)\n",
        "\n",
        "Our way of doing it: `eos_token`. You can also access the `add_special_tokens` parameter, which digs into the `add_special_tokens` call parameter and adds the new token."
      ],
      "metadata": {
        "id": "dKhPXuSC4T5Z"
      }
    },
    {
      "cell_type": "code",
      "source": [
        "gpt_tokenizer.pad_token = gpt_tokenizer.eos_token"
      ],
      "metadata": {
        "id": "dhvbJ1oN3nY0"
      },
      "execution_count": null,
      "outputs": []
    },
    {
      "cell_type": "code",
      "source": [
        "example_tokenization = financial_data['Sentence'][0]\n",
        "\n",
        "print(\"Train data size \", len(example_tokenization))\n",
        "print('* Original:  ', example_tokenization)\n",
        "# Print the sentence split into tokens.\n",
        "print('* Tokenized: ', gpt_tokenizer.tokenize(example_tokenization))\n",
        "# Print the sentence mapped to token ids.\n",
        "print('* Token IDs: ', gpt_tokenizer.convert_tokens_to_ids(gpt_tokenizer.tokenize(example_tokenization)))"
      ],
      "metadata": {
        "colab": {
          "base_uri": "https://localhost:8080/"
        },
        "id": "TR-z9TOaqaKN",
        "outputId": "da2a11e2-a63c-489f-c2ef-59b6166e03d4"
      },
      "execution_count": null,
      "outputs": [
        {
          "output_type": "stream",
          "name": "stdout",
          "text": [
            "Train data size  218\n",
            "* Original:   The GeoSolutions technology will leverage Benefon 's GPS solutions by providing Location Based Search Technology , a Communities Platform , location relevant multimedia content and a new and powerful commercial model .\n",
            "* Tokenized:  ['The', 'ĠGeo', 'S', 'olutions', 'Ġtechnology', 'Ġwill', 'Ġleverage', 'ĠBenef', 'on', \"Ġ'\", 's', 'ĠGPS', 'Ġsolutions', 'Ġby', 'Ġproviding', 'ĠLocation', 'ĠBased', 'ĠSearch', 'ĠTechnology', 'Ġ,', 'Ġa', 'ĠCommunities', 'ĠPlatform', 'Ġ,', 'Ġlocation', 'Ġrelevant', 'Ġmultimedia', 'Ġcontent', 'Ġand', 'Ġa', 'Ġnew', 'Ġand', 'Ġpowerful', 'Ġcommercial', 'Ġmodel', 'Ġ.']\n",
            "* Token IDs:  [464, 32960, 50, 14191, 3037, 481, 16094, 19899, 261, 705, 82, 15472, 8136, 416, 4955, 13397, 13403, 11140, 8987, 837, 257, 35530, 19193, 837, 4067, 5981, 40162, 2695, 290, 257, 649, 290, 3665, 5068, 2746, 764]\n"
          ]
        }
      ]
    },
    {
      "cell_type": "code",
      "source": [
        "MAX_LEN = 50"
      ],
      "metadata": {
        "id": "UJXo8QDuok_u"
      },
      "execution_count": null,
      "outputs": []
    },
    {
      "cell_type": "code",
      "source": [
        "data_input = financial_data['Sentence'].values\n",
        "label_input = financial_data['Sentiment'].values"
      ],
      "metadata": {
        "id": "KIQ4-HQE1i1f"
      },
      "execution_count": null,
      "outputs": []
    },
    {
      "cell_type": "markdown",
      "source": [
        "We now build the GPT-2 tokenizer with the following setup:\n",
        "\n",
        "*   default 12 transformer layers.\n",
        "*   max length set for transformer input.\n",
        "*   pad to max length.\n",
        "*   don't return token types.\n",
        "*   activate truncation.\n",
        "\n",
        "****The CLS and SEP tokens are added as the EOS token as the beginning of fine-tuning, as they are here. We use the EOS token to avoid re-training the model.*"
      ],
      "metadata": {
        "id": "snQQdwBl66xo"
      }
    },
    {
      "cell_type": "code",
      "source": [
        "gpt_tokenizer.cls_token = gpt_tokenizer.eos_token\n",
        "gpt_tokenizer.sep_token = gpt_tokenizer.eos_token"
      ],
      "metadata": {
        "id": "-HDJWPi4RvkW"
      },
      "execution_count": null,
      "outputs": []
    },
    {
      "cell_type": "code",
      "source": [
        "tokenized_data_inputs = gpt_tokenizer(\n",
        "    data_input.tolist(),          # Input text\n",
        "    add_special_tokens=True,      # add '<|CLS|>' and '<|SEP|>'\n",
        "    padding='max_length',         # pad to a length specified by the max_length\n",
        "    max_length=MAX_LEN,           # truncate all sentences longer than max_length\n",
        "    truncation=True,              # activate truncation so batched tensors are the same length\n",
        "    return_tensors='pt',          # return everything we need as PyTorch tensors\n",
        ")"
      ],
      "metadata": {
        "id": "6A1Wye0JyCyy"
      },
      "execution_count": null,
      "outputs": []
    },
    {
      "cell_type": "markdown",
      "source": [
        "## Training and Validation Split"
      ],
      "metadata": {
        "id": "7Z3vxyZc7wnj"
      }
    },
    {
      "cell_type": "code",
      "source": [
        "from sklearn.model_selection import train_test_split\n",
        "from torch.utils.data import TensorDataset, DataLoader, RandomSampler, SequentialSampler"
      ],
      "metadata": {
        "id": "4btITYFL716v"
      },
      "execution_count": null,
      "outputs": []
    },
    {
      "cell_type": "code",
      "source": [
        "input_seqs = tokenized_data_inputs['input_ids']\n",
        "attention_masks = tokenized_data_inputs['attention_mask']"
      ],
      "metadata": {
        "id": "H5Q5Mn3P9g3R"
      },
      "execution_count": null,
      "outputs": []
    },
    {
      "cell_type": "code",
      "source": [
        "def train_valid_split(input_ids, attention_masks, labels):\n",
        "    # Use 70% for training and 30% for validation and testing.\n",
        "    train_seq, eval_seq, train_masks, eval_masks, train_labels, eval_labels = train_test_split(\n",
        "        input_ids, attention_masks, labels, random_state=2018, test_size=0.3, stratify=labels, shuffle=True\n",
        "    )\n",
        "\n",
        "    val_seq, test_seq, val_masks, test_masks, val_labels, test_labels = train_test_split(\n",
        "        eval_seq, eval_masks, eval_labels, random_state=2018, test_size=0.5, stratify=eval_labels, shuffle=True\n",
        "    )\n",
        "\n",
        "    return train_seq, train_masks, train_labels, val_seq, val_masks, val_labels, test_seq, test_masks, test_labels\n"
      ],
      "metadata": {
        "id": "eSZ2UcDR_YNe"
      },
      "execution_count": null,
      "outputs": []
    },
    {
      "cell_type": "code",
      "source": [
        "train_seq, train_masks, train_labels, val_seq, val_masks, val_labels, test_seq, test_masks, test_labels = train_valid_split(input_seqs, attention_masks, label_input)"
      ],
      "metadata": {
        "id": "tl_l_BX5Docd"
      },
      "execution_count": null,
      "outputs": []
    },
    {
      "cell_type": "markdown",
      "source": [
        "Change the sentinment into numerical representation. This version of CE Loss will use class indices instead of probabilities. You can check out the class indice and the probabilistic on-hot versions at \n",
        "https://pytorch.org/docs/stable/generated/torch.nn.CrossEntropyLoss.html"
      ],
      "metadata": {
        "id": "Htddc16qG7PL"
      }
    },
    {
      "cell_type": "code",
      "source": [
        "train_labels[train_labels == 'neutral'] = 0\n",
        "train_labels[train_labels == 'positive'] = 1\n",
        "train_labels[train_labels == 'negative'] = 2\n",
        "\n",
        "val_labels[val_labels == 'neutral'] = 0\n",
        "val_labels[val_labels == 'positive'] = 1\n",
        "val_labels[val_labels == 'negative'] = 2\n",
        "\n",
        "test_labels[test_labels == 'neutral'] = 0\n",
        "test_labels[test_labels == 'positive'] = 1\n",
        "test_labels[test_labels == 'negative'] = 2"
      ],
      "metadata": {
        "id": "cPBC_IbIFqFM"
      },
      "execution_count": null,
      "outputs": []
    },
    {
      "cell_type": "code",
      "source": [
        "train_labels = torch.from_numpy(train_labels.astype('int64'))\n",
        "val_labels = torch.from_numpy(val_labels.astype('int64'))\n",
        "test_labels = torch.from_numpy(test_labels.astype('int64'))"
      ],
      "metadata": {
        "id": "U5sgS3ujfzP5"
      },
      "execution_count": null,
      "outputs": []
    },
    {
      "cell_type": "markdown",
      "source": [
        "We now want to define a Dataloader to load our training and validation data."
      ],
      "metadata": {
        "id": "03iHdCi8IeS9"
      }
    },
    {
      "cell_type": "code",
      "source": [
        "from torch.utils.data import TensorDataset, DataLoader, RandomSampler, SequentialSampler"
      ],
      "metadata": {
        "id": "SuZYngIgIUfN"
      },
      "execution_count": null,
      "outputs": []
    },
    {
      "cell_type": "code",
      "source": [
        "batch_size = 64\n",
        "\n",
        "train_data = TensorDataset(train_seq, train_masks, train_labels)\n",
        "train_sampler = RandomSampler(train_data)\n",
        "train_dataloader = DataLoader(train_data, sampler=train_sampler, batch_size=batch_size)\n",
        "\n",
        "val_data = TensorDataset(val_seq, val_masks, val_labels)\n",
        "val_sampler = SequentialSampler(val_data)\n",
        "val_dataloader = DataLoader(val_data, sampler=val_sampler, batch_size=batch_size)"
      ],
      "metadata": {
        "id": "AnHz2HscIhyb"
      },
      "execution_count": null,
      "outputs": []
    },
    {
      "cell_type": "markdown",
      "source": [
        "Adjust Class Weights for Imbalanced Training Dataset."
      ],
      "metadata": {
        "id": "pZvMmXrFkYV1"
      }
    },
    {
      "cell_type": "code",
      "source": [
        "from sklearn.utils.class_weight import compute_class_weight"
      ],
      "metadata": {
        "id": "t6zcrouvkX8W"
      },
      "execution_count": null,
      "outputs": []
    },
    {
      "cell_type": "code",
      "source": [
        "class_wts = compute_class_weight(class_weight = 'balanced', classes = np.unique(train_labels), y = np.array(train_labels))"
      ],
      "metadata": {
        "id": "HgPRPOoZkghL"
      },
      "execution_count": null,
      "outputs": []
    },
    {
      "cell_type": "code",
      "source": [
        "# convert class weights to tensor\n",
        "weights = torch.tensor(class_wts, dtype=torch.float)\n",
        "weights = weights.to(device)"
      ],
      "metadata": {
        "id": "UYjX8jIdkmbO"
      },
      "execution_count": null,
      "outputs": []
    },
    {
      "cell_type": "markdown",
      "source": [
        "## Setting Up GPT-2 Model for SequenceClassification\n",
        "\n",
        "We are going to be using the `from_pretrained` module for this task. `GPT2Config` module is used to set the number of labels in the built-in classification head to be 3.\n",
        "\n",
        "We can find the model documentation here: https://huggingface.co/docs/transformers/model_doc/gpt2#transformers.GPT2ForSequenceClassification\n",
        "\n",
        "If you want to use the `from_pretrained` module: https://huggingface.co/docs/transformers/v4.18.0/en/main_classes/model#transformers.PreTrainedModel.from_pretrained\n",
        "\n",
        " ****If you want to use the GPT2ForSequenceClassification module directly like we did before, that's ok too and it's possible to config it as such. It will yield the same result.*"
      ],
      "metadata": {
        "id": "YExnEcQzpXyV"
      }
    },
    {
      "cell_type": "code",
      "source": [
        "from transformers import GPT2ForSequenceClassification, GPT2Config\n",
        "\n",
        "# Initializing a GPT2 configuration\n",
        "configuration = GPT2Config(num_labels=3)\n",
        "\n",
        "# Initializing a model from the configuration\n",
        "gpt2Model = GPT2ForSequenceClassification.from_pretrained(\"gpt2\", config=configuration)\n",
        "gpt2Model.config.num_labels = 3\n",
        "gpt2Model.config.pad_token_id = gpt2Model.config.eos_token_id"
      ],
      "metadata": {
        "id": "7fYBJJeN4Lw2",
        "colab": {
          "base_uri": "https://localhost:8080/",
          "height": 84,
          "referenced_widgets": [
            "d75c4dca88874c5eacfeb9cb959f3b8e",
            "f6fc2af9769a4ca4a239df5f076d233c",
            "f6ad9c7eb24645b1bb0303603d9aef36",
            "7c9e5a5877a2449ba2a11b5d33575d41",
            "59287b70fee348f6bac7ab9526f774ba",
            "0ffb32260a6e409ca85ec7ab4e9dd855",
            "227a6fdb414e4f948d83ae5f7529b8df",
            "7fdf8e0ac10545858c3cd7014673d8c1",
            "09a414743ef14cc789bb1bc55cd5d284",
            "391da6df25ec4a1db2535c5794a0b72f",
            "85f6bb533ff146df91958b3feb0fdc10"
          ]
        },
        "outputId": "3eac98e3-6eed-4e80-93ea-ab3242d84e4b"
      },
      "execution_count": null,
      "outputs": [
        {
          "output_type": "display_data",
          "data": {
            "text/plain": [
              "Downloading:   0%|          | 0.00/523M [00:00<?, ?B/s]"
            ],
            "application/vnd.jupyter.widget-view+json": {
              "version_major": 2,
              "version_minor": 0,
              "model_id": "d75c4dca88874c5eacfeb9cb959f3b8e"
            }
          },
          "metadata": {}
        },
        {
          "output_type": "stream",
          "name": "stderr",
          "text": [
            "Some weights of GPT2ForSequenceClassification were not initialized from the model checkpoint at gpt2 and are newly initialized: ['score.weight']\n",
            "You should probably TRAIN this model on a down-stream task to be able to use it for predictions and inference.\n"
          ]
        }
      ]
    },
    {
      "cell_type": "code",
      "source": [
        "class GPTForSentinmentClassification(nn.Module):\n",
        "    def __init__(self, gpt_model):\n",
        "        super().__init__()\n",
        "        \n",
        "        self.gpt = gpt_model\n",
        "\n",
        "        self.loss = torch.nn.CrossEntropyLoss(weight=weights)\n",
        "\n",
        "    def forward(self, input_ids=None, attention_mask=None, labels=None):\n",
        "        outputs = self.gpt(input_ids, attention_mask=attention_mask)\n",
        "        logits = outputs.logits\n",
        "\n",
        "        if labels is not None:\n",
        "            outputs = (logits, self.loss(logits, labels))\n",
        "        else:\n",
        "            outputs = (logits,)\n",
        "        return outputs"
      ],
      "metadata": {
        "id": "g3X0gdhb5AaK"
      },
      "execution_count": null,
      "outputs": []
    },
    {
      "cell_type": "code",
      "source": [
        "gpt2_model = GPTForSentinmentClassification(gpt2Model)"
      ],
      "metadata": {
        "id": "knbwsQKqL5AF"
      },
      "execution_count": null,
      "outputs": []
    },
    {
      "cell_type": "code",
      "source": [
        "# Model parameters visualization\n",
        "params = list(gpt2_model.named_parameters())\n",
        "\n",
        "print('GPT-2 has {:} different named parameters.\\n'.format(len(params)))\n",
        "\n",
        "print('==== Embedding Layer ====\\n')\n",
        "\n",
        "for p in params[0:2]:\n",
        "    print(\"{:<55} {:>12}\".format(p[0], str(tuple(p[1].size()))))\n",
        "\n",
        "print('\\n==== 1st Transformer Layer ====\\n')\n",
        "\n",
        "for p in params[2:14]:\n",
        "    print(\"{:<55} {:>12}\".format(p[0], str(tuple(p[1].size()))))\n",
        "\n",
        "print('\\n==== 2nd Transformer Layer ====\\n')\n",
        "\n",
        "for p in params[14:26]:\n",
        "    print(\"{:<55} {:>12}\".format(p[0], str(tuple(p[1].size()))))\n",
        "\n",
        "print('\\n==== 3rd Transformer Layer ====\\n')\n",
        "\n",
        "for p in params[26:38]:\n",
        "    print(\"{:<55} {:>12}\".format(p[0], str(tuple(p[1].size()))))\n",
        "\n",
        "print('\\n==== Output Layer ====\\n')\n",
        "\n",
        "for p in params[-3:]:\n",
        "    print(\"{:<55} {:>12}\".format(p[0], str(tuple(p[1].size()))))"
      ],
      "metadata": {
        "colab": {
          "base_uri": "https://localhost:8080/"
        },
        "id": "xrW3OjAsMCqq",
        "outputId": "bad33081-1207-42e0-a191-94df0ca1ee59"
      },
      "execution_count": null,
      "outputs": [
        {
          "output_type": "stream",
          "name": "stdout",
          "text": [
            "GPT-2 has 149 different named parameters.\n",
            "\n",
            "==== Embedding Layer ====\n",
            "\n",
            "gpt.transformer.wte.weight                              (50257, 768)\n",
            "gpt.transformer.wpe.weight                               (1024, 768)\n",
            "\n",
            "==== 1st Transformer Layer ====\n",
            "\n",
            "gpt.transformer.h.0.ln_1.weight                               (768,)\n",
            "gpt.transformer.h.0.ln_1.bias                                 (768,)\n",
            "gpt.transformer.h.0.attn.c_attn.weight                   (768, 2304)\n",
            "gpt.transformer.h.0.attn.c_attn.bias                         (2304,)\n",
            "gpt.transformer.h.0.attn.c_proj.weight                    (768, 768)\n",
            "gpt.transformer.h.0.attn.c_proj.bias                          (768,)\n",
            "gpt.transformer.h.0.ln_2.weight                               (768,)\n",
            "gpt.transformer.h.0.ln_2.bias                                 (768,)\n",
            "gpt.transformer.h.0.mlp.c_fc.weight                      (768, 3072)\n",
            "gpt.transformer.h.0.mlp.c_fc.bias                            (3072,)\n",
            "gpt.transformer.h.0.mlp.c_proj.weight                    (3072, 768)\n",
            "gpt.transformer.h.0.mlp.c_proj.bias                           (768,)\n",
            "\n",
            "==== 2nd Transformer Layer ====\n",
            "\n",
            "gpt.transformer.h.1.ln_1.weight                               (768,)\n",
            "gpt.transformer.h.1.ln_1.bias                                 (768,)\n",
            "gpt.transformer.h.1.attn.c_attn.weight                   (768, 2304)\n",
            "gpt.transformer.h.1.attn.c_attn.bias                         (2304,)\n",
            "gpt.transformer.h.1.attn.c_proj.weight                    (768, 768)\n",
            "gpt.transformer.h.1.attn.c_proj.bias                          (768,)\n",
            "gpt.transformer.h.1.ln_2.weight                               (768,)\n",
            "gpt.transformer.h.1.ln_2.bias                                 (768,)\n",
            "gpt.transformer.h.1.mlp.c_fc.weight                      (768, 3072)\n",
            "gpt.transformer.h.1.mlp.c_fc.bias                            (3072,)\n",
            "gpt.transformer.h.1.mlp.c_proj.weight                    (3072, 768)\n",
            "gpt.transformer.h.1.mlp.c_proj.bias                           (768,)\n",
            "\n",
            "==== 3rd Transformer Layer ====\n",
            "\n",
            "gpt.transformer.h.2.ln_1.weight                               (768,)\n",
            "gpt.transformer.h.2.ln_1.bias                                 (768,)\n",
            "gpt.transformer.h.2.attn.c_attn.weight                   (768, 2304)\n",
            "gpt.transformer.h.2.attn.c_attn.bias                         (2304,)\n",
            "gpt.transformer.h.2.attn.c_proj.weight                    (768, 768)\n",
            "gpt.transformer.h.2.attn.c_proj.bias                          (768,)\n",
            "gpt.transformer.h.2.ln_2.weight                               (768,)\n",
            "gpt.transformer.h.2.ln_2.bias                                 (768,)\n",
            "gpt.transformer.h.2.mlp.c_fc.weight                      (768, 3072)\n",
            "gpt.transformer.h.2.mlp.c_fc.bias                            (3072,)\n",
            "gpt.transformer.h.2.mlp.c_proj.weight                    (3072, 768)\n",
            "gpt.transformer.h.2.mlp.c_proj.bias                           (768,)\n",
            "\n",
            "==== Output Layer ====\n",
            "\n",
            "gpt.transformer.ln_f.weight                                   (768,)\n",
            "gpt.transformer.ln_f.bias                                     (768,)\n",
            "gpt.score.weight                                            (3, 768)\n"
          ]
        }
      ]
    },
    {
      "cell_type": "markdown",
      "source": [
        "Mount the model onto device."
      ],
      "metadata": {
        "id": "IMHlubVckN4-"
      }
    },
    {
      "cell_type": "code",
      "source": [
        "# Use GPU, if available\n",
        "device = torch.device(\"cuda\" if torch.cuda.is_available() else \"cpu\")\n",
        "gpt2_model = gpt2_model.to(device)"
      ],
      "metadata": {
        "id": "GNKWyFH-kGd8"
      },
      "execution_count": null,
      "outputs": []
    },
    {
      "cell_type": "markdown",
      "source": [
        "## Training the Model"
      ],
      "metadata": {
        "id": "vQHGrigYPdeg"
      }
    },
    {
      "cell_type": "markdown",
      "source": [
        "\n",
        "*   Batch Size\n",
        "*   Learning Rate\n",
        "*   Weight Decay\n",
        "\n",
        "We can find more hyperparameters to tune with Config: https://huggingface.co/docs/transformers/model_doc/gpt2\n",
        "\n",
        "Here, we needed to use some of the code from the assignment.\n"
      ],
      "metadata": {
        "id": "kG4qjeCsTOCd"
      }
    },
    {
      "cell_type": "code",
      "source": [
        "from torch.optim import AdamW\n",
        "import time\n",
        "import datetime\n",
        "from transformers import get_linear_schedule_with_warmup\n",
        "from tqdm import tqdm"
      ],
      "metadata": {
        "id": "HG5MDfbfPc_x"
      },
      "execution_count": null,
      "outputs": []
    },
    {
      "cell_type": "code",
      "source": [
        "def flat_accuracy(preds, labels):\n",
        "    pred_flat = np.argmax(preds, axis=1).flatten()\n",
        "    labels_flat = labels.flatten()\n",
        "    return np.sum(pred_flat == labels_flat) / len(labels_flat)"
      ],
      "metadata": {
        "id": "Asi6QXLqAb4G"
      },
      "execution_count": null,
      "outputs": []
    },
    {
      "cell_type": "code",
      "source": [
        "def format_time(elapsed):\n",
        "    elapsed_rounded = int(round((elapsed)))\n",
        "    return str(datetime.timedelta(seconds=elapsed_rounded))"
      ],
      "metadata": {
        "id": "hIXynL0lAdvs"
      },
      "execution_count": null,
      "outputs": []
    },
    {
      "cell_type": "code",
      "source": [
        "def get_optimizer_and_scheduler(model, total_steps, lr=2e-5, weight_decay=0.01):\n",
        "    # Apply weight decay to all parameters beside the biases\n",
        "    no_decay = ['bias']\n",
        "    optimizer_grouped_parameters = [\n",
        "        {\n",
        "            'params': [p for n, p in model.named_parameters() if not any(nd in n for nd in no_decay)],\n",
        "            'weight_decay': weight_decay},\n",
        "        {\n",
        "            'params': [p for n, p in model.named_parameters() if any(nd in n for nd in no_decay)],\n",
        "            'weight_decay': 0.0\n",
        "        }\n",
        "    ]\n",
        "    optimizer = AdamW(model.parameters(), lr=lr)\n",
        "    scheduler = get_linear_schedule_with_warmup(\n",
        "        optimizer,\n",
        "        # Warmup learning rate for first 10% of training steps\n",
        "        num_warmup_steps=int(0.10 * total_steps), \n",
        "        num_training_steps=total_steps,\n",
        "    )\n",
        "    return optimizer, scheduler"
      ],
      "metadata": {
        "id": "pGAFrUFlAfxo"
      },
      "execution_count": null,
      "outputs": []
    },
    {
      "cell_type": "code",
      "source": [
        "def train_model(model, epochs, train_dataloader, validation_dataloader):\n",
        "\n",
        "    # Set learning rate and weight decay:\n",
        "    lr = 0.001\n",
        "    weight_decay = 0.01\n",
        "\n",
        "    # Setup optimizer and LR scheduler.\n",
        "    total_steps = len(train_dataloader) * epochs\n",
        "    optimizer, scheduler = get_optimizer_and_scheduler(\n",
        "        model, total_steps, lr=lr, weight_decay=weight_decay\n",
        "    )\n",
        "\n",
        "    loss_values = []\n",
        "    train_acc_values = []\n",
        "\n",
        "    eval_loss_vals = []\n",
        "    eval_accs = []\n",
        "\n",
        "    for epoch in range(0, epochs):\n",
        "        t0 = time.time()\n",
        "\n",
        "        total_loss = 0\n",
        "        total_train_accuracy = 0\n",
        "\n",
        "        # Initiate training mode.\n",
        "        model.train()\n",
        "\n",
        "        with tqdm(train_dataloader, unit=\"batch\") as train_pbar:\n",
        "\n",
        "            # Training with each batch in the training set:\n",
        "            for batch in train_pbar:\n",
        "                train_pbar.set_description(f\"Training (epoch {epoch + 1})\")\n",
        "\n",
        "                # Splitting the training batch into it's respective parts:\n",
        "                b_input_ids = batch[0].to(device)\n",
        "                b_input_mask = batch[1].to(device)\n",
        "                b_labels = batch[2].to(device)\n",
        "\n",
        "                # Clear previously calculated gradients:\n",
        "                model.zero_grad()        \n",
        "\n",
        "                # Get model predictions and loss:\n",
        "                outputs = model(\n",
        "                    input_ids=b_input_ids, \n",
        "                    attention_mask=b_input_mask, \n",
        "                    labels=b_labels\n",
        "                )\n",
        "                \n",
        "                train_logits, loss = outputs\n",
        "\n",
        "                # Move the training logits and training labels to CPU\n",
        "                train_logits = train_logits.detach().cpu().numpy()\n",
        "                label_ids_train = b_labels.to('cpu').numpy()\n",
        "\n",
        "                # Calculate the accuracy for this batch of training sentences.\n",
        "                tmp_train_accuracy = flat_accuracy(train_logits, label_ids_train)\n",
        "\n",
        "                # Accumulate total training accuracy.\n",
        "                total_train_accuracy += tmp_train_accuracy\n",
        "\n",
        "                total_loss += loss.item()\n",
        "\n",
        "                # Backprop.\n",
        "                loss.backward()\n",
        "\n",
        "                # Clip the the gradients to 1.0. It helps in preventing the exploding gradient problem.\n",
        "                torch.nn.utils.clip_grad_norm_(model.parameters(), 1.0)\n",
        "\n",
        "                # Update parameters.\n",
        "                optimizer.step()\n",
        "\n",
        "                scheduler.step()\n",
        "\n",
        "        # Calculate the average loss and accuracy over the training data.\n",
        "        avg_train_loss = total_loss / len(train_dataloader)    \n",
        "        avg_train_accuracy = total_train_accuracy / len(train_dataloader)  \n",
        "        \n",
        "        # Store the loss and accuracy values for plotting the learning curve.\n",
        "        loss_values.append(avg_train_loss)\n",
        "        train_acc_values.append(avg_train_accuracy)\n",
        "\n",
        "        print(\"  * Average training loss: {0:.2f}\".format(avg_train_loss))\n",
        "        print(\"  * Average training accuracy: {0:.2f}\".format(avg_train_accuracy))\n",
        "        print(\"  * Training epoch took: {:}\".format(format_time(time.time() - t0)))\n",
        "            \n",
        "        print(\"Running Validation...\")\n",
        "\n",
        "        t0 = time.time()\n",
        "        model.eval()\n",
        "\n",
        "        eval_loss, eval_accuracy = 0, 0\n",
        "        nb_eval_steps, nb_eval_examples = 0, 0\n",
        "\n",
        "        # Evaluate data for one epoch\n",
        "        for batch in validation_dataloader:\n",
        "            batch = tuple(t.to(device) for t in batch)\n",
        "            b_input_ids, b_input_mask, b_labels = batch\n",
        "            \n",
        "            with torch.no_grad():        \n",
        "                outputs = model(\n",
        "                    input_ids=b_input_ids, \n",
        "                    attention_mask=b_input_mask,\n",
        "                    labels=b_labels\n",
        "                )\n",
        "\n",
        "            v_loss = outputs[1]\n",
        "            eval_loss += v_loss.item()\n",
        "\n",
        "            # Get the \"logits\" output by the model. The \"logits\" are the output\n",
        "            # values prior to applying an activation function like the softmax.\n",
        "            logits = outputs[0]\n",
        "            # Move logits and labels to CPU\n",
        "            logits = logits.detach().cpu().numpy()\n",
        "            label_ids = b_labels.to('cpu').numpy()\n",
        "            # Calculate the accuracy for this batch of test sentences.\n",
        "            tmp_eval_accuracy = flat_accuracy(logits, label_ids)\n",
        "            # Accumulate the total accuracy.\n",
        "            eval_accuracy += tmp_eval_accuracy\n",
        "            # Track the number of batches\n",
        "            nb_eval_steps += 1\n",
        "\n",
        "        avg_eval_loss = eval_loss/nb_eval_steps\n",
        "        avg_eval_acc = eval_accuracy/nb_eval_steps\n",
        "\n",
        "        print(\"  * Loss: {0:.2f}\".format(avg_eval_loss))\n",
        "        print(\"  * Accuracy: {0:.2f}\".format(avg_eval_acc))\n",
        "        print(\"  * Validation took: {:}\".format(format_time(time.time() - t0)))\n",
        "\n",
        "        eval_loss_vals.append(avg_eval_loss)\n",
        "        eval_accs.append(avg_eval_acc)\n",
        "    print(\"Training complete!\")\n",
        "    return loss_values, train_acc_values, eval_loss_vals, eval_accs"
      ],
      "metadata": {
        "id": "eFiqE2uSAl1T"
      },
      "execution_count": null,
      "outputs": []
    },
    {
      "cell_type": "code",
      "source": [
        "gpt2_train_loss_vals, gpt2_train_accs, gpt2_eval_loss_vals, gpt2_eval_accs = train_model(\n",
        "    model=gpt2_model,\n",
        "    epochs=40, \n",
        "    train_dataloader=train_dataloader,\n",
        "    validation_dataloader=val_dataloader\n",
        ")"
      ],
      "metadata": {
        "colab": {
          "base_uri": "https://localhost:8080/"
        },
        "id": "uaxx1j9iBMx3",
        "outputId": "6e92c9ab-a060-4251-a590-be3b7d8164ae"
      },
      "execution_count": null,
      "outputs": [
        {
          "output_type": "stream",
          "name": "stderr",
          "text": [
            "Training (epoch 1): 100%|██████████| 64/64 [01:29<00:00,  1.40s/batch]\n"
          ]
        },
        {
          "output_type": "stream",
          "name": "stdout",
          "text": [
            "  * Average training loss: 1.58\n",
            "  * Average training accuracy: 0.55\n",
            "  * Training epoch took: 0:01:30\n",
            "Running Validation...\n",
            "  * Loss: 0.62\n",
            "  * Accuracy: 0.74\n",
            "  * Validation took: 0:00:09\n"
          ]
        },
        {
          "output_type": "stream",
          "name": "stderr",
          "text": [
            "Training (epoch 2): 100%|██████████| 64/64 [01:29<00:00,  1.40s/batch]\n"
          ]
        },
        {
          "output_type": "stream",
          "name": "stdout",
          "text": [
            "  * Average training loss: 0.58\n",
            "  * Average training accuracy: 0.75\n",
            "  * Training epoch took: 0:01:30\n",
            "Running Validation...\n",
            "  * Loss: 0.57\n",
            "  * Accuracy: 0.76\n",
            "  * Validation took: 0:00:09\n"
          ]
        },
        {
          "output_type": "stream",
          "name": "stderr",
          "text": [
            "Training (epoch 3): 100%|██████████| 64/64 [01:29<00:00,  1.40s/batch]\n"
          ]
        },
        {
          "output_type": "stream",
          "name": "stdout",
          "text": [
            "  * Average training loss: 0.48\n",
            "  * Average training accuracy: 0.79\n",
            "  * Training epoch took: 0:01:30\n",
            "Running Validation...\n",
            "  * Loss: 0.62\n",
            "  * Accuracy: 0.70\n",
            "  * Validation took: 0:00:09\n"
          ]
        },
        {
          "output_type": "stream",
          "name": "stderr",
          "text": [
            "Training (epoch 4): 100%|██████████| 64/64 [01:29<00:00,  1.40s/batch]\n"
          ]
        },
        {
          "output_type": "stream",
          "name": "stdout",
          "text": [
            "  * Average training loss: 0.46\n",
            "  * Average training accuracy: 0.80\n",
            "  * Training epoch took: 0:01:30\n",
            "Running Validation...\n",
            "  * Loss: 0.79\n",
            "  * Accuracy: 0.61\n",
            "  * Validation took: 0:00:09\n"
          ]
        },
        {
          "output_type": "stream",
          "name": "stderr",
          "text": [
            "Training (epoch 5): 100%|██████████| 64/64 [01:29<00:00,  1.40s/batch]\n"
          ]
        },
        {
          "output_type": "stream",
          "name": "stdout",
          "text": [
            "  * Average training loss: 0.40\n",
            "  * Average training accuracy: 0.82\n",
            "  * Training epoch took: 0:01:29\n",
            "Running Validation...\n",
            "  * Loss: 0.68\n",
            "  * Accuracy: 0.72\n",
            "  * Validation took: 0:00:09\n"
          ]
        },
        {
          "output_type": "stream",
          "name": "stderr",
          "text": [
            "Training (epoch 6): 100%|██████████| 64/64 [01:29<00:00,  1.40s/batch]\n"
          ]
        },
        {
          "output_type": "stream",
          "name": "stdout",
          "text": [
            "  * Average training loss: 0.32\n",
            "  * Average training accuracy: 0.86\n",
            "  * Training epoch took: 0:01:29\n",
            "Running Validation...\n",
            "  * Loss: 1.00\n",
            "  * Accuracy: 0.73\n",
            "  * Validation took: 0:00:09\n"
          ]
        },
        {
          "output_type": "stream",
          "name": "stderr",
          "text": [
            "Training (epoch 7): 100%|██████████| 64/64 [01:29<00:00,  1.40s/batch]\n"
          ]
        },
        {
          "output_type": "stream",
          "name": "stdout",
          "text": [
            "  * Average training loss: 0.27\n",
            "  * Average training accuracy: 0.87\n",
            "  * Training epoch took: 0:01:29\n",
            "Running Validation...\n",
            "  * Loss: 1.28\n",
            "  * Accuracy: 0.70\n",
            "  * Validation took: 0:00:09\n"
          ]
        },
        {
          "output_type": "stream",
          "name": "stderr",
          "text": [
            "Training (epoch 8): 100%|██████████| 64/64 [01:29<00:00,  1.40s/batch]\n"
          ]
        },
        {
          "output_type": "stream",
          "name": "stdout",
          "text": [
            "  * Average training loss: 0.24\n",
            "  * Average training accuracy: 0.89\n",
            "  * Training epoch took: 0:01:29\n",
            "Running Validation...\n",
            "  * Loss: 1.07\n",
            "  * Accuracy: 0.71\n",
            "  * Validation took: 0:00:09\n"
          ]
        },
        {
          "output_type": "stream",
          "name": "stderr",
          "text": [
            "Training (epoch 9): 100%|██████████| 64/64 [01:29<00:00,  1.40s/batch]\n"
          ]
        },
        {
          "output_type": "stream",
          "name": "stdout",
          "text": [
            "  * Average training loss: 0.23\n",
            "  * Average training accuracy: 0.89\n",
            "  * Training epoch took: 0:01:29\n",
            "Running Validation...\n",
            "  * Loss: 1.37\n",
            "  * Accuracy: 0.70\n",
            "  * Validation took: 0:00:09\n"
          ]
        },
        {
          "output_type": "stream",
          "name": "stderr",
          "text": [
            "Training (epoch 10): 100%|██████████| 64/64 [01:29<00:00,  1.40s/batch]\n"
          ]
        },
        {
          "output_type": "stream",
          "name": "stdout",
          "text": [
            "  * Average training loss: 0.16\n",
            "  * Average training accuracy: 0.91\n",
            "  * Training epoch took: 0:01:29\n",
            "Running Validation...\n",
            "  * Loss: 1.91\n",
            "  * Accuracy: 0.69\n",
            "  * Validation took: 0:00:09\n"
          ]
        },
        {
          "output_type": "stream",
          "name": "stderr",
          "text": [
            "Training (epoch 11): 100%|██████████| 64/64 [01:29<00:00,  1.40s/batch]\n"
          ]
        },
        {
          "output_type": "stream",
          "name": "stdout",
          "text": [
            "  * Average training loss: 0.16\n",
            "  * Average training accuracy: 0.92\n",
            "  * Training epoch took: 0:01:29\n",
            "Running Validation...\n",
            "  * Loss: 1.67\n",
            "  * Accuracy: 0.69\n",
            "  * Validation took: 0:00:09\n"
          ]
        },
        {
          "output_type": "stream",
          "name": "stderr",
          "text": [
            "Training (epoch 12): 100%|██████████| 64/64 [01:29<00:00,  1.40s/batch]\n"
          ]
        },
        {
          "output_type": "stream",
          "name": "stdout",
          "text": [
            "  * Average training loss: 0.14\n",
            "  * Average training accuracy: 0.92\n",
            "  * Training epoch took: 0:01:29\n",
            "Running Validation...\n",
            "  * Loss: 1.93\n",
            "  * Accuracy: 0.70\n",
            "  * Validation took: 0:00:09\n"
          ]
        },
        {
          "output_type": "stream",
          "name": "stderr",
          "text": [
            "Training (epoch 13): 100%|██████████| 64/64 [01:29<00:00,  1.40s/batch]\n"
          ]
        },
        {
          "output_type": "stream",
          "name": "stdout",
          "text": [
            "  * Average training loss: 0.14\n",
            "  * Average training accuracy: 0.92\n",
            "  * Training epoch took: 0:01:29\n",
            "Running Validation...\n",
            "  * Loss: 2.79\n",
            "  * Accuracy: 0.69\n",
            "  * Validation took: 0:00:09\n"
          ]
        },
        {
          "output_type": "stream",
          "name": "stderr",
          "text": [
            "Training (epoch 14): 100%|██████████| 64/64 [01:29<00:00,  1.40s/batch]\n"
          ]
        },
        {
          "output_type": "stream",
          "name": "stdout",
          "text": [
            "  * Average training loss: 0.14\n",
            "  * Average training accuracy: 0.92\n",
            "  * Training epoch took: 0:01:29\n",
            "Running Validation...\n",
            "  * Loss: 2.35\n",
            "  * Accuracy: 0.70\n",
            "  * Validation took: 0:00:09\n"
          ]
        },
        {
          "output_type": "stream",
          "name": "stderr",
          "text": [
            "Training (epoch 15): 100%|██████████| 64/64 [01:29<00:00,  1.40s/batch]\n"
          ]
        },
        {
          "output_type": "stream",
          "name": "stdout",
          "text": [
            "  * Average training loss: 0.14\n",
            "  * Average training accuracy: 0.92\n",
            "  * Training epoch took: 0:01:29\n",
            "Running Validation...\n",
            "  * Loss: 2.22\n",
            "  * Accuracy: 0.68\n",
            "  * Validation took: 0:00:09\n"
          ]
        },
        {
          "output_type": "stream",
          "name": "stderr",
          "text": [
            "Training (epoch 16): 100%|██████████| 64/64 [01:29<00:00,  1.40s/batch]\n"
          ]
        },
        {
          "output_type": "stream",
          "name": "stdout",
          "text": [
            "  * Average training loss: 0.13\n",
            "  * Average training accuracy: 0.93\n",
            "  * Training epoch took: 0:01:30\n",
            "Running Validation...\n",
            "  * Loss: 2.51\n",
            "  * Accuracy: 0.67\n",
            "  * Validation took: 0:00:09\n"
          ]
        },
        {
          "output_type": "stream",
          "name": "stderr",
          "text": [
            "Training (epoch 17): 100%|██████████| 64/64 [01:29<00:00,  1.40s/batch]\n"
          ]
        },
        {
          "output_type": "stream",
          "name": "stdout",
          "text": [
            "  * Average training loss: 0.12\n",
            "  * Average training accuracy: 0.93\n",
            "  * Training epoch took: 0:01:29\n",
            "Running Validation...\n",
            "  * Loss: 2.38\n",
            "  * Accuracy: 0.68\n",
            "  * Validation took: 0:00:09\n"
          ]
        },
        {
          "output_type": "stream",
          "name": "stderr",
          "text": [
            "Training (epoch 18): 100%|██████████| 64/64 [01:29<00:00,  1.40s/batch]\n"
          ]
        },
        {
          "output_type": "stream",
          "name": "stdout",
          "text": [
            "  * Average training loss: 0.13\n",
            "  * Average training accuracy: 0.93\n",
            "  * Training epoch took: 0:01:29\n",
            "Running Validation...\n",
            "  * Loss: 2.21\n",
            "  * Accuracy: 0.63\n",
            "  * Validation took: 0:00:09\n"
          ]
        },
        {
          "output_type": "stream",
          "name": "stderr",
          "text": [
            "Training (epoch 19): 100%|██████████| 64/64 [01:29<00:00,  1.40s/batch]\n"
          ]
        },
        {
          "output_type": "stream",
          "name": "stdout",
          "text": [
            "  * Average training loss: 0.12\n",
            "  * Average training accuracy: 0.93\n",
            "  * Training epoch took: 0:01:29\n",
            "Running Validation...\n",
            "  * Loss: 2.90\n",
            "  * Accuracy: 0.67\n",
            "  * Validation took: 0:00:09\n"
          ]
        },
        {
          "output_type": "stream",
          "name": "stderr",
          "text": [
            "Training (epoch 20): 100%|██████████| 64/64 [01:29<00:00,  1.40s/batch]\n"
          ]
        },
        {
          "output_type": "stream",
          "name": "stdout",
          "text": [
            "  * Average training loss: 0.12\n",
            "  * Average training accuracy: 0.93\n",
            "  * Training epoch took: 0:01:30\n",
            "Running Validation...\n",
            "  * Loss: 2.82\n",
            "  * Accuracy: 0.65\n",
            "  * Validation took: 0:00:09\n"
          ]
        },
        {
          "output_type": "stream",
          "name": "stderr",
          "text": [
            "Training (epoch 21): 100%|██████████| 64/64 [01:29<00:00,  1.40s/batch]\n"
          ]
        },
        {
          "output_type": "stream",
          "name": "stdout",
          "text": [
            "  * Average training loss: 0.12\n",
            "  * Average training accuracy: 0.93\n",
            "  * Training epoch took: 0:01:29\n",
            "Running Validation...\n",
            "  * Loss: 2.08\n",
            "  * Accuracy: 0.66\n",
            "  * Validation took: 0:00:09\n"
          ]
        },
        {
          "output_type": "stream",
          "name": "stderr",
          "text": [
            "Training (epoch 22): 100%|██████████| 64/64 [01:29<00:00,  1.40s/batch]\n"
          ]
        },
        {
          "output_type": "stream",
          "name": "stdout",
          "text": [
            "  * Average training loss: 0.12\n",
            "  * Average training accuracy: 0.93\n",
            "  * Training epoch took: 0:01:29\n",
            "Running Validation...\n",
            "  * Loss: 2.35\n",
            "  * Accuracy: 0.65\n",
            "  * Validation took: 0:00:09\n"
          ]
        },
        {
          "output_type": "stream",
          "name": "stderr",
          "text": [
            "Training (epoch 23): 100%|██████████| 64/64 [01:29<00:00,  1.40s/batch]\n"
          ]
        },
        {
          "output_type": "stream",
          "name": "stdout",
          "text": [
            "  * Average training loss: 0.11\n",
            "  * Average training accuracy: 0.93\n",
            "  * Training epoch took: 0:01:29\n",
            "Running Validation...\n",
            "  * Loss: 2.80\n",
            "  * Accuracy: 0.68\n",
            "  * Validation took: 0:00:09\n"
          ]
        },
        {
          "output_type": "stream",
          "name": "stderr",
          "text": [
            "Training (epoch 24): 100%|██████████| 64/64 [01:29<00:00,  1.40s/batch]\n"
          ]
        },
        {
          "output_type": "stream",
          "name": "stdout",
          "text": [
            "  * Average training loss: 0.11\n",
            "  * Average training accuracy: 0.93\n",
            "  * Training epoch took: 0:01:29\n",
            "Running Validation...\n",
            "  * Loss: 3.13\n",
            "  * Accuracy: 0.68\n",
            "  * Validation took: 0:00:09\n"
          ]
        },
        {
          "output_type": "stream",
          "name": "stderr",
          "text": [
            "Training (epoch 25): 100%|██████████| 64/64 [01:29<00:00,  1.40s/batch]\n"
          ]
        },
        {
          "output_type": "stream",
          "name": "stdout",
          "text": [
            "  * Average training loss: 0.11\n",
            "  * Average training accuracy: 0.93\n",
            "  * Training epoch took: 0:01:29\n",
            "Running Validation...\n",
            "  * Loss: 3.28\n",
            "  * Accuracy: 0.68\n",
            "  * Validation took: 0:00:09\n"
          ]
        },
        {
          "output_type": "stream",
          "name": "stderr",
          "text": [
            "Training (epoch 26): 100%|██████████| 64/64 [01:29<00:00,  1.40s/batch]\n"
          ]
        },
        {
          "output_type": "stream",
          "name": "stdout",
          "text": [
            "  * Average training loss: 0.11\n",
            "  * Average training accuracy: 0.93\n",
            "  * Training epoch took: 0:01:29\n",
            "Running Validation...\n",
            "  * Loss: 3.23\n",
            "  * Accuracy: 0.68\n",
            "  * Validation took: 0:00:09\n"
          ]
        },
        {
          "output_type": "stream",
          "name": "stderr",
          "text": [
            "Training (epoch 27): 100%|██████████| 64/64 [01:29<00:00,  1.40s/batch]\n"
          ]
        },
        {
          "output_type": "stream",
          "name": "stdout",
          "text": [
            "  * Average training loss: 0.11\n",
            "  * Average training accuracy: 0.93\n",
            "  * Training epoch took: 0:01:30\n",
            "Running Validation...\n",
            "  * Loss: 3.07\n",
            "  * Accuracy: 0.69\n",
            "  * Validation took: 0:00:09\n"
          ]
        },
        {
          "output_type": "stream",
          "name": "stderr",
          "text": [
            "Training (epoch 28): 100%|██████████| 64/64 [01:29<00:00,  1.40s/batch]\n"
          ]
        },
        {
          "output_type": "stream",
          "name": "stdout",
          "text": [
            "  * Average training loss: 0.11\n",
            "  * Average training accuracy: 0.93\n",
            "  * Training epoch took: 0:01:29\n",
            "Running Validation...\n",
            "  * Loss: 2.71\n",
            "  * Accuracy: 0.67\n",
            "  * Validation took: 0:00:09\n"
          ]
        },
        {
          "output_type": "stream",
          "name": "stderr",
          "text": [
            "Training (epoch 29): 100%|██████████| 64/64 [01:29<00:00,  1.40s/batch]\n"
          ]
        },
        {
          "output_type": "stream",
          "name": "stdout",
          "text": [
            "  * Average training loss: 0.10\n",
            "  * Average training accuracy: 0.93\n",
            "  * Training epoch took: 0:01:29\n",
            "Running Validation...\n",
            "  * Loss: 3.14\n",
            "  * Accuracy: 0.67\n",
            "  * Validation took: 0:00:09\n"
          ]
        },
        {
          "output_type": "stream",
          "name": "stderr",
          "text": [
            "Training (epoch 30): 100%|██████████| 64/64 [01:29<00:00,  1.40s/batch]\n"
          ]
        },
        {
          "output_type": "stream",
          "name": "stdout",
          "text": [
            "  * Average training loss: 0.10\n",
            "  * Average training accuracy: 0.93\n",
            "  * Training epoch took: 0:01:29\n",
            "Running Validation...\n",
            "  * Loss: 3.45\n",
            "  * Accuracy: 0.68\n",
            "  * Validation took: 0:00:09\n"
          ]
        },
        {
          "output_type": "stream",
          "name": "stderr",
          "text": [
            "Training (epoch 31): 100%|██████████| 64/64 [01:29<00:00,  1.40s/batch]\n"
          ]
        },
        {
          "output_type": "stream",
          "name": "stdout",
          "text": [
            "  * Average training loss: 0.10\n",
            "  * Average training accuracy: 0.93\n",
            "  * Training epoch took: 0:01:30\n",
            "Running Validation...\n",
            "  * Loss: 3.33\n",
            "  * Accuracy: 0.67\n",
            "  * Validation took: 0:00:09\n"
          ]
        },
        {
          "output_type": "stream",
          "name": "stderr",
          "text": [
            "Training (epoch 32): 100%|██████████| 64/64 [01:29<00:00,  1.40s/batch]\n"
          ]
        },
        {
          "output_type": "stream",
          "name": "stdout",
          "text": [
            "  * Average training loss: 0.10\n",
            "  * Average training accuracy: 0.93\n",
            "  * Training epoch took: 0:01:30\n",
            "Running Validation...\n",
            "  * Loss: 3.22\n",
            "  * Accuracy: 0.69\n",
            "  * Validation took: 0:00:09\n"
          ]
        },
        {
          "output_type": "stream",
          "name": "stderr",
          "text": [
            "Training (epoch 33): 100%|██████████| 64/64 [01:29<00:00,  1.40s/batch]\n"
          ]
        },
        {
          "output_type": "stream",
          "name": "stdout",
          "text": [
            "  * Average training loss: 0.10\n",
            "  * Average training accuracy: 0.93\n",
            "  * Training epoch took: 0:01:30\n",
            "Running Validation...\n",
            "  * Loss: 3.33\n",
            "  * Accuracy: 0.69\n",
            "  * Validation took: 0:00:09\n"
          ]
        },
        {
          "output_type": "stream",
          "name": "stderr",
          "text": [
            "Training (epoch 34): 100%|██████████| 64/64 [01:29<00:00,  1.40s/batch]\n"
          ]
        },
        {
          "output_type": "stream",
          "name": "stdout",
          "text": [
            "  * Average training loss: 0.10\n",
            "  * Average training accuracy: 0.94\n",
            "  * Training epoch took: 0:01:30\n",
            "Running Validation...\n",
            "  * Loss: 3.56\n",
            "  * Accuracy: 0.69\n",
            "  * Validation took: 0:00:09\n"
          ]
        },
        {
          "output_type": "stream",
          "name": "stderr",
          "text": [
            "Training (epoch 35): 100%|██████████| 64/64 [01:29<00:00,  1.40s/batch]\n"
          ]
        },
        {
          "output_type": "stream",
          "name": "stdout",
          "text": [
            "  * Average training loss: 0.10\n",
            "  * Average training accuracy: 0.94\n",
            "  * Training epoch took: 0:01:30\n",
            "Running Validation...\n",
            "  * Loss: 3.53\n",
            "  * Accuracy: 0.69\n",
            "  * Validation took: 0:00:09\n"
          ]
        },
        {
          "output_type": "stream",
          "name": "stderr",
          "text": [
            "Training (epoch 36): 100%|██████████| 64/64 [01:29<00:00,  1.40s/batch]\n"
          ]
        },
        {
          "output_type": "stream",
          "name": "stdout",
          "text": [
            "  * Average training loss: 0.10\n",
            "  * Average training accuracy: 0.94\n",
            "  * Training epoch took: 0:01:29\n",
            "Running Validation...\n",
            "  * Loss: 3.70\n",
            "  * Accuracy: 0.69\n",
            "  * Validation took: 0:00:09\n"
          ]
        },
        {
          "output_type": "stream",
          "name": "stderr",
          "text": [
            "Training (epoch 37): 100%|██████████| 64/64 [01:29<00:00,  1.40s/batch]\n"
          ]
        },
        {
          "output_type": "stream",
          "name": "stdout",
          "text": [
            "  * Average training loss: 0.10\n",
            "  * Average training accuracy: 0.94\n",
            "  * Training epoch took: 0:01:30\n",
            "Running Validation...\n",
            "  * Loss: 3.63\n",
            "  * Accuracy: 0.69\n",
            "  * Validation took: 0:00:09\n"
          ]
        },
        {
          "output_type": "stream",
          "name": "stderr",
          "text": [
            "Training (epoch 38): 100%|██████████| 64/64 [01:29<00:00,  1.40s/batch]\n"
          ]
        },
        {
          "output_type": "stream",
          "name": "stdout",
          "text": [
            "  * Average training loss: 0.10\n",
            "  * Average training accuracy: 0.94\n",
            "  * Training epoch took: 0:01:29\n",
            "Running Validation...\n",
            "  * Loss: 3.69\n",
            "  * Accuracy: 0.69\n",
            "  * Validation took: 0:00:09\n"
          ]
        },
        {
          "output_type": "stream",
          "name": "stderr",
          "text": [
            "Training (epoch 39): 100%|██████████| 64/64 [01:29<00:00,  1.40s/batch]\n"
          ]
        },
        {
          "output_type": "stream",
          "name": "stdout",
          "text": [
            "  * Average training loss: 0.10\n",
            "  * Average training accuracy: 0.94\n",
            "  * Training epoch took: 0:01:29\n",
            "Running Validation...\n",
            "  * Loss: 3.68\n",
            "  * Accuracy: 0.69\n",
            "  * Validation took: 0:00:09\n"
          ]
        },
        {
          "output_type": "stream",
          "name": "stderr",
          "text": [
            "Training (epoch 40): 100%|██████████| 64/64 [01:29<00:00,  1.40s/batch]\n"
          ]
        },
        {
          "output_type": "stream",
          "name": "stdout",
          "text": [
            "  * Average training loss: 0.10\n",
            "  * Average training accuracy: 0.94\n",
            "  * Training epoch took: 0:01:30\n",
            "Running Validation...\n",
            "  * Loss: 3.68\n",
            "  * Accuracy: 0.68\n",
            "  * Validation took: 0:00:09\n",
            "Training complete!\n"
          ]
        }
      ]
    },
    {
      "cell_type": "markdown",
      "source": [
        "## Training and Validation Loss Graphs"
      ],
      "metadata": {
        "id": "c4PBO9E0mu4Z"
      }
    },
    {
      "cell_type": "code",
      "source": [
        "%matplotlib inline\n",
        "import matplotlib.pyplot as plt\n",
        "import seaborn as sns\n",
        "\n",
        "def plot_loss(train_loss_vals, eval_loss_vals):\n",
        "    sns.set(style='darkgrid')\n",
        "    sns.set(font_scale=1.5)\n",
        "    plt.rcParams[\"figure.figsize\"] = (12,6)\n",
        "    fig, ax1 = plt.subplots(1,1)\n",
        "    plt.title('GPT-2 Baseline Loss') \n",
        "    ax1.plot(train_loss_vals, 'b-o', label = 'training loss')\n",
        "    ax1.plot(eval_loss_vals, 'g-o', label = 'validation loss')\n",
        "    ax1.set_xlabel(\"Epochs\", color='k')\n",
        "    ax1.set_ylabel(\"Loss\", color='k')\n",
        "    ax1.tick_params(axis='y', rotation=0, labelcolor='k' )\n",
        "    plt.legend()\n",
        "    plt.show()"
      ],
      "metadata": {
        "id": "_qEWDcrIrVCo"
      },
      "execution_count": null,
      "outputs": []
    },
    {
      "cell_type": "code",
      "source": [
        "plot_loss(gpt2_train_loss_vals, gpt2_eval_loss_vals)"
      ],
      "metadata": {
        "colab": {
          "base_uri": "https://localhost:8080/",
          "height": 427
        },
        "id": "iiELHfuvd3_3",
        "outputId": "87f8f920-9f01-4472-aa6d-38b2d96f17c7"
      },
      "execution_count": null,
      "outputs": [
        {
          "output_type": "display_data",
          "data": {
            "text/plain": [
              "<Figure size 864x432 with 1 Axes>"
            ],
            "image/png": "[encoded data removed]"
          },
          "metadata": {}
        }
      ]
    },
    {
      "cell_type": "markdown",
      "source": [
        "## Training and Validation Accuracy Graphs"
      ],
      "metadata": {
        "id": "h1doM1l5n7GP"
      }
    },
    {
      "cell_type": "code",
      "source": [
        "def plot_acc(train_accs, eval_accs):\n",
        "    sns.set(style='darkgrid')\n",
        "    sns.set(font_scale=1.5)\n",
        "    plt.rcParams[\"figure.figsize\"] = (12,6)\n",
        "    fig, ax1 = plt.subplots(1,1)\n",
        "    plt.title('GPT-2 Baseline Accuracy')\n",
        "    ax1.plot(train_accs, 'b-o', label = 'training accuracy')\n",
        "    ax1.plot(eval_accs, 'g-o', label = 'validation accuracy')\n",
        "    ax1.set_ylabel(\"Accuracy\", color='k')\n",
        "    ax1.set_xlabel(\"Loss\", color='k')\n",
        "    ax1.tick_params(axis='y', rotation=0, labelcolor='k' )\n",
        "    plt.legend()\n",
        "    plt.show()"
      ],
      "metadata": {
        "id": "GRWUhZlKnedc"
      },
      "execution_count": null,
      "outputs": []
    },
    {
      "cell_type": "code",
      "source": [
        "plot_acc(gpt2_train_accs, gpt2_eval_accs)"
      ],
      "metadata": {
        "colab": {
          "base_uri": "https://localhost:8080/",
          "height": 427
        },
        "id": "HoEBm3HKn8db",
        "outputId": "10683d68-86e0-4d5b-b983-c4cc174a1b0f"
      },
      "execution_count": null,
      "outputs": [
        {
          "output_type": "display_data",
          "data": {
            "text/plain": [
              "<Figure size 864x432 with 1 Axes>"
            ],
            "image/png": "[encoded data removed]"
          },
          "metadata": {}
        }
      ]
    },
    {
      "cell_type": "markdown",
      "source": [
        "## Get Predictions for Test Data"
      ],
      "metadata": {
        "id": "7gt-eWCkylYs"
      }
    },
    {
      "cell_type": "code",
      "source": [
        "from sklearn.metrics import classification_report"
      ],
      "metadata": {
        "id": "r7-aTbiUy8FO"
      },
      "execution_count": null,
      "outputs": []
    },
    {
      "cell_type": "code",
      "source": [
        "# get predictions for test data\n",
        "with torch.no_grad():\n",
        "  preds = gpt2_model(input_ids=test_seq.to(device), attention_mask=test_masks.to(device))\n",
        "  preds = preds[0].detach().cpu().numpy()"
      ],
      "metadata": {
        "id": "OxB6onpxyj73"
      },
      "execution_count": null,
      "outputs": []
    },
    {
      "cell_type": "code",
      "source": [
        "def test_flat_accuracy(preds, labels):\n",
        "    pred_flat = np.argmax(preds, axis = 1)\n",
        "    labels_flat = np.array(labels.flatten())\n",
        "    return np.sum(pred_flat == labels_flat) / len(labels_flat)"
      ],
      "metadata": {
        "id": "Icgyg1RM2ZED"
      },
      "execution_count": null,
      "outputs": []
    },
    {
      "cell_type": "code",
      "source": [
        "test_flat_accuracy(preds, test_labels)"
      ],
      "metadata": {
        "colab": {
          "base_uri": "https://localhost:8080/"
        },
        "id": "zZrS5FFQ2KUQ",
        "outputId": "9ac6ef08-f87a-4a78-db5e-f5b11413ea68"
      },
      "execution_count": null,
      "outputs": [
        {
          "output_type": "execute_result",
          "data": {
            "text/plain": [
              "0.7053231939163498"
            ]
          },
          "metadata": {},
          "execution_count": 90
        }
      ]
    },
    {
      "cell_type": "code",
      "source": [
        "# model's performance\n",
        "preds = np.argmax(preds, axis = 1)\n",
        "print(classification_report(test_labels, preds))"
      ],
      "metadata": {
        "colab": {
          "base_uri": "https://localhost:8080/"
        },
        "id": "DM2IJHkdyoZt",
        "outputId": "f64684ab-c2ad-4006-981d-e05783b5ebe5"
      },
      "execution_count": null,
      "outputs": [
        {
          "output_type": "stream",
          "name": "stdout",
          "text": [
            "              precision    recall  f1-score   support\n",
            "\n",
            "           0       0.75      0.76      0.75       282\n",
            "           1       0.82      0.77      0.79       167\n",
            "           2       0.34      0.38      0.36        77\n",
            "\n",
            "    accuracy                           0.71       526\n",
            "   macro avg       0.64      0.63      0.64       526\n",
            "weighted avg       0.71      0.71      0.71       526\n",
            "\n"
          ]
        }
      ]
    },
    {
      "cell_type": "code",
      "source": [
        "# confusion matrix\n",
        "pd.crosstab(test_labels, preds)"
      ],
      "metadata": {
        "colab": {
          "base_uri": "https://localhost:8080/",
          "height": 175
        },
        "id": "pMPyauQUyp3Q",
        "outputId": "357e595b-1b0b-4dd4-d97e-f9ede1f9a254"
      },
      "execution_count": null,
      "outputs": [
        {
          "output_type": "execute_result",
          "data": {
            "text/plain": [
              "col_0    0    1   2\n",
              "row_0              \n",
              "0      213   22  47\n",
              "1       29  129   9\n",
              "2       41    7  29"
            ],
            "text/html": [
              "\n",
              "  <div id=\"df-b046e1e0-2b01-47f9-8852-511e02a59f65\">\n",
              "    <div class=\"colab-df-container\">\n",
              "      <div>\n",
              "<style scoped>\n",
              "    .dataframe tbody tr th:only-of-type {\n",
              "        vertical-align: middle;\n",
              "    }\n",
              "\n",
              "    .dataframe tbody tr th {\n",
              "        vertical-align: top;\n",
              "    }\n",
              "\n",
              "    .dataframe thead th {\n",
              "        text-align: right;\n",
              "    }\n",
              "</style>\n",
              "<table border=\"1\" class=\"dataframe\">\n",
              "  <thead>\n",
              "    <tr style=\"text-align: right;\">\n",
              "      <th>col_0</th>\n",
              "      <th>0</th>\n",
              "      <th>1</th>\n",
              "      <th>2</th>\n",
              "    </tr>\n",
              "    <tr>\n",
              "      <th>row_0</th>\n",
              "      <th></th>\n",
              "      <th></th>\n",
              "      <th></th>\n",
              "    </tr>\n",
              "  </thead>\n",
              "  <tbody>\n",
              "    <tr>\n",
              "      <th>0</th>\n",
              "      <td>213</td>\n",
              "      <td>22</td>\n",
              "      <td>47</td>\n",
              "    </tr>\n",
              "    <tr>\n",
              "      <th>1</th>\n",
              "      <td>29</td>\n",
              "      <td>129</td>\n",
              "      <td>9</td>\n",
              "    </tr>\n",
              "    <tr>\n",
              "      <th>2</th>\n",
              "      <td>41</td>\n",
              "      <td>7</td>\n",
              "      <td>29</td>\n",
              "    </tr>\n",
              "  </tbody>\n",
              "</table>\n",
              "</div>\n",
              "      <button class=\"colab-df-convert\" onclick=\"convertToInteractive('df-b046e1e0-2b01-47f9-8852-511e02a59f65')\"\n",
              "              title=\"Convert this dataframe to an interactive table.\"\n",
              "              style=\"display:none;\">\n",
              "        \n",
              "  <svg xmlns=\"http://www.w3.org/2000/svg\" height=\"24px\"viewBox=\"0 0 24 24\"\n",
              "       width=\"24px\">\n",
              "    <path d=\"M0 0h24v24H0V0z\" fill=\"none\"/>\n",
              "    <path d=\"M18.56 5.44l.94 2.06.94-2.06 2.06-.94-2.06-.94-.94-2.06-.94 2.06-2.06.94zm-11 1L8.5 8.5l.94-2.06 2.06-.94-2.06-.94L8.5 2.5l-.94 2.06-2.06.94zm10 10l.94 2.06.94-2.06 2.06-.94-2.06-.94-.94-2.06-.94 2.06-2.06.94z\"/><path d=\"M17.41 7.96l-1.37-1.37c-.4-.4-.92-.59-1.43-.59-.52 0-1.04.2-1.43.59L10.3 9.45l-7.72 7.72c-.78.78-.78 2.05 0 2.83L4 21.41c.39.39.9.59 1.41.59.51 0 1.02-.2 1.41-.59l7.78-7.78 2.81-2.81c.8-.78.8-2.07 0-2.86zM5.41 20L4 18.59l7.72-7.72 1.47 1.35L5.41 20z\"/>\n",
              "  </svg>\n",
              "      </button>\n",
              "      \n",
              "  <style>\n",
              "    .colab-df-container {\n",
              "      display:flex;\n",
              "      flex-wrap:wrap;\n",
              "      gap: 12px;\n",
              "    }\n",
              "\n",
              "    .colab-df-convert {\n",
              "      background-color: #E8F0FE;\n",
              "      border: none;\n",
              "      border-radius: 50%;\n",
              "      cursor: pointer;\n",
              "      display: none;\n",
              "      fill: #1967D2;\n",
              "      height: 32px;\n",
              "      padding: 0 0 0 0;\n",
              "      width: 32px;\n",
              "    }\n",
              "\n",
              "    .colab-df-convert:hover {\n",
              "      background-color: #E2EBFA;\n",
              "      box-shadow: 0px 1px 2px rgba(60, 64, 67, 0.3), 0px 1px 3px 1px rgba(60, 64, 67, 0.15);\n",
              "      fill: #174EA6;\n",
              "    }\n",
              "\n",
              "    [theme=dark] .colab-df-convert {\n",
              "      background-color: #3B4455;\n",
              "      fill: #D2E3FC;\n",
              "    }\n",
              "\n",
              "    [theme=dark] .colab-df-convert:hover {\n",
              "      background-color: #434B5C;\n",
              "      box-shadow: 0px 1px 3px 1px rgba(0, 0, 0, 0.15);\n",
              "      filter: drop-shadow(0px 1px 2px rgba(0, 0, 0, 0.3));\n",
              "      fill: #FFFFFF;\n",
              "    }\n",
              "  </style>\n",
              "\n",
              "      <script>\n",
              "        const buttonEl =\n",
              "          document.querySelector('#df-b046e1e0-2b01-47f9-8852-511e02a59f65 button.colab-df-convert');\n",
              "        buttonEl.style.display =\n",
              "          google.colab.kernel.accessAllowed ? 'block' : 'none';\n",
              "\n",
              "        async function convertToInteractive(key) {\n",
              "          const element = document.querySelector('#df-b046e1e0-2b01-47f9-8852-511e02a59f65');\n",
              "          const dataTable =\n",
              "            await google.colab.kernel.invokeFunction('convertToInteractive',\n",
              "                                                     [key], {});\n",
              "          if (!dataTable) return;\n",
              "\n",
              "          const docLinkHtml = 'Like what you see? Visit the ' +\n",
              "            '<a target=\"_blank\" href=https://colab.research.google.com/notebooks/data_table.ipynb>data table notebook</a>'\n",
              "            + ' to learn more about interactive tables.';\n",
              "          element.innerHTML = '';\n",
              "          dataTable['output_type'] = 'display_data';\n",
              "          await google.colab.output.renderOutput(dataTable, element);\n",
              "          const docLink = document.createElement('div');\n",
              "          docLink.innerHTML = docLinkHtml;\n",
              "          element.appendChild(docLink);\n",
              "        }\n",
              "      </script>\n",
              "    </div>\n",
              "  </div>\n",
              "  "
            ]
          },
          "metadata": {},
          "execution_count": 44
        }
      ]
    },
    {
      "cell_type": "code",
      "source": [
        ""
      ],
      "metadata": {
        "id": "X95AG8191tKv"
      },
      "execution_count": null,
      "outputs": []
    }
  ]
}