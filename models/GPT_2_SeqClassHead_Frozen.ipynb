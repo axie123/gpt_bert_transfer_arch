{
  "nbformat": 4,
  "nbformat_minor": 0,
  "metadata": {
    "colab": {
      "name": "GPT_2_SeqClassHead_Frozen.ipynb",
      "provenance": [],
      "collapsed_sections": []
    },
    "kernelspec": {
      "name": "python3",
      "display_name": "Python 3"
    },
    "language_info": {
      "name": "python"
    },
    "accelerator": "GPU"
  },
  "cells": [
    {
      "cell_type": "markdown",
      "source": [
        "## Installing the Transformers Module."
      ],
      "metadata": {
        "id": "playxmEu9Csz"
      }
    },
    {
      "cell_type": "code",
      "execution_count": null,
      "metadata": {
        "colab": {
          "base_uri": "https://localhost:8080/"
        },
        "id": "Uri9dHqR2t4X",
        "outputId": "399dfc3c-3b0f-44dc-fee5-df846e043eef"
      },
      "outputs": [
        {
          "output_type": "stream",
          "name": "stdout",
          "text": [
            "Collecting transformers\n",
            "  Downloading transformers-4.18.0-py3-none-any.whl (4.0 MB)\n",
            "\u001b[K     |████████████████████████████████| 4.0 MB 26.9 MB/s \n",
            "\u001b[?25hRequirement already satisfied: tqdm>=4.27 in /usr/local/lib/python3.7/dist-packages (from transformers) (4.64.0)\n",
            "Requirement already satisfied: regex!=2019.12.17 in /usr/local/lib/python3.7/dist-packages (from transformers) (2019.12.20)\n",
            "Collecting sacremoses\n",
            "  Downloading sacremoses-0.0.49-py3-none-any.whl (895 kB)\n",
            "\u001b[K     |████████████████████████████████| 895 kB 51.3 MB/s \n",
            "\u001b[?25hRequirement already satisfied: numpy>=1.17 in /usr/local/lib/python3.7/dist-packages (from transformers) (1.21.5)\n",
            "Requirement already satisfied: importlib-metadata in /usr/local/lib/python3.7/dist-packages (from transformers) (4.11.3)\n",
            "Requirement already satisfied: packaging>=20.0 in /usr/local/lib/python3.7/dist-packages (from transformers) (21.3)\n",
            "Requirement already satisfied: filelock in /usr/local/lib/python3.7/dist-packages (from transformers) (3.6.0)\n",
            "Collecting pyyaml>=5.1\n",
            "  Downloading PyYAML-6.0-cp37-cp37m-manylinux_2_5_x86_64.manylinux1_x86_64.manylinux_2_12_x86_64.manylinux2010_x86_64.whl (596 kB)\n",
            "\u001b[K     |████████████████████████████████| 596 kB 49.9 MB/s \n",
            "\u001b[?25hCollecting tokenizers!=0.11.3,<0.13,>=0.11.1\n",
            "  Downloading tokenizers-0.12.1-cp37-cp37m-manylinux_2_12_x86_64.manylinux2010_x86_64.whl (6.6 MB)\n",
            "\u001b[K     |████████████████████████████████| 6.6 MB 51.3 MB/s \n",
            "\u001b[?25hCollecting huggingface-hub<1.0,>=0.1.0\n",
            "  Downloading huggingface_hub-0.5.1-py3-none-any.whl (77 kB)\n",
            "\u001b[K     |████████████████████████████████| 77 kB 7.0 MB/s \n",
            "\u001b[?25hRequirement already satisfied: requests in /usr/local/lib/python3.7/dist-packages (from transformers) (2.23.0)\n",
            "Requirement already satisfied: typing-extensions>=3.7.4.3 in /usr/local/lib/python3.7/dist-packages (from huggingface-hub<1.0,>=0.1.0->transformers) (4.1.1)\n",
            "Requirement already satisfied: pyparsing!=3.0.5,>=2.0.2 in /usr/local/lib/python3.7/dist-packages (from packaging>=20.0->transformers) (3.0.8)\n",
            "Requirement already satisfied: zipp>=0.5 in /usr/local/lib/python3.7/dist-packages (from importlib-metadata->transformers) (3.8.0)\n",
            "Requirement already satisfied: idna<3,>=2.5 in /usr/local/lib/python3.7/dist-packages (from requests->transformers) (2.10)\n",
            "Requirement already satisfied: chardet<4,>=3.0.2 in /usr/local/lib/python3.7/dist-packages (from requests->transformers) (3.0.4)\n",
            "Requirement already satisfied: urllib3!=1.25.0,!=1.25.1,<1.26,>=1.21.1 in /usr/local/lib/python3.7/dist-packages (from requests->transformers) (1.24.3)\n",
            "Requirement already satisfied: certifi>=2017.4.17 in /usr/local/lib/python3.7/dist-packages (from requests->transformers) (2021.10.8)\n",
            "Requirement already satisfied: six in /usr/local/lib/python3.7/dist-packages (from sacremoses->transformers) (1.15.0)\n",
            "Requirement already satisfied: joblib in /usr/local/lib/python3.7/dist-packages (from sacremoses->transformers) (1.1.0)\n",
            "Requirement already satisfied: click in /usr/local/lib/python3.7/dist-packages (from sacremoses->transformers) (7.1.2)\n",
            "Installing collected packages: pyyaml, tokenizers, sacremoses, huggingface-hub, transformers\n",
            "  Attempting uninstall: pyyaml\n",
            "    Found existing installation: PyYAML 3.13\n",
            "    Uninstalling PyYAML-3.13:\n",
            "      Successfully uninstalled PyYAML-3.13\n",
            "Successfully installed huggingface-hub-0.5.1 pyyaml-6.0 sacremoses-0.0.49 tokenizers-0.12.1 transformers-4.18.0\n"
          ]
        }
      ],
      "source": [
        "!pip install --upgrade transformers"
      ]
    },
    {
      "cell_type": "markdown",
      "source": [
        "## Install PyTorch, initiate GPU, and other ML Dependencies"
      ],
      "metadata": {
        "id": "YRTFFtAu9Ktk"
      }
    },
    {
      "cell_type": "code",
      "source": [
        "import os\n",
        "import random\n",
        "\n",
        "import numpy as np\n",
        "import pandas as pd\n",
        "import torch\n",
        "import torch.nn as nn\n",
        "\n",
        "SEED = 42\n",
        "\n",
        "torch.manual_seed(SEED)\n",
        "torch.cuda.manual_seed_all(SEED)\n",
        "torch.backends.cudnn.deterministic = True\n",
        "torch.backends.cudnn.benchmark = False"
      ],
      "metadata": {
        "id": "fAROv4jMBNgI"
      },
      "execution_count": null,
      "outputs": []
    },
    {
      "cell_type": "code",
      "source": [
        "# If there's a GPU available...\n",
        "if torch.cuda.is_available():    \n",
        "\n",
        "    # Tell PyTorch to use the GPU.    \n",
        "    device = torch.device(\"cuda\")\n",
        "\n",
        "    print('There are %d GPU(s) available.' % torch.cuda.device_count())\n",
        "\n",
        "    print('We will use the GPU:', torch.cuda.get_device_name(0))\n",
        "\n",
        "# If not...\n",
        "else:\n",
        "    print('No GPU available, using the CPU instead.')\n",
        "    device = torch.device(\"cpu\")"
      ],
      "metadata": {
        "colab": {
          "base_uri": "https://localhost:8080/"
        },
        "id": "RWKmzR-y3sGz",
        "outputId": "7e44e527-da29-4ede-da97-ff02036801f0"
      },
      "execution_count": null,
      "outputs": [
        {
          "output_type": "stream",
          "name": "stdout",
          "text": [
            "No GPU available, using the CPU instead.\n"
          ]
        }
      ]
    },
    {
      "cell_type": "markdown",
      "source": [
        "## Downloading the Finanica Sentinment Analysis Dataset."
      ],
      "metadata": {
        "id": "yosIWH3HB1FN"
      }
    },
    {
      "cell_type": "code",
      "source": [
        "financial_data = pd.read_csv(\"./data.csv\")"
      ],
      "metadata": {
        "id": "0-hKW-JtCnH_"
      },
      "execution_count": null,
      "outputs": []
    },
    {
      "cell_type": "code",
      "source": [
        "financial_data.head(10)"
      ],
      "metadata": {
        "colab": {
          "base_uri": "https://localhost:8080/",
          "height": 363
        },
        "id": "h4QByjRPgd86",
        "outputId": "466808ba-0685-4684-c0c5-777c1e70424f"
      },
      "execution_count": null,
      "outputs": [
        {
          "output_type": "execute_result",
          "data": {
            "text/plain": [
              "                                            Sentence Sentiment\n",
              "0  The GeoSolutions technology will leverage Bene...  positive\n",
              "1  $ESI on lows, down $1.50 to $2.50 BK a real po...  negative\n",
              "2  For the last quarter of 2010 , Componenta 's n...  positive\n",
              "3  According to the Finnish-Russian Chamber of Co...   neutral\n",
              "4  The Swedish buyout firm has sold its remaining...   neutral\n",
              "5    $SPY wouldn't be surprised to see a green close  positive\n",
              "6  Shell's $70 Billion BG Deal Meets Shareholder ...  negative\n",
              "7  SSH COMMUNICATIONS SECURITY CORP STOCK EXCHANG...  negative\n",
              "8  Kone 's net sales rose by some 14 % year-on-ye...  positive\n",
              "9  The Stockmann department store will have a tot...   neutral"
            ],
            "text/html": [
              "\n",
              "  <div id=\"df-79632aca-1382-47cc-93f2-de447c433b74\">\n",
              "    <div class=\"colab-df-container\">\n",
              "      <div>\n",
              "<style scoped>\n",
              "    .dataframe tbody tr th:only-of-type {\n",
              "        vertical-align: middle;\n",
              "    }\n",
              "\n",
              "    .dataframe tbody tr th {\n",
              "        vertical-align: top;\n",
              "    }\n",
              "\n",
              "    .dataframe thead th {\n",
              "        text-align: right;\n",
              "    }\n",
              "</style>\n",
              "<table border=\"1\" class=\"dataframe\">\n",
              "  <thead>\n",
              "    <tr style=\"text-align: right;\">\n",
              "      <th></th>\n",
              "      <th>Sentence</th>\n",
              "      <th>Sentiment</th>\n",
              "    </tr>\n",
              "  </thead>\n",
              "  <tbody>\n",
              "    <tr>\n",
              "      <th>0</th>\n",
              "      <td>The GeoSolutions technology will leverage Bene...</td>\n",
              "      <td>positive</td>\n",
              "    </tr>\n",
              "    <tr>\n",
              "      <th>1</th>\n",
              "      <td>$ESI on lows, down $1.50 to $2.50 BK a real po...</td>\n",
              "      <td>negative</td>\n",
              "    </tr>\n",
              "    <tr>\n",
              "      <th>2</th>\n",
              "      <td>For the last quarter of 2010 , Componenta 's n...</td>\n",
              "      <td>positive</td>\n",
              "    </tr>\n",
              "    <tr>\n",
              "      <th>3</th>\n",
              "      <td>According to the Finnish-Russian Chamber of Co...</td>\n",
              "      <td>neutral</td>\n",
              "    </tr>\n",
              "    <tr>\n",
              "      <th>4</th>\n",
              "      <td>The Swedish buyout firm has sold its remaining...</td>\n",
              "      <td>neutral</td>\n",
              "    </tr>\n",
              "    <tr>\n",
              "      <th>5</th>\n",
              "      <td>$SPY wouldn't be surprised to see a green close</td>\n",
              "      <td>positive</td>\n",
              "    </tr>\n",
              "    <tr>\n",
              "      <th>6</th>\n",
              "      <td>Shell's $70 Billion BG Deal Meets Shareholder ...</td>\n",
              "      <td>negative</td>\n",
              "    </tr>\n",
              "    <tr>\n",
              "      <th>7</th>\n",
              "      <td>SSH COMMUNICATIONS SECURITY CORP STOCK EXCHANG...</td>\n",
              "      <td>negative</td>\n",
              "    </tr>\n",
              "    <tr>\n",
              "      <th>8</th>\n",
              "      <td>Kone 's net sales rose by some 14 % year-on-ye...</td>\n",
              "      <td>positive</td>\n",
              "    </tr>\n",
              "    <tr>\n",
              "      <th>9</th>\n",
              "      <td>The Stockmann department store will have a tot...</td>\n",
              "      <td>neutral</td>\n",
              "    </tr>\n",
              "  </tbody>\n",
              "</table>\n",
              "</div>\n",
              "      <button class=\"colab-df-convert\" onclick=\"convertToInteractive('df-79632aca-1382-47cc-93f2-de447c433b74')\"\n",
              "              title=\"Convert this dataframe to an interactive table.\"\n",
              "              style=\"display:none;\">\n",
              "        \n",
              "  <svg xmlns=\"http://www.w3.org/2000/svg\" height=\"24px\"viewBox=\"0 0 24 24\"\n",
              "       width=\"24px\">\n",
              "    <path d=\"M0 0h24v24H0V0z\" fill=\"none\"/>\n",
              "    <path d=\"M18.56 5.44l.94 2.06.94-2.06 2.06-.94-2.06-.94-.94-2.06-.94 2.06-2.06.94zm-11 1L8.5 8.5l.94-2.06 2.06-.94-2.06-.94L8.5 2.5l-.94 2.06-2.06.94zm10 10l.94 2.06.94-2.06 2.06-.94-2.06-.94-.94-2.06-.94 2.06-2.06.94z\"/><path d=\"M17.41 7.96l-1.37-1.37c-.4-.4-.92-.59-1.43-.59-.52 0-1.04.2-1.43.59L10.3 9.45l-7.72 7.72c-.78.78-.78 2.05 0 2.83L4 21.41c.39.39.9.59 1.41.59.51 0 1.02-.2 1.41-.59l7.78-7.78 2.81-2.81c.8-.78.8-2.07 0-2.86zM5.41 20L4 18.59l7.72-7.72 1.47 1.35L5.41 20z\"/>\n",
              "  </svg>\n",
              "      </button>\n",
              "      \n",
              "  <style>\n",
              "    .colab-df-container {\n",
              "      display:flex;\n",
              "      flex-wrap:wrap;\n",
              "      gap: 12px;\n",
              "    }\n",
              "\n",
              "    .colab-df-convert {\n",
              "      background-color: #E8F0FE;\n",
              "      border: none;\n",
              "      border-radius: 50%;\n",
              "      cursor: pointer;\n",
              "      display: none;\n",
              "      fill: #1967D2;\n",
              "      height: 32px;\n",
              "      padding: 0 0 0 0;\n",
              "      width: 32px;\n",
              "    }\n",
              "\n",
              "    .colab-df-convert:hover {\n",
              "      background-color: #E2EBFA;\n",
              "      box-shadow: 0px 1px 2px rgba(60, 64, 67, 0.3), 0px 1px 3px 1px rgba(60, 64, 67, 0.15);\n",
              "      fill: #174EA6;\n",
              "    }\n",
              "\n",
              "    [theme=dark] .colab-df-convert {\n",
              "      background-color: #3B4455;\n",
              "      fill: #D2E3FC;\n",
              "    }\n",
              "\n",
              "    [theme=dark] .colab-df-convert:hover {\n",
              "      background-color: #434B5C;\n",
              "      box-shadow: 0px 1px 3px 1px rgba(0, 0, 0, 0.15);\n",
              "      filter: drop-shadow(0px 1px 2px rgba(0, 0, 0, 0.3));\n",
              "      fill: #FFFFFF;\n",
              "    }\n",
              "  </style>\n",
              "\n",
              "      <script>\n",
              "        const buttonEl =\n",
              "          document.querySelector('#df-79632aca-1382-47cc-93f2-de447c433b74 button.colab-df-convert');\n",
              "        buttonEl.style.display =\n",
              "          google.colab.kernel.accessAllowed ? 'block' : 'none';\n",
              "\n",
              "        async function convertToInteractive(key) {\n",
              "          const element = document.querySelector('#df-79632aca-1382-47cc-93f2-de447c433b74');\n",
              "          const dataTable =\n",
              "            await google.colab.kernel.invokeFunction('convertToInteractive',\n",
              "                                                     [key], {});\n",
              "          if (!dataTable) return;\n",
              "\n",
              "          const docLinkHtml = 'Like what you see? Visit the ' +\n",
              "            '<a target=\"_blank\" href=https://colab.research.google.com/notebooks/data_table.ipynb>data table notebook</a>'\n",
              "            + ' to learn more about interactive tables.';\n",
              "          element.innerHTML = '';\n",
              "          dataTable['output_type'] = 'display_data';\n",
              "          await google.colab.output.renderOutput(dataTable, element);\n",
              "          const docLink = document.createElement('div');\n",
              "          docLink.innerHTML = docLinkHtml;\n",
              "          element.appendChild(docLink);\n",
              "        }\n",
              "      </script>\n",
              "    </div>\n",
              "  </div>\n",
              "  "
            ]
          },
          "metadata": {},
          "execution_count": 5
        }
      ]
    },
    {
      "cell_type": "code",
      "source": [
        "financial_data.shape"
      ],
      "metadata": {
        "colab": {
          "base_uri": "https://localhost:8080/"
        },
        "id": "R2rKtH56YePy",
        "outputId": "44bd097b-aa06-402a-bfb7-a086c70980eb"
      },
      "execution_count": null,
      "outputs": [
        {
          "output_type": "execute_result",
          "data": {
            "text/plain": [
              "(5842, 2)"
            ]
          },
          "metadata": {},
          "execution_count": 6
        }
      ]
    },
    {
      "cell_type": "markdown",
      "source": [
        "## Tokenizer\n",
        "\n",
        "The tokenizer class `GPT2Tokenizer` inherits properties from the superclass `PreTrainedTokenizer`, which inherits from [`PreTrainedTokenizerBase`](https://huggingface.co/docs/transformers/v4.17.0/en/internal/tokenization_utils#transformers.PreTrainedTokenizerBase). You can look up the class propeties in the links below:\n",
        "\n",
        "`GPT2Tokenizer` Documentation: https://huggingface.co/docs/transformers/model_doc/gpt2\n",
        "\n",
        "`PreTrainedTokenizer`: https://huggingface.co/docs/transformers/v4.17.0/en/main_classes/tokenizer#transformers.PreTrainedTokenizer\n",
        "\n",
        "*****Note**: You can also use the `AutoTokenizer` class, which will instantiate an instance of the same tokenizer class. Found at https://huggingface.co/docs/transformers/v4.17.0/en/model_doc/auto#transformers.AutoTokenizer"
      ],
      "metadata": {
        "id": "ajgGruqEnSfs"
      }
    },
    {
      "cell_type": "code",
      "source": [
        "from transformers import GPT2TokenizerFast\n",
        "\n",
        "gpt_tokenizer = GPT2TokenizerFast.from_pretrained(\"gpt2\", do_lower_case=True)"
      ],
      "metadata": {
        "id": "44EhGqmk5USV"
      },
      "execution_count": null,
      "outputs": []
    },
    {
      "cell_type": "markdown",
      "source": [
        "Since GPT-2 doesn't utilize a padding token during pre-training. We can define one ourselves. However, the model wouldn't recognize this and you would need to train GPT-2 again to account for this. Therefore, we will just use the existing EOS token as padding.\n",
        "\n",
        "(FYI: you can add new tokens by modifiying the class parameters in https://huggingface.co/docs/transformers/v4.17.0/en/main_classes/tokenizer#transformers.PreTrainedTokenizer. It should be under the first set of parameters listed.)\n",
        "\n",
        "Our way of doing it: `eos_token`. You can also access the `add_special_tokens` parameter, which digs into the `add_special_tokens` call parameter and adds the new token."
      ],
      "metadata": {
        "id": "dKhPXuSC4T5Z"
      }
    },
    {
      "cell_type": "code",
      "source": [
        "gpt_tokenizer.pad_token = gpt_tokenizer.eos_token"
      ],
      "metadata": {
        "id": "dhvbJ1oN3nY0"
      },
      "execution_count": null,
      "outputs": []
    },
    {
      "cell_type": "code",
      "source": [
        "example_tokenization = financial_data['Sentence'][0]\n",
        "\n",
        "print(\"Train data size \", len(example_tokenization))\n",
        "print('* Original:  ', example_tokenization)\n",
        "# Print the sentence split into tokens.\n",
        "print('* Tokenized: ', gpt_tokenizer.tokenize(example_tokenization))\n",
        "# Print the sentence mapped to token ids.\n",
        "print('* Token IDs: ', gpt_tokenizer.convert_tokens_to_ids(gpt_tokenizer.tokenize(example_tokenization)))"
      ],
      "metadata": {
        "colab": {
          "base_uri": "https://localhost:8080/"
        },
        "id": "TR-z9TOaqaKN",
        "outputId": "d4489873-b6d5-4fbd-8d66-2a4b881c5f4c"
      },
      "execution_count": null,
      "outputs": [
        {
          "output_type": "stream",
          "name": "stdout",
          "text": [
            "Train data size  218\n",
            "* Original:   The GeoSolutions technology will leverage Benefon 's GPS solutions by providing Location Based Search Technology , a Communities Platform , location relevant multimedia content and a new and powerful commercial model .\n",
            "* Tokenized:  ['The', 'ĠGeo', 'S', 'olutions', 'Ġtechnology', 'Ġwill', 'Ġleverage', 'ĠBenef', 'on', \"Ġ'\", 's', 'ĠGPS', 'Ġsolutions', 'Ġby', 'Ġproviding', 'ĠLocation', 'ĠBased', 'ĠSearch', 'ĠTechnology', 'Ġ,', 'Ġa', 'ĠCommunities', 'ĠPlatform', 'Ġ,', 'Ġlocation', 'Ġrelevant', 'Ġmultimedia', 'Ġcontent', 'Ġand', 'Ġa', 'Ġnew', 'Ġand', 'Ġpowerful', 'Ġcommercial', 'Ġmodel', 'Ġ.']\n",
            "* Token IDs:  [464, 32960, 50, 14191, 3037, 481, 16094, 19899, 261, 705, 82, 15472, 8136, 416, 4955, 13397, 13403, 11140, 8987, 837, 257, 35530, 19193, 837, 4067, 5981, 40162, 2695, 290, 257, 649, 290, 3665, 5068, 2746, 764]\n"
          ]
        }
      ]
    },
    {
      "cell_type": "code",
      "source": [
        "MAX_LEN = 50"
      ],
      "metadata": {
        "id": "UJXo8QDuok_u"
      },
      "execution_count": null,
      "outputs": []
    },
    {
      "cell_type": "code",
      "source": [
        "data_input = financial_data['Sentence'].values\n",
        "label_input = financial_data['Sentiment'].values"
      ],
      "metadata": {
        "id": "KIQ4-HQE1i1f"
      },
      "execution_count": null,
      "outputs": []
    },
    {
      "cell_type": "markdown",
      "source": [
        "We now build the GPT-2 tokenizer with the following setup:\n",
        "\n",
        "*   default 12 transformer layers.\n",
        "*   max length set for transformer input.\n",
        "*   pad to max length.\n",
        "*   don't return token types.\n",
        "*   activate truncation.\n",
        "\n",
        "****The CLS and SEP tokens are added as the EOS token as the beginning of fine-tuning, as they are here. We use the EOS token to avoid re-training the model.*"
      ],
      "metadata": {
        "id": "snQQdwBl66xo"
      }
    },
    {
      "cell_type": "code",
      "source": [
        "gpt_tokenizer.cls_token = gpt_tokenizer.eos_token\n",
        "gpt_tokenizer.sep_token = gpt_tokenizer.eos_token"
      ],
      "metadata": {
        "id": "-HDJWPi4RvkW"
      },
      "execution_count": null,
      "outputs": []
    },
    {
      "cell_type": "code",
      "source": [
        "tokenized_data_inputs = gpt_tokenizer(\n",
        "    data_input.tolist(),          # Input text\n",
        "    add_special_tokens=True,      # add '<|CLS|>' and '<|SEP|>'\n",
        "    padding='max_length',         # pad to a length specified by the max_length\n",
        "    max_length=MAX_LEN,           # truncate all sentences longer than max_length\n",
        "    truncation=True,              # activate truncation so batched tensors are the same length\n",
        "    return_tensors='pt',          # return everything we need as PyTorch tensors\n",
        ")"
      ],
      "metadata": {
        "id": "6A1Wye0JyCyy"
      },
      "execution_count": null,
      "outputs": []
    },
    {
      "cell_type": "markdown",
      "source": [
        "## Training and Validation Split"
      ],
      "metadata": {
        "id": "7Z3vxyZc7wnj"
      }
    },
    {
      "cell_type": "code",
      "source": [
        "from sklearn.model_selection import train_test_split\n",
        "from torch.utils.data import TensorDataset, DataLoader, RandomSampler, SequentialSampler"
      ],
      "metadata": {
        "id": "4btITYFL716v"
      },
      "execution_count": null,
      "outputs": []
    },
    {
      "cell_type": "code",
      "source": [
        "input_seqs = tokenized_data_inputs['input_ids']\n",
        "attention_masks = tokenized_data_inputs['attention_mask']"
      ],
      "metadata": {
        "id": "H5Q5Mn3P9g3R"
      },
      "execution_count": null,
      "outputs": []
    },
    {
      "cell_type": "code",
      "source": [
        "def train_valid_split(input_ids, attention_masks, labels):\n",
        "    # Use 70% for training and 30% for validation and testing.\n",
        "    train_seq, eval_seq, train_masks, eval_masks, train_labels, eval_labels = train_test_split(\n",
        "        input_ids, attention_masks, labels, random_state=2018, test_size=0.3, stratify=labels, shuffle=True\n",
        "    )\n",
        "\n",
        "    val_seq, test_seq, val_masks, test_masks, val_labels, test_labels = train_test_split(\n",
        "        eval_seq, eval_masks, eval_labels, random_state=2018, test_size=0.5, stratify=eval_labels, shuffle=True\n",
        "    )\n",
        "\n",
        "    return train_seq, train_masks, train_labels, val_seq, val_masks, val_labels, test_seq, test_masks, test_labels\n"
      ],
      "metadata": {
        "id": "eSZ2UcDR_YNe"
      },
      "execution_count": null,
      "outputs": []
    },
    {
      "cell_type": "code",
      "source": [
        "train_seq, train_masks, train_labels, val_seq, val_masks, val_labels, test_seq, test_masks, test_labels = train_valid_split(input_seqs, attention_masks, label_input)"
      ],
      "metadata": {
        "id": "tl_l_BX5Docd"
      },
      "execution_count": null,
      "outputs": []
    },
    {
      "cell_type": "markdown",
      "source": [
        "Change the sentinment into numerical representation. This version of CE Loss will use class indices instead of probabilities. You can check out the class indice and the probabilistic on-hot versions at \n",
        "https://pytorch.org/docs/stable/generated/torch.nn.CrossEntropyLoss.html"
      ],
      "metadata": {
        "id": "Htddc16qG7PL"
      }
    },
    {
      "cell_type": "code",
      "source": [
        "train_labels[train_labels == 'neutral'] = 0\n",
        "train_labels[train_labels == 'positive'] = 1\n",
        "train_labels[train_labels == 'negative'] = 2\n",
        "\n",
        "val_labels[val_labels == 'neutral'] = 0\n",
        "val_labels[val_labels == 'positive'] = 1\n",
        "val_labels[val_labels == 'negative'] = 2\n",
        "\n",
        "test_labels[test_labels == 'neutral'] = 0\n",
        "test_labels[test_labels == 'positive'] = 1\n",
        "test_labels[test_labels == 'negative'] = 2"
      ],
      "metadata": {
        "id": "cPBC_IbIFqFM"
      },
      "execution_count": null,
      "outputs": []
    },
    {
      "cell_type": "code",
      "source": [
        "train_labels = torch.from_numpy(train_labels.astype('int64'))\n",
        "val_labels = torch.from_numpy(val_labels.astype('int64'))\n",
        "test_labels = torch.from_numpy(test_labels.astype('int64'))"
      ],
      "metadata": {
        "id": "U5sgS3ujfzP5"
      },
      "execution_count": null,
      "outputs": []
    },
    {
      "cell_type": "markdown",
      "source": [
        "We now want to define a Dataloader to load our training and validation data."
      ],
      "metadata": {
        "id": "03iHdCi8IeS9"
      }
    },
    {
      "cell_type": "code",
      "source": [
        "from torch.utils.data import TensorDataset, DataLoader, RandomSampler, SequentialSampler"
      ],
      "metadata": {
        "id": "SuZYngIgIUfN"
      },
      "execution_count": null,
      "outputs": []
    },
    {
      "cell_type": "code",
      "source": [
        "batch_size = 64\n",
        "\n",
        "train_data = TensorDataset(train_seq, train_masks, train_labels)\n",
        "train_sampler = RandomSampler(train_data)\n",
        "train_dataloader = DataLoader(train_data, sampler=train_sampler, batch_size=batch_size)\n",
        "\n",
        "val_data = TensorDataset(val_seq, val_masks, val_labels)\n",
        "val_sampler = SequentialSampler(val_data)\n",
        "val_dataloader = DataLoader(val_data, sampler=val_sampler, batch_size=batch_size)"
      ],
      "metadata": {
        "id": "AnHz2HscIhyb"
      },
      "execution_count": null,
      "outputs": []
    },
    {
      "cell_type": "markdown",
      "source": [
        "Adjust Class Weights for Imbalanced Training Dataset."
      ],
      "metadata": {
        "id": "pZvMmXrFkYV1"
      }
    },
    {
      "cell_type": "code",
      "source": [
        "from sklearn.utils.class_weight import compute_class_weight"
      ],
      "metadata": {
        "id": "t6zcrouvkX8W"
      },
      "execution_count": null,
      "outputs": []
    },
    {
      "cell_type": "code",
      "source": [
        "class_wts = compute_class_weight(class_weight = 'balanced', classes = np.unique(train_labels), y = np.array(train_labels))"
      ],
      "metadata": {
        "id": "HgPRPOoZkghL"
      },
      "execution_count": null,
      "outputs": []
    },
    {
      "cell_type": "code",
      "source": [
        "# convert class weights to tensor\n",
        "weights = torch.tensor(class_wts, dtype=torch.float)\n",
        "weights = weights.to(device)"
      ],
      "metadata": {
        "id": "UYjX8jIdkmbO"
      },
      "execution_count": null,
      "outputs": []
    },
    {
      "cell_type": "markdown",
      "source": [
        "## Setting Up GPT-2 Model for SequenceClassification\n",
        "\n",
        "We are going to be using the `from_pretrained` module for this task. `GPT2Config` module is used to set the number of labels in the built-in classification head to be 3.\n",
        "\n",
        "We can find the model documentation here: https://huggingface.co/docs/transformers/model_doc/gpt2#transformers.GPT2ForSequenceClassification\n",
        "\n",
        "If you want to use the `from_pretrained` module: https://huggingface.co/docs/transformers/v4.18.0/en/main_classes/model#transformers.PreTrainedModel.from_pretrained\n",
        "\n",
        " ****If you want to use the GPT2ForSequenceClassification module directly like we did before, that's ok too and it's possible to config it as such. It will yield the same result.*"
      ],
      "metadata": {
        "id": "YExnEcQzpXyV"
      }
    },
    {
      "cell_type": "code",
      "source": [
        "from transformers import GPT2ForSequenceClassification, GPT2Config\n",
        "\n",
        "# Initializing a GPT2 configuration\n",
        "configuration = GPT2Config(num_labels=3)\n",
        "\n",
        "# Initializing a model from the configuration\n",
        "gpt2Model = GPT2ForSequenceClassification.from_pretrained(\"gpt2\", config=configuration)\n",
        "gpt2Model.config.num_labels = 3\n",
        "gpt2Model.config.pad_token_id = gpt2Model.config.eos_token_id"
      ],
      "metadata": {
        "id": "7fYBJJeN4Lw2",
        "colab": {
          "base_uri": "https://localhost:8080/"
        },
        "outputId": "514072ca-8e37-4010-dda0-751415990307"
      },
      "execution_count": null,
      "outputs": [
        {
          "output_type": "stream",
          "name": "stderr",
          "text": [
            "Some weights of GPT2ForSequenceClassification were not initialized from the model checkpoint at gpt2 and are newly initialized: ['score.weight']\n",
            "You should probably TRAIN this model on a down-stream task to be able to use it for predictions and inference.\n"
          ]
        }
      ]
    },
    {
      "cell_type": "code",
      "source": [
        "class GPTForSentinmentClassification(nn.Module):\n",
        "    def __init__(self, gpt_model):\n",
        "        super().__init__()\n",
        "        \n",
        "        self.gpt = gpt_model\n",
        "\n",
        "        self.loss = torch.nn.CrossEntropyLoss(weight=weights)\n",
        "\n",
        "    def forward(self, input_ids=None, attention_mask=None, labels=None):\n",
        "        outputs = self.gpt(input_ids, attention_mask=attention_mask)\n",
        "        logits = outputs.logits\n",
        "\n",
        "        if labels is not None:\n",
        "            outputs = (logits, self.loss(logits, labels))\n",
        "        else:\n",
        "            outputs = (logits,)\n",
        "        return outputs"
      ],
      "metadata": {
        "id": "g3X0gdhb5AaK"
      },
      "execution_count": null,
      "outputs": []
    },
    {
      "cell_type": "code",
      "source": [
        "gpt2_model = GPTForSentinmentClassification(gpt2Model)"
      ],
      "metadata": {
        "id": "knbwsQKqL5AF"
      },
      "execution_count": null,
      "outputs": []
    },
    {
      "cell_type": "code",
      "source": [
        "# Model parameters visualization\n",
        "params = list(gpt2_model.named_parameters())\n",
        "\n",
        "print('GPT-2 has {:} different named parameters.\\n'.format(len(params)))\n",
        "\n",
        "print('==== Embedding Layer ====\\n')\n",
        "\n",
        "for p in params[0:2]:\n",
        "    print(\"{:<55} {:>12}\".format(p[0], str(tuple(p[1].size()))))\n",
        "\n",
        "print('\\n==== 1st Transformer Layer ====\\n')\n",
        "\n",
        "for p in params[2:14]:\n",
        "    print(\"{:<55} {:>12}\".format(p[0], str(tuple(p[1].size()))))\n",
        "\n",
        "print('\\n==== 2nd Transformer Layer ====\\n')\n",
        "\n",
        "for p in params[14:26]:\n",
        "    print(\"{:<55} {:>12}\".format(p[0], str(tuple(p[1].size()))))\n",
        "\n",
        "print('\\n==== 3rd Transformer Layer ====\\n')\n",
        "\n",
        "for p in params[26:38]:\n",
        "    print(\"{:<55} {:>12}\".format(p[0], str(tuple(p[1].size()))))\n",
        "\n",
        "print('\\n==== Output Layer ====\\n')\n",
        "\n",
        "for p in params[-5:]:\n",
        "    print(\"{:<55} {:>12}\".format(p[0], str(tuple(p[1].size()))))"
      ],
      "metadata": {
        "colab": {
          "base_uri": "https://localhost:8080/"
        },
        "id": "xrW3OjAsMCqq",
        "outputId": "5a6f0256-ecc0-43a1-d4d8-a97e2028f36d"
      },
      "execution_count": null,
      "outputs": [
        {
          "output_type": "stream",
          "name": "stdout",
          "text": [
            "GPT-2 has 149 different named parameters.\n",
            "\n",
            "==== Embedding Layer ====\n",
            "\n",
            "gpt.transformer.wte.weight                              (50257, 768)\n",
            "gpt.transformer.wpe.weight                               (1024, 768)\n",
            "\n",
            "==== 1st Transformer Layer ====\n",
            "\n",
            "gpt.transformer.h.0.ln_1.weight                               (768,)\n",
            "gpt.transformer.h.0.ln_1.bias                                 (768,)\n",
            "gpt.transformer.h.0.attn.c_attn.weight                   (768, 2304)\n",
            "gpt.transformer.h.0.attn.c_attn.bias                         (2304,)\n",
            "gpt.transformer.h.0.attn.c_proj.weight                    (768, 768)\n",
            "gpt.transformer.h.0.attn.c_proj.bias                          (768,)\n",
            "gpt.transformer.h.0.ln_2.weight                               (768,)\n",
            "gpt.transformer.h.0.ln_2.bias                                 (768,)\n",
            "gpt.transformer.h.0.mlp.c_fc.weight                      (768, 3072)\n",
            "gpt.transformer.h.0.mlp.c_fc.bias                            (3072,)\n",
            "gpt.transformer.h.0.mlp.c_proj.weight                    (3072, 768)\n",
            "gpt.transformer.h.0.mlp.c_proj.bias                           (768,)\n",
            "\n",
            "==== 2nd Transformer Layer ====\n",
            "\n",
            "gpt.transformer.h.1.ln_1.weight                               (768,)\n",
            "gpt.transformer.h.1.ln_1.bias                                 (768,)\n",
            "gpt.transformer.h.1.attn.c_attn.weight                   (768, 2304)\n",
            "gpt.transformer.h.1.attn.c_attn.bias                         (2304,)\n",
            "gpt.transformer.h.1.attn.c_proj.weight                    (768, 768)\n",
            "gpt.transformer.h.1.attn.c_proj.bias                          (768,)\n",
            "gpt.transformer.h.1.ln_2.weight                               (768,)\n",
            "gpt.transformer.h.1.ln_2.bias                                 (768,)\n",
            "gpt.transformer.h.1.mlp.c_fc.weight                      (768, 3072)\n",
            "gpt.transformer.h.1.mlp.c_fc.bias                            (3072,)\n",
            "gpt.transformer.h.1.mlp.c_proj.weight                    (3072, 768)\n",
            "gpt.transformer.h.1.mlp.c_proj.bias                           (768,)\n",
            "\n",
            "==== 3rd Transformer Layer ====\n",
            "\n",
            "gpt.transformer.h.2.ln_1.weight                               (768,)\n",
            "gpt.transformer.h.2.ln_1.bias                                 (768,)\n",
            "gpt.transformer.h.2.attn.c_attn.weight                   (768, 2304)\n",
            "gpt.transformer.h.2.attn.c_attn.bias                         (2304,)\n",
            "gpt.transformer.h.2.attn.c_proj.weight                    (768, 768)\n",
            "gpt.transformer.h.2.attn.c_proj.bias                          (768,)\n",
            "gpt.transformer.h.2.ln_2.weight                               (768,)\n",
            "gpt.transformer.h.2.ln_2.bias                                 (768,)\n",
            "gpt.transformer.h.2.mlp.c_fc.weight                      (768, 3072)\n",
            "gpt.transformer.h.2.mlp.c_fc.bias                            (3072,)\n",
            "gpt.transformer.h.2.mlp.c_proj.weight                    (3072, 768)\n",
            "gpt.transformer.h.2.mlp.c_proj.bias                           (768,)\n",
            "\n",
            "==== Output Layer ====\n",
            "\n",
            "gpt.transformer.h.11.mlp.c_proj.weight                   (3072, 768)\n",
            "gpt.transformer.h.11.mlp.c_proj.bias                          (768,)\n",
            "gpt.transformer.ln_f.weight                                   (768,)\n",
            "gpt.transformer.ln_f.bias                                     (768,)\n",
            "gpt.score.weight                                            (3, 768)\n"
          ]
        }
      ]
    },
    {
      "cell_type": "markdown",
      "source": [
        "## Freeze the Transformer Layer(s):"
      ],
      "metadata": {
        "id": "Q-UEMDN8ajHS"
      }
    },
    {
      "cell_type": "code",
      "source": [
        "for name, param in gpt2_model.named_parameters():\n",
        "  if 'gpt.transformer.h.0.' in name or 'gpt.transformer.h.1.' in name\\\n",
        "     or 'gpt.transformer.h.2.' in name or 'gpt.transformer.h.3.' in name\\\n",
        "     or 'gpt.transformer.h.4.' in name or 'gpt.transformer.h.5.' in name\\\n",
        "     or 'gpt.transformer.h.6.' in name or 'gpt.transformer.h.7.' in name\\\n",
        "     or 'gpt.transformer.h.8.' in name or 'gpt.transformer.h.9.' in name:\n",
        "    print(name)\n",
        "    param.requires_grad = False"
      ],
      "metadata": {
        "colab": {
          "base_uri": "https://localhost:8080/"
        },
        "id": "ir759zUUaihn",
        "outputId": "d3e74143-5117-4c2c-a4cd-ddce0675eee6"
      },
      "execution_count": null,
      "outputs": [
        {
          "output_type": "stream",
          "name": "stdout",
          "text": [
            "gpt.transformer.h.0.ln_1.weight\n",
            "gpt.transformer.h.0.ln_1.bias\n",
            "gpt.transformer.h.0.attn.c_attn.weight\n",
            "gpt.transformer.h.0.attn.c_attn.bias\n",
            "gpt.transformer.h.0.attn.c_proj.weight\n",
            "gpt.transformer.h.0.attn.c_proj.bias\n",
            "gpt.transformer.h.0.ln_2.weight\n",
            "gpt.transformer.h.0.ln_2.bias\n",
            "gpt.transformer.h.0.mlp.c_fc.weight\n",
            "gpt.transformer.h.0.mlp.c_fc.bias\n",
            "gpt.transformer.h.0.mlp.c_proj.weight\n",
            "gpt.transformer.h.0.mlp.c_proj.bias\n",
            "gpt.transformer.h.1.ln_1.weight\n",
            "gpt.transformer.h.1.ln_1.bias\n",
            "gpt.transformer.h.1.attn.c_attn.weight\n",
            "gpt.transformer.h.1.attn.c_attn.bias\n",
            "gpt.transformer.h.1.attn.c_proj.weight\n",
            "gpt.transformer.h.1.attn.c_proj.bias\n",
            "gpt.transformer.h.1.ln_2.weight\n",
            "gpt.transformer.h.1.ln_2.bias\n",
            "gpt.transformer.h.1.mlp.c_fc.weight\n",
            "gpt.transformer.h.1.mlp.c_fc.bias\n",
            "gpt.transformer.h.1.mlp.c_proj.weight\n",
            "gpt.transformer.h.1.mlp.c_proj.bias\n",
            "gpt.transformer.h.2.ln_1.weight\n",
            "gpt.transformer.h.2.ln_1.bias\n",
            "gpt.transformer.h.2.attn.c_attn.weight\n",
            "gpt.transformer.h.2.attn.c_attn.bias\n",
            "gpt.transformer.h.2.attn.c_proj.weight\n",
            "gpt.transformer.h.2.attn.c_proj.bias\n",
            "gpt.transformer.h.2.ln_2.weight\n",
            "gpt.transformer.h.2.ln_2.bias\n",
            "gpt.transformer.h.2.mlp.c_fc.weight\n",
            "gpt.transformer.h.2.mlp.c_fc.bias\n",
            "gpt.transformer.h.2.mlp.c_proj.weight\n",
            "gpt.transformer.h.2.mlp.c_proj.bias\n",
            "gpt.transformer.h.3.ln_1.weight\n",
            "gpt.transformer.h.3.ln_1.bias\n",
            "gpt.transformer.h.3.attn.c_attn.weight\n",
            "gpt.transformer.h.3.attn.c_attn.bias\n",
            "gpt.transformer.h.3.attn.c_proj.weight\n",
            "gpt.transformer.h.3.attn.c_proj.bias\n",
            "gpt.transformer.h.3.ln_2.weight\n",
            "gpt.transformer.h.3.ln_2.bias\n",
            "gpt.transformer.h.3.mlp.c_fc.weight\n",
            "gpt.transformer.h.3.mlp.c_fc.bias\n",
            "gpt.transformer.h.3.mlp.c_proj.weight\n",
            "gpt.transformer.h.3.mlp.c_proj.bias\n",
            "gpt.transformer.h.4.ln_1.weight\n",
            "gpt.transformer.h.4.ln_1.bias\n",
            "gpt.transformer.h.4.attn.c_attn.weight\n",
            "gpt.transformer.h.4.attn.c_attn.bias\n",
            "gpt.transformer.h.4.attn.c_proj.weight\n",
            "gpt.transformer.h.4.attn.c_proj.bias\n",
            "gpt.transformer.h.4.ln_2.weight\n",
            "gpt.transformer.h.4.ln_2.bias\n",
            "gpt.transformer.h.4.mlp.c_fc.weight\n",
            "gpt.transformer.h.4.mlp.c_fc.bias\n",
            "gpt.transformer.h.4.mlp.c_proj.weight\n",
            "gpt.transformer.h.4.mlp.c_proj.bias\n",
            "gpt.transformer.h.5.ln_1.weight\n",
            "gpt.transformer.h.5.ln_1.bias\n",
            "gpt.transformer.h.5.attn.c_attn.weight\n",
            "gpt.transformer.h.5.attn.c_attn.bias\n",
            "gpt.transformer.h.5.attn.c_proj.weight\n",
            "gpt.transformer.h.5.attn.c_proj.bias\n",
            "gpt.transformer.h.5.ln_2.weight\n",
            "gpt.transformer.h.5.ln_2.bias\n",
            "gpt.transformer.h.5.mlp.c_fc.weight\n",
            "gpt.transformer.h.5.mlp.c_fc.bias\n",
            "gpt.transformer.h.5.mlp.c_proj.weight\n",
            "gpt.transformer.h.5.mlp.c_proj.bias\n",
            "gpt.transformer.h.6.ln_1.weight\n",
            "gpt.transformer.h.6.ln_1.bias\n",
            "gpt.transformer.h.6.attn.c_attn.weight\n",
            "gpt.transformer.h.6.attn.c_attn.bias\n",
            "gpt.transformer.h.6.attn.c_proj.weight\n",
            "gpt.transformer.h.6.attn.c_proj.bias\n",
            "gpt.transformer.h.6.ln_2.weight\n",
            "gpt.transformer.h.6.ln_2.bias\n",
            "gpt.transformer.h.6.mlp.c_fc.weight\n",
            "gpt.transformer.h.6.mlp.c_fc.bias\n",
            "gpt.transformer.h.6.mlp.c_proj.weight\n",
            "gpt.transformer.h.6.mlp.c_proj.bias\n",
            "gpt.transformer.h.7.ln_1.weight\n",
            "gpt.transformer.h.7.ln_1.bias\n",
            "gpt.transformer.h.7.attn.c_attn.weight\n",
            "gpt.transformer.h.7.attn.c_attn.bias\n",
            "gpt.transformer.h.7.attn.c_proj.weight\n",
            "gpt.transformer.h.7.attn.c_proj.bias\n",
            "gpt.transformer.h.7.ln_2.weight\n",
            "gpt.transformer.h.7.ln_2.bias\n",
            "gpt.transformer.h.7.mlp.c_fc.weight\n",
            "gpt.transformer.h.7.mlp.c_fc.bias\n",
            "gpt.transformer.h.7.mlp.c_proj.weight\n",
            "gpt.transformer.h.7.mlp.c_proj.bias\n",
            "gpt.transformer.h.8.ln_1.weight\n",
            "gpt.transformer.h.8.ln_1.bias\n",
            "gpt.transformer.h.8.attn.c_attn.weight\n",
            "gpt.transformer.h.8.attn.c_attn.bias\n",
            "gpt.transformer.h.8.attn.c_proj.weight\n",
            "gpt.transformer.h.8.attn.c_proj.bias\n",
            "gpt.transformer.h.8.ln_2.weight\n",
            "gpt.transformer.h.8.ln_2.bias\n",
            "gpt.transformer.h.8.mlp.c_fc.weight\n",
            "gpt.transformer.h.8.mlp.c_fc.bias\n",
            "gpt.transformer.h.8.mlp.c_proj.weight\n",
            "gpt.transformer.h.8.mlp.c_proj.bias\n",
            "gpt.transformer.h.9.ln_1.weight\n",
            "gpt.transformer.h.9.ln_1.bias\n",
            "gpt.transformer.h.9.attn.c_attn.weight\n",
            "gpt.transformer.h.9.attn.c_attn.bias\n",
            "gpt.transformer.h.9.attn.c_proj.weight\n",
            "gpt.transformer.h.9.attn.c_proj.bias\n",
            "gpt.transformer.h.9.ln_2.weight\n",
            "gpt.transformer.h.9.ln_2.bias\n",
            "gpt.transformer.h.9.mlp.c_fc.weight\n",
            "gpt.transformer.h.9.mlp.c_fc.bias\n",
            "gpt.transformer.h.9.mlp.c_proj.weight\n",
            "gpt.transformer.h.9.mlp.c_proj.bias\n"
          ]
        }
      ]
    },
    {
      "cell_type": "markdown",
      "source": [
        "Mount the model onto device."
      ],
      "metadata": {
        "id": "IMHlubVckN4-"
      }
    },
    {
      "cell_type": "code",
      "source": [
        "# Use GPU, if available\n",
        "device = torch.device(\"cuda\" if torch.cuda.is_available() else \"cpu\")\n",
        "gpt2_model = gpt2_model.to(device)"
      ],
      "metadata": {
        "id": "GNKWyFH-kGd8"
      },
      "execution_count": null,
      "outputs": []
    },
    {
      "cell_type": "markdown",
      "source": [
        "## Training the Model"
      ],
      "metadata": {
        "id": "vQHGrigYPdeg"
      }
    },
    {
      "cell_type": "markdown",
      "source": [
        "\n",
        "*   Batch Size\n",
        "*   Learning Rate\n",
        "*   Weight Decay\n",
        "\n",
        "We can find more hyperparameters to tune with Config: https://huggingface.co/docs/transformers/model_doc/gpt2\n",
        "\n",
        "Here, we needed to use some of the code from the assignment.\n"
      ],
      "metadata": {
        "id": "kG4qjeCsTOCd"
      }
    },
    {
      "cell_type": "code",
      "source": [
        "from torch.optim import AdamW\n",
        "import time\n",
        "import datetime\n",
        "from transformers import get_linear_schedule_with_warmup\n",
        "from tqdm import tqdm"
      ],
      "metadata": {
        "id": "HG5MDfbfPc_x"
      },
      "execution_count": null,
      "outputs": []
    },
    {
      "cell_type": "code",
      "source": [
        "def flat_accuracy(preds, labels):\n",
        "    pred_flat = np.argmax(preds, axis=1).flatten()\n",
        "    labels_flat = labels.flatten()\n",
        "    return np.sum(pred_flat == labels_flat) / len(labels_flat)"
      ],
      "metadata": {
        "id": "Asi6QXLqAb4G"
      },
      "execution_count": null,
      "outputs": []
    },
    {
      "cell_type": "code",
      "source": [
        "def format_time(elapsed):\n",
        "    elapsed_rounded = int(round((elapsed)))\n",
        "    return str(datetime.timedelta(seconds=elapsed_rounded))"
      ],
      "metadata": {
        "id": "hIXynL0lAdvs"
      },
      "execution_count": null,
      "outputs": []
    },
    {
      "cell_type": "code",
      "source": [
        "def get_optimizer_and_scheduler(model, total_steps, lr=2e-5, weight_decay=0.01):\n",
        "    # Apply weight decay to all parameters beside the biases\n",
        "    no_decay = ['bias']\n",
        "    optimizer_grouped_parameters = [\n",
        "        {\n",
        "            'params': [p for n, p in model.named_parameters() if not any(nd in n for nd in no_decay)],\n",
        "            'weight_decay': weight_decay},\n",
        "        {\n",
        "            'params': [p for n, p in model.named_parameters() if any(nd in n for nd in no_decay)],\n",
        "            'weight_decay': 0.0\n",
        "        }\n",
        "    ]\n",
        "    optimizer = AdamW(model.parameters(), lr=lr)\n",
        "    scheduler = get_linear_schedule_with_warmup(\n",
        "        optimizer,\n",
        "        # Warmup learning rate for first 10% of training steps\n",
        "        num_warmup_steps=int(0.10 * total_steps), \n",
        "        num_training_steps=total_steps,\n",
        "    )\n",
        "    return optimizer, scheduler"
      ],
      "metadata": {
        "id": "pGAFrUFlAfxo"
      },
      "execution_count": null,
      "outputs": []
    },
    {
      "cell_type": "code",
      "source": [
        "def train_model(model, epochs, train_dataloader, validation_dataloader):\n",
        "\n",
        "    # Set learning rate and weight decay:\n",
        "    lr = 0.001\n",
        "    weight_decay = 0.01\n",
        "\n",
        "    # Setup optimizer and LR scheduler.\n",
        "    total_steps = len(train_dataloader) * epochs\n",
        "    optimizer, scheduler = get_optimizer_and_scheduler(\n",
        "        model, total_steps, lr=lr, weight_decay=weight_decay\n",
        "    )\n",
        "\n",
        "    loss_values = []\n",
        "    train_acc_values = []\n",
        "\n",
        "    eval_loss_vals = []\n",
        "    eval_accs = []\n",
        "\n",
        "    for epoch in range(0, epochs):\n",
        "        t0 = time.time()\n",
        "\n",
        "        total_loss = 0\n",
        "        total_train_accuracy = 0\n",
        "\n",
        "        # Initiate training mode.\n",
        "        model.train()\n",
        "\n",
        "        with tqdm(train_dataloader, unit=\"batch\") as train_pbar:\n",
        "\n",
        "            # Training with each batch in the training set:\n",
        "            for batch in train_pbar:\n",
        "                train_pbar.set_description(f\"Training (epoch {epoch + 1})\")\n",
        "\n",
        "                # Splitting the training batch into it's respective parts:\n",
        "                b_input_ids = batch[0].to(device)\n",
        "                b_input_mask = batch[1].to(device)\n",
        "                b_labels = batch[2].to(device)\n",
        "\n",
        "                # Clear previously calculated gradients:\n",
        "                model.zero_grad()        \n",
        "\n",
        "                # Get model predictions and loss:\n",
        "                outputs = model(\n",
        "                    input_ids=b_input_ids, \n",
        "                    attention_mask=b_input_mask, \n",
        "                    labels=b_labels\n",
        "                )\n",
        "                \n",
        "                train_logits, loss = outputs\n",
        "\n",
        "                # Move the training logits and training labels to CPU\n",
        "                train_logits = train_logits.detach().cpu().numpy()\n",
        "                label_ids_train = b_labels.to('cpu').numpy()\n",
        "\n",
        "                # Calculate the accuracy for this batch of training sentences.\n",
        "                tmp_train_accuracy = flat_accuracy(train_logits, label_ids_train)\n",
        "\n",
        "                # Accumulate total training accuracy.\n",
        "                total_train_accuracy += tmp_train_accuracy\n",
        "\n",
        "                total_loss += loss.item()\n",
        "\n",
        "                # Backprop.\n",
        "                loss.backward()\n",
        "\n",
        "                # Clip the the gradients to 1.0. It helps in preventing the exploding gradient problem.\n",
        "                torch.nn.utils.clip_grad_norm_(model.parameters(), 1.0)\n",
        "\n",
        "                # Update parameters.\n",
        "                optimizer.step()\n",
        "\n",
        "                scheduler.step()\n",
        "\n",
        "        # Calculate the average loss and accuracy over the training data.\n",
        "        avg_train_loss = total_loss / len(train_dataloader)    \n",
        "        avg_train_accuracy = total_train_accuracy / len(train_dataloader)  \n",
        "        \n",
        "        # Store the loss and accuracy values for plotting the learning curve.\n",
        "        loss_values.append(avg_train_loss)\n",
        "        train_acc_values.append(avg_train_accuracy)\n",
        "\n",
        "        print(\"  * Average training loss: {0:.2f}\".format(avg_train_loss))\n",
        "        print(\"  * Average training accuracy: {0:.2f}\".format(avg_train_accuracy))\n",
        "        print(\"  * Training epoch took: {:}\".format(format_time(time.time() - t0)))\n",
        "            \n",
        "        print(\"Running Validation...\")\n",
        "\n",
        "        t0 = time.time()\n",
        "        model.eval()\n",
        "\n",
        "        eval_loss, eval_accuracy = 0, 0\n",
        "        nb_eval_steps, nb_eval_examples = 0, 0\n",
        "\n",
        "        # Evaluate data for one epoch\n",
        "        for batch in validation_dataloader:\n",
        "            batch = tuple(t.to(device) for t in batch)\n",
        "            b_input_ids, b_input_mask, b_labels = batch\n",
        "            \n",
        "            with torch.no_grad():        \n",
        "                outputs = model(\n",
        "                    input_ids=b_input_ids, \n",
        "                    attention_mask=b_input_mask,\n",
        "                    labels=b_labels\n",
        "                )\n",
        "\n",
        "            v_loss = outputs[1]\n",
        "            eval_loss += v_loss.item()\n",
        "\n",
        "            # Get the \"logits\" output by the model. The \"logits\" are the output\n",
        "            # values prior to applying an activation function like the softmax.\n",
        "            logits = outputs[0]\n",
        "            # Move logits and labels to CPU\n",
        "            logits = logits.detach().cpu().numpy()\n",
        "            label_ids = b_labels.to('cpu').numpy()\n",
        "            # Calculate the accuracy for this batch of test sentences.\n",
        "            tmp_eval_accuracy = flat_accuracy(logits, label_ids)\n",
        "            # Accumulate the total accuracy.\n",
        "            eval_accuracy += tmp_eval_accuracy\n",
        "            # Track the number of batches\n",
        "            nb_eval_steps += 1\n",
        "\n",
        "        avg_eval_loss = eval_loss/nb_eval_steps\n",
        "        avg_eval_acc = eval_accuracy/nb_eval_steps\n",
        "\n",
        "        print(\"  * Loss: {0:.2f}\".format(avg_eval_loss))\n",
        "        print(\"  * Accuracy: {0:.2f}\".format(avg_eval_acc))\n",
        "        print(\"  * Validation took: {:}\".format(format_time(time.time() - t0)))\n",
        "\n",
        "        eval_loss_vals.append(avg_eval_loss)\n",
        "        eval_accs.append(avg_eval_acc)\n",
        "    print(\"Training complete!\")\n",
        "    return loss_values, train_acc_values, eval_loss_vals, eval_accs"
      ],
      "metadata": {
        "id": "eFiqE2uSAl1T"
      },
      "execution_count": null,
      "outputs": []
    },
    {
      "cell_type": "code",
      "source": [
        "gpt2_train_loss_vals, gpt2_train_accs, gpt2_eval_loss_vals, gpt2_eval_accs = train_model(\n",
        "    model=gpt2_model,\n",
        "    epochs=40, \n",
        "    train_dataloader=train_dataloader,\n",
        "    validation_dataloader=val_dataloader\n",
        ")"
      ],
      "metadata": {
        "colab": {
          "base_uri": "https://localhost:8080/"
        },
        "id": "uaxx1j9iBMx3",
        "outputId": "146a489e-c0ae-4d1d-b9c7-fdcba1f6d55f"
      },
      "execution_count": null,
      "outputs": [
        {
          "output_type": "stream",
          "name": "stderr",
          "text": [
            "Training (epoch 1): 100%|██████████| 64/64 [00:27<00:00,  2.35batch/s]\n"
          ]
        },
        {
          "output_type": "stream",
          "name": "stdout",
          "text": [
            "  * Average training loss: 2.46\n",
            "  * Average training accuracy: 0.42\n",
            "  * Training epoch took: 0:00:27\n",
            "Running Validation...\n",
            "  * Loss: 0.93\n",
            "  * Accuracy: 0.58\n",
            "  * Validation took: 0:00:03\n"
          ]
        },
        {
          "output_type": "stream",
          "name": "stderr",
          "text": [
            "Training (epoch 2): 100%|██████████| 64/64 [00:28<00:00,  2.28batch/s]\n"
          ]
        },
        {
          "output_type": "stream",
          "name": "stdout",
          "text": [
            "  * Average training loss: 0.73\n",
            "  * Average training accuracy: 0.68\n",
            "  * Training epoch took: 0:00:28\n",
            "Running Validation...\n",
            "  * Loss: 0.54\n",
            "  * Accuracy: 0.77\n",
            "  * Validation took: 0:00:03\n"
          ]
        },
        {
          "output_type": "stream",
          "name": "stderr",
          "text": [
            "Training (epoch 3): 100%|██████████| 64/64 [00:28<00:00,  2.24batch/s]\n"
          ]
        },
        {
          "output_type": "stream",
          "name": "stdout",
          "text": [
            "  * Average training loss: 0.46\n",
            "  * Average training accuracy: 0.80\n",
            "  * Training epoch took: 0:00:29\n",
            "Running Validation...\n",
            "  * Loss: 0.62\n",
            "  * Accuracy: 0.74\n",
            "  * Validation took: 0:00:03\n"
          ]
        },
        {
          "output_type": "stream",
          "name": "stderr",
          "text": [
            "Training (epoch 4): 100%|██████████| 64/64 [00:29<00:00,  2.20batch/s]\n"
          ]
        },
        {
          "output_type": "stream",
          "name": "stdout",
          "text": [
            "  * Average training loss: 0.36\n",
            "  * Average training accuracy: 0.84\n",
            "  * Training epoch took: 0:00:29\n",
            "Running Validation...\n",
            "  * Loss: 0.76\n",
            "  * Accuracy: 0.70\n",
            "  * Validation took: 0:00:03\n"
          ]
        },
        {
          "output_type": "stream",
          "name": "stderr",
          "text": [
            "Training (epoch 5): 100%|██████████| 64/64 [00:29<00:00,  2.17batch/s]\n"
          ]
        },
        {
          "output_type": "stream",
          "name": "stdout",
          "text": [
            "  * Average training loss: 0.29\n",
            "  * Average training accuracy: 0.86\n",
            "  * Training epoch took: 0:00:29\n",
            "Running Validation...\n",
            "  * Loss: 0.71\n",
            "  * Accuracy: 0.76\n",
            "  * Validation took: 0:00:03\n"
          ]
        },
        {
          "output_type": "stream",
          "name": "stderr",
          "text": [
            "Training (epoch 6): 100%|██████████| 64/64 [00:30<00:00,  2.13batch/s]\n"
          ]
        },
        {
          "output_type": "stream",
          "name": "stdout",
          "text": [
            "  * Average training loss: 0.25\n",
            "  * Average training accuracy: 0.88\n",
            "  * Training epoch took: 0:00:30\n",
            "Running Validation...\n",
            "  * Loss: 0.82\n",
            "  * Accuracy: 0.76\n",
            "  * Validation took: 0:00:03\n"
          ]
        },
        {
          "output_type": "stream",
          "name": "stderr",
          "text": [
            "Training (epoch 7): 100%|██████████| 64/64 [00:30<00:00,  2.09batch/s]\n"
          ]
        },
        {
          "output_type": "stream",
          "name": "stdout",
          "text": [
            "  * Average training loss: 0.20\n",
            "  * Average training accuracy: 0.89\n",
            "  * Training epoch took: 0:00:31\n",
            "Running Validation...\n",
            "  * Loss: 0.79\n",
            "  * Accuracy: 0.76\n",
            "  * Validation took: 0:00:03\n"
          ]
        },
        {
          "output_type": "stream",
          "name": "stderr",
          "text": [
            "Training (epoch 8): 100%|██████████| 64/64 [00:31<00:00,  2.05batch/s]\n"
          ]
        },
        {
          "output_type": "stream",
          "name": "stdout",
          "text": [
            "  * Average training loss: 0.18\n",
            "  * Average training accuracy: 0.91\n",
            "  * Training epoch took: 0:00:31\n",
            "Running Validation...\n",
            "  * Loss: 0.96\n",
            "  * Accuracy: 0.72\n",
            "  * Validation took: 0:00:03\n"
          ]
        },
        {
          "output_type": "stream",
          "name": "stderr",
          "text": [
            "Training (epoch 9): 100%|██████████| 64/64 [00:31<00:00,  2.05batch/s]\n"
          ]
        },
        {
          "output_type": "stream",
          "name": "stdout",
          "text": [
            "  * Average training loss: 0.17\n",
            "  * Average training accuracy: 0.91\n",
            "  * Training epoch took: 0:00:31\n",
            "Running Validation...\n",
            "  * Loss: 1.28\n",
            "  * Accuracy: 0.76\n",
            "  * Validation took: 0:00:03\n"
          ]
        },
        {
          "output_type": "stream",
          "name": "stderr",
          "text": [
            "Training (epoch 10): 100%|██████████| 64/64 [00:30<00:00,  2.06batch/s]\n"
          ]
        },
        {
          "output_type": "stream",
          "name": "stdout",
          "text": [
            "  * Average training loss: 0.16\n",
            "  * Average training accuracy: 0.91\n",
            "  * Training epoch took: 0:00:31\n",
            "Running Validation...\n",
            "  * Loss: 1.28\n",
            "  * Accuracy: 0.75\n",
            "  * Validation took: 0:00:03\n"
          ]
        },
        {
          "output_type": "stream",
          "name": "stderr",
          "text": [
            "Training (epoch 11): 100%|██████████| 64/64 [00:30<00:00,  2.07batch/s]\n"
          ]
        },
        {
          "output_type": "stream",
          "name": "stdout",
          "text": [
            "  * Average training loss: 0.14\n",
            "  * Average training accuracy: 0.92\n",
            "  * Training epoch took: 0:00:31\n",
            "Running Validation...\n",
            "  * Loss: 1.63\n",
            "  * Accuracy: 0.74\n",
            "  * Validation took: 0:00:03\n"
          ]
        },
        {
          "output_type": "stream",
          "name": "stderr",
          "text": [
            "Training (epoch 12): 100%|██████████| 64/64 [00:30<00:00,  2.07batch/s]\n"
          ]
        },
        {
          "output_type": "stream",
          "name": "stdout",
          "text": [
            "  * Average training loss: 0.14\n",
            "  * Average training accuracy: 0.92\n",
            "  * Training epoch took: 0:00:31\n",
            "Running Validation...\n",
            "  * Loss: 1.52\n",
            "  * Accuracy: 0.76\n",
            "  * Validation took: 0:00:03\n"
          ]
        },
        {
          "output_type": "stream",
          "name": "stderr",
          "text": [
            "Training (epoch 13): 100%|██████████| 64/64 [00:30<00:00,  2.07batch/s]\n"
          ]
        },
        {
          "output_type": "stream",
          "name": "stdout",
          "text": [
            "  * Average training loss: 0.13\n",
            "  * Average training accuracy: 0.92\n",
            "  * Training epoch took: 0:00:31\n",
            "Running Validation...\n",
            "  * Loss: 2.13\n",
            "  * Accuracy: 0.76\n",
            "  * Validation took: 0:00:03\n"
          ]
        },
        {
          "output_type": "stream",
          "name": "stderr",
          "text": [
            "Training (epoch 14): 100%|██████████| 64/64 [00:30<00:00,  2.07batch/s]\n"
          ]
        },
        {
          "output_type": "stream",
          "name": "stdout",
          "text": [
            "  * Average training loss: 0.13\n",
            "  * Average training accuracy: 0.92\n",
            "  * Training epoch took: 0:00:31\n",
            "Running Validation...\n",
            "  * Loss: 1.87\n",
            "  * Accuracy: 0.74\n",
            "  * Validation took: 0:00:03\n"
          ]
        },
        {
          "output_type": "stream",
          "name": "stderr",
          "text": [
            "Training (epoch 15): 100%|██████████| 64/64 [00:31<00:00,  2.06batch/s]\n"
          ]
        },
        {
          "output_type": "stream",
          "name": "stdout",
          "text": [
            "  * Average training loss: 0.13\n",
            "  * Average training accuracy: 0.92\n",
            "  * Training epoch took: 0:00:31\n",
            "Running Validation...\n",
            "  * Loss: 1.74\n",
            "  * Accuracy: 0.76\n",
            "  * Validation took: 0:00:03\n"
          ]
        },
        {
          "output_type": "stream",
          "name": "stderr",
          "text": [
            "Training (epoch 16): 100%|██████████| 64/64 [00:31<00:00,  2.05batch/s]\n"
          ]
        },
        {
          "output_type": "stream",
          "name": "stdout",
          "text": [
            "  * Average training loss: 0.13\n",
            "  * Average training accuracy: 0.93\n",
            "  * Training epoch took: 0:00:31\n",
            "Running Validation...\n",
            "  * Loss: 1.99\n",
            "  * Accuracy: 0.75\n",
            "  * Validation took: 0:00:03\n"
          ]
        },
        {
          "output_type": "stream",
          "name": "stderr",
          "text": [
            "Training (epoch 17): 100%|██████████| 64/64 [00:30<00:00,  2.07batch/s]\n"
          ]
        },
        {
          "output_type": "stream",
          "name": "stdout",
          "text": [
            "  * Average training loss: 0.12\n",
            "  * Average training accuracy: 0.92\n",
            "  * Training epoch took: 0:00:31\n",
            "Running Validation...\n",
            "  * Loss: 1.57\n",
            "  * Accuracy: 0.73\n",
            "  * Validation took: 0:00:03\n"
          ]
        },
        {
          "output_type": "stream",
          "name": "stderr",
          "text": [
            "Training (epoch 18): 100%|██████████| 64/64 [00:31<00:00,  2.06batch/s]\n"
          ]
        },
        {
          "output_type": "stream",
          "name": "stdout",
          "text": [
            "  * Average training loss: 0.12\n",
            "  * Average training accuracy: 0.93\n",
            "  * Training epoch took: 0:00:31\n",
            "Running Validation...\n",
            "  * Loss: 1.93\n",
            "  * Accuracy: 0.74\n",
            "  * Validation took: 0:00:03\n"
          ]
        },
        {
          "output_type": "stream",
          "name": "stderr",
          "text": [
            "Training (epoch 19): 100%|██████████| 64/64 [00:31<00:00,  2.05batch/s]\n"
          ]
        },
        {
          "output_type": "stream",
          "name": "stdout",
          "text": [
            "  * Average training loss: 0.12\n",
            "  * Average training accuracy: 0.93\n",
            "  * Training epoch took: 0:00:31\n",
            "Running Validation...\n",
            "  * Loss: 1.92\n",
            "  * Accuracy: 0.72\n",
            "  * Validation took: 0:00:03\n"
          ]
        },
        {
          "output_type": "stream",
          "name": "stderr",
          "text": [
            "Training (epoch 20): 100%|██████████| 64/64 [00:31<00:00,  2.05batch/s]\n"
          ]
        },
        {
          "output_type": "stream",
          "name": "stdout",
          "text": [
            "  * Average training loss: 0.11\n",
            "  * Average training accuracy: 0.93\n",
            "  * Training epoch took: 0:00:31\n",
            "Running Validation...\n",
            "  * Loss: 2.15\n",
            "  * Accuracy: 0.74\n",
            "  * Validation took: 0:00:03\n"
          ]
        },
        {
          "output_type": "stream",
          "name": "stderr",
          "text": [
            "Training (epoch 21): 100%|██████████| 64/64 [00:31<00:00,  2.06batch/s]\n"
          ]
        },
        {
          "output_type": "stream",
          "name": "stdout",
          "text": [
            "  * Average training loss: 0.11\n",
            "  * Average training accuracy: 0.93\n",
            "  * Training epoch took: 0:00:31\n",
            "Running Validation...\n",
            "  * Loss: 2.35\n",
            "  * Accuracy: 0.71\n",
            "  * Validation took: 0:00:03\n"
          ]
        },
        {
          "output_type": "stream",
          "name": "stderr",
          "text": [
            "Training (epoch 22): 100%|██████████| 64/64 [00:31<00:00,  2.06batch/s]\n"
          ]
        },
        {
          "output_type": "stream",
          "name": "stdout",
          "text": [
            "  * Average training loss: 0.12\n",
            "  * Average training accuracy: 0.93\n",
            "  * Training epoch took: 0:00:31\n",
            "Running Validation...\n",
            "  * Loss: 2.42\n",
            "  * Accuracy: 0.73\n",
            "  * Validation took: 0:00:03\n"
          ]
        },
        {
          "output_type": "stream",
          "name": "stderr",
          "text": [
            "Training (epoch 23): 100%|██████████| 64/64 [00:30<00:00,  2.07batch/s]\n"
          ]
        },
        {
          "output_type": "stream",
          "name": "stdout",
          "text": [
            "  * Average training loss: 0.12\n",
            "  * Average training accuracy: 0.93\n",
            "  * Training epoch took: 0:00:31\n",
            "Running Validation...\n",
            "  * Loss: 2.70\n",
            "  * Accuracy: 0.73\n",
            "  * Validation took: 0:00:03\n"
          ]
        },
        {
          "output_type": "stream",
          "name": "stderr",
          "text": [
            "Training (epoch 24): 100%|██████████| 64/64 [00:30<00:00,  2.07batch/s]\n"
          ]
        },
        {
          "output_type": "stream",
          "name": "stdout",
          "text": [
            "  * Average training loss: 0.11\n",
            "  * Average training accuracy: 0.93\n",
            "  * Training epoch took: 0:00:31\n",
            "Running Validation...\n",
            "  * Loss: 2.57\n",
            "  * Accuracy: 0.73\n",
            "  * Validation took: 0:00:03\n"
          ]
        },
        {
          "output_type": "stream",
          "name": "stderr",
          "text": [
            "Training (epoch 25): 100%|██████████| 64/64 [00:30<00:00,  2.07batch/s]\n"
          ]
        },
        {
          "output_type": "stream",
          "name": "stdout",
          "text": [
            "  * Average training loss: 0.11\n",
            "  * Average training accuracy: 0.93\n",
            "  * Training epoch took: 0:00:31\n",
            "Running Validation...\n",
            "  * Loss: 2.31\n",
            "  * Accuracy: 0.73\n",
            "  * Validation took: 0:00:03\n"
          ]
        },
        {
          "output_type": "stream",
          "name": "stderr",
          "text": [
            "Training (epoch 26): 100%|██████████| 64/64 [00:30<00:00,  2.07batch/s]\n"
          ]
        },
        {
          "output_type": "stream",
          "name": "stdout",
          "text": [
            "  * Average training loss: 0.11\n",
            "  * Average training accuracy: 0.93\n",
            "  * Training epoch took: 0:00:31\n",
            "Running Validation...\n",
            "  * Loss: 2.83\n",
            "  * Accuracy: 0.73\n",
            "  * Validation took: 0:00:03\n"
          ]
        },
        {
          "output_type": "stream",
          "name": "stderr",
          "text": [
            "Training (epoch 27): 100%|██████████| 64/64 [00:30<00:00,  2.07batch/s]\n"
          ]
        },
        {
          "output_type": "stream",
          "name": "stdout",
          "text": [
            "  * Average training loss: 0.11\n",
            "  * Average training accuracy: 0.93\n",
            "  * Training epoch took: 0:00:31\n",
            "Running Validation...\n",
            "  * Loss: 2.68\n",
            "  * Accuracy: 0.71\n",
            "  * Validation took: 0:00:03\n"
          ]
        },
        {
          "output_type": "stream",
          "name": "stderr",
          "text": [
            "Training (epoch 28): 100%|██████████| 64/64 [00:30<00:00,  2.07batch/s]\n"
          ]
        },
        {
          "output_type": "stream",
          "name": "stdout",
          "text": [
            "  * Average training loss: 0.11\n",
            "  * Average training accuracy: 0.93\n",
            "  * Training epoch took: 0:00:31\n",
            "Running Validation...\n",
            "  * Loss: 2.55\n",
            "  * Accuracy: 0.72\n",
            "  * Validation took: 0:00:03\n"
          ]
        },
        {
          "output_type": "stream",
          "name": "stderr",
          "text": [
            "Training (epoch 29): 100%|██████████| 64/64 [00:30<00:00,  2.07batch/s]\n"
          ]
        },
        {
          "output_type": "stream",
          "name": "stdout",
          "text": [
            "  * Average training loss: 0.10\n",
            "  * Average training accuracy: 0.93\n",
            "  * Training epoch took: 0:00:31\n",
            "Running Validation...\n",
            "  * Loss: 2.69\n",
            "  * Accuracy: 0.73\n",
            "  * Validation took: 0:00:03\n"
          ]
        },
        {
          "output_type": "stream",
          "name": "stderr",
          "text": [
            "Training (epoch 30): 100%|██████████| 64/64 [00:30<00:00,  2.07batch/s]\n"
          ]
        },
        {
          "output_type": "stream",
          "name": "stdout",
          "text": [
            "  * Average training loss: 0.10\n",
            "  * Average training accuracy: 0.94\n",
            "  * Training epoch took: 0:00:31\n",
            "Running Validation...\n",
            "  * Loss: 2.91\n",
            "  * Accuracy: 0.72\n",
            "  * Validation took: 0:00:03\n"
          ]
        },
        {
          "output_type": "stream",
          "name": "stderr",
          "text": [
            "Training (epoch 31): 100%|██████████| 64/64 [00:30<00:00,  2.07batch/s]\n"
          ]
        },
        {
          "output_type": "stream",
          "name": "stdout",
          "text": [
            "  * Average training loss: 0.10\n",
            "  * Average training accuracy: 0.93\n",
            "  * Training epoch took: 0:00:31\n",
            "Running Validation...\n",
            "  * Loss: 2.96\n",
            "  * Accuracy: 0.72\n",
            "  * Validation took: 0:00:03\n"
          ]
        },
        {
          "output_type": "stream",
          "name": "stderr",
          "text": [
            "Training (epoch 32): 100%|██████████| 64/64 [00:30<00:00,  2.07batch/s]\n"
          ]
        },
        {
          "output_type": "stream",
          "name": "stdout",
          "text": [
            "  * Average training loss: 0.10\n",
            "  * Average training accuracy: 0.94\n",
            "  * Training epoch took: 0:00:31\n",
            "Running Validation...\n",
            "  * Loss: 2.85\n",
            "  * Accuracy: 0.72\n",
            "  * Validation took: 0:00:03\n"
          ]
        },
        {
          "output_type": "stream",
          "name": "stderr",
          "text": [
            "Training (epoch 33): 100%|██████████| 64/64 [00:30<00:00,  2.07batch/s]\n"
          ]
        },
        {
          "output_type": "stream",
          "name": "stdout",
          "text": [
            "  * Average training loss: 0.10\n",
            "  * Average training accuracy: 0.94\n",
            "  * Training epoch took: 0:00:31\n",
            "Running Validation...\n",
            "  * Loss: 3.00\n",
            "  * Accuracy: 0.71\n",
            "  * Validation took: 0:00:03\n"
          ]
        },
        {
          "output_type": "stream",
          "name": "stderr",
          "text": [
            "Training (epoch 34): 100%|██████████| 64/64 [00:30<00:00,  2.07batch/s]\n"
          ]
        },
        {
          "output_type": "stream",
          "name": "stdout",
          "text": [
            "  * Average training loss: 0.10\n",
            "  * Average training accuracy: 0.93\n",
            "  * Training epoch took: 0:00:31\n",
            "Running Validation...\n",
            "  * Loss: 2.80\n",
            "  * Accuracy: 0.71\n",
            "  * Validation took: 0:00:03\n"
          ]
        },
        {
          "output_type": "stream",
          "name": "stderr",
          "text": [
            "Training (epoch 35): 100%|██████████| 64/64 [00:30<00:00,  2.07batch/s]\n"
          ]
        },
        {
          "output_type": "stream",
          "name": "stdout",
          "text": [
            "  * Average training loss: 0.10\n",
            "  * Average training accuracy: 0.94\n",
            "  * Training epoch took: 0:00:31\n",
            "Running Validation...\n",
            "  * Loss: 2.96\n",
            "  * Accuracy: 0.72\n",
            "  * Validation took: 0:00:03\n"
          ]
        },
        {
          "output_type": "stream",
          "name": "stderr",
          "text": [
            "Training (epoch 36): 100%|██████████| 64/64 [00:30<00:00,  2.07batch/s]\n"
          ]
        },
        {
          "output_type": "stream",
          "name": "stdout",
          "text": [
            "  * Average training loss: 0.10\n",
            "  * Average training accuracy: 0.94\n",
            "  * Training epoch took: 0:00:31\n",
            "Running Validation...\n",
            "  * Loss: 3.19\n",
            "  * Accuracy: 0.72\n",
            "  * Validation took: 0:00:03\n"
          ]
        },
        {
          "output_type": "stream",
          "name": "stderr",
          "text": [
            "Training (epoch 37): 100%|██████████| 64/64 [00:30<00:00,  2.07batch/s]\n"
          ]
        },
        {
          "output_type": "stream",
          "name": "stdout",
          "text": [
            "  * Average training loss: 0.10\n",
            "  * Average training accuracy: 0.94\n",
            "  * Training epoch took: 0:00:31\n",
            "Running Validation...\n",
            "  * Loss: 3.11\n",
            "  * Accuracy: 0.71\n",
            "  * Validation took: 0:00:03\n"
          ]
        },
        {
          "output_type": "stream",
          "name": "stderr",
          "text": [
            "Training (epoch 38): 100%|██████████| 64/64 [00:30<00:00,  2.07batch/s]\n"
          ]
        },
        {
          "output_type": "stream",
          "name": "stdout",
          "text": [
            "  * Average training loss: 0.10\n",
            "  * Average training accuracy: 0.94\n",
            "  * Training epoch took: 0:00:31\n",
            "Running Validation...\n",
            "  * Loss: 3.15\n",
            "  * Accuracy: 0.71\n",
            "  * Validation took: 0:00:03\n"
          ]
        },
        {
          "output_type": "stream",
          "name": "stderr",
          "text": [
            "Training (epoch 39): 100%|██████████| 64/64 [00:30<00:00,  2.07batch/s]\n"
          ]
        },
        {
          "output_type": "stream",
          "name": "stdout",
          "text": [
            "  * Average training loss: 0.10\n",
            "  * Average training accuracy: 0.94\n",
            "  * Training epoch took: 0:00:31\n",
            "Running Validation...\n",
            "  * Loss: 3.27\n",
            "  * Accuracy: 0.71\n",
            "  * Validation took: 0:00:03\n"
          ]
        },
        {
          "output_type": "stream",
          "name": "stderr",
          "text": [
            "Training (epoch 40): 100%|██████████| 64/64 [00:31<00:00,  2.05batch/s]\n"
          ]
        },
        {
          "output_type": "stream",
          "name": "stdout",
          "text": [
            "  * Average training loss: 0.10\n",
            "  * Average training accuracy: 0.94\n",
            "  * Training epoch took: 0:00:31\n",
            "Running Validation...\n",
            "  * Loss: 3.28\n",
            "  * Accuracy: 0.71\n",
            "  * Validation took: 0:00:03\n",
            "Training complete!\n"
          ]
        }
      ]
    },
    {
      "cell_type": "markdown",
      "source": [
        "## Storing the Results"
      ],
      "metadata": {
        "id": "A8X4Faw_j_Mh"
      }
    },
    {
      "cell_type": "code",
      "source": [
        "import json"
      ],
      "metadata": {
        "id": "Zq7OvVIckmND"
      },
      "execution_count": null,
      "outputs": []
    },
    {
      "cell_type": "code",
      "source": [
        "with open('frozen_losses_gpt.json') as json_file:\n",
        "    loss_dict = json.load(json_file)"
      ],
      "metadata": {
        "id": "csK_rCt-j-IJ"
      },
      "execution_count": null,
      "outputs": []
    },
    {
      "cell_type": "code",
      "source": [
        "loss_dict.keys()"
      ],
      "metadata": {
        "colab": {
          "base_uri": "https://localhost:8080/"
        },
        "id": "sUnnsmT2mGeR",
        "outputId": "aedaf76b-b191-47db-e2c6-36c6c923a988"
      },
      "execution_count": null,
      "outputs": [
        {
          "output_type": "execute_result",
          "data": {
            "text/plain": [
              "dict_keys(['frozen_1_2', 'frozen_1_4', 'frozen_1_6', 'frozen_1_8', 'frozen_1_10'])"
            ]
          },
          "metadata": {},
          "execution_count": 6
        }
      ]
    },
    {
      "cell_type": "code",
      "source": [
        "loss_dict['frozen_1_10'] = {}"
      ],
      "metadata": {
        "id": "OOqFjZR7kGSO"
      },
      "execution_count": null,
      "outputs": []
    },
    {
      "cell_type": "code",
      "source": [
        "loss_dict['frozen_1_10']['training_loss'] = gpt2_train_loss_vals\n",
        "loss_dict['frozen_1_10']['val_loss'] = gpt2_eval_loss_vals"
      ],
      "metadata": {
        "id": "3sCcQJ7bkNtc"
      },
      "execution_count": null,
      "outputs": []
    },
    {
      "cell_type": "code",
      "source": [
        "loss_dict.keys()"
      ],
      "metadata": {
        "colab": {
          "base_uri": "https://localhost:8080/"
        },
        "id": "T_ZnOoNBtdu3",
        "outputId": "4e6b1e15-55bd-4142-d41c-8baed4a76d52"
      },
      "execution_count": null,
      "outputs": [
        {
          "output_type": "execute_result",
          "data": {
            "text/plain": [
              "dict_keys(['frozen_1_2', 'frozen_1_4', 'frozen_1_6', 'frozen_1_8', 'frozen_1_10'])"
            ]
          },
          "metadata": {},
          "execution_count": 42
        }
      ]
    },
    {
      "cell_type": "code",
      "source": [
        "with open(\"frozen_losses_gpt.json\", \"w\") as outfile:\n",
        "    json.dump(loss_dict, outfile)\n",
        "    \n",
        "outfile.close()"
      ],
      "metadata": {
        "id": "EURsPN8KkdaF"
      },
      "execution_count": null,
      "outputs": []
    },
    {
      "cell_type": "code",
      "source": [
        "with open('frozen_accs_gpt.json') as json_file:\n",
        "    acc_dict = json.load(json_file)"
      ],
      "metadata": {
        "id": "vwjT06Z2lImN"
      },
      "execution_count": null,
      "outputs": []
    },
    {
      "cell_type": "code",
      "source": [
        "acc_dict.keys()"
      ],
      "metadata": {
        "colab": {
          "base_uri": "https://localhost:8080/"
        },
        "id": "41z4VE7BEakt",
        "outputId": "f75167f7-a25a-45ce-cc0b-b353dfe7d385"
      },
      "execution_count": null,
      "outputs": [
        {
          "output_type": "execute_result",
          "data": {
            "text/plain": [
              "dict_keys(['frozen_1_2', 'frozen_1_4', 'frozen_1_6', 'frozen_1_8', 'frozen_1_10'])"
            ]
          },
          "metadata": {},
          "execution_count": 8
        }
      ]
    },
    {
      "cell_type": "code",
      "source": [
        "acc_dict['frozen_1_10'] = {}"
      ],
      "metadata": {
        "id": "AXM6qHuUlLRz"
      },
      "execution_count": null,
      "outputs": []
    },
    {
      "cell_type": "code",
      "source": [
        "acc_dict['frozen_1_10']['training_acc'] = gpt2_train_accs\n",
        "acc_dict['frozen_1_10']['val_acc'] = gpt2_eval_accs"
      ],
      "metadata": {
        "id": "ykFSO4aClNWz"
      },
      "execution_count": null,
      "outputs": []
    },
    {
      "cell_type": "code",
      "source": [
        "acc_dict.keys()"
      ],
      "metadata": {
        "colab": {
          "base_uri": "https://localhost:8080/"
        },
        "id": "DlbhisxC0xmX",
        "outputId": "655d8684-0852-4038-9d6f-122e5516b0ad"
      },
      "execution_count": null,
      "outputs": [
        {
          "output_type": "execute_result",
          "data": {
            "text/plain": [
              "dict_keys(['frozen_1_2', 'frozen_1_4', 'frozen_1_6', 'frozen_1_8', 'frozen_1_10'])"
            ]
          },
          "metadata": {},
          "execution_count": 47
        }
      ]
    },
    {
      "cell_type": "code",
      "source": [
        "with open(\"frozen_accs_gpt.json\", \"w\") as outfile:\n",
        "    json.dump(acc_dict, outfile)\n",
        "    \n",
        "outfile.close()"
      ],
      "metadata": {
        "id": "eckg6FrBlVhr"
      },
      "execution_count": null,
      "outputs": []
    },
    {
      "cell_type": "markdown",
      "source": [
        "## Get Predictions for Test Data"
      ],
      "metadata": {
        "id": "7gt-eWCkylYs"
      }
    },
    {
      "cell_type": "code",
      "source": [
        "from sklearn.metrics import classification_report"
      ],
      "metadata": {
        "id": "r7-aTbiUy8FO"
      },
      "execution_count": null,
      "outputs": []
    },
    {
      "cell_type": "code",
      "source": [
        "# get predictions for test data\n",
        "with torch.no_grad():\n",
        "  preds = gpt2_model(input_ids=test_seq.to(device), attention_mask=test_masks.to(device))\n",
        "  preds = preds[0].detach().cpu().numpy()"
      ],
      "metadata": {
        "id": "OxB6onpxyj73"
      },
      "execution_count": null,
      "outputs": []
    },
    {
      "cell_type": "code",
      "source": [
        "def test_flat_accuracy(preds, labels):\n",
        "    pred_flat = np.argmax(preds, axis = 1)\n",
        "    labels_flat = np.array(labels.flatten())\n",
        "    return np.sum(pred_flat == labels_flat) / len(labels_flat)"
      ],
      "metadata": {
        "id": "Icgyg1RM2ZED"
      },
      "execution_count": null,
      "outputs": []
    },
    {
      "cell_type": "code",
      "source": [
        "test_flat_accuracy(preds, test_labels)"
      ],
      "metadata": {
        "colab": {
          "base_uri": "https://localhost:8080/"
        },
        "id": "zZrS5FFQ2KUQ",
        "outputId": "3f8c66fe-2ab8-41b2-90b2-5314ef6c1b37"
      },
      "execution_count": null,
      "outputs": [
        {
          "output_type": "execute_result",
          "data": {
            "text/plain": [
              "0.7468643101482326"
            ]
          },
          "metadata": {},
          "execution_count": 52
        }
      ]
    },
    {
      "cell_type": "code",
      "source": [
        "# model's performance\n",
        "preds = np.argmax(preds, axis = 1)\n",
        "print(classification_report(test_labels, preds))"
      ],
      "metadata": {
        "colab": {
          "base_uri": "https://localhost:8080/"
        },
        "id": "DM2IJHkdyoZt",
        "outputId": "75c3f73d-483f-4c22-be4c-9a804c84c2e9"
      },
      "execution_count": null,
      "outputs": [
        {
          "output_type": "stream",
          "name": "stdout",
          "text": [
            "              precision    recall  f1-score   support\n",
            "\n",
            "           0       0.82      0.75      0.78       470\n",
            "           1       0.85      0.86      0.86       278\n",
            "           2       0.39      0.50      0.44       129\n",
            "\n",
            "    accuracy                           0.75       877\n",
            "   macro avg       0.68      0.70      0.69       877\n",
            "weighted avg       0.76      0.75      0.75       877\n",
            "\n"
          ]
        }
      ]
    },
    {
      "cell_type": "code",
      "source": [
        "# confusion matrix\n",
        "pd.crosstab(test_labels, preds)"
      ],
      "metadata": {
        "colab": {
          "base_uri": "https://localhost:8080/",
          "height": 175
        },
        "id": "pMPyauQUyp3Q",
        "outputId": "91fdf57f-0378-4aa4-fcac-ab2cd87041da"
      },
      "execution_count": null,
      "outputs": [
        {
          "output_type": "execute_result",
          "data": {
            "text/plain": [
              "col_0    0    1   2\n",
              "row_0              \n",
              "0      354   27  89\n",
              "1       21  245  12\n",
              "2       52   11  66"
            ],
            "text/html": [
              "\n",
              "  <div id=\"df-561ce4c7-df57-41e6-a113-a124390b21ff\">\n",
              "    <div class=\"colab-df-container\">\n",
              "      <div>\n",
              "<style scoped>\n",
              "    .dataframe tbody tr th:only-of-type {\n",
              "        vertical-align: middle;\n",
              "    }\n",
              "\n",
              "    .dataframe tbody tr th {\n",
              "        vertical-align: top;\n",
              "    }\n",
              "\n",
              "    .dataframe thead th {\n",
              "        text-align: right;\n",
              "    }\n",
              "</style>\n",
              "<table border=\"1\" class=\"dataframe\">\n",
              "  <thead>\n",
              "    <tr style=\"text-align: right;\">\n",
              "      <th>col_0</th>\n",
              "      <th>0</th>\n",
              "      <th>1</th>\n",
              "      <th>2</th>\n",
              "    </tr>\n",
              "    <tr>\n",
              "      <th>row_0</th>\n",
              "      <th></th>\n",
              "      <th></th>\n",
              "      <th></th>\n",
              "    </tr>\n",
              "  </thead>\n",
              "  <tbody>\n",
              "    <tr>\n",
              "      <th>0</th>\n",
              "      <td>354</td>\n",
              "      <td>27</td>\n",
              "      <td>89</td>\n",
              "    </tr>\n",
              "    <tr>\n",
              "      <th>1</th>\n",
              "      <td>21</td>\n",
              "      <td>245</td>\n",
              "      <td>12</td>\n",
              "    </tr>\n",
              "    <tr>\n",
              "      <th>2</th>\n",
              "      <td>52</td>\n",
              "      <td>11</td>\n",
              "      <td>66</td>\n",
              "    </tr>\n",
              "  </tbody>\n",
              "</table>\n",
              "</div>\n",
              "      <button class=\"colab-df-convert\" onclick=\"convertToInteractive('df-561ce4c7-df57-41e6-a113-a124390b21ff')\"\n",
              "              title=\"Convert this dataframe to an interactive table.\"\n",
              "              style=\"display:none;\">\n",
              "        \n",
              "  <svg xmlns=\"http://www.w3.org/2000/svg\" height=\"24px\"viewBox=\"0 0 24 24\"\n",
              "       width=\"24px\">\n",
              "    <path d=\"M0 0h24v24H0V0z\" fill=\"none\"/>\n",
              "    <path d=\"M18.56 5.44l.94 2.06.94-2.06 2.06-.94-2.06-.94-.94-2.06-.94 2.06-2.06.94zm-11 1L8.5 8.5l.94-2.06 2.06-.94-2.06-.94L8.5 2.5l-.94 2.06-2.06.94zm10 10l.94 2.06.94-2.06 2.06-.94-2.06-.94-.94-2.06-.94 2.06-2.06.94z\"/><path d=\"M17.41 7.96l-1.37-1.37c-.4-.4-.92-.59-1.43-.59-.52 0-1.04.2-1.43.59L10.3 9.45l-7.72 7.72c-.78.78-.78 2.05 0 2.83L4 21.41c.39.39.9.59 1.41.59.51 0 1.02-.2 1.41-.59l7.78-7.78 2.81-2.81c.8-.78.8-2.07 0-2.86zM5.41 20L4 18.59l7.72-7.72 1.47 1.35L5.41 20z\"/>\n",
              "  </svg>\n",
              "      </button>\n",
              "      \n",
              "  <style>\n",
              "    .colab-df-container {\n",
              "      display:flex;\n",
              "      flex-wrap:wrap;\n",
              "      gap: 12px;\n",
              "    }\n",
              "\n",
              "    .colab-df-convert {\n",
              "      background-color: #E8F0FE;\n",
              "      border: none;\n",
              "      border-radius: 50%;\n",
              "      cursor: pointer;\n",
              "      display: none;\n",
              "      fill: #1967D2;\n",
              "      height: 32px;\n",
              "      padding: 0 0 0 0;\n",
              "      width: 32px;\n",
              "    }\n",
              "\n",
              "    .colab-df-convert:hover {\n",
              "      background-color: #E2EBFA;\n",
              "      box-shadow: 0px 1px 2px rgba(60, 64, 67, 0.3), 0px 1px 3px 1px rgba(60, 64, 67, 0.15);\n",
              "      fill: #174EA6;\n",
              "    }\n",
              "\n",
              "    [theme=dark] .colab-df-convert {\n",
              "      background-color: #3B4455;\n",
              "      fill: #D2E3FC;\n",
              "    }\n",
              "\n",
              "    [theme=dark] .colab-df-convert:hover {\n",
              "      background-color: #434B5C;\n",
              "      box-shadow: 0px 1px 3px 1px rgba(0, 0, 0, 0.15);\n",
              "      filter: drop-shadow(0px 1px 2px rgba(0, 0, 0, 0.3));\n",
              "      fill: #FFFFFF;\n",
              "    }\n",
              "  </style>\n",
              "\n",
              "      <script>\n",
              "        const buttonEl =\n",
              "          document.querySelector('#df-561ce4c7-df57-41e6-a113-a124390b21ff button.colab-df-convert');\n",
              "        buttonEl.style.display =\n",
              "          google.colab.kernel.accessAllowed ? 'block' : 'none';\n",
              "\n",
              "        async function convertToInteractive(key) {\n",
              "          const element = document.querySelector('#df-561ce4c7-df57-41e6-a113-a124390b21ff');\n",
              "          const dataTable =\n",
              "            await google.colab.kernel.invokeFunction('convertToInteractive',\n",
              "                                                     [key], {});\n",
              "          if (!dataTable) return;\n",
              "\n",
              "          const docLinkHtml = 'Like what you see? Visit the ' +\n",
              "            '<a target=\"_blank\" href=https://colab.research.google.com/notebooks/data_table.ipynb>data table notebook</a>'\n",
              "            + ' to learn more about interactive tables.';\n",
              "          element.innerHTML = '';\n",
              "          dataTable['output_type'] = 'display_data';\n",
              "          await google.colab.output.renderOutput(dataTable, element);\n",
              "          const docLink = document.createElement('div');\n",
              "          docLink.innerHTML = docLinkHtml;\n",
              "          element.appendChild(docLink);\n",
              "        }\n",
              "      </script>\n",
              "    </div>\n",
              "  </div>\n",
              "  "
            ]
          },
          "metadata": {},
          "execution_count": 64
        }
      ]
    },
    {
      "cell_type": "markdown",
      "source": [
        "## Training and Validation Loss Graphs"
      ],
      "metadata": {
        "id": "c4PBO9E0mu4Z"
      }
    },
    {
      "cell_type": "code",
      "source": [
        "%matplotlib inline\n",
        "import matplotlib.pyplot as plt\n",
        "import seaborn as sns\n",
        "\n",
        "def plot_loss(eval_l_1, eval_l_2, eval_l_3, eval_l_4, eval_l_5):\n",
        "    sns.set(style='darkgrid')\n",
        "    sns.set(font_scale=1.5)\n",
        "    plt.rcParams[\"figure.figsize\"] = (12,6)\n",
        "    fig, ax1 = plt.subplots(1,1)\n",
        "    plt.title('GPT-2 Validation Loss by Frozen Layers') \n",
        "    ax1.plot(np.arange(1, len(eval_l_1)+1), eval_l_1, 'b-o', label = 'Layers 1-2')\n",
        "    ax1.plot(np.arange(1, len(eval_l_1)+1), eval_l_2, 'g-o', label = 'Layers 1-4')\n",
        "    ax1.plot(np.arange(1, len(eval_l_1)+1), eval_l_3, 'r-o', label = 'Layers 1-6')\n",
        "    ax1.plot(np.arange(1, len(eval_l_1)+1), eval_l_4, 'c-o', label = 'Layers 1-8')\n",
        "    ax1.plot(np.arange(1, len(eval_l_1)+1), eval_l_5, 'y-o', label = 'Layers 1-10')\n",
        "    ax1.set_xlabel(\"Epochs\", color='k')\n",
        "    ax1.set_ylabel(\"Loss\", color='k')\n",
        "    ax1.tick_params(axis='y', rotation=0, labelcolor='k' )\n",
        "    plt.legend()\n",
        "    plt.show()"
      ],
      "metadata": {
        "id": "_qEWDcrIrVCo"
      },
      "execution_count": null,
      "outputs": []
    },
    {
      "cell_type": "code",
      "source": [
        "plot_loss(loss_dict['frozen_1_2']['val_loss'], loss_dict['frozen_1_4']['val_loss'], loss_dict['frozen_1_6']['val_loss'], loss_dict['frozen_1_8']['val_loss'], loss_dict['frozen_1_10']['val_loss'])"
      ],
      "metadata": {
        "colab": {
          "base_uri": "https://localhost:8080/",
          "height": 427
        },
        "id": "iiELHfuvd3_3",
        "outputId": "95d047d6-a3fa-45af-acba-e2eb03a862b3"
      },
      "execution_count": null,
      "outputs": [
        {
          "output_type": "display_data",
          "data": {
            "text/plain": [
              "<Figure size 864x432 with 1 Axes>"
            ],
            "image/png": "[encoded data removed]"
          },
          "metadata": {}
        }
      ]
    },
    {
      "cell_type": "markdown",
      "source": [
        "## Training and Validation Accuracy Graphs"
      ],
      "metadata": {
        "id": "h1doM1l5n7GP"
      }
    },
    {
      "cell_type": "code",
      "source": [
        "def plot_acc(eval_l_1, eval_l_2, eval_l_3, eval_l_4, eval_l_5):\n",
        "    sns.set(style='darkgrid')\n",
        "    sns.set(font_scale=1.5)\n",
        "    plt.rcParams[\"figure.figsize\"] = (12,6)\n",
        "    fig, ax1 = plt.subplots(1,1)\n",
        "    plt.title('GPT-2 Validation Accuracy by Frozen Layers') \n",
        "    ax1.plot(np.arange(1, len(eval_l_1)+1), eval_l_1, 'b-o', label = 'Layers 1-2')\n",
        "    ax1.plot(np.arange(1, len(eval_l_1)+1), eval_l_2, 'g-o', label = 'Layers 1-4')\n",
        "    ax1.plot(np.arange(1, len(eval_l_1)+1), eval_l_3, 'r-o', label = 'Layers 1-6')\n",
        "    ax1.plot(np.arange(1, len(eval_l_1)+1), eval_l_4, 'c-o', label = 'Layers 1-8')\n",
        "    ax1.plot(np.arange(1, len(eval_l_1)+1), eval_l_5, 'y-o', label = 'Layers 1-10')\n",
        "    ax1.set_xlabel(\"Epochs\", color='k')\n",
        "    ax1.set_ylabel(\"Accuracy\", color='k')\n",
        "    ax1.tick_params(axis='y', rotation=0, labelcolor='k' )\n",
        "    plt.legend()\n",
        "    plt.show()"
      ],
      "metadata": {
        "id": "GRWUhZlKnedc"
      },
      "execution_count": null,
      "outputs": []
    },
    {
      "cell_type": "code",
      "source": [
        "plot_acc(acc_dict['frozen_1_2']['val_acc'], acc_dict['frozen_1_4']['val_acc'], acc_dict['frozen_1_6']['val_acc'], acc_dict['frozen_1_8']['val_acc'], acc_dict['frozen_1_10']['val_acc'])"
      ],
      "metadata": {
        "colab": {
          "base_uri": "https://localhost:8080/",
          "height": 427
        },
        "id": "HoEBm3HKn8db",
        "outputId": "8a198a13-17c0-41fa-f493-70b3dd8b4ac1"
      },
      "execution_count": null,
      "outputs": [
        {
          "output_type": "display_data",
          "data": {
            "text/plain": [
              "<Figure size 864x432 with 1 Axes>"
            ],
            "image/png": "[encoded data removed]"
          },
          "metadata": {}
        }
      ]
    },
    {
      "cell_type": "code",
      "source": [
        ""
      ],
      "metadata": {
        "id": "X95AG8191tKv"
      },
      "execution_count": null,
      "outputs": []
    }
  ]
}